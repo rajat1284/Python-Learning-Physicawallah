{
 "cells": [
  {
   "cell_type": "markdown",
   "id": "ea66416c-24cc-4fb0-b9a5-b533371df32b",
   "metadata": {},
   "source": [
    "# QUESTION 1"
   ]
  },
  {
   "cell_type": "markdown",
   "id": "626938bf-bb2b-4add-8bb9-1db7d251a69d",
   "metadata": {},
   "source": [
    "What is Min-Max scaling, and how is it used in data preprocessing? Provide an example to illustrate its\n",
    "application.\n"
   ]
  },
  {
   "cell_type": "markdown",
   "id": "cfc3b16a-4079-4c51-baf3-206505f32cce",
   "metadata": {},
   "source": [
    "MinMax Scaler shrinks the data within the given range, usually of 0 to 1. It transforms data by scaling features to a given range. It scales the values to a specific value range without changing the shape of the original distribution.\n",
    "\n",
    "The MinMax scaling is done using:\n",
    "\n",
    "x_std = (x – x.min(axis=0)) / (x.max(axis=0) – x.min(axis=0))\n",
    "\n",
    "x_scaled = x_std * (max – min) + min\n",
    "\n",
    "Where,\n",
    "\n",
    "min, max = feature_range\n",
    "x.min(axis=0) : Minimum feature value\n",
    "x.max(axis=0):Maximum feature value"
   ]
  },
  {
   "cell_type": "markdown",
   "id": "0a6d5209-2bf2-4dfc-bead-1f23160d38a0",
   "metadata": {},
   "source": [
    "# QUESTION 2"
   ]
  },
  {
   "cell_type": "markdown",
   "id": "7aaf1b6f-c6be-4b3c-b6b7-502ba0d69364",
   "metadata": {},
   "source": [
    "What is the Unit Vector technique in feature scaling, and how does it differ from Min-Max scaling?\n",
    "Provide an example to illustrate its application."
   ]
  },
  {
   "cell_type": "markdown",
   "id": "ee617a96-ab64-449f-b6d7-48e3bc75929d",
   "metadata": {},
   "source": [
    "Scaling is done considering the whole feature vector to be of unit length. This usually means dividing each component by the Euclidean length of the vector (L2 Norm). In some applications (e.g., histogram features), it can be more practical to use the L1 norm of the feature vector.\n",
    "\n",
    "Like Min-Max Scaling, the Unit Vector technique produces values of range [0,1]. When dealing with features with hard boundaries, this is quite useful."
   ]
  },
  {
   "cell_type": "markdown",
   "id": "503754ba-da73-4cf8-a386-53823db6cd63",
   "metadata": {},
   "source": [
    "# QUESTION 3"
   ]
  },
  {
   "cell_type": "markdown",
   "id": "22f2515a-4901-4983-a07a-cf50c9a59a24",
   "metadata": {},
   "source": [
    "What is PCA (Principle Component Analysis), and how is it used in dimensionality reduction? Provide an\n",
    "example to illustrate its application."
   ]
  },
  {
   "cell_type": "markdown",
   "id": "ecd40fe4-218f-4645-91cf-a76fd033fc77",
   "metadata": {},
   "source": [
    "Dimensionality reduction is way to reduce the complexity of a model and avoid overfitting. There are two main categories of dimensionality reduction: feature selection and feature extraction. Via feature selection, we select a subset of the original features, whereas in feature extraction, we derive information from the feature set to construct a new feature subspace."
   ]
  },
  {
   "cell_type": "markdown",
   "id": "ed23f6cb-acf9-4c80-9bfc-f2b4ceca4d3c",
   "metadata": {},
   "source": [
    "Principal Component Analysis (PCA) is an unsupervised linear transformation technique that is widely used across different fields, most prominently for feature extraction and dimensionality reduction. Other popular applications of PCA include exploratory data analyses and de-noising of signals in stock market trading, and the analysis of genome data and gene expression levels in the field of bioinformatics.\n",
    "\n",
    "PCA helps us to identify patterns in data based on the correlation between features. In a nutshell, PCA aims to find the directions of maximum variance in high-dimensional data and projects it onto a new subspace with equal or fewer dimensions than the original one."
   ]
  },
  {
   "cell_type": "markdown",
   "id": "54e41b88-ee69-48eb-af2b-a758f70bcfef",
   "metadata": {},
   "source": [
    "# QUESTION 4"
   ]
  },
  {
   "cell_type": "markdown",
   "id": "a4a56f27-946a-486a-82e5-c42892803e77",
   "metadata": {},
   "source": [
    "What is the relationship between PCA and Feature Extraction, and how can PCA be used for Feature\n",
    "Extraction? Provide an example to illustrate this concept."
   ]
  },
  {
   "cell_type": "markdown",
   "id": "2956b6b6-36f5-4b65-b470-8165d3a54da7",
   "metadata": {},
   "source": [
    "PCA is a dimensionality reduction that identifies important relationships in our data, transforms the existing data based on these relationships, and then quantifies the importance of these relationships so we can keep the most important relationships and drop the others. To remember this definition, we can break it down into four steps:\n",
    "\n",
    "We identify the relationship among features through a Covariance Matrix.\n",
    "Through the linear transformation or eigendecomposition of the Covariance Matrix, we get eigenvectors and eigenvalues.\n",
    "Then we transform our data using Eigenvectors into principal components.\n",
    "Lastly, we quantify the importance of these relationships using Eigenvalues and keep the important principal components."
   ]
  },
  {
   "cell_type": "markdown",
   "id": "6f910b81-2746-4100-af0c-ff1178ca7656",
   "metadata": {},
   "source": [
    "# QUESTION 5"
   ]
  },
  {
   "cell_type": "markdown",
   "id": "61768ba2-532c-4e96-8312-dec833861f76",
   "metadata": {},
   "source": [
    "You are working on a project to build a recommendation system for a food delivery service. The dataset\n",
    "contains features such as price, rating, and delivery time. Explain how you would use Min-Max scaling to\n",
    "preprocess the data."
   ]
  },
  {
   "cell_type": "markdown",
   "id": "56ad4f44-83b6-40e3-87ca-63eaa4d490e9",
   "metadata": {},
   "source": [
    "Min-Max Scaling will be used to make values for price, rating and delivery time all under 0 to 1 range."
   ]
  },
  {
   "cell_type": "markdown",
   "id": "fda99021-981c-4a54-bff9-0508216d0192",
   "metadata": {},
   "source": [
    "# QUESTION 6"
   ]
  },
  {
   "cell_type": "markdown",
   "id": "f269d1d5-19e1-4de9-9fa9-b47a26193429",
   "metadata": {},
   "source": [
    "You are working on a project to build a model to predict stock prices. The dataset contains many\n",
    "features, such as company financial data and market trends. Explain how you would use PCA to reduce the\n",
    "dimensionality of the dataset."
   ]
  },
  {
   "cell_type": "markdown",
   "id": "a6d6626a-7aef-41e7-9615-567ac48896de",
   "metadata": {},
   "source": [
    " We identify the relationship among features through a Covariance Matrix.\n",
    "Through the linear transformation or eigendecomposition of the Covariance Matrix, we get eigenvectors and eigenvalues.\n",
    "Then we transform our data using Eigenvectors into principal components.\n",
    "Lastly, we quantify the importance of these relationships using Eigenvalues and keep the important principal components."
   ]
  },
  {
   "cell_type": "markdown",
   "id": "35f6b820-5b59-4699-82cd-76a548fc8f56",
   "metadata": {},
   "source": [
    "# QUESTION 7"
   ]
  },
  {
   "cell_type": "markdown",
   "id": "e51e3663-104d-44c6-b6a4-f82c819f03ba",
   "metadata": {},
   "source": [
    "For a dataset containing the following values: [1, 5, 10, 15, 20], perform Min-Max scaling to transform the\n",
    "values to a range of -1 to 1."
   ]
  },
  {
   "cell_type": "markdown",
   "id": "5ec0540c-4f25-49e9-b5cb-b8d71026060c",
   "metadata": {},
   "source": [
    "0, 4/19, 9/19,14/19,1"
   ]
  },
  {
   "cell_type": "markdown",
   "id": "97e6dbc0-467c-4dcf-a38e-e29fe7e3d56a",
   "metadata": {},
   "source": [
    "# QUESTION 8"
   ]
  },
  {
   "cell_type": "markdown",
   "id": "b48d0c15-f75b-430a-8504-4abeebfbadfa",
   "metadata": {},
   "source": [
    "For a dataset containing the following features: [height, weight, age, gender, blood pressure], perform\n",
    "Feature Extraction using PCA. How many principal components would you choose to retain, and why?"
   ]
  },
  {
   "cell_type": "markdown",
   "id": "8b0337da-6485-4047-a213-5e4c6c57eb1c",
   "metadata": {},
   "source": [
    "Height, weight, age, gender would be included but not blood pressure.The others are linked to each other and have a \n",
    "strong association"
   ]
  },
  {
   "cell_type": "code",
   "execution_count": null,
   "id": "5be5c871-9782-470a-99a7-526339f193f5",
   "metadata": {},
   "outputs": [],
   "source": []
  }
 ],
 "metadata": {
  "kernelspec": {
   "display_name": "Python 3 (ipykernel)",
   "language": "python",
   "name": "python3"
  },
  "language_info": {
   "codemirror_mode": {
    "name": "ipython",
    "version": 3
   },
   "file_extension": ".py",
   "mimetype": "text/x-python",
   "name": "python",
   "nbconvert_exporter": "python",
   "pygments_lexer": "ipython3",
   "version": "3.10.8"
  }
 },
 "nbformat": 4,
 "nbformat_minor": 5
}
