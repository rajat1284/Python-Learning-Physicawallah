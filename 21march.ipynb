{
 "cells": [
  {
   "cell_type": "markdown",
   "id": "d6d8a31c-bc6a-46d2-aeae-762453aa121c",
   "metadata": {},
   "source": [
    "# QUESTION 1"
   ]
  },
  {
   "cell_type": "markdown",
   "id": "d586ec65-d513-4bd1-a330-3a47dd355bc2",
   "metadata": {},
   "source": [
    "You use ordinal encoding to preserve order of categorical data i.e. cold, warm, hot; low, medium, high. You use label encoding or one hot for categorical data, where there's no order in data i.e. dog, cat, whale."
   ]
  },
  {
   "cell_type": "markdown",
   "id": "1400d636-386c-4bc5-a52d-d29aac667353",
   "metadata": {},
   "source": [
    "# QUESTION 2"
   ]
  },
  {
   "cell_type": "markdown",
   "id": "990d1105-1f3d-454f-9e45-888b371f4cbf",
   "metadata": {},
   "source": [
    "It is a technique used to encode categorical variables based on their relationship with the target variable. This encoding technique is useful when we have a categorical variable with a large number of unique categories, and we want to use this variable as a feature in our machine learning model.\n",
    "\n",
    "In Target Guided Ordinal Encoding, we replace each category in the categorical variable with a numerical value based on the mean or median of the target variable for that category. This creates a monotonic relationship between the categorical variable and the target variable, which can improve the predictive power of our model."
   ]
  },
  {
   "cell_type": "markdown",
   "id": "0fbda524-82e9-45ce-b75a-991749503691",
   "metadata": {},
   "source": [
    "# QUESTION 3"
   ]
  },
  {
   "cell_type": "markdown",
   "id": "6afe301b-cf1e-4b57-9ee7-cb264d9a48a0",
   "metadata": {},
   "source": [
    "Covariance is a measure of the relationship between two random variables and to what extent, they change together. Or we can say, in other words, it defines the changes between the two variables, such that change in one variable is equal to change in another variable.\n"
   ]
  },
  {
   "cell_type": "markdown",
   "id": "4a387d7f-b496-4a06-8fd0-94b8204a9eab",
   "metadata": {},
   "source": [
    " positive covariance means asset prices are moving in the same general direction. A negative covariance means asset prices are moving in opposite directions."
   ]
  },
  {
   "cell_type": "markdown",
   "id": "cda7e9e5-799b-4010-bf7a-4904bf81e16a",
   "metadata": {},
   "source": [
    "To calculate covariance, you can use the formula:\n",
    "\n",
    "Cov(X, Y) = Σ(Xi-µ)(Yj-v) / n\n",
    "\n",
    "Where the parts of the equation are:\n",
    "\n",
    "Cov(X, Y) represents the covariance of variables X and Y.\n",
    "Σ represents the sum of other parts of the formula.\n",
    "(Xi) represents all values of the X-variable.\n",
    "µ represents the average value of the X-variable.\n",
    "Yj represents all values of the Y-variable.\n",
    "v represents the average value of the Y-variable.\n",
    "Σ represents the sum of the values for both (Xi-µ) and (Yj-v).\n",
    "n represents the total number of data points across both variables."
   ]
  },
  {
   "cell_type": "markdown",
   "id": "80be5319-acb4-4e16-8f52-bce45da6d6e9",
   "metadata": {},
   "source": [
    "# QUESTION 4"
   ]
  },
  {
   "cell_type": "markdown",
   "id": "c6564ef5-5ac3-4fe2-9277-4f90d8ec91d7",
   "metadata": {},
   "source": [
    "For a dataset with the following categorical variables: Color (red, green, blue), Size (small, medium,\n",
    "large), and Material (wood, metal, plastic), perform label encoding using Python's scikit-learn library.\n",
    "Show your code and explain the output."
   ]
  },
  {
   "cell_type": "code",
   "execution_count": 1,
   "id": "8b9525e3-29dc-4ca2-8185-ad7809ccb2a0",
   "metadata": {},
   "outputs": [],
   "source": [
    "import pandas as pd\n",
    "from sklearn.preprocessing import OneHotEncoder"
   ]
  },
  {
   "cell_type": "code",
   "execution_count": 2,
   "id": "0399f385-f8f1-4527-89d1-6256d8c7ef54",
   "metadata": {},
   "outputs": [],
   "source": [
    "from sklearn.preprocessing import LabelEncoder\n",
    "lbl_encoder=LabelEncoder()"
   ]
  },
  {
   "cell_type": "code",
   "execution_count": 3,
   "id": "8d31c836-2692-4c1b-8e27-f991bd635610",
   "metadata": {},
   "outputs": [],
   "source": [
    "df = pd.DataFrame({\n",
    "    'color': ['red', 'blue', 'green', 'green', 'red', 'blue']\n",
    "})"
   ]
  },
  {
   "cell_type": "code",
   "execution_count": 4,
   "id": "eec10431-8dd8-48ae-909f-e248ea8acfda",
   "metadata": {},
   "outputs": [
    {
     "name": "stderr",
     "output_type": "stream",
     "text": [
      "/opt/conda/lib/python3.10/site-packages/sklearn/preprocessing/_label.py:116: DataConversionWarning: A column-vector y was passed when a 1d array was expected. Please change the shape of y to (n_samples, ), for example using ravel().\n",
      "  y = column_or_1d(y, warn=True)\n"
     ]
    },
    {
     "data": {
      "text/plain": [
       "array([2, 0, 1, 1, 2, 0])"
      ]
     },
     "execution_count": 4,
     "metadata": {},
     "output_type": "execute_result"
    }
   ],
   "source": [
    "lbl_encoder.fit_transform(df[['color']])"
   ]
  },
  {
   "cell_type": "code",
   "execution_count": 5,
   "id": "226ac678-4007-4839-98a1-418f7bd3290b",
   "metadata": {},
   "outputs": [],
   "source": [
    "df1 = pd.DataFrame({\n",
    "    'size': ['small','medium','large']\n",
    "})"
   ]
  },
  {
   "cell_type": "code",
   "execution_count": 7,
   "id": "be56415f-2f96-48a2-8cc8-54efa59b5dab",
   "metadata": {},
   "outputs": [
    {
     "name": "stderr",
     "output_type": "stream",
     "text": [
      "/opt/conda/lib/python3.10/site-packages/sklearn/preprocessing/_label.py:116: DataConversionWarning: A column-vector y was passed when a 1d array was expected. Please change the shape of y to (n_samples, ), for example using ravel().\n",
      "  y = column_or_1d(y, warn=True)\n"
     ]
    },
    {
     "data": {
      "text/plain": [
       "array([2, 1, 0])"
      ]
     },
     "execution_count": 7,
     "metadata": {},
     "output_type": "execute_result"
    }
   ],
   "source": [
    "lbl_encoder.fit_transform(df1[['size']])"
   ]
  },
  {
   "cell_type": "code",
   "execution_count": 8,
   "id": "55295ffa-69f8-4dd4-8c25-fb258236d341",
   "metadata": {},
   "outputs": [],
   "source": [
    "df2 = pd.DataFrame({\n",
    "    'material': ['wood','metal','plastic']\n",
    "})"
   ]
  },
  {
   "cell_type": "markdown",
   "id": "1ad54aa2-589b-46dc-aab3-83e3024e0528",
   "metadata": {},
   "source": [
    "lbl_encoder.fit_transform(df2[['material']])"
   ]
  },
  {
   "cell_type": "markdown",
   "id": "2a64b795-6585-49f9-83ae-769d878edac5",
   "metadata": {},
   "source": [
    "# QUESTION 5"
   ]
  },
  {
   "cell_type": "markdown",
   "id": "8911a00a-fe93-4cba-90d3-c3f87a7d7b49",
   "metadata": {},
   "source": [
    "Calculate the covariance matrix for the following variables in a dataset: Age, Income, and Education\n",
    "level. Interpret the results."
   ]
  },
  {
   "cell_type": "markdown",
   "id": "ef3ffea1-d2f8-46b5-9c82-4a7c7b4923de",
   "metadata": {},
   "source": [
    "Suppose there are two data sets X = {3, 2} and Y = {7, 4}. The sample variance of dataset X = 0.5, and Y = 4.5. The covariance between X and Y is 1.5. The covariance matrix is expressed as follows:\n",
    "\n",
    "[\n",
    "0.5\n",
    "1.5\n",
    "1.5\n",
    "4.5\n",
    "]"
   ]
  },
  {
   "cell_type": "markdown",
   "id": "57d88247-4f83-48b9-9957-4f2a402372d6",
   "metadata": {},
   "source": [
    "# QUESTION 6"
   ]
  },
  {
   "cell_type": "markdown",
   "id": "3a3a4a02-8754-42e0-b87c-036d4bf0cc71",
   "metadata": {},
   "source": [
    "You are working on a machine learning project with a dataset containing several categorical\n",
    "variables, including \"Gender\" (Male/Female), \"Education Level\" (High School/Bachelor's/Master's/PhD),\n",
    "and \"Employment Status\" (Unemployed/Part-Time/Full-Time). Which encoding method would you use for\n",
    "each variable, and why?"
   ]
  },
  {
   "cell_type": "markdown",
   "id": "fc04f3b9-159b-48a6-94a9-6313077e794c",
   "metadata": {},
   "source": [
    "For gender, one hot encoding or label encoding, for education and employment it will be ordinal encoding"
   ]
  },
  {
   "cell_type": "markdown",
   "id": "71f52a03-78d2-4c71-af05-9f70ed3dfc24",
   "metadata": {},
   "source": [
    "# QUESTION 7"
   ]
  },
  {
   "cell_type": "markdown",
   "id": "d8ce0c10-a112-4db4-b0ed-253d16b07f25",
   "metadata": {},
   "source": [
    "You are analyzing a dataset with two continuous variables, \"Temperature\" and \"Humidity\", and two\n",
    "categorical variables, \"Weather Condition\" (Sunny/Cloudy/Rainy) and \"Wind Direction\" (North/South/\n",
    "East/West). Calculate the covariance between each pair of variables and interpret the results."
   ]
  },
  {
   "cell_type": "markdown",
   "id": "a88e78fa-c617-4e04-8b4f-a7ba672ce74e",
   "metadata": {},
   "source": [
    "No data provided."
   ]
  },
  {
   "cell_type": "code",
   "execution_count": null,
   "id": "2a86772c-0032-4967-ba56-28757f0e2da3",
   "metadata": {},
   "outputs": [],
   "source": []
  }
 ],
 "metadata": {
  "kernelspec": {
   "display_name": "Python 3 (ipykernel)",
   "language": "python",
   "name": "python3"
  },
  "language_info": {
   "codemirror_mode": {
    "name": "ipython",
    "version": 3
   },
   "file_extension": ".py",
   "mimetype": "text/x-python",
   "name": "python",
   "nbconvert_exporter": "python",
   "pygments_lexer": "ipython3",
   "version": "3.10.8"
  }
 },
 "nbformat": 4,
 "nbformat_minor": 5
}
