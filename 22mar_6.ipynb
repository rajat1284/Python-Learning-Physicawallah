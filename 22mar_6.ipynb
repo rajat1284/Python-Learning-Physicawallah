{
 "cells": [
  {
   "cell_type": "markdown",
   "id": "e42b21a0-3a2c-4190-b580-0bf5a83aca9d",
   "metadata": {},
   "source": [
    "# QUESTION 1"
   ]
  },
  {
   "cell_type": "markdown",
   "id": "26dc887c-b54a-43cc-85c2-a667de3ee13d",
   "metadata": {},
   "source": [
    "Pearson correlation coefficient is a measure of the linear relationship between two variables. Suppose\n",
    "you have collected data on the amount of time students spend studying for an exam and their final exam\n",
    "scores. Calculate the Pearson correlation coefficient between these two variables and interpret the result."
   ]
  },
  {
   "cell_type": "markdown",
   "id": "19e3323d-b51c-47de-acd3-19822a4ca457",
   "metadata": {},
   "source": [
    "df.corr(method = 'pearson')"
   ]
  },
  {
   "cell_type": "markdown",
   "id": "fb8f96fb-70f0-4a69-83f3-64c0593bbbcd",
   "metadata": {},
   "source": [
    "# QUESTION 2"
   ]
  },
  {
   "cell_type": "markdown",
   "id": "e40324c5-a5cf-42dd-bb6c-f639e3517cdd",
   "metadata": {},
   "source": [
    "Spearman's rank correlation is a measure of the monotonic relationship between two variables.\n",
    "Suppose you have collected data on the amount of sleep individuals get each night and their overall job\n",
    "satisfaction level on a scale of 1 to 10. Calculate the Spearman's rank correlation between these two\n",
    "variables and interpret the result."
   ]
  },
  {
   "cell_type": "markdown",
   "id": "85084f91-138b-4be4-bec0-93fb0ff21860",
   "metadata": {},
   "source": [
    "df.corr(method='spearman')"
   ]
  },
  {
   "cell_type": "markdown",
   "id": "317c94a0-3e44-4bb8-abfb-98f620cbba24",
   "metadata": {},
   "source": [
    "# QUESTION 3"
   ]
  },
  {
   "cell_type": "markdown",
   "id": "7dec462e-cb30-4df9-99cc-58a3202edc73",
   "metadata": {},
   "source": [
    "Suppose you are conducting a study to examine the relationship between the number of hours of\n",
    "exercise per week and body mass index (BMI) in a sample of adults. You collected data on both variables\n",
    "for 50 participants. Calculate the Pearson correlation coefficient and the Spearman's rank correlation\n",
    "between these two variables and compare the results."
   ]
  },
  {
   "cell_type": "markdown",
   "id": "5d0c51f3-ecda-4b8b-bfba-faad9bacb88b",
   "metadata": {},
   "source": [
    "df.corr(method = 'pearson')\n",
    "df.corr(method='spearman')"
   ]
  },
  {
   "cell_type": "markdown",
   "id": "0547bbc6-50ee-41d3-9345-f5f9102821c1",
   "metadata": {},
   "source": [
    "# QUESTION 4"
   ]
  },
  {
   "cell_type": "markdown",
   "id": "268a707c-5e7e-42fc-a6c9-25f85876f02d",
   "metadata": {},
   "source": [
    "A researcher is interested in examining the relationship between the number of hours individuals\n",
    "spend watching television per day and their level of physical activity. The researcher collected data on\n",
    "both variables from a sample of 50 participants. Calculate the Pearson correlation coefficient between\n",
    "these two variables."
   ]
  },
  {
   "cell_type": "markdown",
   "id": "fe4950ab-71df-4701-957d-cf60c3319c04",
   "metadata": {},
   "source": [
    "df.corr(method = 'pearson')"
   ]
  },
  {
   "cell_type": "markdown",
   "id": "be9d1321-5bb7-4147-ae4f-a70fb890a544",
   "metadata": {},
   "source": [
    "# QUESTION 5"
   ]
  },
  {
   "cell_type": "code",
   "execution_count": 6,
   "id": "7deea847-5723-40b3-92ea-93cf9ca981f7",
   "metadata": {},
   "outputs": [],
   "source": [
    "survey = {'25':'coke','42':'pepsi','37':'mountain dew','19':'coke','28':'coke','31':'pepsi'}"
   ]
  },
  {
   "cell_type": "code",
   "execution_count": 14,
   "id": "80c2330f-8298-4099-ac2b-6d2bead81278",
   "metadata": {},
   "outputs": [],
   "source": [
    "import pandas as pd\n",
    "df = pd.DataFrame(survey.items())"
   ]
  },
  {
   "cell_type": "markdown",
   "id": "ce66d07a-d564-4efd-a15f-6ce1bf427d1e",
   "metadata": {},
   "source": [
    "df.corr(method = 'pearson')"
   ]
  },
  {
   "cell_type": "markdown",
   "id": "bd89f8bd-e465-48b4-9a6c-6b9144833297",
   "metadata": {},
   "source": [
    "# QUESTION 6"
   ]
  },
  {
   "cell_type": "markdown",
   "id": "cc4aa40a-a755-4cfd-853d-cbb6afa7f9cc",
   "metadata": {},
   "source": [
    "A company is interested in examining the relationship between the number of sales calls made per day\n",
    "and the number of sales made per week. The company collected data on both variables from a sample of\n",
    "30 sales representatives. Calculate the Pearson correlation coefficient between these two variables."
   ]
  },
  {
   "cell_type": "markdown",
   "id": "f21c47d9-8b56-45cc-8500-c9d7446b4ecb",
   "metadata": {},
   "source": [
    "df.corr(method = 'pearson')"
   ]
  }
 ],
 "metadata": {
  "kernelspec": {
   "display_name": "Python 3 (ipykernel)",
   "language": "python",
   "name": "python3"
  },
  "language_info": {
   "codemirror_mode": {
    "name": "ipython",
    "version": 3
   },
   "file_extension": ".py",
   "mimetype": "text/x-python",
   "name": "python",
   "nbconvert_exporter": "python",
   "pygments_lexer": "ipython3",
   "version": "3.10.8"
  }
 },
 "nbformat": 4,
 "nbformat_minor": 5
}
