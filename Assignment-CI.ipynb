{
 "cells": [
  {
   "cell_type": "markdown",
   "id": "b581005c-671f-43bf-9884-7f02b40fd299",
   "metadata": {},
   "source": [
    "# QUESTION 1"
   ]
  },
  {
   "cell_type": "markdown",
   "id": "842a5cb0-acde-4016-90ae-7c30abed1874",
   "metadata": {},
   "source": [
    "Q1: What is Estimation Statistics? Explain point estimate and interval estimate."
   ]
  },
  {
   "cell_type": "markdown",
   "id": "3b5c1c70-7a5b-4dae-886c-b87e2ceaaef1",
   "metadata": {},
   "source": [
    "Estimation statistics, any of numerous procedures used to calculate the value of some property of a population from observations of a sample drawn from the population. A point estimate is a single value estimate of a parameter. For instance, a sample mean is a point estimate of a population mean. An interval estimate gives you a range of values where the parameter is expected to lie. A confidence interval is the most common type of interval estimate."
   ]
  },
  {
   "cell_type": "markdown",
   "id": "c214e815-2e8c-46f4-9733-43b81b8d385c",
   "metadata": {},
   "source": [
    "# QUESTION 2"
   ]
  },
  {
   "cell_type": "code",
   "execution_count": 38,
   "id": "00540c9f-c67c-4a7c-86e2-7e012b686296",
   "metadata": {},
   "outputs": [
    {
     "name": "stdout",
     "output_type": "stream",
     "text": [
      "Critical t-value: 2.680\n",
      "Margin of Error: 0.569\n",
      "Confidence Interval: [3.431,4.569]\n",
      "The 99.0% confidence interval for the population mean is:\n",
      "between 3.431 and 4.569\n"
     ]
    }
   ],
   "source": [
    "import scipy.stats as stats\n",
    "import math\n",
    "\n",
    "# Specify sample mean (x_bar), sample standard deviation (s), sample size (n) and confidence level\n",
    "x_bar = 4\n",
    "s = 1.5\n",
    "n = 50\n",
    "confidence_level = 0.99\n",
    "\n",
    "# Calculate alpha, degrees of freedom (df), the critical t-value, and the margin of error\n",
    "alpha = (1-confidence_level)\n",
    "df = n - 1\n",
    "standard_error = s/math.sqrt(n)\n",
    "critical_t = stats.t.ppf(1-alpha/2, df)\n",
    "margin_of_error = critical_t * standard_error\n",
    "\n",
    "# Calculate the lower and upper bound of the confidence interval\n",
    "lower_bound = x_bar - margin_of_error\n",
    "upper_bound = x_bar + margin_of_error\n",
    "\n",
    "# Print the results\n",
    "print(\"Critical t-value: {:.3f}\".format(critical_t))\n",
    "print(\"Margin of Error: {:.3f}\".format(margin_of_error))\n",
    "print(\"Confidence Interval: [{:.3f},{:.3f}]\".format(lower_bound,upper_bound))\n",
    "print(\"The {:.1%} confidence interval for the population mean is:\".format(confidence_level))\n",
    "print(\"between {:.3f} and {:.3f}\".format(lower_bound,upper_bound))"
   ]
  },
  {
   "cell_type": "markdown",
   "id": "055c2d35-f0f7-4123-a10a-56bd9cb0320e",
   "metadata": {},
   "source": [
    "# QUESTION 3"
   ]
  },
  {
   "cell_type": "markdown",
   "id": "977823c0-bbef-40ba-aca9-91059588791d",
   "metadata": {},
   "source": [
    "What is Hypothesis testing? Why is it used? State the importance of Hypothesis testing."
   ]
  },
  {
   "cell_type": "markdown",
   "id": "583ed495-f73f-4e12-8a92-ffd8d51c1e1d",
   "metadata": {},
   "source": [
    "Hypothesis testing is the process used to evaluate the strength of evidence from the sample and provides a framework for making determinations related to the population, ie, it provides a method for understanding how reliably one can extrapolate observed findings in a sample under study to the larger population from which the sample was drawn. The investigator formulates a specific hypothesis, evaluates data from the sample, and uses these data to decide whether they support the specific hypothesis."
   ]
  },
  {
   "cell_type": "markdown",
   "id": "683d34d4-3e9e-44e0-8d56-ace113f55356",
   "metadata": {},
   "source": [
    "# QUESTION 4"
   ]
  },
  {
   "cell_type": "markdown",
   "id": "edc07299-15ba-4480-960b-4cd3f0f52f1b",
   "metadata": {},
   "source": [
    "Create a hypothesis that states whether the average weight of male college students is greater than\n",
    "the average weight of female college students."
   ]
  },
  {
   "cell_type": "markdown",
   "id": "fb100e9c-09e3-41ad-ba0d-dcd08b8004f6",
   "metadata": {},
   "source": [
    "Null Hypothesis:- Average weight of male is > Average weight of female\n",
    "Alternate Hypothesis :- Average weight of male <= Average weight of female"
   ]
  },
  {
   "cell_type": "markdown",
   "id": "fa2eb41e-6181-477e-8eb8-ef2d8689e712",
   "metadata": {},
   "source": [
    "# QUESTION 5"
   ]
  },
  {
   "cell_type": "code",
   "execution_count": 6,
   "id": "ba434cfb-2d75-4d6d-9757-b33b8f824e3f",
   "metadata": {},
   "outputs": [
    {
     "name": "stdout",
     "output_type": "stream",
     "text": [
      "               T        dof alternative     p-val           CI95%   cohen-d  \\\n",
      "T-test  0.653148  14.389477   two-sided  0.523961  [-6.38, 11.99]  0.292097   \n",
      "\n",
      "         BF10     power  \n",
      "T-test  0.462  0.094912  \n"
     ]
    }
   ],
   "source": [
    "# Python program to conduct two-sample\n",
    "# T-test using pingouin library\n",
    "\n",
    "# Importing library\n",
    "from statsmodels.stats.weightstats import ttest_ind\n",
    "import numpy as np\n",
    "import pingouin as pg\n",
    "\n",
    "# Creating data groups\n",
    "data_group1 = np.array([160, 150, 160, 156.12, 163.24,\n",
    "\t\t\t\t\t\t160.56, 168.56, 174.12,\n",
    "\t\t\t\t\t\t167.123, 165.12])\n",
    "data_group2 = np.array([157.97, 146, 140.2, 170.15,\n",
    "\t\t\t\t\t\t167.34, 176.123, 162.35, 159.123,\n",
    "\t\t\t\t\t\t169.43, 148.123])\n",
    "\n",
    "# Conducting two-sample ttest\n",
    "result = pg.ttest(data_group1,\n",
    "\t\t\t\tdata_group2,\n",
    "\t\t\t\tcorrection=True)\n",
    "\n",
    "# Print the result\n",
    "print(result)\n"
   ]
  },
  {
   "cell_type": "markdown",
   "id": "2f0370c5-7b7e-4c1f-bf42-c0b902781075",
   "metadata": {},
   "source": [
    "# QUESTION 6"
   ]
  },
  {
   "cell_type": "markdown",
   "id": "e672a413-1caf-4330-bad2-436c5e9d096f",
   "metadata": {},
   "source": [
    "The null hypothesis (H0) answers “No, there's no effect in the population.” The alternative hypothesis (Ha) answers “Yes, there is an effect in the population.”"
   ]
  },
  {
   "cell_type": "markdown",
   "id": "6c9d9981-8c31-4bc7-a84a-bc23e45b02c7",
   "metadata": {},
   "source": [
    "For example, the most common null hypotheses are some form of “there is no effect or pattern.” If you reject them, then you have some confidence that an effect or pattern exists, and it makes sense to do further analysis of the data to discover what the effect or pattern seems to be.\n",
    "\n",
    "If you selected some random null hypothesis, such as “every husband is exactly 10% taller than his wife,” rejecting it wouldn’t have much useful implication."
   ]
  },
  {
   "cell_type": "markdown",
   "id": "7007fed2-b521-4ed1-9d70-009b3983a18d",
   "metadata": {},
   "source": [
    "# QUESTION 7"
   ]
  },
  {
   "cell_type": "markdown",
   "id": "8ba229e9-a1e5-40b6-ab8b-78e099d07f39",
   "metadata": {},
   "source": [
    "There are 5 main steps in hypothesis testing:\n",
    "\n",
    "State your research hypothesis as a null hypothesis and alternate hypothesis (Ho) and (Ha or H1).\n",
    "Collect data in a way designed to test the hypothesis.\n",
    "Perform an appropriate statistical test.\n",
    "Decide whether to reject or fail to reject your null hypothesis.\n",
    "Present the findings in your results and discussion section."
   ]
  },
  {
   "cell_type": "markdown",
   "id": "7047ec05-6b15-4043-9927-6fafc5ed5620",
   "metadata": {},
   "source": [
    "# QUESTION 8"
   ]
  },
  {
   "cell_type": "markdown",
   "id": "0a3a9ba0-7d50-4125-a1ba-094df530c952",
   "metadata": {},
   "source": [
    "A p-value is a statistical measurement used to validate a hypothesis against observed data. A p-value measures the probability of obtaining the observed results, assuming that the null hypothesis is true. The lower the p-value, the greater the statistical significance of the observed difference."
   ]
  },
  {
   "cell_type": "markdown",
   "id": "c3817b31-5dd9-48a8-bcab-278d2e02d573",
   "metadata": {},
   "source": [
    "# Question 9"
   ]
  },
  {
   "cell_type": "code",
   "execution_count": 19,
   "id": "37f9ef31-78e2-4fea-8f33-ead6928266aa",
   "metadata": {},
   "outputs": [],
   "source": [
    "import numpy\n",
    "from matplotlib import pyplot\n",
    "from scipy.stats import t\n",
    "x = numpy.linspace(-4,4,200)"
   ]
  },
  {
   "cell_type": "code",
   "execution_count": 20,
   "id": "bd68d9c7-9dba-4446-8fba-981f4e2d8e39",
   "metadata": {},
   "outputs": [],
   "source": [
    "y = t.pdf(x,df = 10)"
   ]
  },
  {
   "cell_type": "code",
   "execution_count": 21,
   "id": "98a65539-f703-43fb-9b3f-7a090f4c7b5a",
   "metadata": {},
   "outputs": [
    {
     "data": {
      "text/plain": [
       "[<matplotlib.lines.Line2D at 0x7faca73e07f0>]"
      ]
     },
     "execution_count": 21,
     "metadata": {},
     "output_type": "execute_result"
    },
    {
     "data": {
      "image/png": "[encoded data removed]",
      "text/plain": [
       "<Figure size 640x480 with 1 Axes>"
      ]
     },
     "metadata": {},
     "output_type": "display_data"
    }
   ],
   "source": [
    "pyplot.plot(x,y)"
   ]
  },
  {
   "cell_type": "markdown",
   "id": "102006b7-d802-4169-8607-677b4a7652c0",
   "metadata": {},
   "source": [
    "# QUESTION 10"
   ]
  },
  {
   "cell_type": "code",
   "execution_count": 22,
   "id": "b50e7796-bfdc-4b07-9aa5-8de77318d3c0",
   "metadata": {},
   "outputs": [
    {
     "data": {
      "text/plain": [
       "Ttest_indResult(statistic=-0.6337397070250238, pvalue=0.5300471010405257)"
      ]
     },
     "execution_count": 22,
     "metadata": {},
     "output_type": "execute_result"
    }
   ],
   "source": [
    "# Python program to demonstrate how to\n",
    "# perform two sample T-test\n",
    "\n",
    "# Import the library\n",
    "import scipy.stats as stats\n",
    "\n",
    "# Creating data groups\n",
    "data_group1 = np.array([14, 15, 15, 16, 13, 8, 14,\n",
    "\t\t\t\t\t\t17, 16, 14, 19, 20, 21, 15,\n",
    "\t\t\t\t\t\t15, 16, 16, 13, 14, 12])\n",
    "\n",
    "data_group2 = np.array([15, 17, 14, 17, 14, 8, 12,\n",
    "\t\t\t\t\t\t19, 19, 14, 17, 22, 24, 16,\n",
    "\t\t\t\t\t\t13, 16, 13, 18, 15, 13])\n",
    "\n",
    "# Perform the two sample t-test with equal variances\n",
    "stats.ttest_ind(a=data_group1, b=data_group2, equal_var=True)\n"
   ]
  },
  {
   "cell_type": "markdown",
   "id": "177e19b4-7963-4895-a77e-634827eb50d7",
   "metadata": {},
   "source": [
    "# QUESTION 11"
   ]
  },
  {
   "cell_type": "markdown",
   "id": "5b928495-b0fc-45fe-b9f3-5cc8d36d52f1",
   "metadata": {},
   "source": [
    "The t-distribution is used when data are approximately normally distributed, which means the data follow a bell shape but the population variance is unknown. The variance in a t-distribution is estimated based on the degrees of freedom of the data set (total number of observations minus 1)"
   ]
  },
  {
   "cell_type": "markdown",
   "id": "51b2c0f9-2c3d-4414-b9ae-94a7d35b06ac",
   "metadata": {},
   "source": [
    "# QUESTION 12"
   ]
  },
  {
   "cell_type": "markdown",
   "id": "57e0f42d-b866-4cf4-b664-edc4b611c097",
   "metadata": {},
   "source": [
    "You can calculate a t-value using a common t-test with the formula: t = (X‾ - μ0) / (s / √n), where X‾ is the sample mean, μ0 represents the population mean, s is the standard deviation of the sample and n stands for the size of the sample."
   ]
  },
  {
   "cell_type": "markdown",
   "id": "f8b44f56-2b5e-4a56-b5dc-dec0e158e395",
   "metadata": {},
   "source": [
    "# QUESTION 13"
   ]
  },
  {
   "cell_type": "markdown",
   "id": "8a641055-4648-4a17-b9e9-5ccf497eb909",
   "metadata": {},
   "source": [
    "In the large-sample case, a 95% confidence interval estimate for the population mean is given by x̄ ± 1.96σ/Square root of√n. When the population standard deviation, σ, is unknown, the sample standard deviation is used to estimate σ in the confidence interval formula."
   ]
  },
  {
   "cell_type": "markdown",
   "id": "1018ce5d-21a7-44c0-a277-86a643f6a1ff",
   "metadata": {},
   "source": [
    "n = 50\n",
    "σ = 50\n",
    "x̄ = 500\n",
    "\n",
    "500 +- 1.96 * 50/sqrt(50)\n"
   ]
  },
  {
   "cell_type": "code",
   "execution_count": 25,
   "id": "e73611a4-7a04-47ff-8779-27e6b450d5cb",
   "metadata": {},
   "outputs": [
    {
     "data": {
      "text/plain": [
       "(513.86, 486.14)"
      ]
     },
     "execution_count": 25,
     "metadata": {},
     "output_type": "execute_result"
    }
   ],
   "source": [
    "513.86, 486.14"
   ]
  },
  {
   "cell_type": "code",
   "execution_count": 26,
   "id": "36ad868e-0bb9-4ecf-821e-72d1c275da10",
   "metadata": {},
   "outputs": [
    {
     "name": "stdout",
     "output_type": "stream",
     "text": [
      "Critical t-value: 2.010\n",
      "Margin of Error: 14.210\n",
      "Confidence Interval: [485.790,514.210]\n",
      "The 95.0% confidence interval for the population mean is:\n",
      "between 485.790 and 514.210\n"
     ]
    }
   ],
   "source": [
    "import scipy.stats as stats\n",
    "import math\n",
    "\n",
    "# Specify sample mean (x_bar), sample standard deviation (s), sample size (n) and confidence level\n",
    "x_bar = 500\n",
    "s = 50\n",
    "n = 50\n",
    "confidence_level = 0.95\n",
    "\n",
    "# Calculate alpha, degrees of freedom (df), the critical t-value, and the margin of error\n",
    "alpha = (1-confidence_level)\n",
    "df = n - 1\n",
    "standard_error = s/math.sqrt(n)\n",
    "critical_t = stats.t.ppf(1-alpha/2, df)\n",
    "margin_of_error = critical_t * standard_error\n",
    "\n",
    "# Calculate the lower and upper bound of the confidence interval\n",
    "lower_bound = x_bar - margin_of_error\n",
    "upper_bound = x_bar + margin_of_error\n",
    "\n",
    "# Print the results\n",
    "print(\"Critical t-value: {:.3f}\".format(critical_t))\n",
    "print(\"Margin of Error: {:.3f}\".format(margin_of_error))\n",
    "print(\"Confidence Interval: [{:.3f},{:.3f}]\".format(lower_bound,upper_bound))\n",
    "print(\"The {:.1%} confidence interval for the population mean is:\".format(confidence_level))\n",
    "print(\"between {:.3f} and {:.3f}\".format(lower_bound,upper_bound))"
   ]
  },
  {
   "cell_type": "markdown",
   "id": "a95e2b27-8dbc-463f-a8b1-bdc8d1769588",
   "metadata": {},
   "source": [
    "# QUESTION 14"
   ]
  },
  {
   "cell_type": "code",
   "execution_count": 29,
   "id": "6b24f915-2899-4038-a23f-adf7e78b38f0",
   "metadata": {},
   "outputs": [
    {
     "name": "stdout",
     "output_type": "stream",
     "text": [
      "Critical t-value: 0.063\n",
      "Margin of Error: 0.019\n",
      "Confidence Interval: [7.981,8.019]\n",
      "The 5.0% confidence interval for the population mean is:\n",
      "between 7.981 and 8.019\n"
     ]
    }
   ],
   "source": [
    "import scipy.stats as stats\n",
    "import math\n",
    "\n",
    "# Specify sample mean (x_bar), sample standard deviation (s), sample size (n) and confidence level\n",
    "x_bar = 8\n",
    "s = 3\n",
    "n = 100\n",
    "confidence_level = 0.05\n",
    "\n",
    "# Calculate alpha, degrees of freedom (df), the critical t-value, and the margin of error\n",
    "alpha = (1-confidence_level)\n",
    "df = n - 1\n",
    "standard_error = s/math.sqrt(n)\n",
    "critical_t = stats.t.ppf(1-alpha/2, df)\n",
    "margin_of_error = critical_t * standard_error\n",
    "\n",
    "# Calculate the lower and upper bound of the confidence interval\n",
    "lower_bound = x_bar - margin_of_error\n",
    "upper_bound = x_bar + margin_of_error\n",
    "\n",
    "# Print the results\n",
    "print(\"Critical t-value: {:.3f}\".format(critical_t))\n",
    "print(\"Margin of Error: {:.3f}\".format(margin_of_error))\n",
    "print(\"Confidence Interval: [{:.3f},{:.3f}]\".format(lower_bound,upper_bound))\n",
    "print(\"The {:.1%} confidence interval for the population mean is:\".format(confidence_level))\n",
    "print(\"between {:.3f} and {:.3f}\".format(lower_bound,upper_bound))"
   ]
  },
  {
   "cell_type": "markdown",
   "id": "6f1a58cc-9872-4f61-977a-f9bdb61ed2ed",
   "metadata": {},
   "source": [
    "Reject the hypothesis"
   ]
  },
  {
   "cell_type": "markdown",
   "id": "fe547ae4-1c66-41e8-997a-894b8cde5bc1",
   "metadata": {},
   "source": [
    "# QUESTION 15"
   ]
  },
  {
   "cell_type": "markdown",
   "id": "9459b35e-40ba-40c4-b6b5-da8de6aac8cd",
   "metadata": {},
   "source": [
    "An electronics company produces a certain type of product with a mean weight of 5 pounds and a\n",
    "standard deviation of 0.5 pounds. A random sample of 25 products is taken, and the sample mean weight\n",
    "is found to be 4.8 pounds. Test the hypothesis that the true mean weight of the products is less than 5\n",
    "pounds with a significance level of 0.01."
   ]
  },
  {
   "cell_type": "code",
   "execution_count": 32,
   "id": "5316f02d-7238-4150-9587-071dc24bd376",
   "metadata": {},
   "outputs": [
    {
     "name": "stdout",
     "output_type": "stream",
     "text": [
      "Critical t-value: 0.013\n",
      "Margin of Error: 0.001\n",
      "Confidence Interval: [4.799,4.801]\n",
      "The 1.0% confidence interval for the population mean is:\n",
      "between 4.799 and 4.801\n"
     ]
    }
   ],
   "source": [
    "import scipy.stats as stats\n",
    "import math\n",
    "\n",
    "# Specify sample mean (x_bar), sample standard deviation (s), sample size (n) and confidence level\n",
    "x_bar = 4.8\n",
    "s = 0.5\n",
    "n = 25\n",
    "confidence_level = 0.01\n",
    "\n",
    "# Calculate alpha, degrees of freedom (df), the critical t-value, and the margin of error\n",
    "alpha = (1-confidence_level)\n",
    "df = n - 1\n",
    "standard_error = s/math.sqrt(n)\n",
    "critical_t = stats.t.ppf(1-alpha/2, df)\n",
    "margin_of_error = critical_t * standard_error\n",
    "\n",
    "# Calculate the lower and upper bound of the confidence interval\n",
    "lower_bound = x_bar - margin_of_error\n",
    "upper_bound = x_bar + margin_of_error\n",
    "\n",
    "# Print the results\n",
    "print(\"Critical t-value: {:.3f}\".format(critical_t))\n",
    "print(\"Margin of Error: {:.3f}\".format(margin_of_error))\n",
    "print(\"Confidence Interval: [{:.3f},{:.3f}]\".format(lower_bound,upper_bound))\n",
    "print(\"The {:.1%} confidence interval for the population mean is:\".format(confidence_level))\n",
    "print(\"between {:.3f} and {:.3f}\".format(lower_bound,upper_bound))"
   ]
  },
  {
   "cell_type": "markdown",
   "id": "c7bef58c-409b-4c24-a585-a728bb9f689f",
   "metadata": {},
   "source": [
    "Fail to reject hypothesis"
   ]
  },
  {
   "cell_type": "markdown",
   "id": "8ed8f7bc-12ac-456b-acc5-9eccba12afb5",
   "metadata": {},
   "source": [
    "# QUESTION 16"
   ]
  },
  {
   "cell_type": "markdown",
   "id": "ce43f578-675c-465e-846f-498a9a35311f",
   "metadata": {},
   "source": [
    "Two groups of students are given different study materials to prepare for a test. The first group (n1 =\n",
    "30) has a mean score of 80 with a standard deviation of 10, and the second group (n2 = 40) has a mean\n",
    "score of 75 with a standard deviation of 8. Test the hypothesis that the population means for the two\n",
    "groups are equal with a significance level of 0.01."
   ]
  },
  {
   "cell_type": "code",
   "execution_count": 34,
   "id": "6fd05b19-8975-460b-aad2-5066441a962c",
   "metadata": {},
   "outputs": [
    {
     "name": "stdout",
     "output_type": "stream",
     "text": [
      "Critical t-value: 0.013\n",
      "Margin of Error: 0.023\n",
      "Confidence Interval: [79.977,80.023]\n",
      "The 1.0% confidence interval for the population mean is:\n",
      "between 79.977 and 80.023\n"
     ]
    }
   ],
   "source": [
    "import scipy.stats as stats\n",
    "import math\n",
    "\n",
    "# Specify sample mean (x_bar), sample standard deviation (s), sample size (n) and confidence level\n",
    "x_bar = 80\n",
    "s = 10\n",
    "n = 30\n",
    "confidence_level = 0.01\n",
    "\n",
    "# Calculate alpha, degrees of freedom (df), the critical t-value, and the margin of error\n",
    "alpha = (1-confidence_level)\n",
    "df = n - 1\n",
    "standard_error = s/math.sqrt(n)\n",
    "critical_t = stats.t.ppf(1-alpha/2, df)\n",
    "margin_of_error = critical_t * standard_error\n",
    "\n",
    "# Calculate the lower and upper bound of the confidence interval\n",
    "lower_bound = x_bar - margin_of_error\n",
    "upper_bound = x_bar + margin_of_error\n",
    "\n",
    "# Print the results\n",
    "print(\"Critical t-value: {:.3f}\".format(critical_t))\n",
    "print(\"Margin of Error: {:.3f}\".format(margin_of_error))\n",
    "print(\"Confidence Interval: [{:.3f},{:.3f}]\".format(lower_bound,upper_bound))\n",
    "print(\"The {:.1%} confidence interval for the population mean is:\".format(confidence_level))\n",
    "print(\"between {:.3f} and {:.3f}\".format(lower_bound,upper_bound))"
   ]
  },
  {
   "cell_type": "code",
   "execution_count": 35,
   "id": "7bf82e4f-b573-4381-8b27-8f4dd7b53bf8",
   "metadata": {},
   "outputs": [
    {
     "name": "stdout",
     "output_type": "stream",
     "text": [
      "Critical t-value: 0.013\n",
      "Margin of Error: 0.016\n",
      "Confidence Interval: [74.984,75.016]\n",
      "The 1.0% confidence interval for the population mean is:\n",
      "between 74.984 and 75.016\n"
     ]
    }
   ],
   "source": [
    "import scipy.stats as stats\n",
    "import math\n",
    "\n",
    "# Specify sample mean (x_bar), sample standard deviation (s), sample size (n) and confidence level\n",
    "x_bar = 75\n",
    "s = 8\n",
    "n = 40\n",
    "confidence_level = 0.01\n",
    "\n",
    "# Calculate alpha, degrees of freedom (df), the critical t-value, and the margin of error\n",
    "alpha = (1-confidence_level)\n",
    "df = n - 1\n",
    "standard_error = s/math.sqrt(n)\n",
    "critical_t = stats.t.ppf(1-alpha/2, df)\n",
    "margin_of_error = critical_t * standard_error\n",
    "\n",
    "# Calculate the lower and upper bound of the confidence interval\n",
    "lower_bound = x_bar - margin_of_error\n",
    "upper_bound = x_bar + margin_of_error\n",
    "\n",
    "# Print the results\n",
    "print(\"Critical t-value: {:.3f}\".format(critical_t))\n",
    "print(\"Margin of Error: {:.3f}\".format(margin_of_error))\n",
    "print(\"Confidence Interval: [{:.3f},{:.3f}]\".format(lower_bound,upper_bound))\n",
    "print(\"The {:.1%} confidence interval for the population mean is:\".format(confidence_level))\n",
    "print(\"between {:.3f} and {:.3f}\".format(lower_bound,upper_bound))"
   ]
  },
  {
   "cell_type": "markdown",
   "id": "69d314ac-5edc-4402-b9b0-f4e13fed356a",
   "metadata": {},
   "source": [
    "Reject the hypothesis"
   ]
  },
  {
   "cell_type": "markdown",
   "id": "b760dd24-bce8-4b5f-83e7-2141f13faccb",
   "metadata": {},
   "source": [
    "# QUESTION 17"
   ]
  },
  {
   "cell_type": "markdown",
   "id": "d7b2e777-a417-4a42-8e15-a3e0a2789ca2",
   "metadata": {},
   "source": [
    "A marketing company wants to estimate the average number of ads watched by viewers during a TV\n",
    "program. They take a random sample of 50 viewers and find that the sample mean is 4 with a standard\n",
    "deviation of 1.5. Estimate the population mean with a 99% confidence interval."
   ]
  },
  {
   "cell_type": "code",
   "execution_count": 37,
   "id": "24a1ab0e-b786-47ca-95f3-7d16cbc5e20c",
   "metadata": {},
   "outputs": [
    {
     "name": "stdout",
     "output_type": "stream",
     "text": [
      "Critical t-value: 2.680\n",
      "Margin of Error: 0.569\n",
      "Confidence Interval: [3.431,4.569]\n",
      "The 99.0% confidence interval for the population mean is:\n",
      "between 3.431 and 4.569\n"
     ]
    }
   ],
   "source": [
    "import scipy.stats as stats\n",
    "import math\n",
    "\n",
    "# Specify sample mean (x_bar), sample standard deviation (s), sample size (n) and confidence level\n",
    "x_bar = 4\n",
    "s = 1.5\n",
    "n = 50\n",
    "confidence_level = 0.99\n",
    "\n",
    "# Calculate alpha, degrees of freedom (df), the critical t-value, and the margin of error\n",
    "alpha = (1-confidence_level)\n",
    "df = n - 1\n",
    "standard_error = s/math.sqrt(n)\n",
    "critical_t = stats.t.ppf(1-alpha/2, df)\n",
    "margin_of_error = critical_t * standard_error\n",
    "\n",
    "# Calculate the lower and upper bound of the confidence interval\n",
    "lower_bound = x_bar - margin_of_error\n",
    "upper_bound = x_bar + margin_of_error\n",
    "\n",
    "# Print the results\n",
    "print(\"Critical t-value: {:.3f}\".format(critical_t))\n",
    "print(\"Margin of Error: {:.3f}\".format(margin_of_error))\n",
    "print(\"Confidence Interval: [{:.3f},{:.3f}]\".format(lower_bound,upper_bound))\n",
    "print(\"The {:.1%} confidence interval for the population mean is:\".format(confidence_level))\n",
    "print(\"between {:.3f} and {:.3f}\".format(lower_bound,upper_bound))"
   ]
  },
  {
   "cell_type": "code",
   "execution_count": null,
   "id": "0511f390-1bd9-4e8b-9d2c-e9caf85008ce",
   "metadata": {},
   "outputs": [],
   "source": []
  }
 ],
 "metadata": {
  "kernelspec": {
   "display_name": "Python 3 (ipykernel)",
   "language": "python",
   "name": "python3"
  },
  "language_info": {
   "codemirror_mode": {
    "name": "ipython",
    "version": 3
   },
   "file_extension": ".py",
   "mimetype": "text/x-python",
   "name": "python",
   "nbconvert_exporter": "python",
   "pygments_lexer": "ipython3",
   "version": "3.10.8"
  }
 },
 "nbformat": 4,
 "nbformat_minor": 5
}
