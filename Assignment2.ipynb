{
 "cells": [
  {
   "cell_type": "markdown",
   "id": "5a0e365c-f86d-4ca6-84d0-568eb98e7ac7",
   "metadata": {},
   "source": [
    "## QUESTION 1"
   ]
  },
  {
   "cell_type": "code",
   "execution_count": 12,
   "id": "b8015915-a50f-4bdc-9dc6-f197e53b08ae",
   "metadata": {},
   "outputs": [
    {
     "name": "stdin",
     "output_type": "stream",
     "text": [
      "Enter the percentages 71\n"
     ]
    }
   ],
   "source": [
    "percentage = int(input(\"Enter the percentages\"))"
   ]
  },
  {
   "cell_type": "code",
   "execution_count": 14,
   "id": "256dd10f-c5da-411a-b91c-ea12324d0b5f",
   "metadata": {},
   "outputs": [
    {
     "data": {
      "text/plain": [
       "80"
      ]
     },
     "execution_count": 14,
     "metadata": {},
     "output_type": "execute_result"
    }
   ],
   "source": [
    "percentage"
   ]
  },
  {
   "cell_type": "code",
   "execution_count": 13,
   "id": "55939098-1fe4-4304-8703-f83b44e8f292",
   "metadata": {},
   "outputs": [
    {
     "name": "stdout",
     "output_type": "stream",
     "text": [
      "c\n"
     ]
    }
   ],
   "source": [
    "if percentage > 90:\n",
    "    print(\"A\")\n",
    "elif percentage > 80 and percentage <= 90:\n",
    "    print(\"B\")\n",
    "elif percentage >=60 and percentage <= 80:\n",
    "    print(\"c\")\n",
    "else:\n",
    "    print(\"D\")"
   ]
  },
  {
   "cell_type": "markdown",
   "id": "d0c8c7f5-de4f-460b-8cc3-810c7a4b3098",
   "metadata": {},
   "source": [
    "## QUESTION 2"
   ]
  },
  {
   "cell_type": "code",
   "execution_count": null,
   "id": "8a921c3a-7ab1-4553-986b-7a2df7aec637",
   "metadata": {},
   "outputs": [],
   "source": [
    "\n",
    "cost_price = int(input(\"Enter the cost price:\"))\n",
    "road_tax = 0\n",
    "if cost_price > 100000:\n",
    "    new_price = cost_price  + cost_price * 0.15\n",
    "elif cost_price > 50000 and cost_price <= 100000:\n",
    "    new_price = 1.1 * cost_price\n",
    "else:\n",
    "    new_price = 1.05 * cost_price\n",
    "print(new_price)"
   ]
  },
  {
   "cell_type": "markdown",
   "id": "1ce3eb71-1c14-4cdd-8f31-b51c2fdc98c4",
   "metadata": {},
   "source": [
    "## QUESTION 3"
   ]
  },
  {
   "cell_type": "code",
   "execution_count": 10,
   "id": "0c2de921-d645-4703-9492-4bb16205d941",
   "metadata": {},
   "outputs": [
    {
     "name": "stdin",
     "output_type": "stream",
     "text": [
      "Enter the city name: Jaipur\n"
     ]
    },
    {
     "name": "stdout",
     "output_type": "stream",
     "text": [
      "Jal Mahal\n"
     ]
    }
   ],
   "source": [
    "city = input(\"Enter the city name:\")\n",
    "if city == \"Agra\":\n",
    "   print(\"Taj Mahal\")\n",
    "elif city == \"Delhi\":\n",
    "    print (\"Red fort\")\n",
    "elif city == \"Jaipur\":\n",
    "    print(\"Jal Mahal\")\n",
    "else:\n",
    "    print(\"City doesn't have any monument\")"
   ]
  },
  {
   "cell_type": "markdown",
   "id": "cbeb8d9c-0f42-4a67-a523-eaf9a3d6fce2",
   "metadata": {},
   "source": [
    "## QUESTION 4"
   ]
  },
  {
   "cell_type": "code",
   "execution_count": 4,
   "id": "22a6afb9-8efa-45f7-a87d-d48887dbd0d2",
   "metadata": {},
   "outputs": [
    {
     "name": "stdin",
     "output_type": "stream",
     "text": [
      " 102\n"
     ]
    },
    {
     "name": "stdout",
     "output_type": "stream",
     "text": [
      "31\n"
     ]
    }
   ],
   "source": [
    "number = int(input())\n",
    "i = 0\n",
    "while(number%3 == 0):\n",
    "    i += 1\n",
    "    number -= 3 \n",
    "    if number <= 10:\n",
    "        break\n",
    "print(i)\n",
    "        "
   ]
  },
  {
   "cell_type": "markdown",
   "id": "189ee864-33e4-4c6f-94bf-fb2bb234e022",
   "metadata": {},
   "source": [
    "# QUESTION 5"
   ]
  },
  {
   "cell_type": "code",
   "execution_count": null,
   "id": "ad03eec4-f4dc-482c-94cb-168e0081271f",
   "metadata": {},
   "outputs": [],
   "source": [
    "'''While loop is used when we don't know how many times a loop has to run through but we know till what condition\n",
    "it should work. Use a while loop for reading a file into a variable. Use a while loop when asking for user input. Use a while loop when \n",
    "the increment value is nonstandard\n",
    "For example if we have to print all the letters of a string and we don't know when the loop should stop so we \n",
    "can make a while loop that runs through the end of string and stops at that place where the conditon fails'''"
   ]
  },
  {
   "cell_type": "code",
   "execution_count": null,
   "id": "6112a6fe-23a7-4275-8e6c-e62ae6d96535",
   "metadata": {},
   "outputs": [],
   "source": [
    "#Previous code will work as while loop"
   ]
  },
  {
   "cell_type": "markdown",
   "id": "07128c7e-8f62-4f10-9ca1-3dc1fc1db66b",
   "metadata": {},
   "source": [
    "# QUESTION 6"
   ]
  },
  {
   "cell_type": "code",
   "execution_count": 3,
   "id": "bf553001-811a-4efb-b54a-5bf1557509e8",
   "metadata": {},
   "outputs": [
    {
     "data": {
      "text/plain": [
       "29"
      ]
     },
     "execution_count": 3,
     "metadata": {},
     "output_type": "execute_result"
    }
   ],
   "source": [
    "Name = \"PW Skills Master Data Science\"\n",
    "len(Name)"
   ]
  },
  {
   "cell_type": "code",
   "execution_count": 18,
   "id": "3330421c-c204-4d2f-b5dc-a8d9e47f58f2",
   "metadata": {},
   "outputs": [
    {
     "name": "stdout",
     "output_type": "stream",
     "text": [
      "0\n",
      "0\n",
      "1\n",
      "2\n",
      "1\n",
      "0\n",
      "1\n",
      "2\n",
      "2\n",
      "0\n",
      "1\n",
      "2\n",
      "3\n",
      "0\n",
      "1\n",
      "2\n",
      "4\n",
      "0\n",
      "1\n",
      "2\n",
      "5\n",
      "0\n",
      "1\n",
      "2\n",
      "6\n",
      "0\n",
      "1\n",
      "2\n",
      "7\n",
      "0\n",
      "1\n",
      "2\n",
      "8\n",
      "0\n",
      "1\n",
      "2\n",
      "9\n",
      "0\n",
      "1\n",
      "2\n",
      "10\n",
      "0\n",
      "1\n",
      "2\n",
      "11\n",
      "0\n",
      "1\n",
      "2\n",
      "12\n",
      "0\n",
      "1\n",
      "2\n",
      "13\n",
      "0\n",
      "1\n",
      "2\n",
      "14\n",
      "0\n",
      "1\n",
      "2\n",
      "15\n",
      "0\n",
      "1\n",
      "2\n",
      "16\n",
      "0\n",
      "1\n",
      "2\n",
      "17\n",
      "0\n",
      "1\n",
      "2\n",
      "18\n",
      "0\n",
      "1\n",
      "2\n",
      "19\n",
      "0\n",
      "1\n",
      "2\n",
      "20\n",
      "0\n",
      "1\n",
      "2\n",
      "21\n",
      "0\n",
      "1\n",
      "2\n",
      "22\n",
      "0\n",
      "1\n",
      "2\n",
      "23\n",
      "0\n",
      "1\n",
      "2\n",
      "24\n",
      "0\n",
      "1\n",
      "2\n",
      "25\n",
      "0\n",
      "1\n",
      "2\n",
      "26\n",
      "0\n",
      "1\n",
      "2\n",
      "27\n",
      "0\n",
      "1\n",
      "2\n",
      "28\n",
      "0\n",
      "1\n",
      "2\n",
      "87\n"
     ]
    }
   ],
   "source": [
    "i = 0\n",
    "while (i< len(Name)):\n",
    "    print(i)\n",
    "    i += 1\n",
    "    j = 0\n",
    "    while j < 3:\n",
    "        print(j)\n",
    "        j += 1\n",
    "print(i*j)"
   ]
  },
  {
   "cell_type": "markdown",
   "id": "a2f502d3-1e1d-46b8-abee-e7b62a3cd6f2",
   "metadata": {},
   "source": [
    "# QUESTION 7"
   ]
  },
  {
   "cell_type": "code",
   "execution_count": 31,
   "id": "b39305f9-527f-46da-991c-154d93650580",
   "metadata": {},
   "outputs": [
    {
     "name": "stdout",
     "output_type": "stream",
     "text": [
      "10\n",
      "9\n",
      "8\n",
      "7\n",
      "6\n",
      "5\n",
      "4\n",
      "3\n",
      "2\n",
      "1\n"
     ]
    }
   ],
   "source": [
    "i = 11\n",
    "while (i > 1):\n",
    "    i-=1\n",
    "    print(i)"
   ]
  },
  {
   "cell_type": "code",
   "execution_count": null,
   "id": "82b2e185-0229-47a8-a2df-44dcce9f69f1",
   "metadata": {},
   "outputs": [],
   "source": []
  }
 ],
 "metadata": {
  "kernelspec": {
   "display_name": "Python 3 (ipykernel)",
   "language": "python",
   "name": "python3"
  },
  "language_info": {
   "codemirror_mode": {
    "name": "ipython",
    "version": 3
   },
   "file_extension": ".py",
   "mimetype": "text/x-python",
   "name": "python",
   "nbconvert_exporter": "python",
   "pygments_lexer": "ipython3",
   "version": "3.10.8"
  }
 },
 "nbformat": 4,
 "nbformat_minor": 5
}
