{
 "cells": [
  {
   "cell_type": "markdown",
   "id": "fca22e48-bb6f-4d0e-b357-8686238c21df",
   "metadata": {},
   "source": [
    "# QUESTION 1"
   ]
  },
  {
   "cell_type": "markdown",
   "id": "d1714a17-80a5-4581-ad6b-70f2af057b67",
   "metadata": {},
   "source": [
    "A z-test is used to test a Null Hypothesis if the population variance is known, or if the sample size is larger than 30, for an unknown population variance. A t-test is used when the sample size is less than 30 and the population variance is unknown."
   ]
  },
  {
   "cell_type": "markdown",
   "id": "7be03db2-5d44-4620-8df5-7047b207cf11",
   "metadata": {},
   "source": [
    "# QUESTION 2"
   ]
  },
  {
   "cell_type": "markdown",
   "id": "f347df88-512e-4416-a333-9a9ea6c075ef",
   "metadata": {},
   "source": [
    "The main difference between one-tailed and two-tailed tests is that one-tailed tests will only have one critical region whereas two-tailed tests will have two critical regions. If we require a 100(1−α) 100 ( 1 − α ) % confidence interval we have to make some adjustments when using a two-tailed test."
   ]
  },
  {
   "cell_type": "markdown",
   "id": "a3812a4a-8fe2-4e1c-ac52-db389553f75e",
   "metadata": {},
   "source": [
    "# QUESTION 3"
   ]
  },
  {
   "cell_type": "markdown",
   "id": "f8c0ac57-a2e2-4188-9bd9-3c350a0bc361",
   "metadata": {},
   "source": [
    "There are two errors that could potentially occur: Type I error (false positive): the test result says you have coronavirus, but you actually don't. Type II error (false negative): the test result says you don't have coronavirus, but you actually do."
   ]
  },
  {
   "cell_type": "markdown",
   "id": "6975c2b7-434c-418a-a1ed-56d37e4538bc",
   "metadata": {},
   "source": [
    "# QUESTION 4"
   ]
  },
  {
   "cell_type": "markdown",
   "id": "10905fc6-675f-436b-ba1c-0e5ea9efec26",
   "metadata": {},
   "source": [
    "Bayes theorem gives the probability of an “event” with the given information on “tests”. There is a difference between “events” and “tests”. For example there is a test for liver disease, which is different from actually having the liver disease, i.e. an event. Rare events might be having a higher false positive rate."
   ]
  },
  {
   "cell_type": "markdown",
   "id": "a5c0483b-5976-4c93-b227-a6052a5e213a",
   "metadata": {},
   "source": [
    "# QUESTION 5"
   ]
  },
  {
   "cell_type": "markdown",
   "id": "288d6603-7c1f-4646-88bc-aaeface6a46c",
   "metadata": {},
   "source": [
    "A confidence interval for the mean is a way of estimating the true population mean. Instead of a single number for the mean, a confidence interval gives you a lower estimate and an upper estimate. For example, instead of “6” as the mean you might get {5,7}, where 5 is the lower estimate and 7 is the upper."
   ]
  },
  {
   "cell_type": "markdown",
   "id": "c245ebf1-3036-4088-9f22-3c142a08692d",
   "metadata": {},
   "source": [
    "# QUESTION 6"
   ]
  },
  {
   "cell_type": "markdown",
   "id": "9853c216-b52f-49f9-8cf8-8ebd98ddd121",
   "metadata": {},
   "source": [
    "Imagine you are a financial analyst at an investment bank. According to your research of publicly-traded companies, 60% of the companies that increased their share price by more than 5% in the last three years replaced their CEOs during the period.\n",
    "\n",
    "At the same time, only 35% of the companies that did not increase their share price by more than 5% in the same period replaced their CEOs. Knowing that the probability that the stock prices grow by more than 5% is 4%, find the probability that the shares of a company that fires its CEO will increase by more than 5%.\n",
    "\n",
    "Before finding the probabilities, you must first define the notation of the probabilities.\n",
    "\n",
    "P(A) – the probability that the stock price increases by 5%\n",
    "P(B) – the probability that the CEO is replaced\n",
    "P(A|B) – the probability of the stock price increases by 5% given that the CEO has been replaced\n",
    "P(B|A) – the probability of the CEO replacement given the stock price has increased by 5%.\n"
   ]
  },
  {
   "cell_type": "markdown",
   "id": "c33c56bd-f771-4b1b-8a22-7c369dce42c1",
   "metadata": {},
   "source": [
    "Using the Bayes’ theorem, we can find the required probability:\n",
    "\n",
    "\n",
    "Thus, the probability that the shares of a company that replaces its CEO will grow by more than 5% is 6.67%."
   ]
  },
  {
   "cell_type": "markdown",
   "id": "72e564ba-207d-4cde-9a88-0d72efcd5590",
   "metadata": {},
   "source": [
    "# QUESTION 7"
   ]
  },
  {
   "cell_type": "markdown",
   "id": "018e5ba5-e012-4bf2-bed3-67e2c6e26524",
   "metadata": {},
   "source": [
    "[40,60] as 95% CI will be 2 standard deviations left and right of the mean."
   ]
  },
  {
   "cell_type": "markdown",
   "id": "db70a85e-6da1-47d6-8781-c763a960f94d",
   "metadata": {},
   "source": [
    "# QUESTION 8"
   ]
  },
  {
   "cell_type": "markdown",
   "id": "7b136d04-0028-4817-8922-67357c77b97c",
   "metadata": {},
   "source": [
    "The margin of error in statistics is the degree of error in results received from random sampling surveys. A larger sample size or lower variability will result in a tighter confidence interval with a smaller margin of error. A smaller sample size or a higher variability will result in a wider confidence interval with a larger margin of error. The level of confidence also affects the interval width."
   ]
  },
  {
   "cell_type": "markdown",
   "id": "bf77dce4-97eb-48cd-bbdb-3fd4fb3a6686",
   "metadata": {},
   "source": [
    "In elections, the more the sampling, the better the results are going to be and the lesser the margin of error. for example, for a 20 million people voting pattern if we say that we took sample of 200 people and 55% voting is going to be for one side and 45% is for the losing party, and there is a margin of error as 5%. Then if even 5 people out of 200 were wrong then the entire prediction will fail. However if we sample 2000 people and do the same analysis, and if we see the same trend then our margin of error reduces"
   ]
  },
  {
   "cell_type": "markdown",
   "id": "7ae6d858-5c1b-4ac8-8a31-3685bef60ff1",
   "metadata": {},
   "source": [
    "# QUESTION 9"
   ]
  },
  {
   "cell_type": "markdown",
   "id": "c64f6863-67f8-4af4-a276-d7828c8f312d",
   "metadata": {},
   "source": [
    "1"
   ]
  },
  {
   "cell_type": "markdown",
   "id": "517dee38-18b3-497d-b30f-bba89cc9292b",
   "metadata": {},
   "source": [
    "# QUESTION 10"
   ]
  },
  {
   "cell_type": "code",
   "execution_count": 7,
   "id": "d1dc79d4-0ea5-42cc-ab34-670636d9b087",
   "metadata": {},
   "outputs": [],
   "source": [
    "n = 50\n",
    "x_bar = 6\n",
    "sd = 2.5\n",
    "dof = n - 1"
   ]
  },
  {
   "cell_type": "markdown",
   "id": "2322a5a6-077e-44b5-9301-e7192bcc91a7",
   "metadata": {},
   "source": [
    "t = 6/(2.5/(sqrt(50))\n",
    "t = 16.97\n",
    "dof = 49, t value is 1.677 since t > t(dof) we reject the null hypothesis that it didn't have any affect on decrease and say it has a greater likelihood of having an affect."
   ]
  },
  {
   "cell_type": "markdown",
   "id": "2eb9ed86-b482-486a-acd3-98b0012961b8",
   "metadata": {},
   "source": [
    "# QUESTION 11"
   ]
  },
  {
   "cell_type": "markdown",
   "id": "fa5aef05-7195-4a56-88dc-5fc7467efb45",
   "metadata": {},
   "source": [
    "In a survey of 500 people, 65% reported being satisfied with their current job. Calculate the 95%\n",
    "confidence interval for the true proportion of people who are satisfied with their job."
   ]
  },
  {
   "cell_type": "markdown",
   "id": "5ac6d6ca-7b0f-4d30-ab2c-71b900d9de9c",
   "metadata": {},
   "source": [
    "n = 600\n",
    "p = 0.65\n",
    "q = 0.35\n",
    "Since CL = 0.95, then α = 1 – CL = 1 – 0.95 = 0.05 (α) = 0.025.\n",
    "\n",
    "Then \n",
    "z\n",
    "α\n",
    "2\n",
    "=\n",
    "z\n",
    "0.025\n",
    " = 1.96\n",
    "    \n",
    " 1.96 * sqrt(p*q/n)   \n",
    "C.I = [0.6092 ,0.6918]"
   ]
  },
  {
   "cell_type": "markdown",
   "id": "bc3df775-f058-4790-a17d-e03a906e2844",
   "metadata": {},
   "source": [
    "# QUESTION 12"
   ]
  },
  {
   "cell_type": "markdown",
   "id": "5d075433-7855-4e09-9128-c448d1a184a9",
   "metadata": {},
   "source": [
    "A researcher is testing the effectiveness of two different teaching methods on student performance.\n",
    "Sample A has a mean score of 85 with a standard deviation of 6, while sample B has a mean score of 82\n",
    "with a standard deviation of 5. Conduct a hypothesis test to determine if the two teaching methods have a\n",
    "significant difference in student performance using a t-test with a significance level of 0.01."
   ]
  },
  {
   "cell_type": "markdown",
   "id": "afd5438d-857e-41d5-8829-130f652e234d",
   "metadata": {},
   "source": [
    "85 - 82/ SQRT ( 6^2 + 5^2)\n",
    "= 3/SQRT(61)\n",
    "= 0.38411063979\n",
    "\n",
    "t value is 6.965 which shows we have to reject the null hypothesis as it doesnt make much of an impact\n"
   ]
  },
  {
   "cell_type": "markdown",
   "id": "c51b6ac1-a345-4a81-9a86-f647b4ecfadd",
   "metadata": {},
   "source": [
    "# QUESTION 13"
   ]
  },
  {
   "cell_type": "code",
   "execution_count": 10,
   "id": "4fb6b5ba-96c1-44c6-990d-1326c3a74f91",
   "metadata": {},
   "outputs": [
    {
     "data": {
      "text/plain": [
       "4.419"
      ]
     },
     "execution_count": 10,
     "metadata": {},
     "output_type": "execute_result"
    }
   ],
   "source": [
    "4.419 "
   ]
  },
  {
   "cell_type": "markdown",
   "id": "cfce955c-1991-44ac-8303-58519f59abe8",
   "metadata": {},
   "source": [
    "t value is 1.372 for 90% significance\n",
    "true popoulayion is 65 +- 4.4619\n",
    "between 60.54 and 69.46 "
   ]
  },
  {
   "cell_type": "markdown",
   "id": "e10cd7c1-d62e-4bdc-b83e-dac07a5e43cf",
   "metadata": {},
   "source": [
    "# QUESTION 14"
   ]
  },
  {
   "cell_type": "markdown",
   "id": "79167f6c-ca42-41f5-a63c-b3b72f64db30",
   "metadata": {},
   "source": [
    "0.0022\n",
    "\n",
    "T table = 1.13\n",
    "so we reject the hypothesis\n"
   ]
  },
  {
   "cell_type": "code",
   "execution_count": null,
   "id": "77177770-53d4-47ea-aef8-d67c67350b3f",
   "metadata": {},
   "outputs": [],
   "source": []
  }
 ],
 "metadata": {
  "kernelspec": {
   "display_name": "Python 3 (ipykernel)",
   "language": "python",
   "name": "python3"
  },
  "language_info": {
   "codemirror_mode": {
    "name": "ipython",
    "version": 3
   },
   "file_extension": ".py",
   "mimetype": "text/x-python",
   "name": "python",
   "nbconvert_exporter": "python",
   "pygments_lexer": "ipython3",
   "version": "3.10.8"
  }
 },
 "nbformat": 4,
 "nbformat_minor": 5
}
