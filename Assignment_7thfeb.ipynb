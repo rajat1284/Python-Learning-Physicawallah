{
 "cells": [
  {
   "cell_type": "markdown",
   "id": "6f5a4f86-60c3-4595-a0de-44c2c676a2c2",
   "metadata": {},
   "source": [
    "# QUESTION 1"
   ]
  },
  {
   "cell_type": "code",
   "execution_count": 1,
   "id": "215f763e-e2cb-498b-96b9-c7184b9a6ba1",
   "metadata": {},
   "outputs": [],
   "source": [
    "password = '1SHan@##nb'"
   ]
  },
  {
   "cell_type": "code",
   "execution_count": 4,
   "id": "d07dc903-af17-479f-a178-a637b7b7c6b7",
   "metadata": {},
   "outputs": [],
   "source": [
    "def password_checker(password):\n",
    "    if len(password) == 10:\n",
    "        j = 0\n",
    "        k=0\n",
    "        l=0\n",
    "        m=0\n",
    "        for i in password:\n",
    "            if i.islower():\n",
    "                j +=1\n",
    "            if i.isupper():\n",
    "                k+=1\n",
    "            if i in (\"[\",\"@\",\"#\",\"$\",\"%\",\"^\",\"&\",\"*\",\"(\",\")\",\"-\",\"_\",\"+\",\"=\"):\n",
    "               l +=1\n",
    "            if i.isnumeric():\n",
    "               m +=1\n",
    "    if j>=2 & k >=2 & l>=3 & m>=1:\n",
    "        a = print(\"Valid Password\")\n",
    "    else:\n",
    "        a = print(\"Invalid password\")\n",
    "    return a\n",
    "                    "
   ]
  },
  {
   "cell_type": "code",
   "execution_count": 5,
   "id": "e0cfc224-ad3f-4b7f-b929-af251e1912c1",
   "metadata": {},
   "outputs": [
    {
     "name": "stdout",
     "output_type": "stream",
     "text": [
      "Valid Password\n"
     ]
    }
   ],
   "source": [
    "password_checker(password)"
   ]
  },
  {
   "cell_type": "markdown",
   "id": "b2d98358-b8ae-4e39-9748-0939b69a65e0",
   "metadata": {},
   "source": [
    "# QUESTION 2"
   ]
  },
  {
   "cell_type": "code",
   "execution_count": 11,
   "id": "37eef982-11da-4a9e-b72c-a1d8a673d78a",
   "metadata": {},
   "outputs": [],
   "source": [
    "startcheck = lambda x: print(\"Yes\") if x.startswith(\"R\") else print(\"No\")"
   ]
  },
  {
   "cell_type": "code",
   "execution_count": 13,
   "id": "e9908cdd-5628-4409-82da-172670f78dc2",
   "metadata": {},
   "outputs": [
    {
     "name": "stdout",
     "output_type": "stream",
     "text": [
      "No\n"
     ]
    }
   ],
   "source": [
    "startcheck(password)"
   ]
  },
  {
   "cell_type": "code",
   "execution_count": 18,
   "id": "327fa287-2726-46f5-ad38-78731f37c069",
   "metadata": {},
   "outputs": [],
   "source": [
    "d = \"3\""
   ]
  },
  {
   "cell_type": "code",
   "execution_count": 17,
   "id": "8bab0e54-8f26-44d3-857e-49df8871e6d3",
   "metadata": {},
   "outputs": [],
   "source": [
    "numcheck = lambda x: print(\"Yes\") if x.isnumeric() else print(\"No\")"
   ]
  },
  {
   "cell_type": "code",
   "execution_count": 19,
   "id": "b10db665-afc1-4c7d-b875-d4e986f9b96c",
   "metadata": {},
   "outputs": [
    {
     "name": "stdout",
     "output_type": "stream",
     "text": [
      "Yes\n"
     ]
    }
   ],
   "source": [
    "numcheck(d)"
   ]
  },
  {
   "cell_type": "code",
   "execution_count": 8,
   "id": "1250d515-d313-4d7f-8df3-6157ed33e44d",
   "metadata": {},
   "outputs": [],
   "source": [
    "b = [('mango',99),('orange',80),('grapes',1000)]"
   ]
  },
  {
   "cell_type": "code",
   "execution_count": 9,
   "id": "8ac433fd-35ac-4d42-affd-66585f9490e0",
   "metadata": {},
   "outputs": [],
   "source": [
    "b.sort(key=lambda b: b[1])"
   ]
  },
  {
   "cell_type": "code",
   "execution_count": 10,
   "id": "3f4a1e15-519d-431e-b1d7-d67ff0fbd0d6",
   "metadata": {},
   "outputs": [
    {
     "data": {
      "text/plain": [
       "[('orange', 80), ('mango', 99), ('grapes', 1000)]"
      ]
     },
     "execution_count": 10,
     "metadata": {},
     "output_type": "execute_result"
    }
   ],
   "source": [
    "b"
   ]
  },
  {
   "cell_type": "code",
   "execution_count": 21,
   "id": "0c308c57-0cde-40c4-be29-35da5046215d",
   "metadata": {},
   "outputs": [
    {
     "name": "stdout",
     "output_type": "stream",
     "text": [
      "1\n",
      "4\n",
      "9\n",
      "16\n",
      "25\n",
      "36\n",
      "49\n",
      "64\n",
      "81\n",
      "100\n"
     ]
    }
   ],
   "source": [
    "l = [1,2,3,4,5,6,7,8,9,10]\n",
    "squares = map(lambda x:x*x,l)\n",
    "for i in squares:\n",
    "    print(i)"
   ]
  },
  {
   "cell_type": "code",
   "execution_count": 22,
   "id": "813f87c1-ad5a-4747-b627-757bb8440c32",
   "metadata": {},
   "outputs": [],
   "source": [
    "cube_root = map(lambda x:x**(1/3),l)"
   ]
  },
  {
   "cell_type": "code",
   "execution_count": 23,
   "id": "3fcc0858-6d6c-48b3-9064-07a09a7575a2",
   "metadata": {},
   "outputs": [
    {
     "name": "stdout",
     "output_type": "stream",
     "text": [
      "1.0\n",
      "1.2599210498948732\n",
      "1.4422495703074083\n",
      "1.5874010519681994\n",
      "1.7099759466766968\n",
      "1.8171205928321397\n",
      "1.912931182772389\n",
      "2.0\n",
      "2.080083823051904\n",
      "2.154434690031884\n"
     ]
    }
   ],
   "source": [
    "for i in cube_root:\n",
    "    print(i)"
   ]
  },
  {
   "cell_type": "code",
   "execution_count": 24,
   "id": "8b0576fd-697b-46e2-9742-8d5b528b6039",
   "metadata": {},
   "outputs": [],
   "source": [
    "even_check = lambda x: print(\"even\") if x%2==0 else print(\"odd\")"
   ]
  },
  {
   "cell_type": "code",
   "execution_count": 25,
   "id": "ef4578c3-94a3-4b6b-9120-8df9bde35603",
   "metadata": {},
   "outputs": [
    {
     "name": "stdout",
     "output_type": "stream",
     "text": [
      "even\n"
     ]
    }
   ],
   "source": [
    "even_check(2)"
   ]
  },
  {
   "cell_type": "code",
   "execution_count": 27,
   "id": "b4f09703-8f0c-4572-bddb-3be29d45c94f",
   "metadata": {},
   "outputs": [],
   "source": [
    "list1 = [1,2,3,4,5]\n",
    "odd_filter_list = list(filter(lambda x: (x%2 !=0),list1))"
   ]
  },
  {
   "cell_type": "code",
   "execution_count": 28,
   "id": "a66ce2f5-2105-4ce8-bf8d-7570875ec9d0",
   "metadata": {},
   "outputs": [
    {
     "data": {
      "text/plain": [
       "[1, 3, 5]"
      ]
     },
     "execution_count": 28,
     "metadata": {},
     "output_type": "execute_result"
    }
   ],
   "source": [
    "odd_filter_list"
   ]
  },
  {
   "cell_type": "code",
   "execution_count": null,
   "id": "73e32cba-d6b5-41b4-af6c-e13f67b2ec80",
   "metadata": {},
   "outputs": [],
   "source": [
    "A = [1,2,3,4,,6,-1,-2,-3,-4,-5]\n",
    "B = [x for x in A if x >= 0]\n",
    "c = "
   ]
  }
 ],
 "metadata": {
  "kernelspec": {
   "display_name": "Python 3 (ipykernel)",
   "language": "python",
   "name": "python3"
  },
  "language_info": {
   "codemirror_mode": {
    "name": "ipython",
    "version": 3
   },
   "file_extension": ".py",
   "mimetype": "text/x-python",
   "name": "python",
   "nbconvert_exporter": "python",
   "pygments_lexer": "ipython3",
   "version": "3.10.8"
  }
 },
 "nbformat": 4,
 "nbformat_minor": 5
}
