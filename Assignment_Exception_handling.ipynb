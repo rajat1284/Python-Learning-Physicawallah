{
 "cells": [
  {
   "cell_type": "markdown",
   "id": "faac6788-4b78-478e-9143-4a74bf338393",
   "metadata": {},
   "source": [
    "# QUESTION 1"
   ]
  },
  {
   "cell_type": "code",
   "execution_count": null,
   "id": "f347b05d-ead8-4dbe-8572-4fc5041046c5",
   "metadata": {},
   "outputs": [],
   "source": [
    "To improve readability of your code.\n",
    "To enhance reusability of features.\n",
    "To provide custom messages/instructions to users for specific use cases"
   ]
  },
  {
   "cell_type": "markdown",
   "id": "e67c949b-39f6-4c79-abb9-947cc309328b",
   "metadata": {},
   "source": [
    "# question 2"
   ]
  },
  {
   "cell_type": "code",
   "execution_count": 1,
   "id": "9cb237d8-7817-4017-8dec-edfd7c9746c2",
   "metadata": {},
   "outputs": [
    {
     "name": "stdout",
     "output_type": "stream",
     "text": [
      "Hierarchy for Built-in exceptions is : \n",
      " BaseException\n",
      "--- Exception\n",
      "------ TypeError\n",
      "--------- FloatOperation\n",
      "--------- MultipartConversionError\n",
      "------ StopAsyncIteration\n",
      "------ StopIteration\n",
      "------ ImportError\n",
      "--------- ModuleNotFoundError\n",
      "--------- ZipImportError\n",
      "------ OSError\n",
      "--------- ConnectionError\n",
      "------------ BrokenPipeError\n",
      "------------ ConnectionAbortedError\n",
      "------------ ConnectionRefusedError\n",
      "------------ ConnectionResetError\n",
      "--------------- RemoteDisconnected\n",
      "--------- BlockingIOError\n",
      "--------- ChildProcessError\n",
      "--------- FileExistsError\n",
      "--------- FileNotFoundError\n",
      "--------- IsADirectoryError\n",
      "--------- NotADirectoryError\n",
      "--------- InterruptedError\n",
      "------------ InterruptedSystemCall\n",
      "--------- PermissionError\n",
      "--------- ProcessLookupError\n",
      "--------- TimeoutError\n",
      "--------- UnsupportedOperation\n",
      "--------- itimer_error\n",
      "--------- herror\n",
      "--------- gaierror\n",
      "--------- SSLError\n",
      "------------ SSLCertVerificationError\n",
      "------------ SSLZeroReturnError\n",
      "------------ SSLWantWriteError\n",
      "------------ SSLWantReadError\n",
      "------------ SSLSyscallError\n",
      "------------ SSLEOFError\n",
      "--------- Error\n",
      "------------ SameFileError\n",
      "--------- SpecialFileError\n",
      "--------- ExecError\n",
      "--------- ReadError\n",
      "--------- URLError\n",
      "------------ HTTPError\n",
      "------------ ContentTooShortError\n",
      "--------- BadGzipFile\n",
      "------ EOFError\n",
      "--------- IncompleteReadError\n",
      "------ RuntimeError\n",
      "--------- RecursionError\n",
      "--------- NotImplementedError\n",
      "------------ ZMQVersionError\n",
      "------------ StdinNotImplementedError\n",
      "--------- _DeadlockError\n",
      "--------- BrokenBarrierError\n",
      "--------- BrokenExecutor\n",
      "------------ BrokenThreadPool\n",
      "--------- SendfileNotAvailableError\n",
      "--------- ExtractionError\n",
      "--------- VariableError\n",
      "------ NameError\n",
      "--------- UnboundLocalError\n",
      "------ AttributeError\n",
      "--------- FrozenInstanceError\n",
      "------ SyntaxError\n",
      "--------- IndentationError\n",
      "------------ TabError\n",
      "------ LookupError\n",
      "--------- IndexError\n",
      "--------- KeyError\n",
      "------------ NoSuchKernel\n",
      "------------ UnknownBackend\n",
      "--------- CodecRegistryError\n",
      "------ ValueError\n",
      "--------- UnicodeError\n",
      "------------ UnicodeEncodeError\n",
      "------------ UnicodeDecodeError\n",
      "------------ UnicodeTranslateError\n",
      "--------- UnsupportedOperation\n",
      "--------- JSONDecodeError\n",
      "--------- SSLCertVerificationError\n",
      "--------- Error\n",
      "--------- UnsupportedDigestmodError\n",
      "--------- IllegalMonthError\n",
      "--------- IllegalWeekdayError\n",
      "--------- ParserError\n",
      "--------- ClassNotFound\n",
      "--------- ClipboardEmpty\n",
      "--------- MessageDefect\n",
      "------------ NoBoundaryInMultipartDefect\n",
      "------------ StartBoundaryNotFoundDefect\n",
      "------------ CloseBoundaryNotFoundDefect\n",
      "------------ FirstHeaderLineIsContinuationDefect\n",
      "------------ MisplacedEnvelopeHeaderDefect\n",
      "------------ MissingHeaderBodySeparatorDefect\n",
      "------------ MultipartInvariantViolationDefect\n",
      "------------ InvalidMultipartContentTransferEncodingDefect\n",
      "------------ UndecodableBytesDefect\n",
      "------------ InvalidBase64PaddingDefect\n",
      "------------ InvalidBase64CharactersDefect\n",
      "------------ InvalidBase64LengthDefect\n",
      "------------ HeaderDefect\n",
      "--------------- InvalidHeaderDefect\n",
      "--------------- HeaderMissingRequiredValue\n",
      "--------------- NonPrintableDefect\n",
      "--------------- ObsoleteHeaderDefect\n",
      "--------------- NonASCIILocalPartDefect\n",
      "--------------- InvalidDateDefect\n",
      "--------- MacroToEdit\n",
      "--------- InvalidFileException\n",
      "--------- UnequalIterablesError\n",
      "--------- InvalidVersion\n",
      "--------- _InvalidELFFileHeader\n",
      "--------- InvalidWheelFilename\n",
      "--------- InvalidSdistFilename\n",
      "--------- InvalidSpecifier\n",
      "--------- InvalidMarker\n",
      "--------- UndefinedComparison\n",
      "--------- UndefinedEnvironmentName\n",
      "--------- InvalidRequirement\n",
      "------------ RequirementParseError\n",
      "--------- InvalidVersion\n",
      "------ AssertionError\n",
      "------ ArithmeticError\n",
      "--------- FloatingPointError\n",
      "--------- OverflowError\n",
      "--------- ZeroDivisionError\n",
      "------------ DivisionByZero\n",
      "------------ DivisionUndefined\n",
      "--------- DecimalException\n",
      "------------ Clamped\n",
      "------------ Rounded\n",
      "--------------- Underflow\n",
      "--------------- Overflow\n",
      "------------ Inexact\n",
      "--------------- Underflow\n",
      "--------------- Overflow\n",
      "------------ Subnormal\n",
      "--------------- Underflow\n",
      "------------ DivisionByZero\n",
      "------------ FloatOperation\n",
      "------------ InvalidOperation\n",
      "--------------- ConversionSyntax\n",
      "--------------- DivisionImpossible\n",
      "--------------- DivisionUndefined\n",
      "--------------- InvalidContext\n",
      "------ SystemError\n",
      "--------- CodecRegistryError\n",
      "------ ReferenceError\n",
      "------ MemoryError\n",
      "------ BufferError\n",
      "------ Warning\n",
      "--------- UserWarning\n",
      "------------ GetPassWarning\n",
      "------------ FormatterWarning\n",
      "--------- EncodingWarning\n",
      "--------- DeprecationWarning\n",
      "------------ ProvisionalWarning\n",
      "--------- PendingDeprecationWarning\n",
      "--------- SyntaxWarning\n",
      "--------- RuntimeWarning\n",
      "------------ ProactorSelectorThreadWarning\n",
      "------------ UnknownTimezoneWarning\n",
      "------------ PEP440Warning\n",
      "--------- FutureWarning\n",
      "------------ ProvisionalCompleterWarning\n",
      "--------- ImportWarning\n",
      "--------- UnicodeWarning\n",
      "--------- BytesWarning\n",
      "--------- ResourceWarning\n",
      "--------- DeprecatedTzFormatWarning\n",
      "--------- PkgResourcesDeprecationWarning\n",
      "------ _OptionError\n",
      "------ _Error\n",
      "------ error\n",
      "------ Verbose\n",
      "------ Error\n",
      "------ SubprocessError\n",
      "--------- CalledProcessError\n",
      "--------- TimeoutExpired\n",
      "------ TokenError\n",
      "------ StopTokenizing\n",
      "------ ClassFoundException\n",
      "------ EndOfBlock\n",
      "------ TraitError\n",
      "------ Error\n",
      "------ Error\n",
      "--------- CancelledError\n",
      "--------- TimeoutError\n",
      "--------- InvalidStateError\n",
      "------ _GiveupOnSendfile\n",
      "------ error\n",
      "------ Incomplete\n",
      "------ TimeoutError\n",
      "------ InvalidStateError\n",
      "------ LimitOverrunError\n",
      "------ QueueEmpty\n",
      "------ QueueFull\n",
      "------ Empty\n",
      "------ Full\n",
      "------ ArgumentError\n",
      "------ ZMQBaseError\n",
      "--------- ZMQError\n",
      "------------ ContextTerminated\n",
      "------------ Again\n",
      "------------ InterruptedSystemCall\n",
      "--------- ZMQBindError\n",
      "--------- NotDone\n",
      "------ PickleError\n",
      "--------- PicklingError\n",
      "--------- UnpicklingError\n",
      "------ _Stop\n",
      "------ ArgumentError\n",
      "------ ArgumentTypeError\n",
      "------ ConfigError\n",
      "--------- ConfigLoaderError\n",
      "------------ ArgumentError\n",
      "--------- ConfigFileNotFound\n",
      "------ ConfigurableError\n",
      "--------- MultipleInstanceError\n",
      "------ ApplicationError\n",
      "------ error\n",
      "------ TimeoutError\n",
      "------ error\n",
      "------ ReturnValueIgnoredError\n",
      "------ KeyReuseError\n",
      "------ UnknownKeyError\n",
      "------ LeakedCallbackError\n",
      "------ BadYieldError\n",
      "------ ReturnValueIgnoredError\n",
      "------ Return\n",
      "------ InvalidPortNumber\n",
      "------ error\n",
      "------ LZMAError\n",
      "------ RegistryError\n",
      "------ _GiveupOnFastCopy\n",
      "------ Error\n",
      "--------- NoSectionError\n",
      "--------- DuplicateSectionError\n",
      "--------- DuplicateOptionError\n",
      "--------- NoOptionError\n",
      "--------- InterpolationError\n",
      "------------ InterpolationMissingOptionError\n",
      "------------ InterpolationSyntaxError\n",
      "------------ InterpolationDepthError\n",
      "--------- ParsingError\n",
      "------------ MissingSectionHeaderError\n",
      "------ NoIPAddresses\n",
      "------ BadZipFile\n",
      "------ LargeZipFile\n",
      "------ BadEntryPoint\n",
      "------ NoSuchEntryPoint\n",
      "------ DuplicateKernelError\n",
      "------ ErrorDuringImport\n",
      "------ NotOneValueFound\n",
      "------ CannotEval\n",
      "------ OptionError\n",
      "------ BdbQuit\n",
      "------ Restart\n",
      "------ ExceptionPexpect\n",
      "--------- EOF\n",
      "--------- TIMEOUT\n",
      "------ PtyProcessError\n",
      "------ FindCmdError\n",
      "------ HomeDirError\n",
      "------ ProfileDirError\n",
      "------ IPythonCoreError\n",
      "--------- TryNext\n",
      "--------- UsageError\n",
      "--------- StdinNotImplementedError\n",
      "------ InputRejected\n",
      "------ GetoptError\n",
      "------ ErrorToken\n",
      "------ PrefilterError\n",
      "------ AliasError\n",
      "--------- InvalidAliasError\n",
      "------ Error\n",
      "--------- InterfaceError\n",
      "--------- DatabaseError\n",
      "------------ InternalError\n",
      "------------ OperationalError\n",
      "------------ ProgrammingError\n",
      "------------ IntegrityError\n",
      "------------ DataError\n",
      "------------ NotSupportedError\n",
      "------ Warning\n",
      "------ SpaceInInput\n",
      "------ DOMException\n",
      "--------- IndexSizeErr\n",
      "--------- DomstringSizeErr\n",
      "--------- HierarchyRequestErr\n",
      "--------- WrongDocumentErr\n",
      "--------- InvalidCharacterErr\n",
      "--------- NoDataAllowedErr\n",
      "--------- NoModificationAllowedErr\n",
      "--------- NotFoundErr\n",
      "--------- NotSupportedErr\n",
      "--------- InuseAttributeErr\n",
      "--------- InvalidStateErr\n",
      "--------- SyntaxErr\n",
      "--------- InvalidModificationErr\n",
      "--------- NamespaceErr\n",
      "--------- InvalidAccessErr\n",
      "--------- ValidationErr\n",
      "------ ValidationError\n",
      "------ EditReadOnlyBuffer\n",
      "------ _Retry\n",
      "------ InvalidLayoutError\n",
      "------ HeightIsUnknownError\n",
      "------ ParserSyntaxError\n",
      "------ InternalParseError\n",
      "------ _PositionUpdatingFinished\n",
      "------ SimpleGetItemNotFound\n",
      "------ UncaughtAttributeError\n",
      "------ HasNoContext\n",
      "------ ParamIssue\n",
      "------ _JediError\n",
      "--------- InternalError\n",
      "--------- WrongVersion\n",
      "--------- RefactoringError\n",
      "------ OnErrorLeaf\n",
      "------ InvalidPythonEnvironment\n",
      "------ MessageError\n",
      "--------- MessageParseError\n",
      "------------ HeaderParseError\n",
      "------------ BoundaryError\n",
      "--------- MultipartConversionError\n",
      "--------- CharsetError\n",
      "------ Error\n",
      "------ HTTPException\n",
      "--------- NotConnected\n",
      "--------- InvalidURL\n",
      "--------- UnknownProtocol\n",
      "--------- UnknownTransferEncoding\n",
      "--------- UnimplementedFileMode\n",
      "--------- IncompleteRead\n",
      "--------- ImproperConnectionState\n",
      "------------ CannotSendRequest\n",
      "------------ CannotSendHeader\n",
      "------------ ResponseNotReady\n",
      "--------- BadStatusLine\n",
      "------------ RemoteDisconnected\n",
      "--------- LineTooLong\n",
      "------ InteractivelyDefined\n",
      "------ KillEmbedded\n",
      "------ Error\n",
      "--------- NoSuchProcess\n",
      "------------ ZombieProcess\n",
      "--------- AccessDenied\n",
      "--------- TimeoutExpired\n",
      "------ _Ipv6UnsupportedError\n",
      "------ QueueEmpty\n",
      "------ QueueFull\n",
      "------ DebuggerInitializationError\n",
      "------ ExpatError\n",
      "------ Error\n",
      "--------- ProtocolError\n",
      "--------- ResponseError\n",
      "--------- Fault\n",
      "------ ParseBaseException\n",
      "--------- ParseException\n",
      "--------- ParseFatalException\n",
      "------------ ParseSyntaxException\n",
      "------ RecursiveGrammarException\n",
      "------ ResolutionError\n",
      "--------- VersionConflict\n",
      "------------ ContextualVersionConflict\n",
      "--------- DistributionNotFound\n",
      "--------- UnknownExtra\n",
      "------ _Error\n",
      "------ UnableToResolveVariableException\n",
      "------ InvalidTypeInArgsException\n",
      "--- GeneratorExit\n",
      "--- SystemExit\n",
      "--- KeyboardInterrupt\n",
      "--- CancelledError\n",
      "--- AbortThread\n"
     ]
    }
   ],
   "source": [
    "# import inspect module\n",
    "import inspect\n",
    "\n",
    "# our treeClass function\n",
    "def treeClass(cls, ind = 0):\n",
    "\t\n",
    "\t# print name of the class\n",
    "\tprint ('-' * ind, cls.__name__)\n",
    "\t\n",
    "\t# iterating through subclasses\n",
    "\tfor i in cls.__subclasses__():\n",
    "\t\ttreeClass(i, ind + 3)\n",
    "\n",
    "print(\"Hierarchy for Built-in exceptions is : \")\n",
    "\n",
    "# inspect.getmro() Return a tuple\n",
    "# of class cls’s base classes.\n",
    "\n",
    "# building a tree hierarchy\n",
    "inspect.getclasstree(inspect.getmro(BaseException))\n",
    "\n",
    "# function call\n",
    "treeClass(BaseException)\n"
   ]
  },
  {
   "cell_type": "markdown",
   "id": "3142058f-5e55-4c68-9b92-5f2afb49c360",
   "metadata": {},
   "source": [
    "# QUESTION 3"
   ]
  },
  {
   "cell_type": "code",
   "execution_count": 1,
   "id": "303f59df-5217-4cd6-986f-c0ce072b809f",
   "metadata": {},
   "outputs": [
    {
     "data": {
      "text/plain": [
       "'Exception ArithmeticError\\nThis class is the base class for those built-in exceptions that are raised for various arithmetic errors such as :\\nOverflowError\\nZeroDivisionError\\nFloatingPointError'"
      ]
     },
     "execution_count": 1,
     "metadata": {},
     "output_type": "execute_result"
    }
   ],
   "source": [
    "\"\"\"Exception ArithmeticError\n",
    "This class is the base class for those built-in exceptions that are raised for various arithmetic errors such as :\n",
    "OverflowError\n",
    "ZeroDivisionError\n",
    "FloatingPointError\"\"\"\n"
   ]
  },
  {
   "cell_type": "code",
   "execution_count": 2,
   "id": "b9092b71-588a-479a-99f5-b6b89dfb5305",
   "metadata": {},
   "outputs": [
    {
     "name": "stdout",
     "output_type": "stream",
     "text": [
      "This statement is raising an arithmetic exception.\n"
     ]
    }
   ],
   "source": [
    "try:\n",
    "\ta = 10/0\n",
    "\tprint (a)\n",
    "except ArithmeticError:\n",
    "\t\tprint (\"This statement is raising an arithmetic exception.\")\n",
    "else:\n",
    "\tprint (\"Success.\")\n"
   ]
  },
  {
   "cell_type": "code",
   "execution_count": 22,
   "id": "b1f360b7-9e5d-4bba-a27d-7fee59881363",
   "metadata": {},
   "outputs": [
    {
     "name": "stdout",
     "output_type": "stream",
     "text": [
      "5.0\n",
      "25.0\n",
      "15625.0\n",
      "5.960464477539062e+16\n",
      "7.52316384526264e+83\n",
      "Overflow error happened\n",
      "(34, 'Numerical result out of range'), <class 'OverflowError'>\n"
     ]
    }
   ],
   "source": [
    "j = 5.0\n",
    "\n",
    "try:\n",
    "    for i in range(1, 1000):\n",
    "        j = j**i\n",
    "        print(j)\n",
    "except OverflowError as e:\n",
    "    print(\"Overflow error happened\")\n",
    "    print(f\"{e}, {e.__class__}\")"
   ]
  },
  {
   "cell_type": "markdown",
   "id": "d7ab6ba8-d377-43a5-937a-eae925ce869f",
   "metadata": {},
   "source": [
    "# QUESTION 4"
   ]
  },
  {
   "cell_type": "code",
   "execution_count": 23,
   "id": "7097342b-6cbd-4347-9f85-5d7f712172f4",
   "metadata": {},
   "outputs": [
    {
     "data": {
      "text/plain": [
       "'The LookupError exception in Python forms the base class for all exceptions that are raised when an index or a key is not found for a sequence or dictionary respectively.\\n\\nYou can use LookupError exception class to handle both IndexError and KeyError exception classes.'"
      ]
     },
     "execution_count": 23,
     "metadata": {},
     "output_type": "execute_result"
    }
   ],
   "source": [
    "\"\"\"The LookupError exception in Python forms the base class for all exceptions that are raised when an index or a key is not found for a sequence or dictionary respectively.\n",
    "\n",
    "You can use LookupError exception class to handle both IndexError and KeyError exception classes.\"\"\""
   ]
  },
  {
   "cell_type": "code",
   "execution_count": 26,
   "id": "541f8eda-e9b6-4a9c-b873-20d2ab2b13a3",
   "metadata": {},
   "outputs": [
    {
     "name": "stdout",
     "output_type": "stream",
     "text": [
      "string index out of range, <class 'IndexError'>\n"
     ]
    }
   ],
   "source": [
    "# strings\n",
    "x = \"RAJAT\"\n",
    "try:\n",
    "    print(x[10])\n",
    "except LookupError as e:\n",
    "    print(f\"{e}, {e.__class__}\")"
   ]
  },
  {
   "cell_type": "code",
   "execution_count": 27,
   "id": "46dabee2-5d53-48f6-893d-bf5ba33fd1cd",
   "metadata": {},
   "outputs": [
    {
     "name": "stdin",
     "output_type": "stream",
     "text": [
      "What do you want to learn about RAJAT==>  NOTHING\n"
     ]
    },
    {
     "name": "stdout",
     "output_type": "stream",
     "text": [
      "'NOTHING', <class 'KeyError'>\n"
     ]
    }
   ],
   "source": [
    "pylenin_info = {'name': 'RAJAT',\n",
    "                'age': 28,\n",
    "                'language': 'Python'}\n",
    "user_input = input('What do you want to learn about RAJAT==> ')\n",
    "\n",
    "try:\n",
    "    print(f'{user_input} is {pylenin_info[user_input]}')\n",
    "except LookupError as e:\n",
    "    print(f'{e}, {e.__class__}')"
   ]
  },
  {
   "cell_type": "markdown",
   "id": "df7e951c-b04d-43ae-8779-75a2a553b284",
   "metadata": {},
   "source": [
    "# QUESTION 5"
   ]
  },
  {
   "cell_type": "code",
   "execution_count": 29,
   "id": "de941ae2-9f15-43e8-bc44-d9d2820eb5cd",
   "metadata": {},
   "outputs": [
    {
     "data": {
      "text/plain": [
       "'An ImportError is detected when Python has problems with a successful module import. Usually this problem is caused by the incorrect path and is usually displayed with the message that there is “No module named (…)” or “cannot import name (…)”.'"
      ]
     },
     "execution_count": 29,
     "metadata": {},
     "output_type": "execute_result"
    }
   ],
   "source": [
    "\"\"\"An ImportError is detected when Python has problems with a successful module import. Usually this problem is caused by the incorrect path and is usually displayed with the message that there is “No module named (…)” or “cannot import name (…)”.\"\"\""
   ]
  },
  {
   "cell_type": "code",
   "execution_count": 30,
   "id": "671764dd-2498-4994-b3c5-48f16117e527",
   "metadata": {},
   "outputs": [
    {
     "data": {
      "text/plain": [
       "\"Python's ImportError ( ModuleNotFoundError ) indicates that you tried to import a module that Python doesn't find.\""
      ]
     },
     "execution_count": 30,
     "metadata": {},
     "output_type": "execute_result"
    }
   ],
   "source": [
    "\"\"\"Python's ImportError ( ModuleNotFoundError ) indicates that you tried to import a module that Python doesn't find.\"\"\""
   ]
  },
  {
   "cell_type": "markdown",
   "id": "768119c6-9e3c-46ee-b336-ce5933f431e1",
   "metadata": {},
   "source": [
    "# QUESTION 6"
   ]
  },
  {
   "cell_type": "code",
   "execution_count": 31,
   "id": "9691a1d0-7a52-47c0-ba86-a724955407b0",
   "metadata": {},
   "outputs": [
    {
     "data": {
      "text/plain": [
       "'Use Exceptions for Exceptional Cases,Don’t Swallow the Exception,Always Clean Up Resources in a Finally Block,Raise Custom Exceptions'"
      ]
     },
     "execution_count": 31,
     "metadata": {},
     "output_type": "execute_result"
    }
   ],
   "source": [
    "\"\"\"Use Exceptions for Exceptional Cases,Don’t Swallow the Exception,Always Clean Up Resources in a Finally Block,Raise Custom Exceptions\"\"\""
   ]
  },
  {
   "cell_type": "code",
   "execution_count": null,
   "id": "06c0987b-0cd7-4bc6-a39f-a831915358f3",
   "metadata": {},
   "outputs": [],
   "source": []
  }
 ],
 "metadata": {
  "kernelspec": {
   "display_name": "Python 3 (ipykernel)",
   "language": "python",
   "name": "python3"
  },
  "language_info": {
   "codemirror_mode": {
    "name": "ipython",
    "version": 3
   },
   "file_extension": ".py",
   "mimetype": "text/x-python",
   "name": "python",
   "nbconvert_exporter": "python",
   "pygments_lexer": "ipython3",
   "version": "3.10.8"
  }
 },
 "nbformat": 4,
 "nbformat_minor": 5
}
