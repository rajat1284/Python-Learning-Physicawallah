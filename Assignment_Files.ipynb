{
 "cells": [
  {
   "cell_type": "markdown",
   "id": "a263f447-82f4-4bda-9352-32be23beb669",
   "metadata": {},
   "source": [
    "# QUESTION 1"
   ]
  },
  {
   "cell_type": "code",
   "execution_count": 13,
   "id": "dd05fdf6-0b5c-4d7f-898a-359b5b192264",
   "metadata": {},
   "outputs": [],
   "source": [
    "a = open('new.txt','r')"
   ]
  },
  {
   "cell_type": "code",
   "execution_count": 12,
   "id": "f82ebda3-6a4e-4500-9da9-d741924fc731",
   "metadata": {},
   "outputs": [
    {
     "data": {
      "text/plain": [
       "'Read Only (‘r’) : Open text file for reading. The handle is positioned at the beginning of the file. If the file does not exists, raises the I/O error. /n\\nThis is also the default mode in which a file is opened.\\nRead and Write (‘r+’): Open the file for reading and writing. \\nThe handle is positioned at the beginning of the file. Raises I/O error if the file does not exist.\\nWrite Only (‘w’) : Open the file for writing. For the existing files, the data is truncated and over-written. The handle is positioned at the beginning of the file. Creates the file if the file does not exist.\\nWrite and Read (‘w+’) : Open the file for reading and writing. For an existing file, data is truncated and over-written. The handle is positioned at the beginning of the file.\\nAppend Only (‘a’): Open the file for writing. The file is created if it does not exist. The handle is positioned at the end of the file. The data being written will be inserted at the end, after the existing data.\\nAppend and Read (‘a+’) : Open the file for reading and writing. The file is created if it does not exist. The handle is positioned at the end of the file. The data being written will be inserted at the end, after the existing data.'"
      ]
     },
     "execution_count": 12,
     "metadata": {},
     "output_type": "execute_result"
    }
   ],
   "source": [
    "\"\"\"Read Only (‘r’) : Open text file for reading. The handle is positioned at the beginning of the file. If the file does not exists, raises the I/O error.\n",
    "This is also the default mode in which a file is opened.\n",
    "Read and Write (‘r+’): Open the file for reading and writing. \n",
    "The handle is positioned at the beginning of the file. Raises I/O error if the file does not exist.\n",
    "Write Only (‘w’) : Open the file for writing. For the existing files, the data is truncated and over-written. The handle is positioned at the beginning of the file. Creates the file if the file does not exist.\n",
    "Write and Read (‘w+’) : Open the file for reading and writing. For an existing file, data is truncated and over-written. The handle is positioned at the beginning of the file.\n",
    "Append Only (‘a’): Open the file for writing. The file is created if it does not exist. The handle is positioned at the end of the file. The data being written will be inserted at the end, after the existing data.\n",
    "Append and Read (‘a+’) : Open the file for reading and writing. The file is created if it does not exist. The handle is positioned at the end of the file. The data being written will be inserted at the end, after the existing data.\"\"\""
   ]
  },
  {
   "cell_type": "markdown",
   "id": "3a986058-5291-4b1d-9aca-4d9dd85070f3",
   "metadata": {},
   "source": [
    "# QUESTION 2"
   ]
  },
  {
   "cell_type": "code",
   "execution_count": 16,
   "id": "f7c25bcc-13ed-454c-ae9f-c3455445e8c1",
   "metadata": {},
   "outputs": [
    {
     "data": {
      "text/plain": [
       "' Close function is used to ensure that file changes are written and available to the user Because files are limited resources managed by the operating system, making sure files are closed after use will protect against hard-to-debug issues like running out of file handles or experiencing corrupted data.'"
      ]
     },
     "execution_count": 16,
     "metadata": {},
     "output_type": "execute_result"
    }
   ],
   "source": [
    "\"\"\" Close function is used to ensure that file changes are written and available to the user Because files are limited resources managed by the operating system, making sure files are closed after use will protect against hard-to-debug issues like running out of file handles or experiencing corrupted data.\"\"\"\n"
   ]
  },
  {
   "cell_type": "markdown",
   "id": "9b647f26-2a13-46d5-9c1a-76ac972e9bf1",
   "metadata": {},
   "source": [
    "# QUESTION 3"
   ]
  },
  {
   "cell_type": "code",
   "execution_count": 18,
   "id": "31f47170-4b1e-4a72-9b22-f919032fdfeb",
   "metadata": {},
   "outputs": [],
   "source": [
    "a = open(\"new.txt\",'w')"
   ]
  },
  {
   "cell_type": "code",
   "execution_count": 20,
   "id": "9d4df226-3162-4278-a2d3-a4a868735f8b",
   "metadata": {},
   "outputs": [
    {
     "data": {
      "text/plain": [
       "33"
      ]
     },
     "execution_count": 20,
     "metadata": {},
     "output_type": "execute_result"
    }
   ],
   "source": [
    "a.write(\"I want to become a Data Scientist\")"
   ]
  },
  {
   "cell_type": "code",
   "execution_count": 21,
   "id": "c07801c3-cee4-4d48-baed-3a997f7c5d02",
   "metadata": {},
   "outputs": [],
   "source": [
    "a.close()"
   ]
  },
  {
   "cell_type": "code",
   "execution_count": 22,
   "id": "bbee641d-9758-49ea-8f80-bffff51b9faa",
   "metadata": {},
   "outputs": [],
   "source": [
    "file_content = open(\"new.txt\",'r')"
   ]
  },
  {
   "cell_type": "code",
   "execution_count": 24,
   "id": "54d9ef22-c2cb-481b-a258-0ddd621b2af1",
   "metadata": {},
   "outputs": [
    {
     "data": {
      "text/plain": [
       "'I want to become a Data Scientist'"
      ]
     },
     "execution_count": 24,
     "metadata": {},
     "output_type": "execute_result"
    }
   ],
   "source": [
    "file_content.read()"
   ]
  },
  {
   "cell_type": "markdown",
   "id": "f42fee28-e132-4258-b723-0c307fe655b4",
   "metadata": {},
   "source": [
    "# QUESTION 4"
   ]
  },
  {
   "cell_type": "code",
   "execution_count": 85,
   "id": "e744bf20-b8d3-47ea-9af4-815968c3675b",
   "metadata": {},
   "outputs": [],
   "source": [
    "A = open(\"new.txt\",'w')"
   ]
  },
  {
   "cell_type": "code",
   "execution_count": 86,
   "id": "6dc0a528-3a93-4c5e-98b3-105ee4794d3b",
   "metadata": {},
   "outputs": [
    {
     "data": {
      "text/plain": [
       "282"
      ]
     },
     "execution_count": 86,
     "metadata": {},
     "output_type": "execute_result"
    }
   ],
   "source": [
    "A.write(\"There are three ways for reading the data from the file:\\n Read ( ): Returns the read bytes in the form of a string. ... Readline ( ): Reads a line of the file and returns in the form of a string. ... readlines ( ): Reads all the lines and returns them as a string element in a list.\")"
   ]
  },
  {
   "cell_type": "code",
   "execution_count": 87,
   "id": "fa18cf40-ae62-4e77-ae26-34b62275ccee",
   "metadata": {},
   "outputs": [],
   "source": [
    "A.close()"
   ]
  },
  {
   "cell_type": "code",
   "execution_count": 88,
   "id": "fca9c2ce-35aa-407f-a706-3d126d32b5a5",
   "metadata": {},
   "outputs": [],
   "source": [
    "B = open(\"new.txt\",'r')"
   ]
  },
  {
   "cell_type": "code",
   "execution_count": 89,
   "id": "b1c2c1bf-cd1d-4c01-bd66-d3cf0420331e",
   "metadata": {},
   "outputs": [
    {
     "data": {
      "text/plain": [
       "'There are three ways for reading the data from the file:\\n'"
      ]
     },
     "execution_count": 89,
     "metadata": {},
     "output_type": "execute_result"
    }
   ],
   "source": [
    "B.readline()"
   ]
  },
  {
   "cell_type": "code",
   "execution_count": 90,
   "id": "91c49b3d-dd64-4711-9c05-d3ca4683ae48",
   "metadata": {},
   "outputs": [
    {
     "data": {
      "text/plain": [
       "[' Read ( ): Returns the read bytes in the form of a string. ... Readline ( ): Reads a line of the file and returns in the form of a string. ... readlines ( ): Reads all the lines and returns them as a string element in a list.']"
      ]
     },
     "execution_count": 90,
     "metadata": {},
     "output_type": "execute_result"
    }
   ],
   "source": [
    "B.readlines(15)"
   ]
  },
  {
   "cell_type": "markdown",
   "id": "83e7ecc4-92d4-4263-8b3a-023caea1c425",
   "metadata": {},
   "source": [
    "# QUESTION 5"
   ]
  },
  {
   "cell_type": "code",
   "execution_count": 68,
   "id": "f02cbebc-be1f-4574-bf5f-0eb649c14ad2",
   "metadata": {},
   "outputs": [
    {
     "data": {
      "text/plain": [
       "'In Python, with statement is used in exception handling to make the code cleaner and much more readable. It simplifies the management of common resources like file streams. Observe the following code example on how the use of with statement makes code cleaner. '"
      ]
     },
     "execution_count": 68,
     "metadata": {},
     "output_type": "execute_result"
    }
   ],
   "source": [
    "\"In Python, with statement is used in exception handling to make the code cleaner and much more readable. It simplifies the management of common resources like file streams. Observe the following code example on how the use of with statement makes code cleaner. \"\n",
    "\n"
   ]
  },
  {
   "cell_type": "code",
   "execution_count": 69,
   "id": "2e570001-bc2a-4f27-9401-c9ba9bb0340e",
   "metadata": {},
   "outputs": [],
   "source": [
    "# # using with statement\n",
    "#with open('file_path', 'w') as file:\n",
    "#\tfile.write('hello world !')\n",
    "#there is no need to call file.close() when using with statement. The with statement itself ensures proper acquisition and release of resources\n"
   ]
  },
  {
   "cell_type": "markdown",
   "id": "95572401-f5c0-4fd0-be20-de18d832a3df",
   "metadata": {},
   "source": [
    "# QUESTION 6"
   ]
  },
  {
   "cell_type": "code",
   "execution_count": 70,
   "id": "93aa381b-8034-434a-9229-e621878d9478",
   "metadata": {},
   "outputs": [
    {
     "data": {
      "text/plain": [
       "'The write() function will write the content in the file without adding any extra characters.\\n\\nSyntax: # Writes string content referenced by file object.\\nfile_name.write(content) '"
      ]
     },
     "execution_count": 70,
     "metadata": {},
     "output_type": "execute_result"
    }
   ],
   "source": [
    "\"\"\"The write() function will write the content in the file without adding any extra characters.\n",
    "\n",
    "Syntax: # Writes string content referenced by file object.\n",
    "file_name.write(content) \"\"\""
   ]
  },
  {
   "cell_type": "code",
   "execution_count": 73,
   "id": "9d49875c-fb67-448a-aa8a-c0d30033ff98",
   "metadata": {},
   "outputs": [
    {
     "name": "stdin",
     "output_type": "stream",
     "text": [
      "Enter the name of the employee:  RAJAT\n",
      "Enter the name of the employee:  \n",
      "Enter the name of the employee:  \n"
     ]
    },
    {
     "name": "stdout",
     "output_type": "stream",
     "text": [
      "Data is written into the file.\n"
     ]
    }
   ],
   "source": [
    "file = open(\"Employees.txt\", \"w\")\n",
    "\n",
    "for i in range(3):\n",
    "    name = input(\"Enter the name of the employee: \")\n",
    "    file.write(name)\n",
    "    file.write(\"\\n\")\n",
    "\t\n",
    "file.close()\n",
    "\n",
    "print(\"Data is written into the file.\")\n"
   ]
  },
  {
   "cell_type": "code",
   "execution_count": null,
   "id": "69f29a6d-2fe9-438e-b1ff-53e3521702c6",
   "metadata": {},
   "outputs": [],
   "source": [
    "\"\"\"writelines() function\n",
    "This function writes the content of a list to a file.\n",
    "\n",
    "Syntax:   \n",
    "\n",
    "# write all the strings present in the list \"list_of_lines\" \n",
    "# referenced by file object.\n",
    "file_name.writelines(list_of_lines)\n",
    "As per the syntax, the list of strings that is passed to the writelines() function is written into the opened file. Similar to the write() function, the writelines() function does not add a newline character(\\n) to the end of the string.\"\"\""
   ]
  },
  {
   "cell_type": "code",
   "execution_count": 74,
   "id": "60098bd9-4a89-49b7-8cad-17f7fc7f29ac",
   "metadata": {},
   "outputs": [
    {
     "name": "stdin",
     "output_type": "stream",
     "text": [
      "Enter the name of the employee:  KUMAR\n",
      "Enter the name of the employee:  SHANU\n",
      "Enter the name of the employee:  ALTAF\n"
     ]
    },
    {
     "name": "stdout",
     "output_type": "stream",
     "text": [
      "Data is written into the file.\n"
     ]
    }
   ],
   "source": [
    "file1 = open(\"Employees.txt\", \"w\")\n",
    "lst = []\n",
    "for i in range(3):\n",
    "\tname = input(\"Enter the name of the employee: \")\n",
    "\tlst.append(name + '\\n')\n",
    "\t\n",
    "file1.writelines(lst)\n",
    "file1.close()\n",
    "print(\"Data is written into the file.\")\n"
   ]
  },
  {
   "cell_type": "code",
   "execution_count": 75,
   "id": "6cc74cce-7d33-4036-bc56-85db27add820",
   "metadata": {},
   "outputs": [],
   "source": [
    "# The only difference between the write() and writelines() is that write() is used to write a string to an already opened file while writelines() method is used to write a list of strings in an opened file."
   ]
  },
  {
   "cell_type": "code",
   "execution_count": null,
   "id": "773fdcac-735c-4e6c-8e08-d7a6b2780119",
   "metadata": {},
   "outputs": [],
   "source": []
  }
 ],
 "metadata": {
  "kernelspec": {
   "display_name": "Python 3 (ipykernel)",
   "language": "python",
   "name": "python3"
  },
  "language_info": {
   "codemirror_mode": {
    "name": "ipython",
    "version": 3
   },
   "file_extension": ".py",
   "mimetype": "text/x-python",
   "name": "python",
   "nbconvert_exporter": "python",
   "pygments_lexer": "ipython3",
   "version": "3.10.8"
  }
 },
 "nbformat": 4,
 "nbformat_minor": 5
}
