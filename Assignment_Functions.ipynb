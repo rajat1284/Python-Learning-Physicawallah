{
 "cells": [
  {
   "cell_type": "markdown",
   "id": "b5e0f463-f552-4a1d-a73f-c906e3c5e973",
   "metadata": {},
   "source": [
    "# QUESTION1"
   ]
  },
  {
   "cell_type": "code",
   "execution_count": 29,
   "id": "833605fc-9074-4d8c-8a65-1580ff491ebd",
   "metadata": {},
   "outputs": [],
   "source": [
    "# def keyword is used to create a function.\n",
    "\n",
    "def odd_num(n):\n",
    "    list = []\n",
    "    for i in range(n):\n",
    "        if i%2 != 0:\n",
    "            list.append(i)\n",
    "    return list"
   ]
  },
  {
   "cell_type": "code",
   "execution_count": 30,
   "id": "e8ad36e5-5129-485a-9da7-02c8111a13a4",
   "metadata": {},
   "outputs": [
    {
     "data": {
      "text/plain": [
       "[1,\n",
       " 3,\n",
       " 5,\n",
       " 7,\n",
       " 9,\n",
       " 11,\n",
       " 13,\n",
       " 15,\n",
       " 17,\n",
       " 19,\n",
       " 21,\n",
       " 23,\n",
       " 25,\n",
       " 27,\n",
       " 29,\n",
       " 31,\n",
       " 33,\n",
       " 35,\n",
       " 37,\n",
       " 39,\n",
       " 41,\n",
       " 43,\n",
       " 45,\n",
       " 47,\n",
       " 49,\n",
       " 51,\n",
       " 53,\n",
       " 55,\n",
       " 57,\n",
       " 59,\n",
       " 61,\n",
       " 63,\n",
       " 65,\n",
       " 67,\n",
       " 69,\n",
       " 71,\n",
       " 73,\n",
       " 75,\n",
       " 77,\n",
       " 79,\n",
       " 81,\n",
       " 83,\n",
       " 85,\n",
       " 87,\n",
       " 89,\n",
       " 91,\n",
       " 93,\n",
       " 95,\n",
       " 97,\n",
       " 99]"
      ]
     },
     "execution_count": 30,
     "metadata": {},
     "output_type": "execute_result"
    }
   ],
   "source": [
    "odd_num(100)"
   ]
  },
  {
   "cell_type": "markdown",
   "id": "57918a8b-2cfe-4f8f-86db-861a521fc119",
   "metadata": {},
   "source": [
    "# QUESTION 2"
   ]
  },
  {
   "cell_type": "code",
   "execution_count": 31,
   "id": "2eb205aa-db12-456e-9ab7-12b89cda6f35",
   "metadata": {},
   "outputs": [],
   "source": [
    "# *args is used when we don't know how many parameters we need to pass and \n",
    "# ** kwarrgs is used when we need key value pair i.e. a dictionary"
   ]
  },
  {
   "cell_type": "code",
   "execution_count": 47,
   "id": "443f4ca2-75ad-4804-b58d-6edd31cef7a5",
   "metadata": {},
   "outputs": [],
   "source": [
    "def a(*args):\n",
    "    n = []\n",
    "    for i in args:\n",
    "        n.append(i)\n",
    "    return n"
   ]
  },
  {
   "cell_type": "code",
   "execution_count": 48,
   "id": "d8f85f2b-c253-467a-b608-497b69594b03",
   "metadata": {},
   "outputs": [
    {
     "data": {
      "text/plain": [
       "[1, 2, 3, 4, 5]"
      ]
     },
     "execution_count": 48,
     "metadata": {},
     "output_type": "execute_result"
    }
   ],
   "source": [
    "a(1,2,3,4,5)"
   ]
  },
  {
   "cell_type": "code",
   "execution_count": 4,
   "id": "8a34082f-f8c3-454d-9438-efb8586619e7",
   "metadata": {},
   "outputs": [],
   "source": [
    "def a(**kwargs):\n",
    "    for i in kwargs.keys():    \n",
    "        return i\n",
    "    "
   ]
  },
  {
   "cell_type": "code",
   "execution_count": 5,
   "id": "5ec9e338-2946-4c5e-adb8-d683966732d4",
   "metadata": {},
   "outputs": [
    {
     "data": {
      "text/plain": [
       "'c'"
      ]
     },
     "execution_count": 5,
     "metadata": {},
     "output_type": "execute_result"
    }
   ],
   "source": [
    "a(c = [1,2,3,4,5])\n"
   ]
  },
  {
   "cell_type": "markdown",
   "id": "c1243130-de73-4754-98c7-127e48e53499",
   "metadata": {},
   "source": [
    "# QUESTION 3"
   ]
  },
  {
   "cell_type": "code",
   "execution_count": 6,
   "id": "9be88c36-bcad-43df-8e1f-b0819355e2d1",
   "metadata": {},
   "outputs": [],
   "source": [
    "# Iterator in Python is an object that is used to iterate over iterable objects like lists, tuples, dicts, and sets.\n",
    "\n",
    "#The iterator object is initialized using the iter() method. It uses the next() method for iteration."
   ]
  },
  {
   "cell_type": "code",
   "execution_count": 7,
   "id": "4e1fe957-ad7e-460c-9d23-551bad4da31b",
   "metadata": {},
   "outputs": [],
   "source": [
    "a = [2,4,6,8,10,12,14,16,18,20]"
   ]
  },
  {
   "cell_type": "code",
   "execution_count": 18,
   "id": "19d381fe-1e56-4e43-b65d-246c3255a942",
   "metadata": {},
   "outputs": [],
   "source": [
    "b = iter(a)"
   ]
  },
  {
   "cell_type": "code",
   "execution_count": 16,
   "id": "aec0d080-d171-4a92-8126-9d3301be4c2a",
   "metadata": {},
   "outputs": [
    {
     "name": "stdout",
     "output_type": "stream",
     "text": [
      "2\n"
     ]
    }
   ],
   "source": [
    "print (next(iter(a)))"
   ]
  },
  {
   "cell_type": "code",
   "execution_count": 19,
   "id": "5c2a41af-23f2-427d-bb5e-755cb0990902",
   "metadata": {},
   "outputs": [
    {
     "name": "stdout",
     "output_type": "stream",
     "text": [
      "2\n",
      "4\n",
      "6\n",
      "8\n",
      "10\n"
     ]
    }
   ],
   "source": [
    "i = 0\n",
    "while (i <5):\n",
    "    print (next(b))\n",
    "    i +=1\n",
    "    "
   ]
  },
  {
   "cell_type": "markdown",
   "id": "31e51606-e7ab-4557-bcad-3f2429c144c4",
   "metadata": {},
   "source": [
    "# QUESTION 4"
   ]
  },
  {
   "cell_type": "code",
   "execution_count": 20,
   "id": "ca59c359-f31e-4203-852b-ce2f54526e0f",
   "metadata": {},
   "outputs": [],
   "source": [
    "# Generator functions are a special kind of function that return a lazy iterator called \n",
    "# a generator iterator. These are objects that you can loop over like a list. However, unlike lists, lazy iterators do not store their contents in memory\n"
   ]
  },
  {
   "cell_type": "code",
   "execution_count": 22,
   "id": "3fadae1c-9d91-4d01-8278-76521b073794",
   "metadata": {},
   "outputs": [
    {
     "data": {
      "text/plain": [
       "'The yield keyword in Python controls the flow of a generator function. This is similar to a return statement used for returning values in Python. However, there is a difference.\\n\\nWhen you call a function that has a yield statement, as soon as a yield is encountered, the execution of the function halts and returns a generator iterator object instead of simply returning a value. The state of the function, which includes variable bindings, the instruction pointer, the internal stack, and a few other things, is saved.'"
      ]
     },
     "execution_count": 22,
     "metadata": {},
     "output_type": "execute_result"
    }
   ],
   "source": [
    "\"\"\"The yield keyword in Python controls the flow of a generator function. This is similar to a return statement used for returning values in Python. However, there is a difference.\n",
    "\n",
    "When you call a function that has a yield statement, as soon as a yield is encountered, the execution of the function halts and returns a generator iterator object instead of simply returning a value. The state of the function, which includes variable bindings, the instruction pointer, the internal stack, and a few other things, is saved.\"\"\""
   ]
  },
  {
   "cell_type": "code",
   "execution_count": 23,
   "id": "eb247a3a-ba0c-4190-b028-d251f081b819",
   "metadata": {},
   "outputs": [],
   "source": [
    "list = [1,2,3,4,5,6,7,8,\"rajat\",\"jain\",{1,2},(1,2,\"abc\")]"
   ]
  },
  {
   "cell_type": "code",
   "execution_count": 26,
   "id": "e300c0fa-129b-4366-9984-0140eba6e15c",
   "metadata": {},
   "outputs": [],
   "source": [
    "def func(a):\n",
    "    n = []\n",
    "    for i in a:\n",
    "        yield a\n",
    "        a"
   ]
  },
  {
   "cell_type": "code",
   "execution_count": 27,
   "id": "609403fe-7ca2-4ed9-aa7a-a9342b3d056c",
   "metadata": {},
   "outputs": [
    {
     "data": {
      "text/plain": [
       "<generator object func at 0x7fd7a80c9cb0>"
      ]
     },
     "execution_count": 27,
     "metadata": {},
     "output_type": "execute_result"
    }
   ],
   "source": [
    "func(list)"
   ]
  },
  {
   "cell_type": "code",
   "execution_count": 61,
   "id": "23fa7b75-9121-4d43-a56a-ce46afd0066d",
   "metadata": {},
   "outputs": [],
   "source": [
    "\n",
    "    # define a flag variable\n",
    "    def abc(num):\n",
    "        abc = []\n",
    "        for i in range(num):\n",
    "            if (num % i) == 0:\n",
    "            # if factor is found, set flag to True\n",
    "                abc.append(i)\n",
    "                yield abc\n",
    "                i +=1\n",
    "            # break out of loop\n",
    "\n",
    "    # check if flag is True\n",
    "    "
   ]
  },
  {
   "cell_type": "code",
   "execution_count": 59,
   "id": "238ae2f6-c7da-460c-a3e3-a4ef24edaef4",
   "metadata": {},
   "outputs": [
    {
     "data": {
      "text/plain": [
       "<function __main__.abc(num)>"
      ]
     },
     "execution_count": 59,
     "metadata": {},
     "output_type": "execute_result"
    }
   ],
   "source": [
    " abc"
   ]
  },
  {
   "cell_type": "code",
   "execution_count": 62,
   "id": "01f3414d-cb24-4b3c-b2f4-460e64e153b1",
   "metadata": {},
   "outputs": [
    {
     "ename": "TypeError",
     "evalue": "'function' object is not iterable",
     "output_type": "error",
     "traceback": [
      "\u001b[0;31m---------------------------------------------------------------------------\u001b[0m",
      "\u001b[0;31mTypeError\u001b[0m                                 Traceback (most recent call last)",
      "Cell \u001b[0;32mIn[62], line 1\u001b[0m\n\u001b[0;32m----> 1\u001b[0m \u001b[38;5;28;01mfor\u001b[39;00m i \u001b[38;5;129;01min\u001b[39;00m abc:\n\u001b[1;32m      2\u001b[0m     \u001b[38;5;28mprint\u001b[39m(i)\n",
      "\u001b[0;31mTypeError\u001b[0m: 'function' object is not iterable"
     ]
    }
   ],
   "source": [
    "for i in abc:\n",
    "    print(i)"
   ]
  },
  {
   "cell_type": "code",
   "execution_count": null,
   "id": "828c5b33-a93d-4c2a-867b-ebe0cbaed464",
   "metadata": {},
   "outputs": [],
   "source": []
  }
 ],
 "metadata": {
  "kernelspec": {
   "display_name": "Python 3 (ipykernel)",
   "language": "python",
   "name": "python3"
  },
  "language_info": {
   "codemirror_mode": {
    "name": "ipython",
    "version": 3
   },
   "file_extension": ".py",
   "mimetype": "text/x-python",
   "name": "python",
   "nbconvert_exporter": "python",
   "pygments_lexer": "ipython3",
   "version": "3.10.8"
  }
 },
 "nbformat": 4,
 "nbformat_minor": 5
}
