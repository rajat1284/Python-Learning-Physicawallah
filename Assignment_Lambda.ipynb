{
 "cells": [
  {
   "cell_type": "markdown",
   "id": "06550b45-22eb-4ee2-9421-00446860988d",
   "metadata": {},
   "source": [
    "# QUESTION 1"
   ]
  },
  {
   "cell_type": "code",
   "execution_count": 105,
   "id": "1eb41baf-ef9f-4a15-b01d-b1090b846ee2",
   "metadata": {},
   "outputs": [],
   "source": [
    "a = [('Sachin Tendulkar', 34357), ('Ricky Ponting', 27483), ('Jack Kallis', 25534), ('Virat Kohli', 24936)]"
   ]
  },
  {
   "cell_type": "code",
   "execution_count": 122,
   "id": "82a3e556-276f-4fe8-8dd2-6a776684f5bb",
   "metadata": {},
   "outputs": [
    {
     "name": "stdout",
     "output_type": "stream",
     "text": [
      "[('Virat Kohli', 24936), ('Jack Kallis', 25534), ('Ricky Ponting', 27483), ('Sachin Tendulkar', 34357)]\n"
     ]
    }
   ],
   "source": [
    "newList = sorted(a, key = lambda x : x[1])\n",
    "print(newList)\n",
    "    "
   ]
  },
  {
   "cell_type": "markdown",
   "id": "625c3dc1-bd38-48fa-bf79-ebeb5add5dfb",
   "metadata": {},
   "source": [
    "# QUESTION 2"
   ]
  },
  {
   "cell_type": "code",
   "execution_count": 4,
   "id": "5fb353e9-50d4-4d7d-b4e2-6dbe90e9f2c2",
   "metadata": {},
   "outputs": [],
   "source": [
    "A = [1, 2, 3, 4, 5, 6, 7, 8, 9, 10]"
   ]
  },
  {
   "cell_type": "code",
   "execution_count": 9,
   "id": "1a734787-3d17-4f86-9640-4d51629bba81",
   "metadata": {},
   "outputs": [],
   "source": [
    "def sq(x):\n",
    "    return x**2\n",
    "    "
   ]
  },
  {
   "cell_type": "code",
   "execution_count": 11,
   "id": "ec5ca7e5-affa-4c7e-a634-003a20282eeb",
   "metadata": {},
   "outputs": [
    {
     "data": {
      "text/plain": [
       "[1, 4, 9, 16, 25, 36, 49, 64, 81, 100]"
      ]
     },
     "execution_count": 11,
     "metadata": {},
     "output_type": "execute_result"
    }
   ],
   "source": [
    "list(map(sq,A))"
   ]
  },
  {
   "cell_type": "markdown",
   "id": "993f4d8b-1edb-4dbc-93f6-57db5eed3f43",
   "metadata": {},
   "source": [
    "# QUESTION 3"
   ]
  },
  {
   "cell_type": "code",
   "execution_count": 12,
   "id": "fe4958a7-f147-43a9-83a0-eb4b9c70acf0",
   "metadata": {},
   "outputs": [],
   "source": [
    "old_Str = [1, 2, 3, 4, 5, 6, 7, 8, 9, 10]"
   ]
  },
  {
   "cell_type": "code",
   "execution_count": 13,
   "id": "9a965a68-afd5-4284-b3b7-5d4449957244",
   "metadata": {},
   "outputs": [],
   "source": [
    "def new_str(x):\n",
    "    return str(x)"
   ]
  },
  {
   "cell_type": "code",
   "execution_count": 24,
   "id": "477abd1f-61b9-4f41-92db-097b2a351fcb",
   "metadata": {},
   "outputs": [
    {
     "data": {
      "text/plain": [
       "['1', '2', '3', '4', '5', '6', '7', '8', '9', '10']"
      ]
     },
     "execution_count": 24,
     "metadata": {},
     "output_type": "execute_result"
    }
   ],
   "source": [
    "list(map(new_str,old_Str))"
   ]
  },
  {
   "cell_type": "markdown",
   "id": "5c03c46a-7943-49c4-a432-b335cb0d2d81",
   "metadata": {},
   "source": [
    "# QUESTION 4"
   ]
  },
  {
   "cell_type": "code",
   "execution_count": 28,
   "id": "eef7300e-01f9-476c-9400-2da9f611d0f4",
   "metadata": {},
   "outputs": [
    {
     "name": "stdout",
     "output_type": "stream",
     "text": [
      "[1, 2, 3, 4, 5, 6, 7, 8, 9, 10, 11, 12, 13, 14, 15, 16, 17, 18, 19, 20, 21, 22, 23, 24, 25]\n"
     ]
    }
   ],
   "source": [
    "n=[]\n",
    "for i in range(1,26):\n",
    "    n.append(i)\n",
    "print (n)\n",
    "\n",
    "    "
   ]
  },
  {
   "cell_type": "code",
   "execution_count": 35,
   "id": "c22bb545-f6e3-4adc-a41f-665dc4779173",
   "metadata": {},
   "outputs": [],
   "source": [
    "def product(x,y):\n",
    "    return x*y"
   ]
  },
  {
   "cell_type": "code",
   "execution_count": 36,
   "id": "febd8739-31da-43a3-b5a0-028995b44c69",
   "metadata": {},
   "outputs": [
    {
     "data": {
      "text/plain": [
       "15511210043330985984000000"
      ]
     },
     "execution_count": 36,
     "metadata": {},
     "output_type": "execute_result"
    }
   ],
   "source": [
    "from functools import reduce\n",
    "reduce(product,n)"
   ]
  },
  {
   "cell_type": "markdown",
   "id": "7d7a3d94-5633-48d2-99ef-c71a6032ccd0",
   "metadata": {},
   "source": [
    "# QUESTION 5"
   ]
  },
  {
   "cell_type": "code",
   "execution_count": 73,
   "id": "a4526088-4f0b-483e-9fcb-3f61ccfe6347",
   "metadata": {},
   "outputs": [],
   "source": [
    "l = [2, 3, 6, 9, 27, 60, 90, 120, 55, 46]"
   ]
  },
  {
   "cell_type": "code",
   "execution_count": 103,
   "id": "0e956279-8652-4b99-af1f-2b8470ae2ef0",
   "metadata": {},
   "outputs": [
    {
     "data": {
      "text/plain": [
       "[2, 3, 6, 9, 27, 60, 90, 120, 46]"
      ]
     },
     "execution_count": 103,
     "metadata": {},
     "output_type": "execute_result"
    }
   ],
   "source": [
    "list(filter(lambda x: x % 2 == 0 or x % 3 == 0 , l))"
   ]
  },
  {
   "cell_type": "markdown",
   "id": "ab28321d-e7ad-48a5-bdb3-cd157a6d7c64",
   "metadata": {},
   "source": [
    "# QUESTION 6"
   ]
  },
  {
   "cell_type": "code",
   "execution_count": 123,
   "id": "d540765e-d16b-4f74-8a91-9dc2beacba2f",
   "metadata": {},
   "outputs": [],
   "source": [
    "a =['python', 'php', 'aba', 'radar', 'level']"
   ]
  },
  {
   "cell_type": "code",
   "execution_count": 125,
   "id": "22c96db4-2f25-4a5a-8a9c-384e6394fa0c",
   "metadata": {},
   "outputs": [
    {
     "data": {
      "text/plain": [
       "['php', 'aba', 'radar', 'level']"
      ]
     },
     "execution_count": 125,
     "metadata": {},
     "output_type": "execute_result"
    }
   ],
   "source": [
    "list(filter(lambda x: (x == \"\".join(reversed(x))), a))"
   ]
  },
  {
   "cell_type": "code",
   "execution_count": null,
   "id": "1351a902-2c4c-4740-bc9b-a406a2946d71",
   "metadata": {},
   "outputs": [],
   "source": []
  }
 ],
 "metadata": {
  "kernelspec": {
   "display_name": "Python 3 (ipykernel)",
   "language": "python",
   "name": "python3"
  },
  "language_info": {
   "codemirror_mode": {
    "name": "ipython",
    "version": 3
   },
   "file_extension": ".py",
   "mimetype": "text/x-python",
   "name": "python",
   "nbconvert_exporter": "python",
   "pygments_lexer": "ipython3",
   "version": "3.10.8"
  }
 },
 "nbformat": 4,
 "nbformat_minor": 5
}
