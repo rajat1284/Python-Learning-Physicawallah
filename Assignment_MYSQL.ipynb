{
 "cells": [
  {
   "cell_type": "markdown",
   "id": "82564a0f-e283-4737-91b6-79d45a06d80b",
   "metadata": {},
   "source": [
    "# QUESTION 1"
   ]
  },
  {
   "cell_type": "code",
   "execution_count": 1,
   "id": "6f5e754e-e304-475f-81a9-96a2fa714976",
   "metadata": {},
   "outputs": [
    {
     "data": {
      "text/plain": [
       "\" A database is a collection of data that is stored in table/tables. SQL is for structured data like an excel file and nosql is for \\nunstructured data like a text file which doesn't have any order\""
      ]
     },
     "execution_count": 1,
     "metadata": {},
     "output_type": "execute_result"
    }
   ],
   "source": [
    "\"\"\" A database is a collection of data that is stored in table/tables. SQL is for structured data like an excel file and nosql is for \n",
    "unstructured data like a text file which doesn't have any order\"\"\""
   ]
  },
  {
   "cell_type": "markdown",
   "id": "c96743c0-5ac8-44bf-bdb7-7a954112ec47",
   "metadata": {},
   "source": [
    "# QUESTION 2"
   ]
  },
  {
   "cell_type": "code",
   "execution_count": 3,
   "id": "b8edbc2a-965f-4145-a268-d499281c2e2a",
   "metadata": {},
   "outputs": [
    {
     "data": {
      "text/plain": [
       "'DDL is data definition language.\\n\\nCREATE is used to create a database/table \\ncur.execute(\"CREATE TABLE test\")\\nDROP is used to delete a table\\ncur.execute(\"DROP TABLE test\")\\nALTER is used to change the characteristics of a table. Alters data definition of contacts table to add a column.\\ncur.execute(\"ALTER TABLE test.contacts ADD COLUMN IF NOT EXISTS (contact_since INT)\")\\nTruncates contacts table, and removes all data from the table\"\", \\ncur.execute(\"TRUNCATE test.contacts\")'"
      ]
     },
     "execution_count": 3,
     "metadata": {},
     "output_type": "execute_result"
    }
   ],
   "source": [
    "\"\"\"DDL is data definition language.\n",
    "\n",
    "CREATE is used to create a database/table \n",
    "cur.execute(\"CREATE TABLE test\")\n",
    "DROP is used to delete a table\n",
    "cur.execute(\"DROP TABLE test\")\n",
    "ALTER is used to change the characteristics of a table. Alters data definition of contacts table to add a column.\n",
    "cur.execute(\"ALTER TABLE test.contacts ADD COLUMN IF NOT EXISTS (contact_since INT)\")\n",
    "Truncates contacts table, and removes all data from the table\"\", \n",
    "cur.execute(\"TRUNCATE test.contacts\")\"\"\""
   ]
  },
  {
   "cell_type": "markdown",
   "id": "6d2c34eb-84ee-41c4-8d3a-1bf617271aab",
   "metadata": {},
   "source": [
    "# QUESTION 3"
   ]
  },
  {
   "cell_type": "code",
   "execution_count": 4,
   "id": "85f45a06-3df9-4b7c-85c7-2f422cd6b9a8",
   "metadata": {},
   "outputs": [
    {
     "data": {
      "text/plain": [
       "' DML is data manipulation language. It used to manipulate data on the table.\\nINSERT inserts data into the table, UPDATE updates a particular set of data, Delete removes the data from the table.\\n\\n    cur.execute(\"INSERT INTO test.contacts(first_name, last_name, email) VALUES (?, ?, ?)\",\\n    cur.execute(\"UPDATE customers SET address = \\'Canyon 123\\' WHERE address = \\'Valley 345\\'\")\\n    cur.execute(\"DELETE FROM customers WHERE address = \\'Mountain 21\")\\n'"
      ]
     },
     "execution_count": 4,
     "metadata": {},
     "output_type": "execute_result"
    }
   ],
   "source": [
    "\"\"\" DML is data manipulation language. It used to manipulate data on the table.\n",
    "INSERT inserts data into the table, UPDATE updates a particular set of data, Delete removes the data from the table.\n",
    "\n",
    "    cur.execute(\"INSERT INTO test.contacts(first_name, last_name, email) VALUES (?, ?, ?)\",\n",
    "    cur.execute(\"UPDATE customers SET address = 'Canyon 123' WHERE address = 'Valley 345'\")\n",
    "    cur.execute(\"DELETE FROM customers WHERE address = 'Mountain 21\")\n",
    "\"\"\"\n",
    "\n"
   ]
  },
  {
   "cell_type": "markdown",
   "id": "dd1f2868-af34-42ce-ba99-45e827a5ba4d",
   "metadata": {},
   "source": [
    "# QUESTION 4"
   ]
  },
  {
   "cell_type": "code",
   "execution_count": 6,
   "id": "020709b6-3735-4728-88e9-60d356c85fd7",
   "metadata": {},
   "outputs": [
    {
     "data": {
      "text/plain": [
       "' DQL is  Data Query Language.\\nIt is nothing but the select statement which fetches the required columns based on user parameters\\ncur.execute(\"select * FROM customers WHERE address = \\'Mountain 21\")'"
      ]
     },
     "execution_count": 6,
     "metadata": {},
     "output_type": "execute_result"
    }
   ],
   "source": [
    "\"\"\" DQL is  Data Query Language.\n",
    "It is nothing but the select statement which fetches the required columns based on user parameters\n",
    "cur.execute(\"select * FROM customers WHERE address = 'Mountain 21\")\"\"\""
   ]
  },
  {
   "cell_type": "markdown",
   "id": "cd01d7c9-5c0f-4918-8c2e-ea9210b2d57e",
   "metadata": {},
   "source": [
    "# QUESTION 5"
   ]
  },
  {
   "cell_type": "code",
   "execution_count": 7,
   "id": "33a9c474-0f20-4f09-9819-65f76d745cbc",
   "metadata": {},
   "outputs": [
    {
     "data": {
      "text/plain": [
       "\" primary key is a unique identifier for a table, for example roll number in an exam, which identifies a person uniquely and can't \\nbe duplicate for anyone. Foreign key is a column in a table which has its own table and there it resides as its own primary key.\\nfor example department no can be a foreign key in a college since multiple people can be in same department but department table will have \\na single mention of it\""
      ]
     },
     "execution_count": 7,
     "metadata": {},
     "output_type": "execute_result"
    }
   ],
   "source": [
    "\"\"\" primary key is a unique identifier for a table, for example roll number in an exam, which identifies a person uniquely and can't \n",
    "be duplicate for anyone. Foreign key is a column in a table which has its own table and there it resides as its own primary key.\n",
    "for example department no can be a foreign key in a college since multiple people can be in same department but department table will have \n",
    "a single mention of it\"\"\""
   ]
  },
  {
   "cell_type": "markdown",
   "id": "f2917a11-9390-45e4-8656-9ed01ea0ffd0",
   "metadata": {},
   "source": [
    "# QUESTION 6"
   ]
  },
  {
   "cell_type": "code",
   "execution_count": 13,
   "id": "a1aa3745-b267-45a3-9913-9ab7a410a328",
   "metadata": {},
   "outputs": [
    {
     "data": {
      "text/plain": [
       "'\\nimport mysql.connector\\n\\nmydb = mysql.connector.connect(\\n  host=\"localhost\",\\n  user=\"abc\",\\n  password=\"password\"\\n)\\n\\nprint(mydb)\\nCursor is an object that is used to make the connection for executing SQL queries. It acts as middleware between database connection\\nand SQL query. It is created after giving connection to SQL database.\\nExecute is used to execute sql command within the cursor object, if we want to select we give select, if we want to insert we give insert'"
      ]
     },
     "execution_count": 13,
     "metadata": {},
     "output_type": "execute_result"
    }
   ],
   "source": [
    "\"\"\"\n",
    "import mysql.connector\n",
    "\n",
    "mydb = mysql.connector.connect(\n",
    "  host=\"localhost\",\n",
    "  user=\"abc\",\n",
    "  password=\"password\"\n",
    ")\n",
    "\n",
    "print(mydb)\n",
    "Cursor is an object that is used to make the connection for executing SQL queries. It acts as middleware between database connection\n",
    "and SQL query. It is created after giving connection to SQL database.\n",
    "Execute is used to execute sql command within the cursor object, if we want to select we give select, if we want to insert we give insert\"\"\"\n",
    "\n"
   ]
  },
  {
   "cell_type": "markdown",
   "id": "86ecbae7-2eb1-4fb2-bcbc-55f8eed7cd2c",
   "metadata": {},
   "source": [
    "# QUESTION 7"
   ]
  },
  {
   "cell_type": "code",
   "execution_count": 14,
   "id": "be1a2115-aec0-4a7a-b2ac-9a6e2abd85b6",
   "metadata": {},
   "outputs": [
    {
     "data": {
      "text/plain": [
       "'Order of Execution\\nSQL queries adhere to a specific order when evaluating clauses, similar to how mathematical operations adhere to PEMDAS or BIDMAS.\\n\\nFrom the eyes of the user, queries begin from the first clause and end at the last clause. However, queries aren’t actually read from top to bottom when carried out.\\n\\nThe order in which the clauses in queries are executed is as follows:\\n\\n1. FROM/JOIN: The FROM and/or JOIN clauses are executed first to determine the data of interest.\\n\\n2. WHERE: The WHERE clause is executed to filter out records that do not meet the constraints.\\n\\n3. GROUP BY: The GROUP BY clause is executed to group the data based on the values in one or more columns.\\n\\n4. HAVING: The HAVING clause is executed to remove the created grouped records that don’t meet the constraints.\\n\\n5. SELECT: The SELECT clause is executed to derive all desired columns and expressions.\\n\\n6. ORDER BY: The ORDER BY clause is executed to sort the derived values in ascending or descending order.\\n\\n7. LIMIT/OFFSET: Finally, the LIMIT and/or OFFSET clauses are executed to keep or skip a specified number of rows.\\n\\n'"
      ]
     },
     "execution_count": 14,
     "metadata": {},
     "output_type": "execute_result"
    }
   ],
   "source": [
    "\"\"\"Order of Execution\n",
    "SQL queries adhere to a specific order when evaluating clauses, similar to how mathematical operations adhere to PEMDAS or BIDMAS.\n",
    "\n",
    "From the eyes of the user, queries begin from the first clause and end at the last clause. However, queries aren’t actually read from top to bottom when carried out.\n",
    "\n",
    "The order in which the clauses in queries are executed is as follows:\n",
    "\n",
    "1. FROM/JOIN: The FROM and/or JOIN clauses are executed first to determine the data of interest.\n",
    "\n",
    "2. WHERE: The WHERE clause is executed to filter out records that do not meet the constraints.\n",
    "\n",
    "3. GROUP BY: The GROUP BY clause is executed to group the data based on the values in one or more columns.\n",
    "\n",
    "4. HAVING: The HAVING clause is executed to remove the created grouped records that don’t meet the constraints.\n",
    "\n",
    "5. SELECT: The SELECT clause is executed to derive all desired columns and expressions.\n",
    "\n",
    "6. ORDER BY: The ORDER BY clause is executed to sort the derived values in ascending or descending order.\n",
    "\n",
    "7. LIMIT/OFFSET: Finally, the LIMIT and/or OFFSET clauses are executed to keep or skip a specified number of rows.\n",
    "\n",
    "\"\"\""
   ]
  },
  {
   "cell_type": "code",
   "execution_count": null,
   "id": "9e53c28c-55d4-4c0d-9299-6f8d597c8503",
   "metadata": {},
   "outputs": [],
   "source": []
  }
 ],
 "metadata": {
  "kernelspec": {
   "display_name": "Python 3 (ipykernel)",
   "language": "python",
   "name": "python3"
  },
  "language_info": {
   "codemirror_mode": {
    "name": "ipython",
    "version": 3
   },
   "file_extension": ".py",
   "mimetype": "text/x-python",
   "name": "python",
   "nbconvert_exporter": "python",
   "pygments_lexer": "ipython3",
   "version": "3.10.8"
  }
 },
 "nbformat": 4,
 "nbformat_minor": 5
}
