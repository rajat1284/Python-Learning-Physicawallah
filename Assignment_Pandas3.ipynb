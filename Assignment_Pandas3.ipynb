{
 "cells": [
  {
   "cell_type": "code",
   "execution_count": null,
   "id": "3f47b5eb-6791-49aa-89ab-8ae1ecb36539",
   "metadata": {},
   "outputs": [],
   "source": [
    "import pandas as pd\n",
    "import numpy as np"
   ]
  },
  {
   "cell_type": "code",
   "execution_count": null,
   "id": "88e66069-26c0-414d-acdf-90f5f42c6123",
   "metadata": {},
   "outputs": [],
   "source": [
    "course_name = ['Data Science','Machine Learning','Big Data','Data Engineer']\n",
    "duration = [2,3,6,4]\n",
    "df = pd.DataFrame(data={'course_name': course_name, 'duration':duration})"
   ]
  },
  {
   "cell_type": "code",
   "execution_count": null,
   "id": "064eb36d-ce4d-4841-9c3b-eecacbb06d70",
   "metadata": {},
   "outputs": [],
   "source": [
    "df\n"
   ]
  },
  {
   "cell_type": "markdown",
   "id": "387c0e5d-d708-4d09-95f8-371eec58bfd1",
   "metadata": {},
   "source": [
    "# QUESTION 1"
   ]
  },
  {
   "cell_type": "code",
   "execution_count": null,
   "id": "6f88b906-1891-4714-933b-6c675c61af2f",
   "metadata": {},
   "outputs": [],
   "source": [
    "df.iloc[1]"
   ]
  },
  {
   "cell_type": "markdown",
   "id": "3b24382b-aa22-4884-97f6-4df6cf5f5366",
   "metadata": {},
   "source": [
    "# QUESTION 2"
   ]
  },
  {
   "cell_type": "markdown",
   "id": "3db85277-d13b-481e-9136-dcbac2d67538",
   "metadata": {},
   "source": [
    "loc gets rows with particular labels whereas iloc gets rows at integer locations"
   ]
  },
  {
   "cell_type": "markdown",
   "id": "c753da40-8a0f-4bdc-a8cc-7f36c5615bbe",
   "metadata": {},
   "source": [
    "# QUESTION 3"
   ]
  },
  {
   "cell_type": "code",
   "execution_count": null,
   "id": "7e4d6a5e-1bfd-42e9-9be2-faaf2c275c87",
   "metadata": {},
   "outputs": [],
   "source": [
    "df1 = df.reindex(index = [3,0,1,2])"
   ]
  },
  {
   "cell_type": "code",
   "execution_count": null,
   "id": "226a88f1-e0d1-42fc-8d4c-7b3536ef68fa",
   "metadata": {},
   "outputs": [],
   "source": [
    "df1"
   ]
  },
  {
   "cell_type": "code",
   "execution_count": null,
   "id": "65ffef54-8619-4f40-9ca3-1d6c5ea724bc",
   "metadata": {},
   "outputs": [],
   "source": [
    "df1.loc[2]"
   ]
  },
  {
   "cell_type": "code",
   "execution_count": null,
   "id": "958dae89-a754-40c5-b929-5bf2094bdd61",
   "metadata": {},
   "outputs": [],
   "source": [
    "df1.iloc[2]"
   ]
  },
  {
   "cell_type": "markdown",
   "id": "8d7ce697-3d1f-44b9-bb65-31598cbe7f0e",
   "metadata": {},
   "source": [
    "Difference is because loc refers to index value whereas iloc searches for the position of the index."
   ]
  },
  {
   "cell_type": "markdown",
   "id": "6eaaca07-ad5b-479e-bbeb-74c9ecdbda3e",
   "metadata": {},
   "source": [
    "# QUESTION 4"
   ]
  },
  {
   "cell_type": "code",
   "execution_count": 145,
   "id": "2b3cbf87-bb1a-42de-b711-12f9be60f7ae",
   "metadata": {},
   "outputs": [],
   "source": [
    "columns = ['column_1','column_2','column_3','column_4','column_5','column_6']"
   ]
  },
  {
   "cell_type": "code",
   "execution_count": 146,
   "id": "69ca14e9-e6f0-4384-b215-b7691fca00a8",
   "metadata": {},
   "outputs": [],
   "source": [
    "indices = [1,2,3,4,5,6]"
   ]
  },
  {
   "cell_type": "code",
   "execution_count": 147,
   "id": "e2b20ebc-a961-4cf0-8fc9-24192c5d005d",
   "metadata": {},
   "outputs": [],
   "source": [
    "df1 = pd.DataFrame(np.random.rand(6,6),columns = columns,index = indices)"
   ]
  },
  {
   "cell_type": "code",
   "execution_count": null,
   "id": "6f5c259b-c4ae-4ca2-b6a3-188d7a19ca4a",
   "metadata": {},
   "outputs": [],
   "source": [
    "df1"
   ]
  },
  {
   "cell_type": "code",
   "execution_count": null,
   "id": "90a1ca77-56a4-472e-b36c-e904abef41e3",
   "metadata": {},
   "outputs": [],
   "source": [
    "df1.mean()"
   ]
  },
  {
   "cell_type": "code",
   "execution_count": null,
   "id": "d1ef2d79-a810-4d96-9881-5d06613b599f",
   "metadata": {},
   "outputs": [],
   "source": [
    "df1['column_2'].std()"
   ]
  },
  {
   "cell_type": "markdown",
   "id": "c5dc03df-cf77-4caa-b69b-8ece069f30d8",
   "metadata": {},
   "source": [
    "# QUESTION 5"
   ]
  },
  {
   "cell_type": "code",
   "execution_count": null,
   "id": "bcc8fa31-ba39-4bcc-99f7-784c36a8df51",
   "metadata": {},
   "outputs": [],
   "source": [
    "df1['column_2']"
   ]
  },
  {
   "cell_type": "code",
   "execution_count": null,
   "id": "cd73cbeb-f061-4b6a-8a3a-d00920a682ca",
   "metadata": {},
   "outputs": [],
   "source": [
    "df1['column_2'] = 'abc'"
   ]
  },
  {
   "cell_type": "code",
   "execution_count": null,
   "id": "b5e1e3ed-ff11-430b-8091-34eb8f523325",
   "metadata": {},
   "outputs": [],
   "source": [
    "df1"
   ]
  },
  {
   "cell_type": "markdown",
   "id": "2c5f181a-1c28-466f-bd81-53d23505cede",
   "metadata": {},
   "source": [
    "df1['column_2'].mean()"
   ]
  },
  {
   "cell_type": "markdown",
   "id": "9645d89f-1ce3-44cb-a201-f1332a47a9f8",
   "metadata": {},
   "source": [
    "Error is that it cannot take mean of a string value."
   ]
  },
  {
   "cell_type": "markdown",
   "id": "99896dce-a6f4-4452-8be4-7b417a01544f",
   "metadata": {},
   "source": [
    "# QUESTION 6"
   ]
  },
  {
   "cell_type": "markdown",
   "id": "f7d0607d-ae45-49fe-87df-743eb9b410c3",
   "metadata": {},
   "source": [
    "Windows functions in pandas are used to perform some sort of calculations across a set of rows\n",
    "that are interrelated with the current row."
   ]
  },
  {
   "cell_type": "markdown",
   "id": "85b0c9a3-bfb3-4c85-a822-5bef4fc94356",
   "metadata": {},
   "source": [
    "we can use group by, rolling, expanding and exponentially weighted window, ranking and first last values too"
   ]
  },
  {
   "cell_type": "markdown",
   "id": "943312a3-55af-4cb8-8b96-357db7a908f5",
   "metadata": {},
   "source": [
    "# QUESTION 7"
   ]
  },
  {
   "cell_type": "code",
   "execution_count": null,
   "id": "ae2a8e65-8a8d-4ad5-b4d9-1ee2ed705531",
   "metadata": {},
   "outputs": [],
   "source": [
    "from datetime import date,timedelta,datetime"
   ]
  },
  {
   "cell_type": "code",
   "execution_count": null,
   "id": "22243194-167e-4788-86e4-6879ad5853ab",
   "metadata": {},
   "outputs": [],
   "source": [
    "now = date.today()"
   ]
  },
  {
   "cell_type": "code",
   "execution_count": null,
   "id": "73f31e13-d52e-41d9-bba8-59c4e3306fa6",
   "metadata": {},
   "outputs": [],
   "source": [
    "now"
   ]
  },
  {
   "cell_type": "code",
   "execution_count": null,
   "id": "04b21c21-14de-4acc-b43f-4d12ba2a9a9c",
   "metadata": {},
   "outputs": [],
   "source": [
    "now.strftime(\"%m-%Y\")"
   ]
  },
  {
   "cell_type": "markdown",
   "id": "914f7e2c-8cd9-4756-847c-cbe817fc223a",
   "metadata": {},
   "source": [
    "# QUESTION 8"
   ]
  },
  {
   "cell_type": "code",
   "execution_count": null,
   "id": "0978af28-a0e8-4a02-a605-882a180fe993",
   "metadata": {},
   "outputs": [],
   "source": [
    "date1 = input(\"Enter the date1\")\n",
    "date2 = input(\"Enter the date2\")"
   ]
  },
  {
   "cell_type": "code",
   "execution_count": null,
   "id": "bd0f0c4a-013a-4cf5-959c-dfcdadd68ad5",
   "metadata": {},
   "outputs": [],
   "source": [
    "date1 = datetime.strptime(date1,\"%Y-%m-%d\")\n",
    "date2 = datetime.strptime(date2,\"%Y-%m-%d\")"
   ]
  },
  {
   "cell_type": "code",
   "execution_count": null,
   "id": "9a0c6e00-43b1-4c69-84c0-1a9782f125e9",
   "metadata": {},
   "outputs": [],
   "source": [
    "date1 = date1 + timedelta(hours = 0, minutes = 0)\n",
    "date2 = date2 + timedelta(hours = 0, minutes = 0)"
   ]
  },
  {
   "cell_type": "code",
   "execution_count": null,
   "id": "216b82bc-9a8c-4995-b33b-cb49888d252d",
   "metadata": {},
   "outputs": [],
   "source": [
    "delta = date2 - date1"
   ]
  },
  {
   "cell_type": "code",
   "execution_count": null,
   "id": "5d694ea8-8c98-431a-b6ba-54fd12e79696",
   "metadata": {},
   "outputs": [],
   "source": [
    "print(f'Difference is {delta.days} days 0 hours 0 minutes')"
   ]
  },
  {
   "cell_type": "markdown",
   "id": "effc2059-b9f7-46b7-8ad3-f5cdcbff8287",
   "metadata": {},
   "source": [
    "# QUESTION 9"
   ]
  },
  {
   "cell_type": "code",
   "execution_count": null,
   "id": "9e84be21-53c6-457e-a016-a49a2d659f4e",
   "metadata": {},
   "outputs": [],
   "source": [
    "fp = input(\"Enter the file path\")\n",
    "cn = input(\"Enter the col name\")"
   ]
  },
  {
   "cell_type": "code",
   "execution_count": null,
   "id": "b902f1ff-1b54-4564-aa37-049dc01bca70",
   "metadata": {},
   "outputs": [],
   "source": [
    "df9 = pd.read_csv(fp)"
   ]
  },
  {
   "cell_type": "code",
   "execution_count": null,
   "id": "ba0871c5-5d9b-4fa4-b689-ae702ba662ed",
   "metadata": {},
   "outputs": [],
   "source": [
    "df9[cn] = df9[cn].astype('category')"
   ]
  },
  {
   "cell_type": "code",
   "execution_count": null,
   "id": "7145c648-5b05-4d8a-830b-b7e253c7fab0",
   "metadata": {},
   "outputs": [],
   "source": [
    "df9.dtypes"
   ]
  },
  {
   "cell_type": "code",
   "execution_count": null,
   "id": "1f994a98-9942-4d3b-b180-319cf5aa0665",
   "metadata": {},
   "outputs": [],
   "source": [
    "df9[cn] = df9[cn].cat.set_categories([cn],ordered=True)"
   ]
  },
  {
   "cell_type": "code",
   "execution_count": null,
   "id": "94240022-08f4-4931-82ac-9b401bb6ad83",
   "metadata": {},
   "outputs": [],
   "source": [
    "print(df9)"
   ]
  },
  {
   "cell_type": "markdown",
   "id": "ace9268f-534c-4320-a32f-e5272331a7ea",
   "metadata": {},
   "source": [
    "# QUESTION 10"
   ]
  },
  {
   "cell_type": "code",
   "execution_count": 136,
   "id": "6fc191a4-8b3c-4c86-8c6b-c3140bc59060",
   "metadata": {},
   "outputs": [],
   "source": [
    "q10 = pd.read_csv(fp)"
   ]
  },
  {
   "cell_type": "code",
   "execution_count": 140,
   "id": "42a82091-d9dc-4df1-a1a0-fc834544925e",
   "metadata": {},
   "outputs": [
    {
     "data": {
      "text/plain": [
       "id                           int64\n",
       "location_id                  int64\n",
       "program_id                 float64\n",
       "accepted_payments           object\n",
       "alternate_name              object\n",
       "application_process         object\n",
       "audience                    object\n",
       "description                 object\n",
       "eligibility                 object\n",
       "email                       object\n",
       "fees                        object\n",
       "funding_sources             object\n",
       "interpretation_services     object\n",
       "keywords                    object\n",
       "languages                   object\n",
       "name                        object\n",
       "required_documents          object\n",
       "service_areas               object\n",
       "status                      object\n",
       "wait_time                   object\n",
       "website                     object\n",
       "taxonomy_ids                object\n",
       "dtype: object"
      ]
     },
     "execution_count": 140,
     "metadata": {},
     "output_type": "execute_result"
    }
   ],
   "source": [
    "q10.dtypes"
   ]
  },
  {
   "cell_type": "code",
   "execution_count": 143,
   "id": "c0688d51-4b25-4103-a117-4a7cfcd28caf",
   "metadata": {},
   "outputs": [
    {
     "data": {
      "text/plain": [
       "<AxesSubplot:xlabel='location_id'>"
      ]
     },
     "execution_count": 143,
     "metadata": {},
     "output_type": "execute_result"
    },
    {
     "data": {
      "image/png": "[encoded data removed]",
      "text/plain": [
       "<Figure size 640x480 with 1 Axes>"
      ]
     },
     "metadata": {},
     "output_type": "display_data"
    }
   ],
   "source": [
    "q10.plot.bar(x='location_id',y = 'program_id' ,stacked = True)"
   ]
  },
  {
   "cell_type": "markdown",
   "id": "b8b8fbbc-6fdc-47fa-b10a-dd46d736378c",
   "metadata": {},
   "source": [
    "# QUESTION 11"
   ]
  },
  {
   "cell_type": "code",
   "execution_count": 148,
   "id": "ea5f9b99-22bf-4031-b704-6ca90f0b211e",
   "metadata": {},
   "outputs": [
    {
     "data": {
      "text/plain": [
       "column_1    0.489157\n",
       "column_2    0.321576\n",
       "column_3    0.329574\n",
       "column_4    0.511538\n",
       "column_5    0.581315\n",
       "column_6    0.535426\n",
       "dtype: float64"
      ]
     },
     "execution_count": 148,
     "metadata": {},
     "output_type": "execute_result"
    }
   ],
   "source": [
    "df1.mean()"
   ]
  },
  {
   "cell_type": "code",
   "execution_count": 154,
   "id": "891a4ed5-74c0-4efc-b1b6-852d539feb23",
   "metadata": {},
   "outputs": [],
   "source": [
    "df11 = pd.DataFrame()"
   ]
  },
  {
   "cell_type": "code",
   "execution_count": 155,
   "id": "3bfbcfd2-499e-445c-ba7e-cd834aa7f24a",
   "metadata": {},
   "outputs": [
    {
     "data": {
      "text/html": [
       "<div>\n",
       "<style scoped>\n",
       "    .dataframe tbody tr th:only-of-type {\n",
       "        vertical-align: middle;\n",
       "    }\n",
       "\n",
       "    .dataframe tbody tr th {\n",
       "        vertical-align: top;\n",
       "    }\n",
       "\n",
       "    .dataframe thead th {\n",
       "        text-align: right;\n",
       "    }\n",
       "</style>\n",
       "<table border=\"1\" class=\"dataframe\">\n",
       "  <thead>\n",
       "    <tr style=\"text-align: right;\">\n",
       "      <th></th>\n",
       "    </tr>\n",
       "  </thead>\n",
       "  <tbody>\n",
       "  </tbody>\n",
       "</table>\n",
       "</div>"
      ],
      "text/plain": [
       "Empty DataFrame\n",
       "Columns: []\n",
       "Index: []"
      ]
     },
     "execution_count": 155,
     "metadata": {},
     "output_type": "execute_result"
    }
   ],
   "source": [
    "df11"
   ]
  },
  {
   "cell_type": "code",
   "execution_count": 159,
   "id": "5bd66962-1d71-4dbd-8b12-a9000f14d00d",
   "metadata": {},
   "outputs": [],
   "source": [
    "df11['mean'] = df1['column_2'].mean()\n",
    "df11['median'] = df1['column_2'].median()\n",
    "df11['mode'] = df1['column_2'].mode()"
   ]
  },
  {
   "cell_type": "code",
   "execution_count": null,
   "id": "2174b660-2e5a-4c82-ba57-331135bea8ca",
   "metadata": {},
   "outputs": [],
   "source": []
  }
 ],
 "metadata": {
  "kernelspec": {
   "display_name": "Python 3 (ipykernel)",
   "language": "python",
   "name": "python3"
  },
  "language_info": {
   "codemirror_mode": {
    "name": "ipython",
    "version": 3
   },
   "file_extension": ".py",
   "mimetype": "text/x-python",
   "name": "python",
   "nbconvert_exporter": "python",
   "pygments_lexer": "ipython3",
   "version": "3.9.13"
  }
 },
 "nbformat": 4,
 "nbformat_minor": 5
}
