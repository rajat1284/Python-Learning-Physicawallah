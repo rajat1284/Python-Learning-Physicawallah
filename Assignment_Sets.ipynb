{
 "cells": [
  {
   "cell_type": "markdown",
   "id": "96ef424d-c032-4189-ab2f-a7770e1f5ef5",
   "metadata": {},
   "source": [
    "# QUESTION 1"
   ]
  },
  {
   "cell_type": "code",
   "execution_count": 1,
   "id": "f609db88-761d-484d-8186-510d8c2b09ee",
   "metadata": {},
   "outputs": [],
   "source": [
    "# Tuple is immutable. They are indexed and ordered"
   ]
  },
  {
   "cell_type": "markdown",
   "id": "71d9ea21-a318-4d6e-872e-6e6f7086eb8b",
   "metadata": {},
   "source": [
    "# Question 2"
   ]
  },
  {
   "cell_type": "code",
   "execution_count": 14,
   "id": "e16cfb85-2a81-4bd3-9cb3-123782bd9c61",
   "metadata": {},
   "outputs": [
    {
     "data": {
      "text/plain": [
       "0"
      ]
     },
     "execution_count": 14,
     "metadata": {},
     "output_type": "execute_result"
    }
   ],
   "source": [
    "#They are indexed and ordered\n",
    "tuple = (\"a\",[1,2])\n",
    "tuple.count(\"a\")\n",
    "tuple.index(\"a\")"
   ]
  },
  {
   "cell_type": "markdown",
   "id": "8fdb935e-cc0c-45b2-b797-2fc7d3e30363",
   "metadata": {},
   "source": [
    "# QUESTION 3"
   ]
  },
  {
   "cell_type": "code",
   "execution_count": 30,
   "id": "194f6481-1e5c-4d93-8459-d8e96f23ebca",
   "metadata": {},
   "outputs": [
    {
     "data": {
      "text/plain": [
       "set"
      ]
     },
     "execution_count": 30,
     "metadata": {},
     "output_type": "execute_result"
    }
   ],
   "source": [
    "# Sets do not allow duplicate items. \n",
    "LIST = [1,1,1,2,1,3,1,4,2,1,4,3,1,2,1,2,4,4,4,2,1,3,2,1]\n",
    "LIST2 = {3,4,5}\n",
    "LIST1 = set(LIST)\n",
    "type(LIST2)"
   ]
  },
  {
   "cell_type": "markdown",
   "id": "0a687beb-da79-41d5-937c-ffa217b64064",
   "metadata": {},
   "source": [
    "# QUESTION 4"
   ]
  },
  {
   "cell_type": "code",
   "execution_count": 39,
   "id": "3c2e87a7-6226-4472-aa2d-d222539da502",
   "metadata": {},
   "outputs": [
    {
     "name": "stdout",
     "output_type": "stream",
     "text": [
      "None\n"
     ]
    }
   ],
   "source": [
    "A = LIST2.update(LIST1)\n",
    "print(A)"
   ]
  },
  {
   "cell_type": "code",
   "execution_count": 43,
   "id": "f677b3c5-0a89-44a2-9b0b-08fe2e414464",
   "metadata": {},
   "outputs": [
    {
     "name": "stdout",
     "output_type": "stream",
     "text": [
      "{1, 2, 3, 4, 5}\n"
     ]
    },
    {
     "data": {
      "text/plain": [
       "{1, 2, 3, 4, 5}"
      ]
     },
     "execution_count": 43,
     "metadata": {},
     "output_type": "execute_result"
    }
   ],
   "source": [
    "B = LIST1.union(LIST2)\n",
    "print(B)\n",
    "LIST2"
   ]
  },
  {
   "cell_type": "code",
   "execution_count": 44,
   "id": "68293140-e1fc-4456-9d3e-ce5fe390daed",
   "metadata": {},
   "outputs": [],
   "source": [
    "# You can perform the union operation in Python both with set. update() and set. union() . The first one adds all missing elements to the set on which it is called and returns None , while the latter creates and returns a new set."
   ]
  },
  {
   "cell_type": "markdown",
   "id": "d6e942c8-343a-4923-b414-a29a241282b8",
   "metadata": {},
   "source": [
    "# QUESTION 5"
   ]
  },
  {
   "cell_type": "code",
   "execution_count": 45,
   "id": "ed41880a-7ecd-4af2-a2a0-121fc4bb84a4",
   "metadata": {},
   "outputs": [],
   "source": [
    "# Dictionaries are ordered. Dictionaries are used to store data values in key:value pairs. A dictionary is a collection which is ordered*, changeable and do not allow duplicates."
   ]
  },
  {
   "cell_type": "code",
   "execution_count": 46,
   "id": "b6ef9207-5f4e-43e4-9633-52455ac4fade",
   "metadata": {},
   "outputs": [
    {
     "data": {
      "text/plain": [
       "dict"
      ]
     },
     "execution_count": 46,
     "metadata": {},
     "output_type": "execute_result"
    }
   ],
   "source": [
    "dict = {\"a\":1,\"b\":2}\n",
    "type(dict)"
   ]
  },
  {
   "cell_type": "markdown",
   "id": "cd462176-c614-4475-b172-6dcddb67e654",
   "metadata": {},
   "source": [
    "# QUESTION 6"
   ]
  },
  {
   "cell_type": "code",
   "execution_count": 50,
   "id": "52827049-b479-4691-bee2-5ae95fa61ef7",
   "metadata": {},
   "outputs": [
    {
     "data": {
      "text/plain": [
       "{'c': 4, 'd': {'a': 1, 'b': 2}}"
      ]
     },
     "execution_count": 50,
     "metadata": {},
     "output_type": "execute_result"
    }
   ],
   "source": [
    "# Yes, we can create a nested dictionary.\n",
    "\n",
    "dict1 = {\"c\":4,\"d\":dict}\n",
    "dict1"
   ]
  },
  {
   "cell_type": "markdown",
   "id": "326eb159-9f12-4412-b9ef-a91da9f3109c",
   "metadata": {},
   "source": [
    "# QUESTION 7"
   ]
  },
  {
   "cell_type": "code",
   "execution_count": 66,
   "id": "d3d0a785-de5d-4aa1-bbb0-6e28b25cf552",
   "metadata": {},
   "outputs": [],
   "source": [
    "dict1 = {'language' : 'Python', 'course': 'Data Science Masters'}"
   ]
  },
  {
   "cell_type": "code",
   "execution_count": 67,
   "id": "d8a18386-2100-460f-b67c-6d2e3ca9811f",
   "metadata": {},
   "outputs": [
    {
     "data": {
      "text/plain": [
       "{'language': 'Python', 'course': 'Data Science Masters'}"
      ]
     },
     "execution_count": 67,
     "metadata": {},
     "output_type": "execute_result"
    }
   ],
   "source": [
    "dict1"
   ]
  },
  {
   "cell_type": "code",
   "execution_count": 68,
   "id": "a0ce0163-e3ac-4feb-bb94-d67d7c9d9e18",
   "metadata": {},
   "outputs": [
    {
     "data": {
      "text/plain": [
       "['Python', 'Machine Learning', 'Deep Learning']"
      ]
     },
     "execution_count": 68,
     "metadata": {},
     "output_type": "execute_result"
    }
   ],
   "source": [
    "dict1.setdefault('topics',['Python', 'Machine Learning', 'Deep Learning'])"
   ]
  },
  {
   "cell_type": "code",
   "execution_count": 69,
   "id": "b8fd2a03-12ab-4b14-b5cc-fd5e223c3cf6",
   "metadata": {},
   "outputs": [
    {
     "data": {
      "text/plain": [
       "{'language': 'Python',\n",
       " 'course': 'Data Science Masters',\n",
       " 'topics': ['Python', 'Machine Learning', 'Deep Learning']}"
      ]
     },
     "execution_count": 69,
     "metadata": {},
     "output_type": "execute_result"
    }
   ],
   "source": [
    "dict1"
   ]
  },
  {
   "cell_type": "markdown",
   "id": "06151c3f-a65e-4f3c-99b7-b17834162543",
   "metadata": {},
   "source": [
    "# QUESTION 8"
   ]
  },
  {
   "cell_type": "code",
   "execution_count": 70,
   "id": "c4dcc488-829c-442c-bb7b-c68d1cfb16c4",
   "metadata": {},
   "outputs": [],
   "source": [
    "dict1 = {'Sport': 'Cricket' , 'Teams': ['India', 'Australia', 'England', 'South Africa', 'Sri Lanka', 'New Zealand']}"
   ]
  },
  {
   "cell_type": "code",
   "execution_count": 71,
   "id": "4849ee8f-cb2e-4aab-9da5-fba73635c77e",
   "metadata": {},
   "outputs": [
    {
     "data": {
      "text/plain": [
       "dict_keys(['Sport', 'Teams'])"
      ]
     },
     "execution_count": 71,
     "metadata": {},
     "output_type": "execute_result"
    }
   ],
   "source": [
    "# The main view objects of dictionary in python are keys, values and items.\n",
    "dict1.keys()"
   ]
  },
  {
   "cell_type": "code",
   "execution_count": 72,
   "id": "b0fed98c-f98f-4d61-af98-c84fc2308a99",
   "metadata": {},
   "outputs": [
    {
     "data": {
      "text/plain": [
       "dict_items([('Sport', 'Cricket'), ('Teams', ['India', 'Australia', 'England', 'South Africa', 'Sri Lanka', 'New Zealand'])])"
      ]
     },
     "execution_count": 72,
     "metadata": {},
     "output_type": "execute_result"
    }
   ],
   "source": [
    "dict1.items()"
   ]
  },
  {
   "cell_type": "code",
   "execution_count": 73,
   "id": "c357de0e-905f-4962-9322-8e98817290bc",
   "metadata": {},
   "outputs": [
    {
     "data": {
      "text/plain": [
       "dict_values(['Cricket', ['India', 'Australia', 'England', 'South Africa', 'Sri Lanka', 'New Zealand']])"
      ]
     },
     "execution_count": 73,
     "metadata": {},
     "output_type": "execute_result"
    }
   ],
   "source": [
    "dict1.values()"
   ]
  },
  {
   "cell_type": "code",
   "execution_count": null,
   "id": "89e0563a-d128-4443-9352-8751bbc3cb5d",
   "metadata": {},
   "outputs": [],
   "source": []
  }
 ],
 "metadata": {
  "kernelspec": {
   "display_name": "Python 3 (ipykernel)",
   "language": "python",
   "name": "python3"
  },
  "language_info": {
   "codemirror_mode": {
    "name": "ipython",
    "version": 3
   },
   "file_extension": ".py",
   "mimetype": "text/x-python",
   "name": "python",
   "nbconvert_exporter": "python",
   "pygments_lexer": "ipython3",
   "version": "3.10.8"
  }
 },
 "nbformat": 4,
 "nbformat_minor": 5
}
