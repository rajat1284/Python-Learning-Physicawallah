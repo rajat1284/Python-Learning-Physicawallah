{
 "cells": [
  {
   "cell_type": "markdown",
   "id": "21de3856-2624-4a64-a866-0622485de4a2",
   "metadata": {},
   "source": [
    "# QUESTION 1"
   ]
  },
  {
   "cell_type": "markdown",
   "id": "caeb5a15-8392-4340-b263-b08f7e5f4d63",
   "metadata": {},
   "source": [
    "Calculate the 95% confidence interval for a sample of data with a mean of 50 and a standard deviation\n",
    "of 5 using Python. Interpret the results."
   ]
  },
  {
   "cell_type": "markdown",
   "id": "2e1925c5-94f4-4704-a1d8-de14b44c5b1c",
   "metadata": {},
   "source": [
    "95% C.I is 2 deviations to the left and right which is [40,60]"
   ]
  },
  {
   "cell_type": "markdown",
   "id": "95e6d587-d323-446d-9e04-86fff1ae06aa",
   "metadata": {},
   "source": [
    "# QUESTION 2"
   ]
  },
  {
   "cell_type": "markdown",
   "id": "ab3e4fb3-93fe-46b2-9950-089250d21043",
   "metadata": {},
   "source": [
    "Conduct a chi-square goodness of fit test to determine if the distribution of colors of M&Ms in a bag\n",
    "matches the expected distribution of 20% blue, 20% orange, 20% green, 10% yellow, 10% red, and 20%\n",
    "brown. Use Python to perform the test with a significance level of 0.05."
   ]
  },
  {
   "cell_type": "markdown",
   "id": "26d9d066-ab34-47dc-80df-e6a2931de6a7",
   "metadata": {},
   "source": [
    "We select a random sample of 100 plain M&M candies to test these hypotheses. If the sample has the distribution of color stated in the null hypothesis, then we expect 20 as blue, 20 as orange, 20 as green, 10 as yellow, 10 as red and 20 as brown"
   ]
  },
  {
   "cell_type": "markdown",
   "id": "b9f2df3c-ec7f-4cad-9142-a8e1082779e3",
   "metadata": {},
   "source": [
    "Let's assume the observed is 10 for blue, 10 for orange, 15 for green, 20 yellow, 20 red, 25 for brown"
   ]
  },
  {
   "cell_type": "code",
   "execution_count": 2,
   "id": "eaae0f5c-6851-4363-b228-793ef06eaba2",
   "metadata": {},
   "outputs": [],
   "source": [
    "import scipy.stats as stat\n",
    "import numpy as np"
   ]
  },
  {
   "cell_type": "code",
   "execution_count": 3,
   "id": "eaf5472c-8680-468b-af77-711f90463967",
   "metadata": {},
   "outputs": [],
   "source": [
    "expected_data=[20,20,20,10,10,20]\n",
    "observed_data=[10,10,15,20,20,25]"
   ]
  },
  {
   "cell_type": "code",
   "execution_count": 4,
   "id": "7c66f04f-b404-476d-8ee5-a9009794480c",
   "metadata": {},
   "outputs": [],
   "source": [
    "chisquare_test_statistics,p_value=stat.chisquare(observed_data,expected_data)"
   ]
  },
  {
   "cell_type": "code",
   "execution_count": 5,
   "id": "2a17769c-8815-4acd-ac39-360c458dee6f",
   "metadata": {},
   "outputs": [],
   "source": [
    "significance=0.05\n",
    "dof=len(observed_data)-1\n",
    "critical_value=stat.chi2.ppf(1-significance,dof)"
   ]
  },
  {
   "cell_type": "code",
   "execution_count": 9,
   "id": "de45ab6f-0a43-48ce-96ab-264a05d91b73",
   "metadata": {},
   "outputs": [
    {
     "data": {
      "text/plain": [
       "11.070497693516351"
      ]
     },
     "execution_count": 9,
     "metadata": {},
     "output_type": "execute_result"
    }
   ],
   "source": [
    "critical_value"
   ]
  },
  {
   "cell_type": "code",
   "execution_count": 6,
   "id": "e537d0bb-1467-468b-b91c-06247c118f8b",
   "metadata": {},
   "outputs": [
    {
     "name": "stdout",
     "output_type": "stream",
     "text": [
      "Reject the null hypothesis\n"
     ]
    }
   ],
   "source": [
    "if chisquare_test_statistics > critical_value:\n",
    "    print(\"Reject the null hypothesis\")\n",
    "else:\n",
    "    print(\"Accept the null hypothesis\")"
   ]
  },
  {
   "cell_type": "code",
   "execution_count": 7,
   "id": "3418e87d-271c-4230-b24e-24bec8dd1ebd",
   "metadata": {},
   "outputs": [
    {
     "name": "stdout",
     "output_type": "stream",
     "text": [
      "32.5\n",
      "4.729328015321194e-06\n"
     ]
    },
    {
     "data": {
      "text/plain": [
       "(None, None)"
      ]
     },
     "execution_count": 7,
     "metadata": {},
     "output_type": "execute_result"
    }
   ],
   "source": [
    "print(chisquare_test_statistics),print(p_value)"
   ]
  },
  {
   "cell_type": "markdown",
   "id": "ecf64028-5bee-4efc-a3a5-d5ed27453ba2",
   "metadata": {},
   "source": [
    "# QUESTION 3"
   ]
  },
  {
   "cell_type": "code",
   "execution_count": 26,
   "id": "47a5aacb-1503-4044-b0e9-430f33ca6b3c",
   "metadata": {},
   "outputs": [],
   "source": [
    "data1=[20,10,15]\n",
    "data2=[15,25,5]"
   ]
  },
  {
   "cell_type": "code",
   "execution_count": 27,
   "id": "47715bf6-f9f7-4825-ad85-d9f10cf1a148",
   "metadata": {},
   "outputs": [],
   "source": [
    "chisquare_test_statistics,p_value=stat.chisquare(data1,data2)"
   ]
  },
  {
   "cell_type": "code",
   "execution_count": 28,
   "id": "ec298cc9-8e9c-4e1f-b99d-68ba8485f68b",
   "metadata": {},
   "outputs": [
    {
     "name": "stdout",
     "output_type": "stream",
     "text": [
      "30.666666666666664\n",
      "2.19188590616737e-07\n"
     ]
    },
    {
     "data": {
      "text/plain": [
       "(None, None)"
      ]
     },
     "execution_count": 28,
     "metadata": {},
     "output_type": "execute_result"
    }
   ],
   "source": [
    "print(chisquare_test_statistics),print(p_value)"
   ]
  },
  {
   "cell_type": "markdown",
   "id": "a669b3c6-7352-4e28-a001-803d3614ea1c",
   "metadata": {},
   "source": [
    "# QUESTION 4"
   ]
  },
  {
   "cell_type": "markdown",
   "id": "15456945-539c-4f21-abbf-bf8f39a7d439",
   "metadata": {},
   "source": [
    "A study of the prevalence of smoking in a population of 500 individuals found that 60 individuals\n",
    "smoked. Use Python to calculate the 95% confidence interval for the true proportion of individuals in the\n",
    "population who smoke."
   ]
  },
  {
   "cell_type": "code",
   "execution_count": 32,
   "id": "f3558dfb-db03-43c2-8cbd-4768c7c2775f",
   "metadata": {},
   "outputs": [],
   "source": [
    "60/500\n",
    "import math"
   ]
  },
  {
   "cell_type": "code",
   "execution_count": 35,
   "id": "9642fda3-9e7a-41b0-9d79-dac13c9802ac",
   "metadata": {},
   "outputs": [
    {
     "data": {
      "text/plain": [
       "0.014532721699667961"
      ]
     },
     "execution_count": 35,
     "metadata": {},
     "output_type": "execute_result"
    }
   ],
   "source": [
    "math.sqrt(0.12*0.88/500)\n"
   ]
  },
  {
   "cell_type": "code",
   "execution_count": 36,
   "id": "534c912a-4344-4a90-b315-618d8499997c",
   "metadata": {},
   "outputs": [
    {
     "data": {
      "text/plain": [
       "0.028484092000000003"
      ]
     },
     "execution_count": 36,
     "metadata": {},
     "output_type": "execute_result"
    }
   ],
   "source": [
    "1.96 * 0.0145327 "
   ]
  },
  {
   "cell_type": "code",
   "execution_count": 39,
   "id": "1f9eb575-3241-4ed7-aa8e-efc10c966cdc",
   "metadata": {},
   "outputs": [],
   "source": [
    "CI = [59.716, 60.0284]"
   ]
  },
  {
   "cell_type": "markdown",
   "id": "5ca644f2-76f8-45e8-bf0e-f286ece8707b",
   "metadata": {},
   "source": [
    "# QUESTION 5"
   ]
  },
  {
   "cell_type": "markdown",
   "id": "45adc05c-f7a4-46fe-ab6b-53261ba437db",
   "metadata": {},
   "source": [
    "Calculate the 90% confidence interval for a sample of data with a mean of 75 and a standard deviation\n",
    "of 12 using Python. Interpret the results."
   ]
  },
  {
   "cell_type": "code",
   "execution_count": 52,
   "id": "14a55ce2-d4ab-4628-9537-d2e1e0977d4a",
   "metadata": {},
   "outputs": [],
   "source": [
    "import numpy as np, scipy.stats as st\n",
    "mean = 75\n",
    "sd = 12"
   ]
  },
  {
   "cell_type": "code",
   "execution_count": 55,
   "id": "57b4b3d3-d0be-4682-83b9-28a8911fa8cf",
   "metadata": {},
   "outputs": [],
   "source": [
    "ci_lower = mean - 1.645 * sd\n",
    "ci_upper = mean + 1.645 * sd\n",
    "CI = [ci_lower,ci_upper]"
   ]
  },
  {
   "cell_type": "code",
   "execution_count": 56,
   "id": "7755be42-6c34-48e6-afcf-bc21cc92d3ff",
   "metadata": {},
   "outputs": [
    {
     "data": {
      "text/plain": [
       "[55.26, 94.74000000000001]"
      ]
     },
     "execution_count": 56,
     "metadata": {},
     "output_type": "execute_result"
    }
   ],
   "source": [
    "CI"
   ]
  },
  {
   "cell_type": "markdown",
   "id": "6c9bdf1e-f555-432c-a80e-aaab9dfbf5be",
   "metadata": {},
   "source": [
    "# QUESTION 6"
   ]
  },
  {
   "cell_type": "markdown",
   "id": "f80df523-9d9f-4360-b8ad-7a38b3f289a1",
   "metadata": {},
   "source": [
    "Use Python to plot the chi-square distribution with 10 degrees of freedom. Label the axes and shade the\n",
    "area corresponding to a chi-square statistic of 15."
   ]
  },
  {
   "cell_type": "code",
   "execution_count": 70,
   "id": "b50edb28-bf5c-4178-b4a3-6d752cfab2a8",
   "metadata": {},
   "outputs": [
    {
     "data": {
      "text/plain": [
       "[<matplotlib.lines.Line2D at 0x7f767bd8a9e0>]"
      ]
     },
     "execution_count": 70,
     "metadata": {},
     "output_type": "execute_result"
    },
    {
     "data": {
      "image/png": "[encoded data removed]",
      "text/plain": [
       "<Figure size 640x480 with 1 Axes>"
      ]
     },
     "metadata": {},
     "output_type": "display_data"
    }
   ],
   "source": [
    "import numpy as np\n",
    "import matplotlib.pyplot as plt\n",
    "from scipy.stats import chi2\n",
    "\n",
    "#x-axis ranges from 0 to 20 with .001 steps\n",
    "\n",
    "#plot Chi-square distribution with 10 degrees of freedom\n",
    "plt.plot(x, chi2.pdf(x, df=10), label='df:10',color=\"red\")"
   ]
  },
  {
   "cell_type": "markdown",
   "id": "4f35bf00-390f-42b9-a40c-7c7488528bac",
   "metadata": {},
   "source": [
    "# QUESTION 7"
   ]
  },
  {
   "cell_type": "markdown",
   "id": "5414380e-d2b5-4550-a2eb-445fe19662b9",
   "metadata": {},
   "source": [
    "A random sample of 1000 people was asked if they preferred Coke or Pepsi. Of the sample, 520\n",
    "preferred Coke. Calculate a 99% confidence interval for the true proportion of people in the population who\n",
    "prefer Coke."
   ]
  },
  {
   "cell_type": "code",
   "execution_count": 71,
   "id": "4094a683-d506-4bb0-b537-1d194a5c351e",
   "metadata": {},
   "outputs": [],
   "source": [
    "coke = 520\n",
    "pepsi = 480"
   ]
  },
  {
   "cell_type": "code",
   "execution_count": 72,
   "id": "447ba1d7-53a9-4cdc-99f2-102ff87252dd",
   "metadata": {},
   "outputs": [
    {
     "data": {
      "text/plain": [
       "15.798734126505199"
      ]
     },
     "execution_count": 72,
     "metadata": {},
     "output_type": "execute_result"
    }
   ],
   "source": [
    "math.sqrt(520 * 480/1000)"
   ]
  },
  {
   "cell_type": "code",
   "execution_count": 73,
   "id": "5375876e-ff3e-4b0f-9e01-37365b5fb26a",
   "metadata": {},
   "outputs": [
    {
     "data": {
      "text/plain": [
       "40.6974512"
      ]
     },
     "execution_count": 73,
     "metadata": {},
     "output_type": "execute_result"
    }
   ],
   "source": [
    "2.576 * 15.7987"
   ]
  },
  {
   "cell_type": "code",
   "execution_count": 74,
   "id": "50af9e31-3d68-4626-bf5b-2c92b4554d4f",
   "metadata": {},
   "outputs": [],
   "source": [
    "ci = 479.31,560.697"
   ]
  },
  {
   "cell_type": "markdown",
   "id": "58c472a8-3069-49fb-8d59-d04c726a660b",
   "metadata": {},
   "source": [
    "# QUESTION 8"
   ]
  },
  {
   "cell_type": "markdown",
   "id": "67fa2e17-28e0-4d47-9abe-3623c388e585",
   "metadata": {},
   "source": [
    "A researcher hypothesizes that a coin is biased towards tails. They flip the coin 100 times and observe\n",
    "45 tails. Conduct a chi-square goodness of fit test to determine if the observed frequencies match the\n",
    "expected frequencies of a fair coin. Use a significance level of 0.05."
   ]
  },
  {
   "cell_type": "markdown",
   "id": "2d23777f-c885-450d-adf4-db1e36f16942",
   "metadata": {},
   "source": [
    "Lets say biased is 51"
   ]
  },
  {
   "cell_type": "code",
   "execution_count": 82,
   "id": "6f2b33c7-b052-4700-a584-d87db505f085",
   "metadata": {},
   "outputs": [],
   "source": [
    "expected_data=[51,49]\n",
    "observed_data=[45,55]"
   ]
  },
  {
   "cell_type": "markdown",
   "id": "73352231-dbd0-4f0e-a284-eebe392afbcc",
   "metadata": {},
   "source": [
    "chisquare_test_statistics,p_value=stat.chisquare(observed_data,expected_data)"
   ]
  },
  {
   "cell_type": "code",
   "execution_count": 84,
   "id": "1526c6d1-64d7-432b-9952-e6e96a2b2a6e",
   "metadata": {},
   "outputs": [],
   "source": [
    "significance=0.05\n",
    "dof=len(observed_data)-1\n",
    "critical_value=stat.chi2.ppf(1-significance,dof)"
   ]
  },
  {
   "cell_type": "code",
   "execution_count": 85,
   "id": "93ed224e-6f51-4621-8c30-2d0d7bf71190",
   "metadata": {},
   "outputs": [
    {
     "name": "stdout",
     "output_type": "stream",
     "text": [
      "Accept the null hypothesis\n"
     ]
    }
   ],
   "source": [
    "if chisquare_test_statistics > critical_value:\n",
    "    print(\"Reject the null hypothesis\")\n",
    "else:\n",
    "    print(\"Accept the null hypothesis\")"
   ]
  },
  {
   "cell_type": "code",
   "execution_count": 86,
   "id": "e7bb0203-f60b-4007-a484-94d93e27cd43",
   "metadata": {},
   "outputs": [
    {
     "data": {
      "text/plain": [
       "3.841458820694124"
      ]
     },
     "execution_count": 86,
     "metadata": {},
     "output_type": "execute_result"
    }
   ],
   "source": [
    "critical_value"
   ]
  },
  {
   "cell_type": "code",
   "execution_count": 87,
   "id": "e6006a35-e4b8-4a20-93d1-3d6eb3a10150",
   "metadata": {},
   "outputs": [
    {
     "data": {
      "text/plain": [
       "1.440576230492197"
      ]
     },
     "execution_count": 87,
     "metadata": {},
     "output_type": "execute_result"
    }
   ],
   "source": [
    "chisquare_test_statistics"
   ]
  },
  {
   "cell_type": "markdown",
   "id": "8f7ee338-f7a5-455d-b82f-eb5846a6cf4b",
   "metadata": {},
   "source": [
    "# QUESTION 9"
   ]
  },
  {
   "cell_type": "markdown",
   "id": "95ea6946-01f5-4542-a124-802a02be602e",
   "metadata": {},
   "source": [
    "A study was conducted to determine if there is an association between smoking status (smoker or\n",
    "non-smoker) and lung cancer diagnosis (yes or no). The results are shown in the contingency table below.\n",
    "Conduct a chi-square test for independence to determine if there is a significant association between\n",
    "smoking status and lung cancer diagnosis."
   ]
  },
  {
   "cell_type": "code",
   "execution_count": 102,
   "id": "88e33881-ce44-46b4-8e6f-b6809b8025ac",
   "metadata": {},
   "outputs": [],
   "source": [
    "smoker_cancer = 60/200\n",
    "smoker_noncancer = 140/200"
   ]
  },
  {
   "cell_type": "code",
   "execution_count": 90,
   "id": "87b52439-a004-4986-bb32-5a6a233e5240",
   "metadata": {},
   "outputs": [],
   "source": [
    "nonsmoker_cancer = 30/200\n",
    "nonsmoker_noncancer = 170/200"
   ]
  },
  {
   "cell_type": "code",
   "execution_count": 91,
   "id": "dd185c17-52c0-41cc-9736-1b8ead86f14b",
   "metadata": {},
   "outputs": [],
   "source": [
    "std_err_smoker = math.sqrt(smoker_cancer * smoker_noncancer/200)"
   ]
  },
  {
   "cell_type": "code",
   "execution_count": 92,
   "id": "9bd0097a-501b-4e4b-9aeb-159d85ac0bcc",
   "metadata": {},
   "outputs": [],
   "source": [
    "std_err_nonsmoker = math.sqrt(nonsmoker_cancer * nonsmoker_noncancer/200)"
   ]
  },
  {
   "cell_type": "code",
   "execution_count": 93,
   "id": "3e359bab-7445-4f39-8be8-680a38e10534",
   "metadata": {},
   "outputs": [],
   "source": [
    "std_d = math.sqrt((std_err_smoker)**2 + std_err_nonsmoker**2)"
   ]
  },
  {
   "cell_type": "code",
   "execution_count": 94,
   "id": "cb0f80ce-4a8b-478a-a85a-e3f2ae4403d5",
   "metadata": {},
   "outputs": [
    {
     "data": {
      "text/plain": [
       "0.04107919181288745"
      ]
     },
     "execution_count": 94,
     "metadata": {},
     "output_type": "execute_result"
    }
   ],
   "source": [
    "std_d"
   ]
  },
  {
   "cell_type": "code",
   "execution_count": 103,
   "id": "6febfaef-8bca-4238-98b5-cbaabcdf37c8",
   "metadata": {},
   "outputs": [],
   "source": [
    "a = smoker_cancer - nonsmoker_cancer"
   ]
  },
  {
   "cell_type": "code",
   "execution_count": 105,
   "id": "1f4a45ed-6da1-4602-a4b3-d5a2bf8211c6",
   "metadata": {},
   "outputs": [
    {
     "data": {
      "text/plain": [
       "0.15"
      ]
     },
     "execution_count": 105,
     "metadata": {},
     "output_type": "execute_result"
    }
   ],
   "source": [
    "a"
   ]
  },
  {
   "cell_type": "code",
   "execution_count": 106,
   "id": "4ded175e-e53e-4055-b2d9-173317fa8957",
   "metadata": {},
   "outputs": [],
   "source": [
    "chisquare_test_statistics,p_value=stat.chisquare([60,140],[30,170])"
   ]
  },
  {
   "cell_type": "code",
   "execution_count": 108,
   "id": "2be6f763-a990-41f8-b255-a521cc809235",
   "metadata": {},
   "outputs": [],
   "source": [
    "significance=0.05\n",
    "dof=1\n",
    "critical_value=stat.chi2.ppf(1-significance,dof)"
   ]
  },
  {
   "cell_type": "code",
   "execution_count": 109,
   "id": "14a2859c-3ca2-49a2-a74f-22663c026ad4",
   "metadata": {},
   "outputs": [
    {
     "name": "stdout",
     "output_type": "stream",
     "text": [
      "Reject the null hypothesis\n"
     ]
    }
   ],
   "source": [
    "if chisquare_test_statistics > critical_value:\n",
    "    print(\"Reject the null hypothesis\")\n",
    "else:\n",
    "    print(\"Accept the null hypothesis\")"
   ]
  },
  {
   "cell_type": "markdown",
   "id": "cd2ca32c-bba6-4a0c-b9cb-f65ee82fcc09",
   "metadata": {},
   "source": [
    "# QUESTION 10"
   ]
  },
  {
   "cell_type": "markdown",
   "id": "020e976e-810a-4db8-a600-793dc99f2d13",
   "metadata": {},
   "source": [
    " A study was conducted to determine if the proportion of people who prefer milk chocolate, dark\n",
    "chocolate, or white chocolate is different in the U.S. versus the U.K. A random sample of 500 people from\n",
    "the U.S. and a random sample of 500 people from the U.K. were surveyed. The results are shown in the\n",
    "contingency table below. Conduct a chi-square test for independence to determine if there is a significant\n",
    "association between chocolate preference and country of origin."
   ]
  },
  {
   "cell_type": "markdown",
   "id": "c5eb397a-3fb3-4b83-8577-868f35480b9c",
   "metadata": {},
   "source": [
    "a  = [200,150,150]\n",
    "b = [225,175,100]"
   ]
  },
  {
   "cell_type": "code",
   "execution_count": 111,
   "id": "f4c1f77d-fb8c-4a19-8f9d-f0ec0436cea8",
   "metadata": {},
   "outputs": [],
   "source": [
    "chisquare_test_statistics,p_value=stat.chisquare(a,b)"
   ]
  },
  {
   "cell_type": "code",
   "execution_count": 112,
   "id": "403911d5-c11d-4966-ac8c-060d7b0475d3",
   "metadata": {},
   "outputs": [
    {
     "data": {
      "text/plain": [
       "31.349206349206348"
      ]
     },
     "execution_count": 112,
     "metadata": {},
     "output_type": "execute_result"
    }
   ],
   "source": [
    "chisquare_test_statistics"
   ]
  },
  {
   "cell_type": "code",
   "execution_count": 114,
   "id": "9c7f7893-fc82-4bea-a2b9-7e1bb899f47b",
   "metadata": {},
   "outputs": [],
   "source": [
    "significance=0.05\n",
    "dof=2\n",
    "critical_value=stat.chi2.ppf(1-significance,dof)"
   ]
  },
  {
   "cell_type": "code",
   "execution_count": 116,
   "id": "57f2c9c4-1b8b-443a-816a-486d80c12597",
   "metadata": {},
   "outputs": [
    {
     "data": {
      "text/plain": [
       "5.991464547107979"
      ]
     },
     "execution_count": 116,
     "metadata": {},
     "output_type": "execute_result"
    }
   ],
   "source": [
    "critical_value"
   ]
  },
  {
   "cell_type": "code",
   "execution_count": 115,
   "id": "60c93d51-9a02-432a-9449-4efb2723e9c0",
   "metadata": {},
   "outputs": [
    {
     "name": "stdout",
     "output_type": "stream",
     "text": [
      "Reject the null hypothesis\n"
     ]
    }
   ],
   "source": [
    "if chisquare_test_statistics > critical_value:\n",
    "    print(\"Reject the null hypothesis\")\n",
    "else:\n",
    "    print(\"Accept the null hypothesis\")"
   ]
  },
  {
   "cell_type": "markdown",
   "id": "d90f2cd4-d704-45fc-bc14-5beed340bba9",
   "metadata": {},
   "source": [
    "# QUESTION 11"
   ]
  },
  {
   "cell_type": "markdown",
   "id": "ef33f980-b51b-4e68-844b-6282e25cc70f",
   "metadata": {},
   "source": [
    "A random sample of 30 people was selected from a population with an unknown mean and standard\n",
    "deviation. The sample mean was found to be 72 and the sample standard deviation was found to be 10.\n",
    "Conduct a hypothesis test to determine if the population mean is significantly different from 70. Use a\n",
    "significance level of 0.05."
   ]
  },
  {
   "cell_type": "markdown",
   "id": "f3e8e263-07ee-40a1-9bda-54f0ae33f121",
   "metadata": {},
   "source": [
    "72 - 70 = 2\n",
    "SD = 10\n",
    "N = 30\n",
    "\n",
    "2/10/SQRT(30)\n",
    "= 1.1\n",
    "\n",
    "70.9 and 73.1\n",
    "yes it is differe t"
   ]
  }
 ],
 "metadata": {
  "kernelspec": {
   "display_name": "Python 3 (ipykernel)",
   "language": "python",
   "name": "python3"
  },
  "language_info": {
   "codemirror_mode": {
    "name": "ipython",
    "version": 3
   },
   "file_extension": ".py",
   "mimetype": "text/x-python",
   "name": "python",
   "nbconvert_exporter": "python",
   "pygments_lexer": "ipython3",
   "version": "3.10.8"
  }
 },
 "nbformat": 4,
 "nbformat_minor": 5
}
