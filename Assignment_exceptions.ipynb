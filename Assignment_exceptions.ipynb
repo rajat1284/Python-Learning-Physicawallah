{
 "cells": [
  {
   "cell_type": "markdown",
   "id": "b9f76152-1a54-4ea6-9777-7d8df93b4b6c",
   "metadata": {},
   "source": [
    "# QUESTION 1"
   ]
  },
  {
   "cell_type": "code",
   "execution_count": 1,
   "id": "64e9a082-a0fd-4084-9e9e-68c5446b5c25",
   "metadata": {},
   "outputs": [
    {
     "data": {
      "text/plain": [
       "'Exception is anything that isn\\'t desired from a user perspective\". They are different from syntax errors since users or coders \\nmay want to catch some particular case scenario which isn\\'t logical but syntatically correct like age can be negative or positive according to system but not common logic'"
      ]
     },
     "execution_count": 1,
     "metadata": {},
     "output_type": "execute_result"
    }
   ],
   "source": [
    "\"\"\"Exception is anything that isn't desired from a user perspective\". They are different from syntax errors since users or coders \n",
    "may want to catch some particular case scenario which isn't logical but syntatically correct like age can be negative or positive according to system but not common logic\"\"\""
   ]
  },
  {
   "cell_type": "markdown",
   "id": "4f624ea5-12f7-4a4b-9c50-2d436c5197d5",
   "metadata": {},
   "source": [
    "# QUESTION 2"
   ]
  },
  {
   "cell_type": "code",
   "execution_count": 2,
   "id": "afc78cb7-4749-4655-bf70-92c0938b7ac2",
   "metadata": {},
   "outputs": [
    {
     "ename": "SyntaxError",
     "evalue": "incomplete input (3580302011.py, line 10)",
     "output_type": "error",
     "traceback": [
      "\u001b[0;36m  Cell \u001b[0;32mIn[2], line 10\u001b[0;36m\u001b[0m\n\u001b[0;31m    # Output: Error: Denominator cannot be 0.\u001b[0m\n\u001b[0m                                              ^\u001b[0m\n\u001b[0;31mSyntaxError\u001b[0m\u001b[0;31m:\u001b[0m incomplete input\n"
     ]
    }
   ],
   "source": [
    "try:\n",
    "    numerator = 10\n",
    "    denominator = 0\n",
    "\n",
    "    result = numerator/denominator\n",
    "\n",
    "    print(result)\n",
    "\n",
    "\n",
    "# Output: Error: Denominator cannot be 0. "
   ]
  },
  {
   "cell_type": "code",
   "execution_count": 7,
   "id": "7cb77be8-4bef-4337-8548-9e6fbcb6eb10",
   "metadata": {},
   "outputs": [
    {
     "name": "stdout",
     "output_type": "stream",
     "text": [
      "0.0\n",
      "0.0\n"
     ]
    }
   ],
   "source": [
    "try:\n",
    "    numerator = 10\n",
    "    denominator = 0\n",
    "\n",
    "    result = denominator/numerator\n",
    "    print(result)\n",
    "finally:\n",
    "    print(result)"
   ]
  },
  {
   "cell_type": "code",
   "execution_count": 8,
   "id": "988fc7db-6919-4163-aced-3d7dd6b21c26",
   "metadata": {},
   "outputs": [
    {
     "data": {
      "text/plain": [
       "'Exception block may not be written but a finally is required to complete the try catch block'"
      ]
     },
     "execution_count": 8,
     "metadata": {},
     "output_type": "execute_result"
    }
   ],
   "source": [
    "\"\"\"When an exception is not handled the program goes on executing but if the error occurs it won't be caught.\"\"\"\n",
    "\"\"\"Exception block may not be written but a finally is required to complete the try catch block\"\"\""
   ]
  },
  {
   "cell_type": "markdown",
   "id": "d34d64c2-b291-481e-8658-ba8319d6ed45",
   "metadata": {},
   "source": [
    "# QUESTION 3"
   ]
  },
  {
   "cell_type": "code",
   "execution_count": 9,
   "id": "016bd7b9-dae5-4c79-b323-2d915d439647",
   "metadata": {},
   "outputs": [
    {
     "name": "stdout",
     "output_type": "stream",
     "text": [
      "this is an error\n"
     ]
    }
   ],
   "source": [
    "try:\n",
    "    numerator = 10\n",
    "    denominator = 0\n",
    "\n",
    "    result = numerator/denominator\n",
    "\n",
    "    print(result)\n",
    "except:\n",
    "    print(\"this is an error\")\n"
   ]
  },
  {
   "cell_type": "code",
   "execution_count": 10,
   "id": "83ee7cbd-c151-4ce6-90a5-92518f804309",
   "metadata": {},
   "outputs": [
    {
     "data": {
      "text/plain": [
       "'except block is used to handle exceptions try is the function where we might face an error and except is treating that failure scenario'"
      ]
     },
     "execution_count": 10,
     "metadata": {},
     "output_type": "execute_result"
    }
   ],
   "source": [
    "\"\"\"except block is used to handle exceptions try is the function where we might face an error and except is treating that failure scenario\"\"\""
   ]
  },
  {
   "cell_type": "markdown",
   "id": "f904e4dc-c694-4720-a238-ac17a8ea824f",
   "metadata": {},
   "source": [
    "# QUESTION 4"
   ]
  },
  {
   "cell_type": "code",
   "execution_count": 11,
   "id": "7920acb4-cf7e-4a39-84d0-61b90b77d640",
   "metadata": {},
   "outputs": [
    {
     "data": {
      "text/plain": [
       "'In some situations, we might want to run a certain block of code if the code block inside try runs without any errors.\\n\\nFor these cases, you can use the optional else keyword with the try statement.'"
      ]
     },
     "execution_count": 11,
     "metadata": {},
     "output_type": "execute_result"
    }
   ],
   "source": [
    "\"\"\"In some situations, we might want to run a certain block of code if the code block inside try runs without any errors.\n",
    "\n",
    "For these cases, you can use the optional else keyword with the try statement.\"\"\""
   ]
  },
  {
   "cell_type": "code",
   "execution_count": 13,
   "id": "e5389f72-fe3e-40b3-b49a-8047283d6937",
   "metadata": {},
   "outputs": [
    {
     "name": "stdin",
     "output_type": "stream",
     "text": [
      "Enter a number:  11\n"
     ]
    },
    {
     "name": "stdout",
     "output_type": "stream",
     "text": [
      "Not an even number!\n"
     ]
    }
   ],
   "source": [
    "# program to print the reciprocal of even numbers\n",
    "\n",
    "try:\n",
    "    num = int(input(\"Enter a number: \"))\n",
    "    assert num % 2 == 0\n",
    "except:\n",
    "    print(\"Not an even number!\")\n",
    "else:\n",
    "    reciprocal = 1/num\n",
    "    print(reciprocal)"
   ]
  },
  {
   "cell_type": "code",
   "execution_count": 14,
   "id": "f23d126c-3e78-49fb-983d-aae44b7b9b8d",
   "metadata": {},
   "outputs": [
    {
     "data": {
      "text/plain": [
       "'in Python, the finally block is always executed no matter whether there is an exception or not.\\n\\nThe finally block is optional. And, for each try block, there can be only one finally block.'"
      ]
     },
     "execution_count": 14,
     "metadata": {},
     "output_type": "execute_result"
    }
   ],
   "source": [
    "\"\"\"in Python, the finally block is always executed no matter whether there is an exception or not.\n",
    "\n",
    "The finally block is optional. And, for each try block, there can be only one finally block.\"\"\""
   ]
  },
  {
   "cell_type": "code",
   "execution_count": 15,
   "id": "534f7689-924a-4c3e-957b-601b5f0e712c",
   "metadata": {},
   "outputs": [
    {
     "name": "stdout",
     "output_type": "stream",
     "text": [
      "Error: Denominator cannot be 0.\n",
      "This is finally block.\n"
     ]
    }
   ],
   "source": [
    "try:\n",
    "    numerator = 10\n",
    "    denominator = 0\n",
    "\n",
    "    result = numerator/denominator\n",
    "\n",
    "    print(result)\n",
    "except:\n",
    "    print(\"Error: Denominator cannot be 0.\")\n",
    "    \n",
    "finally:\n",
    "    print(\"This is finally block.\")"
   ]
  },
  {
   "cell_type": "code",
   "execution_count": 16,
   "id": "3e2f5049-0f10-4543-9364-ef15ba071da8",
   "metadata": {},
   "outputs": [],
   "source": [
    "# Python raise Keyword is used to raise exceptions or errors. The raise keyword raises an error and stops the control flow of the program. It is used to bring up the current exception in an exception handler so that it can be handled further up the call stack."
   ]
  },
  {
   "cell_type": "code",
   "execution_count": 17,
   "id": "e688734f-266d-4221-a528-9d6abbaa051a",
   "metadata": {},
   "outputs": [
    {
     "ename": "Exception",
     "evalue": "The number shouldn't be an odd integer",
     "output_type": "error",
     "traceback": [
      "\u001b[0;31m---------------------------------------------------------------------------\u001b[0m",
      "\u001b[0;31mException\u001b[0m                                 Traceback (most recent call last)",
      "Cell \u001b[0;32mIn[17], line 4\u001b[0m\n\u001b[1;32m      1\u001b[0m a \u001b[38;5;241m=\u001b[39m \u001b[38;5;241m5\u001b[39m\n\u001b[1;32m      3\u001b[0m \u001b[38;5;28;01mif\u001b[39;00m a \u001b[38;5;241m%\u001b[39m \u001b[38;5;241m2\u001b[39m \u001b[38;5;241m!=\u001b[39m \u001b[38;5;241m0\u001b[39m:\n\u001b[0;32m----> 4\u001b[0m \t\u001b[38;5;28;01mraise\u001b[39;00m \u001b[38;5;167;01mException\u001b[39;00m(\u001b[38;5;124m\"\u001b[39m\u001b[38;5;124mThe number shouldn\u001b[39m\u001b[38;5;124m'\u001b[39m\u001b[38;5;124mt be an odd integer\u001b[39m\u001b[38;5;124m\"\u001b[39m)\n",
      "\u001b[0;31mException\u001b[0m: The number shouldn't be an odd integer"
     ]
    }
   ],
   "source": [
    "a = 5\n",
    "\n",
    "if a % 2 != 0:\n",
    "\traise Exception(\"The number shouldn't be an odd integer\")\n"
   ]
  },
  {
   "cell_type": "markdown",
   "id": "36a0a7f1-c1da-42fc-937b-2a1f0e278c38",
   "metadata": {},
   "source": [
    "# QUESTION 5"
   ]
  },
  {
   "cell_type": "code",
   "execution_count": 18,
   "id": "2ab0525b-2190-49fe-a9f4-f2a04b515d50",
   "metadata": {},
   "outputs": [
    {
     "data": {
      "text/plain": [
       "\"n Python, we can define custom exceptions by creating a new class that is derived from the built-in Exception class.\\n\\nHere's the syntax to define custom exceptions,\""
      ]
     },
     "execution_count": 18,
     "metadata": {},
     "output_type": "execute_result"
    }
   ],
   "source": [
    "\"\"\"n Python, we can define custom exceptions by creating a new class that is derived from the built-in Exception class.\n",
    "\n",
    "Here's the syntax to define custom exceptions,\"\"\""
   ]
  },
  {
   "cell_type": "code",
   "execution_count": 21,
   "id": "c29541f5-a3ea-42a2-b47a-9ec5b0a70348",
   "metadata": {},
   "outputs": [],
   "source": [
    "class CustomError(Exception):\n",
    "    ...\n",
    "    pass\n",
    "\n",
    "try:\n",
    "   ...\n",
    "\n",
    "except CustomError:\n",
    "    ..."
   ]
  },
  {
   "cell_type": "code",
   "execution_count": 22,
   "id": "9a9dff0a-63a9-4c1e-babc-e6a5616ff6a4",
   "metadata": {},
   "outputs": [
    {
     "data": {
      "text/plain": [
       "'Here, CustomError is a user-defined error which inherits from the Exception class.'"
      ]
     },
     "execution_count": 22,
     "metadata": {},
     "output_type": "execute_result"
    }
   ],
   "source": [
    "\"\"\"Here, CustomError is a user-defined error which inherits from the Exception class.\"\"\""
   ]
  },
  {
   "cell_type": "code",
   "execution_count": 23,
   "id": "cc0eac18-0c67-49fe-8ee3-5cc355218061",
   "metadata": {},
   "outputs": [
    {
     "data": {
      "text/plain": [
       "'we need custom exceptions because not everytime we want to catch syntax errors but sometimes we need to catch logic errors as well'"
      ]
     },
     "execution_count": 23,
     "metadata": {},
     "output_type": "execute_result"
    }
   ],
   "source": [
    "\"\"\"we need custom exceptions because not everytime we want to catch syntax errors but sometimes we need to catch logic errors as well\"\"\""
   ]
  },
  {
   "cell_type": "markdown",
   "id": "d9ea25b9-cc2c-44b1-bbd3-a8dfce5f2805",
   "metadata": {},
   "source": [
    "# QUESTION 6"
   ]
  },
  {
   "cell_type": "code",
   "execution_count": 25,
   "id": "6c8950cb-338f-4d84-8e4f-3955f067ac4c",
   "metadata": {},
   "outputs": [
    {
     "name": "stdin",
     "output_type": "stream",
     "text": [
      "Enter a number:  11\n"
     ]
    },
    {
     "name": "stdout",
     "output_type": "stream",
     "text": [
      "Exception occurred: Invalid Age\n"
     ]
    }
   ],
   "source": [
    "# define Python user-defined exceptions\n",
    "class InvalidAgeException(Exception):\n",
    "    \"Raised when the input value is less than 18\"\n",
    "    pass\n",
    "\n",
    "# you need to guess this number\n",
    "number = 18\n",
    "\n",
    "try:\n",
    "    input_num = int(input(\"Enter a number: \"))\n",
    "    if input_num < number:\n",
    "        raise InvalidAgeException\n",
    "    else:\n",
    "        print(\"Eligible to Vote\")\n",
    "        \n",
    "except InvalidAgeException:\n",
    "    print(\"Exception occurred: Invalid Age\")"
   ]
  },
  {
   "cell_type": "code",
   "execution_count": null,
   "id": "66d3b394-7fd9-45d6-9654-6c2833ab63b1",
   "metadata": {},
   "outputs": [],
   "source": []
  }
 ],
 "metadata": {
  "kernelspec": {
   "display_name": "Python 3 (ipykernel)",
   "language": "python",
   "name": "python3"
  },
  "language_info": {
   "codemirror_mode": {
    "name": "ipython",
    "version": 3
   },
   "file_extension": ".py",
   "mimetype": "text/x-python",
   "name": "python",
   "nbconvert_exporter": "python",
   "pygments_lexer": "ipython3",
   "version": "3.10.8"
  }
 },
 "nbformat": 4,
 "nbformat_minor": 5
}
