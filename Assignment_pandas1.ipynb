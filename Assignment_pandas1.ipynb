{
 "cells": [
  {
   "cell_type": "markdown",
   "id": "a97423db-74bb-471e-8080-95fa5844c56c",
   "metadata": {},
   "source": [
    "# QUESTION1"
   ]
  },
  {
   "cell_type": "code",
   "execution_count": 18,
   "id": "c1244003-fcd1-4bec-9680-91e928f5138a",
   "metadata": {},
   "outputs": [],
   "source": [
    "import pandas as pd"
   ]
  },
  {
   "cell_type": "code",
   "execution_count": 2,
   "id": "8a33a8ac-32d2-4d2b-bb01-e01b2c963c69",
   "metadata": {},
   "outputs": [],
   "source": [
    "series = [4,8,15,16,23,42]"
   ]
  },
  {
   "cell_type": "code",
   "execution_count": 7,
   "id": "39c37711-b035-4f2d-a4b4-0e794c012f4f",
   "metadata": {},
   "outputs": [],
   "source": [
    "a = pd.Series(series)"
   ]
  },
  {
   "cell_type": "code",
   "execution_count": 9,
   "id": "2715658f-81bd-4f28-84f9-f34de2a862c7",
   "metadata": {},
   "outputs": [
    {
     "data": {
      "text/plain": [
       "pandas.core.series.Series"
      ]
     },
     "execution_count": 9,
     "metadata": {},
     "output_type": "execute_result"
    }
   ],
   "source": [
    "type(a)"
   ]
  },
  {
   "cell_type": "code",
   "execution_count": 10,
   "id": "62ef18a5-fea2-4fc1-9402-28db7da8171d",
   "metadata": {},
   "outputs": [
    {
     "name": "stdout",
     "output_type": "stream",
     "text": [
      "0     4\n",
      "1     8\n",
      "2    15\n",
      "3    16\n",
      "4    23\n",
      "5    42\n",
      "dtype: int64\n"
     ]
    }
   ],
   "source": [
    "print(a)"
   ]
  },
  {
   "cell_type": "markdown",
   "id": "1043fc7b-f7b8-451b-af55-4108d44ccf5e",
   "metadata": {},
   "source": [
    "# QUESTION2"
   ]
  },
  {
   "cell_type": "code",
   "execution_count": 11,
   "id": "9c079232-ed62-4dc5-8f48-2845f10c3327",
   "metadata": {},
   "outputs": [],
   "source": [
    "lst = [1,2,3,4,5,6,77,8,9,0]"
   ]
  },
  {
   "cell_type": "code",
   "execution_count": 12,
   "id": "6118cf81-aa04-49d2-84bd-2a09ab86436b",
   "metadata": {},
   "outputs": [
    {
     "name": "stdout",
     "output_type": "stream",
     "text": [
      "0     1\n",
      "1     2\n",
      "2     3\n",
      "3     4\n",
      "4     5\n",
      "5     6\n",
      "6    77\n",
      "7     8\n",
      "8     9\n",
      "9     0\n",
      "dtype: int64\n"
     ]
    }
   ],
   "source": [
    "print(pd.Series(lst))"
   ]
  },
  {
   "cell_type": "markdown",
   "id": "35a01ee8-3d86-427b-8374-7368ecd7f68b",
   "metadata": {},
   "source": [
    "# QUESTION 3"
   ]
  },
  {
   "cell_type": "code",
   "execution_count": 20,
   "id": "e803bdc3-39ba-4043-8c8c-713c9d3e029f",
   "metadata": {},
   "outputs": [],
   "source": [
    "data = [['Alice', 25,'Female'], ['Bob', 30,'Male'], ['Claire', 27,'Female']]"
   ]
  },
  {
   "cell_type": "code",
   "execution_count": 26,
   "id": "26e7ae0e-b02e-4c6c-98cb-23be70d3c023",
   "metadata": {},
   "outputs": [
    {
     "data": {
      "text/html": [
       "<div>\n",
       "<style scoped>\n",
       "    .dataframe tbody tr th:only-of-type {\n",
       "        vertical-align: middle;\n",
       "    }\n",
       "\n",
       "    .dataframe tbody tr th {\n",
       "        vertical-align: top;\n",
       "    }\n",
       "\n",
       "    .dataframe thead th {\n",
       "        text-align: right;\n",
       "    }\n",
       "</style>\n",
       "<table border=\"1\" class=\"dataframe\">\n",
       "  <thead>\n",
       "    <tr style=\"text-align: right;\">\n",
       "      <th></th>\n",
       "      <th>Name</th>\n",
       "      <th>Age</th>\n",
       "      <th>Gender</th>\n",
       "    </tr>\n",
       "  </thead>\n",
       "  <tbody>\n",
       "    <tr>\n",
       "      <th>0</th>\n",
       "      <td>Alice</td>\n",
       "      <td>25</td>\n",
       "      <td>Female</td>\n",
       "    </tr>\n",
       "    <tr>\n",
       "      <th>1</th>\n",
       "      <td>Bob</td>\n",
       "      <td>30</td>\n",
       "      <td>Male</td>\n",
       "    </tr>\n",
       "    <tr>\n",
       "      <th>2</th>\n",
       "      <td>Claire</td>\n",
       "      <td>27</td>\n",
       "      <td>Female</td>\n",
       "    </tr>\n",
       "  </tbody>\n",
       "</table>\n",
       "</div>"
      ],
      "text/plain": [
       "     Name  Age  Gender\n",
       "0   Alice   25  Female\n",
       "1     Bob   30    Male\n",
       "2  Claire   27  Female"
      ]
     },
     "execution_count": 26,
     "metadata": {},
     "output_type": "execute_result"
    }
   ],
   "source": [
    "pd.DataFrame(data,columns = ['Name','Age','Gender'],index = None)"
   ]
  },
  {
   "cell_type": "markdown",
   "id": "3576999b-4d7d-4f54-8213-45730cc32b65",
   "metadata": {},
   "source": [
    "# QUESTION 4"
   ]
  },
  {
   "cell_type": "markdown",
   "id": "c3d1277d-db6c-472d-810e-a4686f87502b",
   "metadata": {},
   "source": [
    "Series can only contain single list with index, whereas dataframe can be made of more than one series or we can say that a dataframe is a collection of series that can be used to analyse the data."
   ]
  },
  {
   "cell_type": "code",
   "execution_count": 28,
   "id": "ab21e497-5897-4f9d-8b3a-b4475b838596",
   "metadata": {},
   "outputs": [
    {
     "name": "stdout",
     "output_type": "stream",
     "text": [
      "     Author  Article\n",
      "0  Jitender      210\n",
      "1   Purnima      211\n",
      "2     Arpit      114\n",
      "3     Jyoti      178\n"
     ]
    }
   ],
   "source": [
    "#Importing Pandas library\n",
    "import pandas as pd\n",
    "\n",
    "#Creating two lists\n",
    "author = ['Jitender', 'Purnima', 'Arpit', 'Jyoti']\n",
    "article = [210, 211, 114, 178]\n",
    "#Creating two Series by passing lists\n",
    "auth_series = pd.Series(author)\n",
    "article_series = pd.Series(article)\n",
    "#Creating a dictionary by passing Series objects as values\n",
    "frame = { 'Author': auth_series, 'Article': article_series }\n",
    "#Creating DataFrame by passing Dictionary\n",
    "result = pd.DataFrame(frame)\n",
    "#Printing elements of Dataframe\n",
    "print(result)\n"
   ]
  },
  {
   "cell_type": "markdown",
   "id": "8bb01d8b-ec59-4efd-9056-421034c45239",
   "metadata": {},
   "source": [
    "# QUESTION 5"
   ]
  },
  {
   "cell_type": "markdown",
   "id": "25cf622e-2ea3-4c5d-9f53-a1f9720478c7",
   "metadata": {},
   "source": [
    "read_csv(),read_excel(),head(),tail(),fillna()"
   ]
  },
  {
   "cell_type": "markdown",
   "id": "f397f05d-97b4-470a-b953-b83581d46624",
   "metadata": {},
   "source": [
    "head(n) is used to return the first n rows of a dataset. By default, df.head() will return the first 5 rows of the DataFrame. If you want more/less number of rows, you can specify n as an integer"
   ]
  },
  {
   "cell_type": "markdown",
   "id": "6c130b32-f5bb-401b-a0d9-7e59c50888e8",
   "metadata": {},
   "source": [
    "read_csv() function helps read a comma-separated values (csv) file into a Pandas DataFrame. All you need to do is mention the path of the file you want it to read. It can also read files separated by delimiters other than comma, like | or tab."
   ]
  },
  {
   "cell_type": "markdown",
   "id": "4227933c-84b8-4419-a7af-029269b46ed6",
   "metadata": {},
   "source": [
    "fillna() helps to replace all NaN values in a DataFrame or Series by imputing these missing values with more appropriate values."
   ]
  },
  {
   "cell_type": "markdown",
   "id": "26fe1392-e733-4219-aaaf-651266a663cd",
   "metadata": {},
   "source": [
    "# QUESTION 6"
   ]
  },
  {
   "cell_type": "markdown",
   "id": "80a01237-a677-4ff4-b1a2-cbbaa1a2390f",
   "metadata": {},
   "source": [
    "\n",
    "Mutability. All Pandas data structures are value mutable (can be changed) and except Series all are size mutable. "
   ]
  },
  {
   "cell_type": "markdown",
   "id": "c1ffcb0c-4dec-4257-8258-06fdf6d51188",
   "metadata": {},
   "source": [
    "# QUESTION 7"
   ]
  },
  {
   "cell_type": "code",
   "execution_count": 29,
   "id": "18a2be64-61e9-4d95-8be7-4257193cfe2e",
   "metadata": {},
   "outputs": [
    {
     "name": "stdout",
     "output_type": "stream",
     "text": [
      "     Author  Article\n",
      "0  Jitender      210\n",
      "1   Purnima      211\n",
      "2     Arpit      114\n",
      "3     Jyoti      178\n"
     ]
    }
   ],
   "source": [
    "#Importing Pandas library\n",
    "import pandas as pd\n",
    "\n",
    "#Creating two lists\n",
    "author = ['Jitender', 'Purnima', 'Arpit', 'Jyoti']\n",
    "article = [210, 211, 114, 178]\n",
    "#Creating two Series by passing lists\n",
    "auth_series = pd.Series(author)\n",
    "article_series = pd.Series(article)\n",
    "#Creating a dictionary by passing Series objects as values\n",
    "frame = { 'Author': auth_series, 'Article': article_series }\n",
    "#Creating DataFrame by passing Dictionary\n",
    "result = pd.DataFrame(frame)\n",
    "#Printing elements of Dataframe\n",
    "print(result)\n"
   ]
  },
  {
   "cell_type": "code",
   "execution_count": null,
   "id": "710d1dc9-882a-48c0-a9da-ba468fd58ebe",
   "metadata": {},
   "outputs": [],
   "source": []
  }
 ],
 "metadata": {
  "kernelspec": {
   "display_name": "Python 3 (ipykernel)",
   "language": "python",
   "name": "python3"
  },
  "language_info": {
   "codemirror_mode": {
    "name": "ipython",
    "version": 3
   },
   "file_extension": ".py",
   "mimetype": "text/x-python",
   "name": "python",
   "nbconvert_exporter": "python",
   "pygments_lexer": "ipython3",
   "version": "3.10.8"
  }
 },
 "nbformat": 4,
 "nbformat_minor": 5
}
