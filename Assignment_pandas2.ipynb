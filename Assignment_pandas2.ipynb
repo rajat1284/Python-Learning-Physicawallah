{
 "cells": [
  {
   "cell_type": "markdown",
   "id": "0b9dbfdd-225c-4a4c-a55f-2b6ff874514a",
   "metadata": {},
   "source": [
    "# QUESTION 1"
   ]
  },
  {
   "cell_type": "code",
   "execution_count": null,
   "id": "34d49b81-1910-4094-b334-c88c9a61b7fe",
   "metadata": {},
   "outputs": [],
   "source": [
    "import pandas as pd\n",
    "df = pd.read_csv('services.csv') # This reads the csv file "
   ]
  },
  {
   "cell_type": "code",
   "execution_count": null,
   "id": "842ead1b-517f-4ba4-aa9e-84bd3851d7f9",
   "metadata": {},
   "outputs": [],
   "source": [
    "df.columns[0] # It shows the column at index 0, i.e. first column "
   ]
  },
  {
   "cell_type": "code",
   "execution_count": null,
   "id": "8ea9abba-e4aa-4afc-96e1-93edccf7de9b",
   "metadata": {},
   "outputs": [],
   "source": [
    "df.describe() # This gives statistics aboutdata, mostly numerical data in case there are any numerical columns"
   ]
  },
  {
   "cell_type": "code",
   "execution_count": null,
   "id": "7df9d718-095f-41ae-a877-c1d2cf468b8d",
   "metadata": {},
   "outputs": [],
   "source": [
    "df.dtypes # This tells the data type of each column"
   ]
  },
  {
   "cell_type": "code",
   "execution_count": null,
   "id": "f4cab138-16e4-4ada-9cfd-884fa852cd53",
   "metadata": {},
   "outputs": [],
   "source": [
    "df.count() #This gives count of rows for each column"
   ]
  },
  {
   "cell_type": "markdown",
   "id": "4071ff5f-5872-4b59-8836-c2a445e8f12c",
   "metadata": {},
   "source": [
    "# QUESTION 2"
   ]
  },
  {
   "cell_type": "markdown",
   "id": "f96dceb2-c864-4f54-8a45-6975578274f2",
   "metadata": {},
   "source": [
    "Given a Pandas DataFrame df with columns 'A', 'B', and 'C', write a Python function to re-index the\n",
    "DataFrame with a new index that starts from 1 and increments by 2 for each row."
   ]
  },
  {
   "cell_type": "code",
   "execution_count": null,
   "id": "71e965da-c0d3-4c1f-8d09-5477e0101bb6",
   "metadata": {},
   "outputs": [],
   "source": [
    "data = {'A': ['ABC','BCD','CDE','EFG','GHI'],\n",
    "        'B': [1,2,3,4,5],\n",
    "        'C': ['BCD','CDE','EFG','GHU','BWW']}"
   ]
  },
  {
   "cell_type": "code",
   "execution_count": null,
   "id": "b1189f72-94e1-4a8c-847e-085427e66f1f",
   "metadata": {},
   "outputs": [],
   "source": [
    "df1 = pd.DataFrame(data)"
   ]
  },
  {
   "cell_type": "code",
   "execution_count": null,
   "id": "70bf5d2f-1502-4052-8d75-b06a3ee1ae5b",
   "metadata": {},
   "outputs": [],
   "source": [
    "df1"
   ]
  },
  {
   "cell_type": "code",
   "execution_count": null,
   "id": "ab8eb06e-fee1-4e92-9daa-fd0f11e5d71d",
   "metadata": {},
   "outputs": [],
   "source": [
    "df1.reindex(index ={1,3,5,7,9})"
   ]
  },
  {
   "cell_type": "markdown",
   "id": "d2923f7c-4440-470a-bbc5-add02f049360",
   "metadata": {},
   "source": [
    "# QUESTION 3"
   ]
  },
  {
   "cell_type": "markdown",
   "id": "7e2d4fce-e631-4e3e-85e9-eaf28fb3df6f",
   "metadata": {},
   "source": [
    "You have a Pandas DataFrame df with a column named 'Values'. Write a Python function that\n",
    "iterates over the DataFrame and calculates the sum of the first three values in the 'Values' column. The\n",
    "function should print the sum to the console."
   ]
  },
  {
   "cell_type": "code",
   "execution_count": null,
   "id": "9f9d28b2-b398-49bc-9147-d0eacd722298",
   "metadata": {},
   "outputs": [],
   "source": [
    "data3 = {'A': ['ABC','BCD','CDE','EFG','GHI'],\n",
    "        'values': [1,2,3,4,5],\n",
    "        'C': ['BCD','CDE','EFG','GHU','BWW']}"
   ]
  },
  {
   "cell_type": "code",
   "execution_count": null,
   "id": "abc7196f-9fbe-46f7-a966-ef576c002d56",
   "metadata": {},
   "outputs": [],
   "source": [
    "df3 = pd.DataFrame(data3)"
   ]
  },
  {
   "cell_type": "code",
   "execution_count": null,
   "id": "fad33ac1-7d56-4770-8739-04ad5ec170ff",
   "metadata": {},
   "outputs": [],
   "source": [
    "df3"
   ]
  },
  {
   "cell_type": "code",
   "execution_count": null,
   "id": "7c4dd256-a033-4ac4-90c5-d1f730a9edde",
   "metadata": {},
   "outputs": [],
   "source": [
    "df3_print = df3['values'][0:3].sum()\n",
    "print(df3_print)"
   ]
  },
  {
   "cell_type": "markdown",
   "id": "86e3a8e8-c47f-4908-9938-84fcc3a231f0",
   "metadata": {},
   "source": [
    "# QUESTION 4"
   ]
  },
  {
   "cell_type": "markdown",
   "id": "e39ed7c5-2334-43b3-8664-18762ccc9eee",
   "metadata": {},
   "source": [
    "Given a Pandas DataFrame df with a column 'Text', write a Python function to create a new column\n",
    "'Word_Count' that contains the number of words in each row of the 'Text' column."
   ]
  },
  {
   "cell_type": "code",
   "execution_count": null,
   "id": "e4a6be7a-a26d-4dd0-a043-77339cb5172c",
   "metadata": {},
   "outputs": [],
   "source": [
    "data4 = {'Text': ['ABC','BCD cde','CDE','EFG','GHI'],\n",
    "        'B': [1,2,3,4,5],\n",
    "        'C': ['BCD','CDE','EFG','GHU','BWW']}"
   ]
  },
  {
   "cell_type": "markdown",
   "id": "d92e4a35-e4f0-4eae-8336-d42cf9e30478",
   "metadata": {},
   "source": [
    "df4 = pd.DataFrame(data4)"
   ]
  },
  {
   "cell_type": "code",
   "execution_count": null,
   "id": "36ed9bdc-78c4-4cc6-8fdd-a18681b31bb0",
   "metadata": {},
   "outputs": [],
   "source": []
  },
  {
   "cell_type": "code",
   "execution_count": null,
   "id": "92139471-f2c6-4a09-bf1a-3c14485ed55e",
   "metadata": {},
   "outputs": [],
   "source": [
    "df4['Word_Count'] = df4['Text'].str.split().str.len()"
   ]
  },
  {
   "cell_type": "code",
   "execution_count": null,
   "id": "361a8c84-0ab3-45b1-af42-9d3482cdb299",
   "metadata": {},
   "outputs": [],
   "source": [
    "df4"
   ]
  },
  {
   "cell_type": "markdown",
   "id": "b8947e27-8f47-4943-a15d-9c62e85d6fff",
   "metadata": {},
   "source": [
    "# QUESTION 5"
   ]
  },
  {
   "cell_type": "markdown",
   "id": "76838fc9-c606-4e48-afe1-820c7e1f4ceb",
   "metadata": {},
   "source": [
    "How are DataFrame.size() and DataFrame.shape() different?\n"
   ]
  },
  {
   "cell_type": "markdown",
   "id": "5efa9766-038b-408e-9559-302801afef68",
   "metadata": {},
   "source": [
    "Syntax: dataframe.size\n",
    "Return : Returns size of dataframe/series which is equivalent to total number of elements. That is rows x columns.\n",
    "\n",
    "Syntax: dataframe.shape\n",
    "Return : Returns tuple of shape (Rows, columns) of dataframe/series"
   ]
  },
  {
   "cell_type": "markdown",
   "id": "2f7b112b-2647-4efa-b117-da03511ef342",
   "metadata": {},
   "source": [
    "# QUESTION 6"
   ]
  },
  {
   "cell_type": "markdown",
   "id": "488bb274-d0a8-47af-af90-1de037ab53f3",
   "metadata": {},
   "source": [
    "read_excel()"
   ]
  },
  {
   "cell_type": "markdown",
   "id": "92d067fe-fe0b-48f9-9d33-f6ada7c9cc15",
   "metadata": {},
   "source": [
    "# QUESTION 7"
   ]
  },
  {
   "cell_type": "markdown",
   "id": "68d9dfdb-7a59-49f9-8b19-16b84b5471e2",
   "metadata": {},
   "source": [
    "You have a Pandas DataFrame df that contains a column named 'Email' that contains email\n",
    "addresses in the format 'username@domain.com'. Write a Python function that creates a new column\n",
    "'Username' in df that contains only the username part of each email address."
   ]
  },
  {
   "cell_type": "code",
   "execution_count": null,
   "id": "f5e9cd80-066f-4391-a083-3f1c755e76ee",
   "metadata": {},
   "outputs": [],
   "source": [
    "email = {'address':('username@domain.com','rajat@gmail.com')}"
   ]
  },
  {
   "cell_type": "code",
   "execution_count": null,
   "id": "9032deb2-675f-4aa5-b774-66c767f2e003",
   "metadata": {},
   "outputs": [],
   "source": [
    "df_email = pd.DataFrame(email)"
   ]
  },
  {
   "cell_type": "code",
   "execution_count": null,
   "id": "11181b56-d689-42e5-8527-6d206434eb75",
   "metadata": {},
   "outputs": [],
   "source": [
    "df_email['Username'] = df_email['address'].str.split('@').str.get(0)"
   ]
  },
  {
   "cell_type": "code",
   "execution_count": null,
   "id": "2046de61-eeb9-4cb2-99ff-be353b2ebc8b",
   "metadata": {},
   "outputs": [],
   "source": [
    "df_email"
   ]
  },
  {
   "cell_type": "markdown",
   "id": "f917ac8e-790d-4ced-b9e0-4143f1bbf684",
   "metadata": {},
   "source": [
    "# QUESTION 8"
   ]
  },
  {
   "cell_type": "markdown",
   "id": "91df0830-f445-4604-bf03-ea3c7783e47c",
   "metadata": {},
   "source": [
    "You have a Pandas DataFrame df with columns 'A', 'B', and 'C'. Write a Python function that selects\n",
    "all rows where the value in column 'A' is greater than 5 and the value in column 'B' is less than 10. The\n",
    "function should return a new DataFrame that contains only the selected rows."
   ]
  },
  {
   "cell_type": "code",
   "execution_count": null,
   "id": "b2c808f6-bddf-444c-b31c-dedc8ce5274a",
   "metadata": {},
   "outputs": [],
   "source": [
    "data8 = {'A': [7,8,9,3,6],\n",
    "        'B': [1,2,13,4,5],\n",
    "        'C': ['BCD','CDE','EFG','GHU','BWW']}"
   ]
  },
  {
   "cell_type": "code",
   "execution_count": null,
   "id": "84e574dd-ec52-4e1b-978c-612c446662ed",
   "metadata": {},
   "outputs": [],
   "source": [
    "data8_df = pd.DataFrame(data8)"
   ]
  },
  {
   "cell_type": "code",
   "execution_count": null,
   "id": "473585bf-82fa-4625-b84e-922afd0ed6bd",
   "metadata": {},
   "outputs": [],
   "source": [
    "df8 = data8_df[(data8_df['A'] > 5) & (data8_df['B'] < 10)]"
   ]
  },
  {
   "cell_type": "code",
   "execution_count": null,
   "id": "dfc1ae12-d704-42c5-825a-1f260347af49",
   "metadata": {},
   "outputs": [],
   "source": [
    "df8"
   ]
  },
  {
   "cell_type": "markdown",
   "id": "a1e53b06-fd06-4df3-b2ca-63e3e4822837",
   "metadata": {},
   "source": [
    "# QUESTION 9"
   ]
  },
  {
   "cell_type": "markdown",
   "id": "29220b8b-3f28-470a-9fbc-aa592a416736",
   "metadata": {},
   "source": [
    "Given a Pandas DataFrame df with a column 'Values', write a Python function to calculate the mean,\n",
    "median, and standard deviation of the values in the 'Values' column."
   ]
  },
  {
   "cell_type": "code",
   "execution_count": null,
   "id": "1eab58b5-b5d2-4c83-98ab-421156200705",
   "metadata": {},
   "outputs": [],
   "source": [
    "data9 = {'A': ['ABC','BCD','CDE','EFG','GHI'],\n",
    "        'values': [1,2,3,4,5],\n",
    "        'C': ['BCD','CDE','EFG','GHU','BWW']}\n",
    "df = pd.DataFrame(data9)"
   ]
  },
  {
   "cell_type": "code",
   "execution_count": null,
   "id": "e5a41173-574a-46d4-aeac-2529f41d7fc2",
   "metadata": {},
   "outputs": [],
   "source": [
    "df['values'].mean()\n",
    "\n"
   ]
  },
  {
   "cell_type": "code",
   "execution_count": null,
   "id": "824ffc26-e6f6-4499-aef9-2440b615daab",
   "metadata": {},
   "outputs": [],
   "source": [
    "df['values'].median()"
   ]
  },
  {
   "cell_type": "code",
   "execution_count": null,
   "id": "cb4ecc1c-06fb-406b-982e-088f0868f122",
   "metadata": {},
   "outputs": [],
   "source": [
    "df['values'].std()"
   ]
  },
  {
   "cell_type": "markdown",
   "id": "1a5ee124-b81c-4313-a330-d534a6881520",
   "metadata": {},
   "source": [
    "# QUESTION 10"
   ]
  },
  {
   "cell_type": "markdown",
   "id": "e787afb9-7743-4308-9380-1e81d92d6018",
   "metadata": {},
   "source": [
    "Given a Pandas DataFrame df with a column 'Sales' and a column 'Date', write a Python function to\n",
    "create a new column 'MovingAverage' that contains the moving average of the sales for the past 7 days\n",
    "for each row in the DataFrame. The moving average should be calculated using a window of size 7 and\n",
    "should include the current day.\n"
   ]
  },
  {
   "cell_type": "code",
   "execution_count": null,
   "id": "2c05ab34-9eab-41d4-959a-4126aada6651",
   "metadata": {},
   "outputs": [],
   "source": [
    "df10 = pd.read_csv('RELIANCE.NS_.csv')"
   ]
  },
  {
   "cell_type": "code",
   "execution_count": null,
   "id": "fe25e5a3-4545-4a84-b785-64d5463c3779",
   "metadata": {},
   "outputs": [],
   "source": [
    "df10 = pd.DataFrame(df10)"
   ]
  },
  {
   "cell_type": "code",
   "execution_count": null,
   "id": "bbe2ae00-20f7-4c62-ae00-d654a28077fb",
   "metadata": {},
   "outputs": [],
   "source": [
    "df10"
   ]
  },
  {
   "cell_type": "code",
   "execution_count": null,
   "id": "a1182b44-c1ad-4f85-9973-ddfdbdbec1d3",
   "metadata": {},
   "outputs": [],
   "source": [
    "df10['SMA7'] = df10['Close'].rolling(7).mean()"
   ]
  },
  {
   "cell_type": "markdown",
   "id": "4ceaada7-7f95-4d05-bf6f-dda6c03156a7",
   "metadata": {},
   "source": [
    "# QUESTION 11"
   ]
  },
  {
   "cell_type": "markdown",
   "id": "66a379d1-1b69-4ea9-aa8c-1ef90d282ad5",
   "metadata": {},
   "source": [
    "You have a Pandas DataFrame df with a column 'Date'. Write a Python function that creates a new\n",
    "column 'Weekday' in the DataFrame. The 'Weekday' column should contain the weekday name (e.g.\n",
    "Monday, Tuesday) corresponding to each date in the 'Date' column.\n",
    "For example, if df contains the following values:\n",
    "Date\n",
    "0 2023-01-01\n",
    "1 2023-01-02\n",
    "2 2023-01-03\n",
    "3 2023-01-04\n",
    "4 2023-01-05\n",
    "Your function should create the following DataFrame:\n",
    "\n",
    "Date Weekday\n",
    "0 2023-01-01 Sunday\n",
    "1 2023-01-02 Monday\n",
    "2 2023-01-03 Tuesday\n",
    "3 2023-01-04 Wednesday\n",
    "4 2023-01-05 Thursday\n",
    "The function should return the modified DataFrame.\n"
   ]
  },
  {
   "cell_type": "code",
   "execution_count": null,
   "id": "17583306-af5a-4926-9d59-ca47e3822256",
   "metadata": {},
   "outputs": [],
   "source": [
    "import datetime"
   ]
  },
  {
   "cell_type": "code",
   "execution_count": null,
   "id": "a91590c4-802a-4e73-82c7-5dee817ed24b",
   "metadata": {},
   "outputs": [],
   "source": [
    "type(df10['Date'])"
   ]
  },
  {
   "cell_type": "code",
   "execution_count": null,
   "id": "dac0857d-3bb3-4859-bc99-31eac4a0de83",
   "metadata": {},
   "outputs": [],
   "source": [
    "df10['Date'] = pd.to_datetime(df10['Date'])"
   ]
  },
  {
   "cell_type": "code",
   "execution_count": null,
   "id": "89ce52e0-9b5e-4aae-b81b-1cedb7ee2704",
   "metadata": {},
   "outputs": [],
   "source": [
    "df10['Weekday'] = df10['Date'].dt.day_name()"
   ]
  },
  {
   "cell_type": "code",
   "execution_count": null,
   "id": "978755f1-8fcc-4e59-b6b3-a51e5602694c",
   "metadata": {},
   "outputs": [],
   "source": [
    "df10"
   ]
  },
  {
   "cell_type": "markdown",
   "id": "4e32c581-e2c8-48ca-bccd-97c8ed2795c3",
   "metadata": {},
   "source": [
    "# QUESTION 12"
   ]
  },
  {
   "cell_type": "markdown",
   "id": "90fec594-e35d-48e4-a284-cf3468a3d0e7",
   "metadata": {},
   "source": [
    "Given a Pandas DataFrame df with a column 'Date' that contains timestamps, write a Python\n",
    "function to select all rows where the date is between '2023-01-01' and '2023-01-31'."
   ]
  },
  {
   "cell_type": "code",
   "execution_count": 211,
   "id": "ac8426e2-898b-4228-b6e0-e434a192da5d",
   "metadata": {},
   "outputs": [
    {
     "data": {
      "text/html": [
       "<div>\n",
       "<style scoped>\n",
       "    .dataframe tbody tr th:only-of-type {\n",
       "        vertical-align: middle;\n",
       "    }\n",
       "\n",
       "    .dataframe tbody tr th {\n",
       "        vertical-align: top;\n",
       "    }\n",
       "\n",
       "    .dataframe thead th {\n",
       "        text-align: right;\n",
       "    }\n",
       "</style>\n",
       "<table border=\"1\" class=\"dataframe\">\n",
       "  <thead>\n",
       "    <tr style=\"text-align: right;\">\n",
       "      <th></th>\n",
       "      <th>Date</th>\n",
       "      <th>Open</th>\n",
       "      <th>High</th>\n",
       "      <th>Low</th>\n",
       "      <th>Close</th>\n",
       "      <th>Adj Close</th>\n",
       "      <th>Volume</th>\n",
       "      <th>SMA30</th>\n",
       "      <th>SMA7</th>\n",
       "      <th>Weekday</th>\n",
       "    </tr>\n",
       "  </thead>\n",
       "  <tbody>\n",
       "  </tbody>\n",
       "</table>\n",
       "</div>"
      ],
      "text/plain": [
       "Empty DataFrame\n",
       "Columns: [Date, Open, High, Low, Close, Adj Close, Volume, SMA30, SMA7, Weekday]\n",
       "Index: []"
      ]
     },
     "execution_count": 211,
     "metadata": {},
     "output_type": "execute_result"
    }
   ],
   "source": [
    "df10[(df10['Date'] > '2023-01-01') & (df10['Date'] < '2023-01-31') ]"
   ]
  },
  {
   "cell_type": "markdown",
   "id": "e06ef62a-ef7c-49ee-8202-56bd18134d79",
   "metadata": {},
   "source": [
    "# QUESTION 13"
   ]
  },
  {
   "cell_type": "markdown",
   "id": "db5469cf-c2a3-40ee-ad86-d2b2cb0e85ff",
   "metadata": {},
   "source": [
    "To use the basic functions of pandas, what is the first and foremost necessary library that needs to\n",
    "be imported?"
   ]
  },
  {
   "cell_type": "markdown",
   "id": "570a4374-b93c-4ff5-967a-74d54430d3eb",
   "metadata": {},
   "source": [
    "import pandas as pd"
   ]
  },
  {
   "cell_type": "code",
   "execution_count": null,
   "id": "c58207b5-aaae-4e14-824f-39db53dda29d",
   "metadata": {},
   "outputs": [],
   "source": []
  }
 ],
 "metadata": {
  "kernelspec": {
   "display_name": "Python 3 (ipykernel)",
   "language": "python",
   "name": "python3"
  },
  "language_info": {
   "codemirror_mode": {
    "name": "ipython",
    "version": 3
   },
   "file_extension": ".py",
   "mimetype": "text/x-python",
   "name": "python",
   "nbconvert_exporter": "python",
   "pygments_lexer": "ipython3",
   "version": "3.10.8"
  }
 },
 "nbformat": 4,
 "nbformat_minor": 5
}
