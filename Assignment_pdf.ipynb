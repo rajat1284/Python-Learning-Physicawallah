{
 "cells": [
  {
   "cell_type": "markdown",
   "id": "589752be-3a99-480c-9e46-49915f19cfc8",
   "metadata": {},
   "source": [
    "# QUESTION 1"
   ]
  },
  {
   "cell_type": "markdown",
   "id": "fa568150-e311-4648-ac67-46796d0fbe42",
   "metadata": {},
   "source": [
    "A probability density function, or density of a continuous random variable, is a function whose value at any given sample in the sample space can be interpreted as providing a relative likelihood that the value of the random variable would be equal to that sample."
   ]
  },
  {
   "cell_type": "markdown",
   "id": "853bbdaa-8d9d-4614-981b-2ccb2256ca05",
   "metadata": {},
   "source": [
    "# Question 2"
   ]
  },
  {
   "cell_type": "markdown",
   "id": "36924b55-f28c-43d8-b9fe-558afbc510de",
   "metadata": {},
   "source": [
    "There are two types of probability distributions: Discrete probability distributions. Continuous probability distributions. They are distributed into normal, bernoulli, binomial, poisson distribution."
   ]
  },
  {
   "cell_type": "markdown",
   "id": "0e2a1fbc-f95f-406a-80bf-458455a7b3bf",
   "metadata": {},
   "source": [
    "# QUESTION 3"
   ]
  },
  {
   "cell_type": "code",
   "execution_count": 1,
   "id": "b58cb52b-b29e-49cd-8afe-f81bd25272f9",
   "metadata": {},
   "outputs": [
    {
     "name": "stdout",
     "output_type": "stream",
     "text": [
      "0.0804410163156249\n"
     ]
    }
   ],
   "source": [
    "from scipy.stats import norm\n",
    "import numpy as np\n",
    "\n",
    "data_start = -5\n",
    "data_end = 5\n",
    "data_points = 11\n",
    "data = np.linspace(data_start, data_end, data_points)\n",
    "\n",
    "mean = np.mean(data)\n",
    "std = np.std(data)\n",
    "\n",
    "probability_pdf = norm.pdf(3, loc=mean, scale=std)\n",
    "print(probability_pdf)\n"
   ]
  },
  {
   "cell_type": "markdown",
   "id": "0a6fe16b-1690-437b-9055-07c026797d1c",
   "metadata": {},
   "source": [
    "# QUESTION 4"
   ]
  },
  {
   "cell_type": "markdown",
   "id": "09a5e464-00a4-4d97-865a-b0992617ad5a",
   "metadata": {},
   "source": [
    "In probability theory and statistics, the binomial distribution is the discrete probability distribution that gives only two possible results in an experiment, either Success or Failure. For example, if we toss a coin, there could be only two possible outcomes: heads or tails, and if any test is taken, then there could be only two results: pass or fail. This distribution is also called a binomial probability distribution."
   ]
  },
  {
   "cell_type": "markdown",
   "id": "3edbb8b7-f386-4c0f-92a9-6593294c5b21",
   "metadata": {},
   "source": [
    "The properties of the binomial distribution are:\n",
    "\n",
    "There are two possible outcomes: true or false, success or failure, yes or no.\n",
    "There is ‘n’ number of independent trials or a fixed number of n times repeated trials.\n",
    "The probability of success or failure remains the same for each trial.\n",
    "Only the number of success is calculated out of n independent trials.\n",
    "Every trial is an independent trial, which means the outcome of one trial does not affect the outcome of another trial."
   ]
  },
  {
   "cell_type": "markdown",
   "id": "13cb7e77-5b11-4f9e-b600-0a369b905809",
   "metadata": {},
   "source": [
    "# QUESTION 5"
   ]
  },
  {
   "cell_type": "code",
   "execution_count": 5,
   "id": "54f6b73a-78dd-4c0a-9d39-9639f779c034",
   "metadata": {},
   "outputs": [
    {
     "data": {
      "image/png": "[encoded data removed]",
      "text/plain": [
       "<Figure size 640x480 with 1 Axes>"
      ]
     },
     "metadata": {},
     "output_type": "display_data"
    }
   ],
   "source": [
    "from scipy.stats import binom\n",
    "import matplotlib.pyplot as plt\n",
    "# setting the values\n",
    "# of n and p\n",
    "n = 1000\n",
    "p = 0.4\n",
    "# defining list of r values\n",
    "r_values = list(range(n + 1))\n",
    "# list of pmf values\n",
    "dist = [binom.pmf(r, n, p) for r in r_values ]\n",
    "# plotting the graph\n",
    "plt.bar(r_values, dist)\n",
    "plt.show()\n"
   ]
  },
  {
   "cell_type": "markdown",
   "id": "c196a755-db72-446a-bf50-d03c4889d301",
   "metadata": {},
   "source": [
    "# Question 6"
   ]
  },
  {
   "cell_type": "code",
   "execution_count": 9,
   "id": "6bbd1854-6790-480a-abf6-6db62880bae9",
   "metadata": {},
   "outputs": [],
   "source": [
    "from scipy.stats import poisson\n",
    "import matplotlib.pyplot as plt\n",
    "\n",
    "x = poisson.cdf(k=4, mu=7)"
   ]
  },
  {
   "cell_type": "code",
   "execution_count": 10,
   "id": "c719b4de-181e-4183-8641-d13cb7a21c56",
   "metadata": {},
   "outputs": [
    {
     "data": {
      "text/plain": [
       "0.17299160788207146"
      ]
     },
     "execution_count": 10,
     "metadata": {},
     "output_type": "execute_result"
    }
   ],
   "source": [
    "x"
   ]
  },
  {
   "cell_type": "markdown",
   "id": "71e68cfa-cb77-4e5c-af6e-48ddb786d8dc",
   "metadata": {},
   "source": [
    "# QUESTION 7"
   ]
  },
  {
   "cell_type": "markdown",
   "id": "13a38637-4911-474e-ad22-2de23101d083",
   "metadata": {},
   "source": [
    "Binomial distribution is the one in which the number of outcomes are only 2 and whereas Poisson distribution is the one in which the number of outcomes are unlimited. "
   ]
  },
  {
   "cell_type": "markdown",
   "id": "1444956d-ae89-4182-9848-ae25a086d9b5",
   "metadata": {},
   "source": [
    "# QUESTION 8"
   ]
  },
  {
   "cell_type": "code",
   "execution_count": 14,
   "id": "61a4a76c-485f-4f7b-87d2-34e54972f7cb",
   "metadata": {},
   "outputs": [],
   "source": [
    "from scipy.stats import poisson\n",
    "import matplotlib.pyplot as plt\n",
    "\n",
    "#generate Poisson distribution with sample size 10000\n",
    "x = poisson.rvs(mu=3, size=1000)"
   ]
  },
  {
   "cell_type": "code",
   "execution_count": 18,
   "id": "313541c8-2aa9-4afa-b7ef-c3d966c4cec5",
   "metadata": {},
   "outputs": [
    {
     "data": {
      "text/plain": [
       "2.985"
      ]
     },
     "execution_count": 18,
     "metadata": {},
     "output_type": "execute_result"
    }
   ],
   "source": [
    "np.mean(x)"
   ]
  },
  {
   "cell_type": "code",
   "execution_count": 19,
   "id": "edbab289-58fd-45a2-a076-d867045de849",
   "metadata": {},
   "outputs": [
    {
     "data": {
      "text/plain": [
       "2.8547750000000005"
      ]
     },
     "execution_count": 19,
     "metadata": {},
     "output_type": "execute_result"
    }
   ],
   "source": [
    "np.var(x)"
   ]
  },
  {
   "cell_type": "markdown",
   "id": "38057bb2-425d-4398-8955-4bf8e92c9f21",
   "metadata": {},
   "source": [
    "# QUESTION 9"
   ]
  },
  {
   "cell_type": "markdown",
   "id": "4498247e-f40a-44d6-9690-5cff3e177d67",
   "metadata": {},
   "source": [
    "The mean and the variance of the Poisson distribution are the same, which is equal to the average number of successes that occur in the given interval of time.Suppose the binomial distribution is b(n,p) where n is the number of trials and p is the probability of success. Then its mean = np and the variance = npq where q= 1-p. Hence, the variance : mean = 1:q"
   ]
  },
  {
   "cell_type": "markdown",
   "id": "ea31561e-7bff-49b3-98cd-428dd6eed821",
   "metadata": {},
   "source": [
    "# QUESTION 10"
   ]
  },
  {
   "cell_type": "markdown",
   "id": "66ea9a02-9782-4f7a-b690-62b84f40dfd2",
   "metadata": {},
   "source": [
    "3 standard deviations to the left or right of the mean."
   ]
  }
 ],
 "metadata": {
  "kernelspec": {
   "display_name": "Python 3 (ipykernel)",
   "language": "python",
   "name": "python3"
  },
  "language_info": {
   "codemirror_mode": {
    "name": "ipython",
    "version": 3
   },
   "file_extension": ".py",
   "mimetype": "text/x-python",
   "name": "python",
   "nbconvert_exporter": "python",
   "pygments_lexer": "ipython3",
   "version": "3.10.8"
  }
 },
 "nbformat": 4,
 "nbformat_minor": 5
}
