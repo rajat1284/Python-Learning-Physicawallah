{
 "cells": [
  {
   "cell_type": "markdown",
   "id": "d43efa78-6bb5-4feb-bb29-3e8a1f93e61f",
   "metadata": {},
   "source": [
    "# QUESTION 1"
   ]
  },
  {
   "cell_type": "markdown",
   "id": "e0dcf8ee-8616-4bd3-a408-5661a0cf4b94",
   "metadata": {},
   "source": [
    "Machine Learning is a sub-category of AI, and Deep Learning is a sub-category of ML, meaning they are both forms of AI. Artificial intelligence is the broad idea that machines can intelligently execute tasks by mimicking human behaviours and thought processes."
   ]
  },
  {
   "cell_type": "markdown",
   "id": "6de1b589-224d-422b-95fd-f5e972c80ddf",
   "metadata": {},
   "source": [
    " An example would be predicting the weather forecast for the next seven days based on data from the previous year and the previous week. Every day, the data from the previous year/week changes, so the ML model must adapt to the new data.\n",
    "\n",
    "Deep learning is a subset of ML. DL models are based on highly complex neural networks that mimic how the brain works. With many layers of processing units, deep learning takes it a step further to learn complex patterns in large amounts of data. For example, deep learning (combined with computer vision) in a driverless car can identify a person crossing the road.\n",
    "\n"
   ]
  },
  {
   "cell_type": "markdown",
   "id": "5ff96754-09f5-4a2a-9096-ddcaed13c718",
   "metadata": {},
   "source": [
    "# QUESTION 2"
   ]
  },
  {
   "cell_type": "markdown",
   "id": "5789d5e2-b2ea-4358-8ed4-3873a17aaeac",
   "metadata": {},
   "source": [
    "Supervised learning is the types of machine learning in which machines are trained using well \"labelled\" training data, and on basis of that data, machines predict the output. The labelled data means some input data is already tagged with the correct output."
   ]
  },
  {
   "cell_type": "markdown",
   "id": "701ceebf-c8f9-4c57-bef1-254db6979249",
   "metadata": {},
   "source": [
    "Example: Weather forecasting, Market Trends, etc"
   ]
  },
  {
   "cell_type": "markdown",
   "id": "469956a5-51c0-4024-80ef-152163fbcf0f",
   "metadata": {},
   "source": [
    "# QUESTION 3"
   ]
  },
  {
   "cell_type": "markdown",
   "id": "b9937a71-a7d0-439c-8782-74a5809ec162",
   "metadata": {},
   "source": [
    "Unsupervised learning is a type of machine learning in which models are trained using unlabeled dataset and are allowed to act on that data without any supervision"
   ]
  },
  {
   "cell_type": "markdown",
   "id": "6a07136f-f796-4c7a-8fd8-d9ce60efc106",
   "metadata": {},
   "source": [
    "Suppose the unsupervised learning algorithm is given an input dataset containing images of different types of cats and dogs. The algorithm is never trained upon the given dataset, which means it does not have any idea about the features of the dataset. The task of the unsupervised learning algorithm is to identify the image features on their own. Unsupervised learning algorithm will perform this task by clustering the image dataset into the groups according to similarities between images."
   ]
  },
  {
   "cell_type": "markdown",
   "id": "f79b0300-1a1c-43c4-ab1a-0b7cf47cb9ed",
   "metadata": {},
   "source": [
    "# QUESTION 4"
   ]
  },
  {
   "cell_type": "markdown",
   "id": "7dda92a3-e5d1-4f7d-a0c8-72f46b79681a",
   "metadata": {},
   "source": [
    "Data science is a discipline that uses various technologies and methods to analyze data. It combines computational science, statistics, mathematics, and company or business knowledge.\n",
    "\n",
    "The main goal of data science is to find patterns in data. It uses various statistical techniques to analyze and extract information from the data. Data scientists can help companies make smarter business decisions through these valuable insights. "
   ]
  },
  {
   "cell_type": "markdown",
   "id": "b0d30394-9a6c-432f-9be1-58eed8dea7ff",
   "metadata": {},
   "source": [
    "Deep learning is a s\n",
    "ubfield of artificial intelligence. It uses a multi-layered structure of algorithms called a neural network. DL algorithms also need data to learn and solve problems. We can also call it a subfield of machine learning. \n",
    "\n",
    "The terms machine learning and deep learning are often treated as synonyms. But, these systems have different capabilities.\n",
    "\n",
    "The deep learning approach is suited to complex tasks where all aspects of the objects can’t be classified in advance. The DL system finds appropriate differentiators in the data without any external classification. Thus, there is no need for a developer to intervene.\n",
    "\n"
   ]
  },
  {
   "cell_type": "markdown",
   "id": "033b5c5e-302f-4628-bcb6-c346ae8d843c",
   "metadata": {},
   "source": [
    "Machine Learning is the subsection of artificial intelligence based on algorithms and data usage. Machine learning requires complex math and a lot of coding to achieve the desired results.\n",
    "\n",
    "Machine learning algorithms use computational methods and learn from the data without depending on any predetermined equation. It is an application of AI that allows systems to learn and improve from experience. \n",
    "\n",
    "Machine learning algorithms improve their performance with increased samples available to learn and create better models. Machine learning algorithms use historical data as input to predict the new output. These algorithms identify data patterns, build self-explanatory models, and make predictions"
   ]
  },
  {
   "cell_type": "markdown",
   "id": "c377091d-31db-47d7-987f-9143b1f6dc1e",
   "metadata": {},
   "source": [
    "Artificial Intelligence is a branch of computer science. It involves building smart machines capable of performing tasks that need human intelligence.\n",
    "\n",
    "These systems mimic human cognitive functions, allowing decision-making, and helping improve learning. AI-enabled systems also forecast financial and business outcomes and offer solutions for businesses. These machines interpret data to achieve business goals with greater precision and efficiency."
   ]
  },
  {
   "cell_type": "markdown",
   "id": "1faddd20-a14f-43bf-b33e-63daeef584de",
   "metadata": {},
   "source": [
    "# QUESTION 5"
   ]
  },
  {
   "cell_type": "markdown",
   "id": "1f337216-ddcf-4c8c-96c5-30941ab629ff",
   "metadata": {},
   "source": [
    "Supervised: All the observations in the dataset are labeled and the algorithms learn to predict the output from the input data.\n",
    "\n",
    "Unsupervised: All the observations in the dataset are unlabeled and the algorithms learn to inherent structure from the input data.\n",
    "\n",
    "Semi-supervised: Some of the observations of the dataset arelabeled but most of them are usually unlabeled. So, a mixture of supervised and unsupervised methods are usually used."
   ]
  },
  {
   "cell_type": "markdown",
   "id": "190eb86c-2be2-4b84-8b0b-238529b44d6c",
   "metadata": {},
   "source": [
    "# QUESTION 6"
   ]
  },
  {
   "cell_type": "markdown",
   "id": "95da6602-1a89-42a7-bba3-2368ff425d08",
   "metadata": {},
   "source": [
    "The train, validation, and testing splits are built to combat overfitting.\n",
    "\n"
   ]
  },
  {
   "cell_type": "markdown",
   "id": "e30507f9-9a5f-4ba2-9113-0fe0a8fff760",
   "metadata": {},
   "source": [
    "The difference between the training set and the validation set is the training set is the largest corpus of your dataset that you reserve for training your model. After training, inference on these images will be taken with a grain of salt, since the model has already had a chance to look at and memorize the correct output."
   ]
  },
  {
   "cell_type": "markdown",
   "id": "87973888-82f8-496d-a334-2bc594b246f2",
   "metadata": {},
   "source": [
    "The validation set is a separate section of your dataset that you will use during training to get a sense of how well your model is doing on images that are not being used in training.\n",
    "\n"
   ]
  },
  {
   "cell_type": "markdown",
   "id": "df35355a-98bc-4265-829d-29171194d60e",
   "metadata": {},
   "source": [
    "After all of the training experiments have concluded, you probably have gotten a sense on how your model might do on the validation set. But it is important to remember that the validation set metrics may have influenced you during the creation of the model, and in this sense you might, as a designer, overfit the new model to the validation set.\n",
    "\n",
    "Because the validation set is heavily used in model creation, it is important to hold back a completely separate stronghold of data - the test set. You can run evaluation metrics on the test set at the very end of your project, to get a sense of how well your model will do in production.  \n",
    "\n"
   ]
  },
  {
   "cell_type": "markdown",
   "id": "80cbc86f-179a-46b4-9b42-07de9d95d3da",
   "metadata": {},
   "source": [
    "# QUESTION 7"
   ]
  },
  {
   "cell_type": "markdown",
   "id": "44c01a64-eb3c-4680-935c-2fd6b5730f9d",
   "metadata": {},
   "source": [
    "Unsupervised is useful when the data is unlabeled and thus requires less work to process the data set before- hand. Anomaly detection techniques of unsupervised nature assume that normal data points occur considerably more frequently than anomalous data points."
   ]
  },
  {
   "cell_type": "markdown",
   "id": "55941f5f-f3c4-4977-8e64-7abe0d0d20e5",
   "metadata": {},
   "source": [
    "Unsupervised anomaly detection involves an unlabeled dataset. It assumes that the majority data points in the unlabeled dataset are “normal” and it looks for data points that differs from the “normal” data points. In this article, we will be using Pycaret for detecting anomalies."
   ]
  },
  {
   "cell_type": "markdown",
   "id": "0042476b-0011-438b-a898-800b6b868847",
   "metadata": {},
   "source": [
    "# QUESTION 8"
   ]
  },
  {
   "cell_type": "markdown",
   "id": "b14ed00a-61a0-42ca-961b-46fe4ee41e9d",
   "metadata": {},
   "source": [
    "Supervised:- Regression / Classification\n",
    "Unsuoervised:- Neural net, KNN, CNN"
   ]
  },
  {
   "cell_type": "markdown",
   "id": "6d37aeea-ff2b-4acc-874a-d67717a57cb7",
   "metadata": {},
   "source": []
  }
 ],
 "metadata": {
  "kernelspec": {
   "display_name": "Python 3 (ipykernel)",
   "language": "python",
   "name": "python3"
  },
  "language_info": {
   "codemirror_mode": {
    "name": "ipython",
    "version": 3
   },
   "file_extension": ".py",
   "mimetype": "text/x-python",
   "name": "python",
   "nbconvert_exporter": "python",
   "pygments_lexer": "ipython3",
   "version": "3.10.8"
  }
 },
 "nbformat": 4,
 "nbformat_minor": 5
}
