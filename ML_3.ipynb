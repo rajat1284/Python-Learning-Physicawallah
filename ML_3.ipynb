{
 "cells": [
  {
   "cell_type": "markdown",
   "id": "8d425214-4d3e-4a36-add6-38590f716ce7",
   "metadata": {},
   "source": [
    "# QUESTION 1"
   ]
  },
  {
   "cell_type": "markdown",
   "id": "5e0124c6-5530-4bb1-87ed-217ffdbf663a",
   "metadata": {},
   "source": [
    "What are missing values in a dataset? Why is it essential to handle missing values? Name some\n",
    "algorithms that are not affected by missing values."
   ]
  },
  {
   "cell_type": "markdown",
   "id": "87d85a60-1562-4f8c-876c-e44916167e44",
   "metadata": {},
   "source": [
    "Missing values are values in a dataset which are not present , either due to data corruption or due to by design. It is essential to handle missing\n",
    "values because if not handled, then our modelling has a higher chance of going wrong and showing bias. \n",
    "Algorithms which are not affected by missing values are:-\n",
    "NN (K nearest neighbors) is one such algorithm. It will consider the missing values by taking the majority of the K nearest values. The random forest also is robust to categorical data with missing values."
   ]
  },
  {
   "cell_type": "markdown",
   "id": "b938983b-09cd-44e4-bb78-0b4b562450e4",
   "metadata": {},
   "source": [
    "# QUESTION 2"
   ]
  },
  {
   "cell_type": "markdown",
   "id": "0fa80663-3668-4466-9e43-2bd2264f6a75",
   "metadata": {},
   "source": [
    "List down techniques used to handle missing data. Give an example of each with python code."
   ]
  },
  {
   "cell_type": "markdown",
   "id": "646315eb-e62f-4489-8314-c53f978c10f1",
   "metadata": {},
   "source": [
    "One can drop rows that has missing data using df.dropna() df being the dataframe\n",
    "one can fill missing values with mean, median etc using fillna()"
   ]
  },
  {
   "cell_type": "markdown",
   "id": "ae963bf4-d85c-47b9-9255-9032f6ef4dca",
   "metadata": {},
   "source": [
    "# QUESTION 3"
   ]
  },
  {
   "cell_type": "markdown",
   "id": "bbe68fa7-3eb4-44e1-8948-5d14cfb45527",
   "metadata": {},
   "source": [
    "Explain the imbalanced data. What will happen if imbalanced data is not handled?"
   ]
  },
  {
   "cell_type": "markdown",
   "id": "75fc3f53-4081-4efc-9f1b-9b3377c79b4a",
   "metadata": {},
   "source": [
    "Imbalanced data is when the data is highly skewed towards one side of the output. For example, we want to analyze whether a particular experience\n",
    "was satisfactory or not. In this case, we if the sample is more moving towards satisfactory then our model will tend to move towards satisfactory even\n",
    "though its not.\n",
    "This will cause wrong modeling which will effectively lead to wrong output tagging."
   ]
  },
  {
   "cell_type": "markdown",
   "id": "f31be3ce-f74c-4ba6-8371-c01a02233083",
   "metadata": {},
   "source": [
    "# QUESTION 4"
   ]
  },
  {
   "cell_type": "markdown",
   "id": "b5889fca-7503-45b1-b980-2ce20ac96978",
   "metadata": {},
   "source": [
    "What are Up-sampling and Down-sampling? Explain with an example when up-sampling and down-\n",
    "sampling are required."
   ]
  },
  {
   "cell_type": "markdown",
   "id": "9ff21f48-2593-44dc-8a94-5f7c9928a665",
   "metadata": {},
   "source": [
    "Up-sampling and down sampling are techniques to ensure that data is balanced. Up-sampling is to ensure that minority\n",
    "becomes equal or near to equal to majority and down-sampling is to ensure that majority gets downgraded equal to minority."
   ]
  },
  {
   "cell_type": "markdown",
   "id": "0c5ad0f5-bef3-4984-a6f6-7b36010a0fca",
   "metadata": {},
   "source": [
    "Let's say car loans, we have data where 95% haven't defaulted but only 5% have defaulted. In this case we will need to downsample the 95% so\n",
    "we can have an accurate depiction. If we have reviews for a new product, we may need to upsample given that very few people tend to write reviews when everything goes well."
   ]
  },
  {
   "cell_type": "markdown",
   "id": "18566068-f9b4-4b89-959b-e00425047cb1",
   "metadata": {},
   "source": [
    "# QUESTION 5"
   ]
  },
  {
   "cell_type": "markdown",
   "id": "f367c845-7d6b-4fd7-a74a-ff6a49ad68f6",
   "metadata": {},
   "source": [
    " SMOTE is an algorithm that performs data augmentation by creating synthetic data points based on the original data points. SMOTE can be seen as an advanced version of oversampling, or as a specific algorithm for data augmentation."
   ]
  },
  {
   "cell_type": "markdown",
   "id": "0cdef35b-fc94-432a-b85a-9badfa683f44",
   "metadata": {},
   "source": [
    "Data augmentation is a technique of artificially increasing the training set by creating modified copies of a dataset using existing data. It includes making minor changes to the dataset or using deep learning to generate new data points."
   ]
  },
  {
   "cell_type": "markdown",
   "id": "2dd329ff-32a0-42e8-a3a9-e828e3bab96e",
   "metadata": {},
   "source": [
    "# QUESTION 6"
   ]
  },
  {
   "cell_type": "markdown",
   "id": "2b4ffbfb-0d28-4b4f-a7a2-cd670b89014c",
   "metadata": {},
   "source": [
    "What are outliers in a dataset? Why is it essential to handle outliers?"
   ]
  },
  {
   "cell_type": "markdown",
   "id": "b8889b36-04f5-4836-9704-648b5eee4851",
   "metadata": {},
   "source": [
    "Outliers are values that do not follow the normal pattern of values. For example, max people age will be 0-90. so if we see\n",
    "a age of 105, we tend to believe it is an outlier as it doesn't fit the normal pattern."
   ]
  },
  {
   "cell_type": "markdown",
   "id": "3084cce2-192b-438d-b4ef-745e9f8bad92",
   "metadata": {},
   "source": [
    "Outliers create issues in our statistical analysis as they change values such as mean, mode which can alter our modeling and our result"
   ]
  },
  {
   "cell_type": "markdown",
   "id": "11930481-3d4d-489e-a834-9994196322b3",
   "metadata": {},
   "source": [
    "# QUESTION 7"
   ]
  },
  {
   "cell_type": "markdown",
   "id": "ed6d1677-57a3-468a-9da5-36758ee91c43",
   "metadata": {},
   "source": [
    "You are working on a project that requires analyzing customer data. However, you notice that some of\n",
    "the data is missing. What are some techniques you can use to handle the missing data in your analysis?"
   ]
  },
  {
   "cell_type": "markdown",
   "id": "d040c1ee-a57b-478b-b353-203456d0ecc5",
   "metadata": {},
   "source": [
    "Either drop column that has that data missing, or either fill that data with its nearest possible value."
   ]
  },
  {
   "cell_type": "markdown",
   "id": "65972511-0797-464e-9e7a-0e99f18c13ff",
   "metadata": {},
   "source": [
    "# QUESTION 8"
   ]
  },
  {
   "cell_type": "markdown",
   "id": "551a3a24-8d16-41ce-bc0d-ab0f6496ae56",
   "metadata": {},
   "source": [
    "You are working with a large dataset and find that a small percentage of the data is missing. What are\n",
    "some strategies you can use to determine if the missing data is missing at random or if there is a pattern\n",
    "to the missing data?"
   ]
  },
  {
   "cell_type": "markdown",
   "id": "272f4200-a9fa-45f8-b34c-dd2101974ca8",
   "metadata": {},
   "source": [
    "Suppose a poll is taken for overdue books in a library. Gender and the number of overdue books are asked in the poll. Assume that most of the females answer the poll and men are less likely to answer. So why the data is missing can be explained by another factor, that is gender. In this case, the statistical analysis might result in bias. Getting an unbiased estimate of the parameters can be done only by modeling the missing data."
   ]
  },
  {
   "cell_type": "markdown",
   "id": "c06dcf09-8d90-429c-9795-82b2ad89a7bd",
   "metadata": {},
   "source": [
    "Imputation works best since if there is a relation between missing data to a specific other parameter."
   ]
  },
  {
   "cell_type": "markdown",
   "id": "0a966aef-d331-43b8-a306-14ca20abebf3",
   "metadata": {},
   "source": [
    "# QUESTION 9"
   ]
  },
  {
   "cell_type": "markdown",
   "id": "01ea9b69-6c47-4d53-8b89-fca901a6a638",
   "metadata": {},
   "source": [
    "Suppose you are working on a medical diagnosis project and find that the majority of patients in the\n",
    "dataset do not have the condition of interest, while a small percentage do. What are some strategies you\n",
    "can use to evaluate the performance of your machine learning model on this imbalanced dataset?"
   ]
  },
  {
   "cell_type": "markdown",
   "id": "058337e9-699c-4221-badf-48b9a1f318cb",
   "metadata": {},
   "source": [
    "Accuracy, Precision, Recall are some strategies one can use to evaluate the performance of model. Better way is to make the imbalanced dataset balanced"
   ]
  },
  {
   "cell_type": "markdown",
   "id": "3c8fc3a4-f133-40c3-9a6e-491c47161fe6",
   "metadata": {},
   "source": [
    "# QUESTION 10"
   ]
  },
  {
   "cell_type": "markdown",
   "id": "86471706-85eb-48bc-b569-81cfe1fb1739",
   "metadata": {},
   "source": [
    "When attempting to estimate customer satisfaction for a project, you discover that the dataset is\n",
    "unbalanced, with the bulk of customers reporting being satisfied. What methods can you employ to\n",
    "balance the dataset and down-sample the majority class?"
   ]
  },
  {
   "cell_type": "markdown",
   "id": "2da884ec-0769-442e-8d19-f6d0d6d70765",
   "metadata": {},
   "source": [
    "Resampling (Oversampling and Undersampling)\n",
    "This technique is used to upsample or downsample the minority or majority class. When we are using an imbalanced dataset, we can oversample the minority class using replacement. This technique is called oversampling"
   ]
  },
  {
   "cell_type": "markdown",
   "id": "2c46ad6f-5c84-4a69-81f5-d09d791f1922",
   "metadata": {},
   "source": [
    "# QUESTION 11"
   ]
  },
  {
   "cell_type": "markdown",
   "id": "01b40074-feeb-4644-b88c-1363bede9a92",
   "metadata": {},
   "source": [
    "You discover that the dataset is unbalanced with a low percentage of occurrences while working on a\n",
    "project that requires you to estimate the occurrence of a rare event. What methods can you employ to\n",
    "balance the dataset and up-sample the minority class?"
   ]
  },
  {
   "cell_type": "code",
   "execution_count": null,
   "id": "4bfb056b-96c7-4700-842a-8f4d424a4482",
   "metadata": {},
   "outputs": [],
   "source": [
    "SMOTE, resampling can be used to up-sample the minority class."
   ]
  }
 ],
 "metadata": {
  "kernelspec": {
   "display_name": "Python 3 (ipykernel)",
   "language": "python",
   "name": "python3"
  },
  "language_info": {
   "codemirror_mode": {
    "name": "ipython",
    "version": 3
   },
   "file_extension": ".py",
   "mimetype": "text/x-python",
   "name": "python",
   "nbconvert_exporter": "python",
   "pygments_lexer": "ipython3",
   "version": "3.10.8"
  }
 },
 "nbformat": 4,
 "nbformat_minor": 5
}
