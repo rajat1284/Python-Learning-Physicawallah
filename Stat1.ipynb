{
 "cells": [
  {
   "cell_type": "markdown",
   "id": "3d92c812-c9c3-4899-a7d6-0254f3b18daf",
   "metadata": {},
   "source": [
    "# QUESTION 1"
   ]
  },
  {
   "cell_type": "markdown",
   "id": "56cb7611-8be0-43e6-8b2f-251c72b41bfc",
   "metadata": {},
   "source": [
    "Statistics is the science concerned with developing and studying methods for collecting, analyzing, interpreting and presenting empirical data."
   ]
  },
  {
   "cell_type": "markdown",
   "id": "c9cdf350-8175-4dd9-8892-eb3be34d4f13",
   "metadata": {},
   "source": [
    "# QUESTION 2"
   ]
  },
  {
   "cell_type": "markdown",
   "id": "0566cd1e-4aa1-496b-889c-d87aa5376b8b",
   "metadata": {},
   "source": [
    "Statistics has two types, descriptive and inferential. Descriptive statistics explains already known data related to a particular sample or population of a small size. Inferential statistics, however, aims to draw inferences or conclusions about a whole population."
   ]
  },
  {
   "cell_type": "markdown",
   "id": "00529d4f-9239-41ae-9bfe-e7f180ce32f3",
   "metadata": {},
   "source": [
    "# QUESTION 3"
   ]
  },
  {
   "cell_type": "markdown",
   "id": "b06fed7d-c170-4d41-805d-cb60a521d3a3",
   "metadata": {},
   "source": [
    "There are two major types of data. Quantitative and Qualitative. Quantitative is mostly about the quantities, such as price, or counts or frequencies whereas qualitative is about quality features such as categories like good, bad, male, female etc."
   ]
  },
  {
   "cell_type": "markdown",
   "id": "e516d052-ec4f-4862-8ea7-cb94288a6ede",
   "metadata": {},
   "source": [
    "# QUESTION 4"
   ]
  },
  {
   "cell_type": "markdown",
   "id": "fb5462a9-5f21-46e5-8b7c-f8835259b42e",
   "metadata": {},
   "source": [
    "Categorise the following datasets with respect to quantitative and qualitative data types:\n",
    "(i) Grading in exam: A+, A, B+, B, C+, C, D, E\n",
    "(ii) Colour of mangoes: yellow, green, orange, red\n",
    "(iii) Height data of a class: [178.9, 179, 179.5, 176, 177.2, 178.3, 175.8,...]\n",
    "(iv) Number of mangoes exported by a farm: [500, 600, 478, 672, ...]"
   ]
  },
  {
   "cell_type": "markdown",
   "id": "2583e9a7-a8ce-4616-a7af-bb22bcf9707a",
   "metadata": {},
   "source": [
    "(i) Qualitative, ii) qualitative iii) quantitative iv) quantitative"
   ]
  },
  {
   "cell_type": "markdown",
   "id": "1519b5b7-b15b-4456-9cde-04110b7f492f",
   "metadata": {},
   "source": [
    "# QUESTION 5"
   ]
  },
  {
   "cell_type": "markdown",
   "id": "dc41edfe-5930-4454-b665-79cd0437dd24",
   "metadata": {},
   "source": [
    "There are 4 levels of measurement, which can be ranked from low to high: Nominal: the data can only be categorized. ex: City of birth\n",
    "\n",
    "Ordinal: the data can be categorized and ranked. ex:- Top 5 Olympic medallists\n",
    "Interval: the data can be categorized and ranked, and evenly spaced. ex:- Test scores (e.g., IQ or exams)\n",
    "Ratio: the data can be categorized, ranked, evenly spaced and has a natural zero. ex:- Age"
   ]
  },
  {
   "cell_type": "markdown",
   "id": "53aafe4a-0c1f-4a61-a41f-956425a9ae8a",
   "metadata": {},
   "source": [
    "# QUESTION 6"
   ]
  },
  {
   "cell_type": "markdown",
   "id": "2a4ae350-d705-4ac3-a3e3-d2ff741b0f36",
   "metadata": {},
   "source": [
    "\n",
    "It is important to understand the level of measurement of variables in research, because the level of measurement determines the type of statistical analysis that can be conducted, and, therefore, the type of conclusions that can be drawn from the research."
   ]
  },
  {
   "cell_type": "markdown",
   "id": "da67b6c4-0681-4d45-916a-c23f057dbe91",
   "metadata": {},
   "source": [
    "In the interval level, a common and constant unit of measurement has been established between the categories.  For example, the commonly used measures of temperature are interval level scales.  We know that a temperature of 75 degrees is one degree warmer than a temperature of 74 degrees, just as a temperature of 42 degrees is one degree warmer than a temperature of 41 degrees."
   ]
  },
  {
   "cell_type": "markdown",
   "id": "0f83b000-3a4c-45a9-8a40-f2ee0a29afdb",
   "metadata": {},
   "source": [
    "# QUESTION 7"
   ]
  },
  {
   "cell_type": "markdown",
   "id": "b4895ab1-66d2-4512-8f40-4d4641f7d952",
   "metadata": {},
   "source": [
    "A nominal level of measurement uses symbols to classify observations into categories that must be both mutually exclusive and exhaustivE.An ordinal level of measurement uses symbols to classify observations into categories that are not only mutually exclusive and exhaustive; in addition, the categories have some explicit relationship among them.\n",
    "\n"
   ]
  },
  {
   "cell_type": "markdown",
   "id": "eab2abab-a136-40fd-ac7c-0cfeeaea5745",
   "metadata": {},
   "source": [
    "# QUESTION 8"
   ]
  },
  {
   "cell_type": "markdown",
   "id": "d6c00d1c-ec3c-4d30-9a3b-9ed6c3259773",
   "metadata": {},
   "source": [
    "Histogram"
   ]
  },
  {
   "cell_type": "markdown",
   "id": "6a418635-9977-4e01-9b33-806e2d2801ce",
   "metadata": {},
   "source": [
    "# QUESTION 9"
   ]
  },
  {
   "cell_type": "markdown",
   "id": "48ee98b5-4548-4508-8cbc-e507006324dd",
   "metadata": {},
   "source": [
    "escriptive statistics explains already known data related to a particular sample or population of a small size. Inferential statistics, however, aims to draw inferences or conclusions about a whole population."
   ]
  },
  {
   "cell_type": "markdown",
   "id": "dde78c35-6bae-4a04-8138-579bd28d2530",
   "metadata": {},
   "source": [
    "\n",
    "Inferential statistics have two main uses: making estimates about populations (for example, the mean SAT score of all 11th graders in the US). testing hypotheses to draw conclusions about populations (for example, the relationship between SAT scores and family income)."
   ]
  },
  {
   "cell_type": "markdown",
   "id": "2119e041-0cd9-42aa-8d3f-a2132ca8a2c0",
   "metadata": {},
   "source": [
    "\n",
    "Image result for Describe the difference between descriptive and inferential statistics. Give an example of each type of statistics and explain how they are used.\n",
    "If you want a good example of descriptive statistics, look no further than a student's grade point average (GPA). A GPA gathers the data points created through a large selection of grades, classes, and exams then average them together and presents a general idea of the student's mean academic performance."
   ]
  },
  {
   "cell_type": "markdown",
   "id": "4cea0af3-d132-4288-b5e8-c8f42ba79a24",
   "metadata": {},
   "source": [
    "# QUESTION 10"
   ]
  },
  {
   "cell_type": "markdown",
   "id": "1b3d5790-4d0e-4cf7-8d24-f594ac90e3be",
   "metadata": {},
   "source": [
    "The three commonly used measures of central tendency are the mean, median, and mode. A statistic that tells us how the data values are dispersed or spread out is called the measure of dispersion."
   ]
  },
  {
   "cell_type": "markdown",
   "id": "0719af75-dc3d-4677-a5dc-95c918112572",
   "metadata": {},
   "source": [
    "Mean tells what's the average of the dataset, median shows how the spread is by looking at the spread and mode shows to know the value that is most commonly occuring"
   ]
  },
  {
   "cell_type": "code",
   "execution_count": null,
   "id": "4bedb1c1-3fb8-45b4-b8a8-7e774e72a3bc",
   "metadata": {},
   "outputs": [],
   "source": []
  }
 ],
 "metadata": {
  "kernelspec": {
   "display_name": "Python 3 (ipykernel)",
   "language": "python",
   "name": "python3"
  },
  "language_info": {
   "codemirror_mode": {
    "name": "ipython",
    "version": 3
   },
   "file_extension": ".py",
   "mimetype": "text/x-python",
   "name": "python",
   "nbconvert_exporter": "python",
   "pygments_lexer": "ipython3",
   "version": "3.10.8"
  }
 },
 "nbformat": 4,
 "nbformat_minor": 5
}
