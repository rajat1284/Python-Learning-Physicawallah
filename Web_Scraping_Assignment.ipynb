{
 "cells": [
  {
   "cell_type": "markdown",
   "id": "aeded583-8954-4132-bff3-45ef46141d80",
   "metadata": {},
   "source": [
    "# QUESTION 1"
   ]
  },
  {
   "cell_type": "markdown",
   "id": "eadb7cd1-2fee-4c12-af42-96a84b735244",
   "metadata": {},
   "source": [
    "Web scraping is the process of collecting and parsing raw data from the Web. Areas such as Ecommerce, Social Media websites, Maps information."
   ]
  },
  {
   "cell_type": "markdown",
   "id": "3d4851c9-09c0-4770-bb12-feeed47d762e",
   "metadata": {},
   "source": [
    "# QUESTION 2"
   ]
  },
  {
   "cell_type": "markdown",
   "id": "2fac5d45-64ec-479c-853d-04560cd1bc11",
   "metadata": {},
   "source": [
    "BeautifulSoup\n",
    "Scrapy\n",
    "Selenium\n",
    "Requests\n",
    "Urllib3\n",
    "Lxml\n",
    "MechanicalSoup"
   ]
  },
  {
   "cell_type": "markdown",
   "id": "bb810c99-168d-4f0c-9d3c-3de219bef634",
   "metadata": {},
   "source": [
    "# QUESTION 3"
   ]
  },
  {
   "cell_type": "markdown",
   "id": "2fefe561-8e6a-4ff3-a0cb-bf97c5d88f07",
   "metadata": {},
   "source": [
    " BeautifulSoup is one of the most helpful Python web scraping libraries for parsing HTML and XML documents into a tree structure to identify and extract data. BeautifulSoup offers a Pythonic interface and automated encoding conversions, making it easier to work with website data. "
   ]
  },
  {
   "cell_type": "markdown",
   "id": "6c536d23-31bb-4f06-87d9-bd7d6e1355fa",
   "metadata": {},
   "source": [
    "\n",
    "BeautifulSoup's excellent support for encoding detection is a valuable feature that can yield better outputs for authentic HTML sites that do not fully disclose their encoding.\n",
    "\n",
    "Beautiful Soup is built on well-known Python parsers like lxml and html5lib, enabling us to experiment with various parsing techniques or trade off speed for flexibility."
   ]
  },
  {
   "cell_type": "markdown",
   "id": "4cc016eb-d6d0-4821-bead-b55af548d8c9",
   "metadata": {},
   "source": [
    "# QUESTION 4"
   ]
  },
  {
   "cell_type": "markdown",
   "id": "5a816731-87ba-4205-af15-2a4fd9cd1f92",
   "metadata": {},
   "source": [
    "Flask is a lightweight framework to build websites. We'll use this to parse our collected data and display it as HTML in a new HTML file. The requests module allows us to send http requests to the website we want to scrape. "
   ]
  },
  {
   "cell_type": "markdown",
   "id": "e9c6bf2f-0acb-4920-b2f7-dd6f6a0b3225",
   "metadata": {},
   "source": [
    "# QUESTION 5"
   ]
  },
  {
   "cell_type": "markdown",
   "id": "d8ee62a3-86d0-456d-aae3-a67c641b97da",
   "metadata": {},
   "source": [
    " Elastic Beanstalk is a service for deploying and scaling web applications and services. Upload your code and Elastic Beanstalk automatically handles the deployment—from capacity provisioning, load balancing, and auto scaling to application health monitoring."
   ]
  },
  {
   "cell_type": "markdown",
   "id": "12460a05-65c3-4a3a-8752-95e70b86e36d",
   "metadata": {},
   "source": [
    "Other services are AWS Lambda, AWS Dynamo DB, EC2, Amazon Elastic Compute Cloud"
   ]
  },
  {
   "cell_type": "code",
   "execution_count": null,
   "id": "46af0e74-b522-4a9b-a17a-182ddc20a2e9",
   "metadata": {},
   "outputs": [],
   "source": []
  }
 ],
 "metadata": {
  "kernelspec": {
   "display_name": "Python 3 (ipykernel)",
   "language": "python",
   "name": "python3"
  },
  "language_info": {
   "codemirror_mode": {
    "name": "ipython",
    "version": 3
   },
   "file_extension": ".py",
   "mimetype": "text/x-python",
   "name": "python",
   "nbconvert_exporter": "python",
   "pygments_lexer": "ipython3",
   "version": "3.10.8"
  }
 },
 "nbformat": 4,
 "nbformat_minor": 5
}
