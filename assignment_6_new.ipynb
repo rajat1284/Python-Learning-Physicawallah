{
 "cells": [
  {
   "cell_type": "markdown",
   "id": "12b8628e-24f0-46da-9c50-7fdefc78f12e",
   "metadata": {},
   "source": [
    "# QUESTION 1"
   ]
  },
  {
   "cell_type": "code",
   "execution_count": 1,
   "id": "1113b9ee-7b5b-45ef-938b-762197680be4",
   "metadata": {},
   "outputs": [],
   "source": [
    "list1 = [1,2,3,4,[44,55,66, True], False, (34,56,78,89,34), {1,2,3,3,2,1}, {1:34, \"key2\": [55, 67, 78, 89], 4: (45,\n",
    "22, 61, 34)}, [56, 'data science'], 'Machine Learning']"
   ]
  },
  {
   "cell_type": "code",
   "execution_count": 2,
   "id": "0fa4fb51-c573-4fd6-aec6-b78ff236b9f4",
   "metadata": {},
   "outputs": [
    {
     "data": {
      "text/plain": [
       "[1,\n",
       " 2,\n",
       " 3,\n",
       " 4,\n",
       " [44, 55, 66, True],\n",
       " False,\n",
       " (34, 56, 78, 89, 34),\n",
       " {1, 2, 3},\n",
       " {1: 34, 'key2': [55, 67, 78, 89], 4: (45, 22, 61, 34)},\n",
       " [56, 'data science'],\n",
       " 'Machine Learning']"
      ]
     },
     "execution_count": 2,
     "metadata": {},
     "output_type": "execute_result"
    }
   ],
   "source": [
    "list1"
   ]
  },
  {
   "cell_type": "code",
   "execution_count": 3,
   "id": "9ed94dad-0498-40b2-a7e8-a1f9325a314e",
   "metadata": {},
   "outputs": [],
   "source": [
    "def multi(x):\n",
    "    flatlist = []\n",
    "    for element in list1:\n",
    "        if type(element) is int:\n",
    "            flatlist.append(element)\n",
    "        elif type(element) is list or type(element) is tuple or type(element) is set:\n",
    "            for item in element:\n",
    "                if type(item) == int:\n",
    "                    flatlist.append(item)\n",
    "        elif type(element) is dict:\n",
    "            for item in element.values():\n",
    "                if type(item) ==int:\n",
    "                    flatlist.append(item)\n",
    "                elif type(item) is list or type(item) is tuple or type(item) is set:\n",
    "                    for a in item:\n",
    "                        if type(a) == int:\n",
    "                            flatlist.append(a)\n",
    "            for item in element.keys():\n",
    "                if type(item) == int:\n",
    "                    flatlist.append(item)\n",
    "    return flatlist"
   ]
  },
  {
   "cell_type": "code",
   "execution_count": 4,
   "id": "809b589c-a8bd-4f93-a6bc-3c9e063a0742",
   "metadata": {},
   "outputs": [],
   "source": [
    "def product(x,y):\n",
    "    return x*y"
   ]
  },
  {
   "cell_type": "code",
   "execution_count": 6,
   "id": "91bab119-a76d-4b4d-b9ca-d7aec03d06e3",
   "metadata": {},
   "outputs": [
    {
     "data": {
      "text/plain": [
       "4134711838987085478833841242112000"
      ]
     },
     "execution_count": 6,
     "metadata": {},
     "output_type": "execute_result"
    }
   ],
   "source": [
    "from functools import reduce\n",
    "reduce(product,multi(list1))"
   ]
  },
  {
   "cell_type": "markdown",
   "id": "9e8a5e4d-5494-4c9c-95c5-c9707cf9295e",
   "metadata": {},
   "source": [
    "# QUESTION 2"
   ]
  },
  {
   "cell_type": "code",
   "execution_count": 146,
   "id": "e62cbcae-90b2-440f-b4f0-86910a88555d",
   "metadata": {},
   "outputs": [],
   "source": [
    "input_line = \"I want to become a Data Scientist.\""
   ]
  },
  {
   "cell_type": "code",
   "execution_count": 147,
   "id": "c2313a56-04fc-4993-bcb5-d5680d295a0b",
   "metadata": {},
   "outputs": [
    {
     "data": {
      "text/plain": [
       "'i want to become a data scientist.'"
      ]
     },
     "execution_count": 147,
     "metadata": {},
     "output_type": "execute_result"
    }
   ],
   "source": [
    "b = input_line.lower()\n",
    "b"
   ]
  },
  {
   "cell_type": "code",
   "execution_count": 172,
   "id": "63d88806-64d1-4219-ad01-0c8bf82c6b8f",
   "metadata": {},
   "outputs": [],
   "source": [
    "reverse  = 'zyxwvutsrqponmlkjihgfedcba'\n",
    "original = 'abcdefghijklmnopqrstuvwxyz'\n",
    "a = []\n",
    "for i in range(0,len(b)):\n",
    "    for j in range(0,len(original)):\n",
    "        if b[i] == original[j]:\n",
    "            a.append(reverse[j])\n",
    "    if b[i] == \" \":\n",
    "            #d = print(\"$\")\n",
    "            a.append(\"$\")\n",
    "    if b[i] == \".\":\n",
    "            a.append(\".\")\n",
    "          #c =  print(\".\")\n",
    "\n",
    "    "
   ]
  },
  {
   "cell_type": "code",
   "execution_count": 183,
   "id": "ab168bed-d80e-4a60-9650-e77a9945573c",
   "metadata": {},
   "outputs": [],
   "source": [
    "output = \"\".join([str(a) for a in a])"
   ]
  },
  {
   "cell_type": "code",
   "execution_count": 184,
   "id": "4736bfb9-59c4-47d2-a3e5-601797c450e3",
   "metadata": {},
   "outputs": [
    {
     "data": {
      "text/plain": [
       "'r$dzmg$gl$yvxlnv$z$wzgz$hxrvmgrhg.'"
      ]
     },
     "execution_count": 184,
     "metadata": {},
     "output_type": "execute_result"
    }
   ],
   "source": [
    "output"
   ]
  },
  {
   "cell_type": "code",
   "execution_count": null,
   "id": "3cd86815-9fc3-45ee-a6ad-3d25988d2bf4",
   "metadata": {},
   "outputs": [],
   "source": []
  }
 ],
 "metadata": {
  "kernelspec": {
   "display_name": "Python 3 (ipykernel)",
   "language": "python",
   "name": "python3"
  },
  "language_info": {
   "codemirror_mode": {
    "name": "ipython",
    "version": 3
   },
   "file_extension": ".py",
   "mimetype": "text/x-python",
   "name": "python",
   "nbconvert_exporter": "python",
   "pygments_lexer": "ipython3",
   "version": "3.10.8"
  }
 },
 "nbformat": 4,
 "nbformat_minor": 5
}
