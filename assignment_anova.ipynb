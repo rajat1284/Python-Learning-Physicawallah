{
 "cells": [
  {
   "cell_type": "markdown",
   "id": "bd71bf89-1b9d-4e4d-9064-b64cbcbbd6a3",
   "metadata": {},
   "source": [
    "# QUESTION 1"
   ]
  },
  {
   "cell_type": "markdown",
   "id": "ddace611-eeb3-4397-9c2c-c6a69b983e4f",
   "metadata": {},
   "source": [
    "Explain the assumptions required to use ANOVA and provide examples of violations that could impact\n",
    "the validity of the results."
   ]
  },
  {
   "cell_type": "markdown",
   "id": "ab9fb3d3-cf27-4e09-a30c-c3960949322c",
   "metadata": {},
   "source": [
    "There are three primary assumptions in ANOVA: The responses for each factor level have a normal population distribution. These distributions have the same variance. The data are independent."
   ]
  },
  {
   "cell_type": "markdown",
   "id": "bfe59ca6-015e-4e0e-a414-3f7f722f9c6c",
   "metadata": {},
   "source": [
    "A lack of independence of cases has been stated as the most serious assumption to fail"
   ]
  },
  {
   "cell_type": "markdown",
   "id": "a152b3ff-6635-4966-b22c-ab70a18ec0ef",
   "metadata": {},
   "source": [
    "# QUESTION 2"
   ]
  },
  {
   "cell_type": "markdown",
   "id": "f23f81d6-a408-400f-8fe6-309a2b1499f4",
   "metadata": {},
   "source": [
    "What are the three types of ANOVA, and in what situations would each be used?"
   ]
  },
  {
   "cell_type": "markdown",
   "id": "0271c103-7341-4cfc-985e-212fcc09c593",
   "metadata": {},
   "source": [
    "There are two main types: one-way and two-way. Two-way tests can be with or without replication. One-way ANOVA between groups: used when you want to test two groups to see if there's a difference between them. Two way ANOVA without replication: used when you have one group and you're double-testing that same group."
   ]
  },
  {
   "cell_type": "markdown",
   "id": "16300f48-a772-44bc-9bf2-23adff3160f2",
   "metadata": {},
   "source": [
    "# QUESTION 3"
   ]
  },
  {
   "cell_type": "markdown",
   "id": "0e17b38d-dad6-4331-8f51-eed913ca7bdd",
   "metadata": {},
   "source": [
    "What is the partitioning of variance in ANOVA, and why is it important to understand this concept?"
   ]
  },
  {
   "cell_type": "markdown",
   "id": "84865373-cbc9-42b1-9627-020b97d5a6e0",
   "metadata": {},
   "source": [
    "ANOVA is the partitioning of variation as per the assignable causes and random component and by this partitioning ANOVA technique may be used as a method for testing significance of difference among means"
   ]
  },
  {
   "cell_type": "markdown",
   "id": "40baff6f-6508-4a73-9f9a-1887d38424be",
   "metadata": {},
   "source": [
    "# QUESTION 4"
   ]
  },
  {
   "cell_type": "markdown",
   "id": "01c258d6-86a5-4273-b5a8-3a05e2d40b9e",
   "metadata": {},
   "source": [
    "How would you calculate the total sum of squares (SST), explained sum of squares (SSE), and residual\n",
    "sum of squares (SSR) in a one-way ANOVA using Python?"
   ]
  },
  {
   "cell_type": "markdown",
   "id": "c16e822a-bb42-4e2a-8786-65ab25452c7e",
   "metadata": {},
   "source": [
    "\n",
    "The sum of squares total, denoted SST, is the squared differences between the observed dependent variable and its mean. You can think of this as the dispersion of the observed variables around the mean – much like the variance in descriptive statistics.The second term is the sum of squares due to regression, or SSR. It is the sum of the differences between the predicted value and the mean of the dependent variable. Think of it as a measure that describes how well our line fits the data.The last term is the sum of squares error, or SSE. The error is the difference between the observed value and the predicted value."
   ]
  },
  {
   "cell_type": "markdown",
   "id": "981b29f5-36e8-4d75-a309-1478ab672383",
   "metadata": {},
   "source": [
    "# QUESTION 5"
   ]
  },
  {
   "cell_type": "markdown",
   "id": "83bc34f2-e8ae-4198-8738-b8bae76f440b",
   "metadata": {},
   "source": [
    "In a two-way ANOVA, how would\n",
    "you calculate the main effects and interaction effects using Python?"
   ]
  },
  {
   "cell_type": "code",
   "execution_count": 2,
   "id": "1a81fd84-f76c-4280-bdb2-892a8c6b7209",
   "metadata": {},
   "outputs": [],
   "source": [
    "# Importing libraries\n",
    "import numpy as np\n",
    "import pandas as pd\n",
    "\n",
    "# Create a dataframe\n",
    "dataframe = pd.DataFrame({'Fertilizer': np.repeat(['daily', 'weekly'], 15),\n",
    "\t\t\t\t\t\t'Watering': np.repeat(['daily', 'weekly'], 15),\n",
    "\t\t\t\t\t\t'height': [14, 16, 15, 15, 16, 13, 12, 11, 14,\n",
    "\t\t\t\t\t\t\t\t\t15, 16, 16, 17, 18, 14, 13, 14, 14,\n",
    "\t\t\t\t\t\t\t\t\t14, 15, 16, 16, 17, 18, 14, 13, 14,\n",
    "\t\t\t\t\t\t\t\t\t14, 14, 15]})\n"
   ]
  },
  {
   "cell_type": "code",
   "execution_count": 4,
   "id": "fe0988c6-6450-459a-b4f0-a62b3800e982",
   "metadata": {},
   "outputs": [
    {
     "data": {
      "text/html": [
       "<div>\n",
       "<style scoped>\n",
       "    .dataframe tbody tr th:only-of-type {\n",
       "        vertical-align: middle;\n",
       "    }\n",
       "\n",
       "    .dataframe tbody tr th {\n",
       "        vertical-align: top;\n",
       "    }\n",
       "\n",
       "    .dataframe thead th {\n",
       "        text-align: right;\n",
       "    }\n",
       "</style>\n",
       "<table border=\"1\" class=\"dataframe\">\n",
       "  <thead>\n",
       "    <tr style=\"text-align: right;\">\n",
       "      <th></th>\n",
       "      <th>sum_sq</th>\n",
       "      <th>df</th>\n",
       "      <th>F</th>\n",
       "      <th>PR(&gt;F)</th>\n",
       "    </tr>\n",
       "  </thead>\n",
       "  <tbody>\n",
       "    <tr>\n",
       "      <th>C(Fertilizer)</th>\n",
       "      <td>4.390651e-13</td>\n",
       "      <td>1.0</td>\n",
       "      <td>1.589719e-13</td>\n",
       "      <td>1.000000</td>\n",
       "    </tr>\n",
       "    <tr>\n",
       "      <th>C(Watering)</th>\n",
       "      <td>8.630952e-02</td>\n",
       "      <td>1.0</td>\n",
       "      <td>3.125000e-02</td>\n",
       "      <td>0.860956</td>\n",
       "    </tr>\n",
       "    <tr>\n",
       "      <th>C(Fertilizer):C(Watering)</th>\n",
       "      <td>3.333333e-02</td>\n",
       "      <td>1.0</td>\n",
       "      <td>1.206897e-02</td>\n",
       "      <td>0.913305</td>\n",
       "    </tr>\n",
       "    <tr>\n",
       "      <th>Residual</th>\n",
       "      <td>7.733333e+01</td>\n",
       "      <td>28.0</td>\n",
       "      <td>NaN</td>\n",
       "      <td>NaN</td>\n",
       "    </tr>\n",
       "  </tbody>\n",
       "</table>\n",
       "</div>"
      ],
      "text/plain": [
       "                                 sum_sq    df             F    PR(>F)\n",
       "C(Fertilizer)              4.390651e-13   1.0  1.589719e-13  1.000000\n",
       "C(Watering)                8.630952e-02   1.0  3.125000e-02  0.860956\n",
       "C(Fertilizer):C(Watering)  3.333333e-02   1.0  1.206897e-02  0.913305\n",
       "Residual                   7.733333e+01  28.0           NaN       NaN"
      ]
     },
     "execution_count": 4,
     "metadata": {},
     "output_type": "execute_result"
    }
   ],
   "source": [
    "# Importing libraries\n",
    "import statsmodels.api as sm\n",
    "from statsmodels.formula.api import ols\n",
    "\n",
    "# Performing two-way ANOVA\n",
    "model = ols(\n",
    "\t'height ~ C(Fertilizer) + C(Watering) +\\\n",
    "\tC(Fertilizer):C(Watering)', data=dataframe).fit()\n",
    "sm.stats.anova_lm(model, typ=2)\n"
   ]
  },
  {
   "cell_type": "code",
   "execution_count": 5,
   "id": "74fceb36-32b6-465b-9cb8-509e27cc4554",
   "metadata": {},
   "outputs": [
    {
     "name": "stdout",
     "output_type": "stream",
     "text": [
      "                             df     sum_sq   mean_sq         F    PR(>F)\n",
      "C(Fertilizer)               1.0   0.033333  0.033333  0.012069  0.913305\n",
      "C(Watering)                 1.0   0.000369  0.000369  0.000133  0.990865\n",
      "C(Fertilizer):C(Watering)   1.0   0.040866  0.040866  0.014796  0.904053\n",
      "Residual                   28.0  77.333333  2.761905       NaN       NaN\n"
     ]
    }
   ],
   "source": [
    "# Importing libraries\n",
    "import statsmodels.api as sm\n",
    "from statsmodels.formula.api import ols\n",
    "\n",
    "# Create a dataframe\n",
    "dataframe = pd.DataFrame({'Fertilizer': np.repeat(['daily', 'weekly'], 15),\n",
    "\t\t\t\t\t\t'Watering': np.repeat(['daily', 'weekly'], 15),\n",
    "\t\t\t\t\t\t'height': [14, 16, 15, 15, 16, 13, 12, 11,\n",
    "\t\t\t\t\t\t\t\t\t14, 15, 16, 16, 17, 18, 14, 13,\n",
    "\t\t\t\t\t\t\t\t\t14, 14, 14, 15, 16, 16, 17, 18,\n",
    "\t\t\t\t\t\t\t\t\t14, 13, 14, 14, 14, 15]})\n",
    "\n",
    "\n",
    "# Performing two-way ANOVA\n",
    "model = ols('height ~ C(Fertilizer) + C(Watering) +\\\n",
    "C(Fertilizer):C(Watering)',\n",
    "\t\t\tdata=dataframe).fit()\n",
    "result = sm.stats.anova_lm(model, type=2)\n",
    "\n",
    "# Print the result\n",
    "print(result)\n"
   ]
  },
  {
   "cell_type": "code",
   "execution_count": 6,
   "id": "8ebb38a9-ac4e-45c6-9715-67b0fdc09f9f",
   "metadata": {},
   "outputs": [
    {
     "data": {
      "text/html": [
       "<div>\n",
       "<style scoped>\n",
       "    .dataframe tbody tr th:only-of-type {\n",
       "        vertical-align: middle;\n",
       "    }\n",
       "\n",
       "    .dataframe tbody tr th {\n",
       "        vertical-align: top;\n",
       "    }\n",
       "\n",
       "    .dataframe thead th {\n",
       "        text-align: right;\n",
       "    }\n",
       "</style>\n",
       "<table border=\"1\" class=\"dataframe\">\n",
       "  <thead>\n",
       "    <tr style=\"text-align: right;\">\n",
       "      <th></th>\n",
       "      <th>Fertilizer</th>\n",
       "      <th>Watering</th>\n",
       "      <th>height</th>\n",
       "    </tr>\n",
       "  </thead>\n",
       "  <tbody>\n",
       "    <tr>\n",
       "      <th>0</th>\n",
       "      <td>daily</td>\n",
       "      <td>daily</td>\n",
       "      <td>14</td>\n",
       "    </tr>\n",
       "    <tr>\n",
       "      <th>1</th>\n",
       "      <td>daily</td>\n",
       "      <td>daily</td>\n",
       "      <td>16</td>\n",
       "    </tr>\n",
       "    <tr>\n",
       "      <th>2</th>\n",
       "      <td>daily</td>\n",
       "      <td>daily</td>\n",
       "      <td>15</td>\n",
       "    </tr>\n",
       "    <tr>\n",
       "      <th>3</th>\n",
       "      <td>daily</td>\n",
       "      <td>daily</td>\n",
       "      <td>15</td>\n",
       "    </tr>\n",
       "    <tr>\n",
       "      <th>4</th>\n",
       "      <td>daily</td>\n",
       "      <td>daily</td>\n",
       "      <td>16</td>\n",
       "    </tr>\n",
       "    <tr>\n",
       "      <th>5</th>\n",
       "      <td>daily</td>\n",
       "      <td>daily</td>\n",
       "      <td>13</td>\n",
       "    </tr>\n",
       "    <tr>\n",
       "      <th>6</th>\n",
       "      <td>daily</td>\n",
       "      <td>daily</td>\n",
       "      <td>12</td>\n",
       "    </tr>\n",
       "    <tr>\n",
       "      <th>7</th>\n",
       "      <td>daily</td>\n",
       "      <td>daily</td>\n",
       "      <td>11</td>\n",
       "    </tr>\n",
       "    <tr>\n",
       "      <th>8</th>\n",
       "      <td>daily</td>\n",
       "      <td>daily</td>\n",
       "      <td>14</td>\n",
       "    </tr>\n",
       "    <tr>\n",
       "      <th>9</th>\n",
       "      <td>daily</td>\n",
       "      <td>daily</td>\n",
       "      <td>15</td>\n",
       "    </tr>\n",
       "    <tr>\n",
       "      <th>10</th>\n",
       "      <td>daily</td>\n",
       "      <td>daily</td>\n",
       "      <td>16</td>\n",
       "    </tr>\n",
       "    <tr>\n",
       "      <th>11</th>\n",
       "      <td>daily</td>\n",
       "      <td>daily</td>\n",
       "      <td>16</td>\n",
       "    </tr>\n",
       "    <tr>\n",
       "      <th>12</th>\n",
       "      <td>daily</td>\n",
       "      <td>daily</td>\n",
       "      <td>17</td>\n",
       "    </tr>\n",
       "    <tr>\n",
       "      <th>13</th>\n",
       "      <td>daily</td>\n",
       "      <td>daily</td>\n",
       "      <td>18</td>\n",
       "    </tr>\n",
       "    <tr>\n",
       "      <th>14</th>\n",
       "      <td>daily</td>\n",
       "      <td>daily</td>\n",
       "      <td>14</td>\n",
       "    </tr>\n",
       "    <tr>\n",
       "      <th>15</th>\n",
       "      <td>weekly</td>\n",
       "      <td>weekly</td>\n",
       "      <td>13</td>\n",
       "    </tr>\n",
       "    <tr>\n",
       "      <th>16</th>\n",
       "      <td>weekly</td>\n",
       "      <td>weekly</td>\n",
       "      <td>14</td>\n",
       "    </tr>\n",
       "    <tr>\n",
       "      <th>17</th>\n",
       "      <td>weekly</td>\n",
       "      <td>weekly</td>\n",
       "      <td>14</td>\n",
       "    </tr>\n",
       "    <tr>\n",
       "      <th>18</th>\n",
       "      <td>weekly</td>\n",
       "      <td>weekly</td>\n",
       "      <td>14</td>\n",
       "    </tr>\n",
       "    <tr>\n",
       "      <th>19</th>\n",
       "      <td>weekly</td>\n",
       "      <td>weekly</td>\n",
       "      <td>15</td>\n",
       "    </tr>\n",
       "    <tr>\n",
       "      <th>20</th>\n",
       "      <td>weekly</td>\n",
       "      <td>weekly</td>\n",
       "      <td>16</td>\n",
       "    </tr>\n",
       "    <tr>\n",
       "      <th>21</th>\n",
       "      <td>weekly</td>\n",
       "      <td>weekly</td>\n",
       "      <td>16</td>\n",
       "    </tr>\n",
       "    <tr>\n",
       "      <th>22</th>\n",
       "      <td>weekly</td>\n",
       "      <td>weekly</td>\n",
       "      <td>17</td>\n",
       "    </tr>\n",
       "    <tr>\n",
       "      <th>23</th>\n",
       "      <td>weekly</td>\n",
       "      <td>weekly</td>\n",
       "      <td>18</td>\n",
       "    </tr>\n",
       "    <tr>\n",
       "      <th>24</th>\n",
       "      <td>weekly</td>\n",
       "      <td>weekly</td>\n",
       "      <td>14</td>\n",
       "    </tr>\n",
       "    <tr>\n",
       "      <th>25</th>\n",
       "      <td>weekly</td>\n",
       "      <td>weekly</td>\n",
       "      <td>13</td>\n",
       "    </tr>\n",
       "    <tr>\n",
       "      <th>26</th>\n",
       "      <td>weekly</td>\n",
       "      <td>weekly</td>\n",
       "      <td>14</td>\n",
       "    </tr>\n",
       "    <tr>\n",
       "      <th>27</th>\n",
       "      <td>weekly</td>\n",
       "      <td>weekly</td>\n",
       "      <td>14</td>\n",
       "    </tr>\n",
       "    <tr>\n",
       "      <th>28</th>\n",
       "      <td>weekly</td>\n",
       "      <td>weekly</td>\n",
       "      <td>14</td>\n",
       "    </tr>\n",
       "    <tr>\n",
       "      <th>29</th>\n",
       "      <td>weekly</td>\n",
       "      <td>weekly</td>\n",
       "      <td>15</td>\n",
       "    </tr>\n",
       "  </tbody>\n",
       "</table>\n",
       "</div>"
      ],
      "text/plain": [
       "   Fertilizer Watering  height\n",
       "0       daily    daily      14\n",
       "1       daily    daily      16\n",
       "2       daily    daily      15\n",
       "3       daily    daily      15\n",
       "4       daily    daily      16\n",
       "5       daily    daily      13\n",
       "6       daily    daily      12\n",
       "7       daily    daily      11\n",
       "8       daily    daily      14\n",
       "9       daily    daily      15\n",
       "10      daily    daily      16\n",
       "11      daily    daily      16\n",
       "12      daily    daily      17\n",
       "13      daily    daily      18\n",
       "14      daily    daily      14\n",
       "15     weekly   weekly      13\n",
       "16     weekly   weekly      14\n",
       "17     weekly   weekly      14\n",
       "18     weekly   weekly      14\n",
       "19     weekly   weekly      15\n",
       "20     weekly   weekly      16\n",
       "21     weekly   weekly      16\n",
       "22     weekly   weekly      17\n",
       "23     weekly   weekly      18\n",
       "24     weekly   weekly      14\n",
       "25     weekly   weekly      13\n",
       "26     weekly   weekly      14\n",
       "27     weekly   weekly      14\n",
       "28     weekly   weekly      14\n",
       "29     weekly   weekly      15"
      ]
     },
     "execution_count": 6,
     "metadata": {},
     "output_type": "execute_result"
    }
   ],
   "source": [
    "dataframe"
   ]
  },
  {
   "cell_type": "markdown",
   "id": "b00ab43d-d62f-48da-ad44-970140804d0f",
   "metadata": {},
   "source": [
    "# QUESTION 6"
   ]
  },
  {
   "cell_type": "markdown",
   "id": "03820299-0788-41d0-b398-ac5466336fe4",
   "metadata": {},
   "source": [
    "Suppose you conducted a one-way ANOVA and obtained an F-statistic of 5.23 and a p-value of 0.02.\n",
    "What can you conclude about the differences between the groups, and how would you interpret these\n",
    "results?"
   ]
  },
  {
   "cell_type": "markdown",
   "id": "a074e239-e814-46a6-8493-b5f619cfbb8e",
   "metadata": {},
   "source": [
    "The lower the p value is for a given ratio, the more reliably we can reject the null hypothesis that a particular source or model or parameter is not significant. The differences between the group is quite significant. "
   ]
  },
  {
   "cell_type": "markdown",
   "id": "dde7174c-6445-49a6-8c70-1eb15a46fb24",
   "metadata": {},
   "source": [
    "# QUESTION 7"
   ]
  },
  {
   "cell_type": "markdown",
   "id": "83a3d444-9fe0-48fe-a907-6a760a0517c3",
   "metadata": {},
   "source": [
    "In a repeated measures ANOVA, how would you handle missing data, and what are the potential\n",
    "consequences of using different methods to handle missing data?"
   ]
  },
  {
   "cell_type": "markdown",
   "id": "4351da51-0a39-4f1e-8296-a8c5b2d1da59",
   "metadata": {},
   "source": [
    "Deletion of missing data is one option or filling of missing data with its closest neighbor. The problem is that repeated measures ANOVA treats each measurement as a separate variable. Because it uses listwise deletion, if one measurement is missing, the entire case gets dropped."
   ]
  },
  {
   "cell_type": "markdown",
   "id": "6b3403a1-47c0-4a41-ac8c-cbbc1b0a9636",
   "metadata": {},
   "source": [
    "# QUESTION 8"
   ]
  },
  {
   "cell_type": "markdown",
   "id": "e482cdfa-9f2d-4c0e-b21a-8c63600b5c32",
   "metadata": {},
   "source": [
    "What are some common post-hoc tests used after ANOVA, and when would you use each one? Provide\n",
    "an example of a situation where a post-hoc test might be necessary."
   ]
  },
  {
   "cell_type": "markdown",
   "id": "f1c2b78a-aa16-4c0d-8104-bdad55515fa9",
   "metadata": {},
   "source": [
    "Post hoc tests are an integral part of ANOVA. When you use ANOVA to test the equality of at least three group means, statistically significant results indicate that not all of the group means are equal. However, ANOVA results do not identify which particular differences between pairs of means are significant. Use post hoc tests to explore differences between multiple group means while controlling the experiment-wise error rate."
   ]
  },
  {
   "cell_type": "markdown",
   "id": "ab74d643-d95d-473c-b06a-847641f78055",
   "metadata": {},
   "source": [
    "If the p-value from your ANOVA F-test or Welch’s test is less than your significance level, you can reject the null hypothesis.\n",
    "\n"
   ]
  },
  {
   "cell_type": "markdown",
   "id": "dcaeb898-32d9-4c7a-b1a6-e136af1b6349",
   "metadata": {},
   "source": [
    "Example of Using Dunnett’s Method to Compare Treatment Groups to a Control Group\n",
    "If your study has a control group and several treatment groups, you might need to compare the treatment groups only to the control group.\n",
    "\n",
    "Use Dunnett’s method when the following are true:\n",
    "\n",
    "Before the study, you know which group (control) you want to compare to all the other groups (treatments).\n",
    "You don’t need to compare the treatment groups to each other."
   ]
  },
  {
   "cell_type": "markdown",
   "id": "51de8d8c-6531-4fd8-86ba-4e71d8e29b6b",
   "metadata": {},
   "source": [
    "Example of Using Hsu’s MCB to Find the Strongest Material\n",
    "If your study’s goal is to identify the best group, you might not need to compare all possible groups. Hsu’s Multiple Comparisons to the Best (MCB) identifies the groups that are the best, insignificantly different from the best, and significantly different from the best.\n",
    "\n",
    "Use Hsu’s MCB when you:\n",
    "\n",
    "Don’t know in advance which group you want to compare to all the other groups.\n",
    "Don’t need to compare groups that are not the best to other groups that are not the best.\n",
    "Can define “the best” as either the group with the highest mean or the lowest mean."
   ]
  },
  {
   "cell_type": "markdown",
   "id": "8ab646b0-37d8-4f08-a026-34a43b21e76d",
   "metadata": {},
   "source": [
    "# QUESTION 9"
   ]
  },
  {
   "cell_type": "markdown",
   "id": "2def87c6-8b8e-4561-ba61-50dd88db1699",
   "metadata": {},
   "source": [
    "A researcher wants to compare the mean weight loss of three diets: A, B, and C. They collect data from\n",
    "50 participants who were randomly assigned to one of the diets. Conduct a one-way ANOVA using Python\n",
    "to determine if there are any significant differences between the mean weight loss of the three diets.\n",
    "Report the F-statistic and p-value, and interpret the results."
   ]
  },
  {
   "cell_type": "code",
   "execution_count": 9,
   "id": "b7d248c4-0955-4660-9c24-af4d859c0191",
   "metadata": {},
   "outputs": [
    {
     "data": {
      "text/plain": [
       "F_onewayResult(statistic=0.9755111545203456, pvalue=0.38405874133622464)"
      ]
     },
     "execution_count": 9,
     "metadata": {},
     "output_type": "execute_result"
    }
   ],
   "source": [
    "# Importing library\n",
    "from scipy.stats import f_oneway\n",
    "\n",
    "diet1 = [1,2,1,1,0,1,1,2,3,1,1,2,3,1,2,2,1,2,1]\n",
    "diet2 = [1.5, 1,1,1,1,2,3,1,2,2,2,1,2,1,3,4,1,5]\n",
    "diet33 = [2.5,1,2,3,1,2,1,3,1,2,4,5,1,1,1,0]\n",
    "\n",
    "\n",
    "# Conduct the one-way ANOVA\n",
    "f_oneway(diet1,diet2,diet33)\n"
   ]
  },
  {
   "cell_type": "markdown",
   "id": "a8a84e8d-2c62-4045-8564-5942a93c9fb5",
   "metadata": {},
   "source": [
    "# QUESTION 10"
   ]
  },
  {
   "cell_type": "markdown",
   "id": "2d3b6877-501e-4e82-88f3-f5b5a568c386",
   "metadata": {},
   "source": [
    "A company wants to know if there are any significant differences in the average time it takes to\n",
    "complete a task using three different software programs: Program A, Program B, and Program C. They\n",
    "randomly assign 30 employees to one of the programs and record the time it takes each employee to\n",
    "complete the task. Conduct a two-way ANOVA using Python to determine if there are any main effects or\n",
    "interaction effects between the software programs and employee experience level (novice vs.\n",
    "experienced). Report the F-statistics and p-values, and interpret the results."
   ]
  },
  {
   "cell_type": "code",
   "execution_count": 16,
   "id": "055e446f-f4ce-423a-91fa-89df6ac36b99",
   "metadata": {},
   "outputs": [],
   "source": [
    "# Importing libraries\n",
    "import statsmodels.api as sm\n",
    "from statsmodels.formula.api import ols\n",
    "\n",
    "# Create a dataframe\n",
    "dataframe = pd.DataFrame({'ProgramA': [2,1,1,1,2,1,4,1,3,1],\n",
    "\t\t\t\t\t\t'ProgramB': [1,2,1,1,1,2,3,1,2,1],\n",
    "\t\t\t\t\t\t'ProgramC': [3,1,3,1,1,2,2,2,1,2]})\n"
   ]
  },
  {
   "cell_type": "code",
   "execution_count": 18,
   "id": "762ba557-8e0c-4f02-935a-74f0873f9e30",
   "metadata": {},
   "outputs": [
    {
     "data": {
      "text/html": [
       "<div>\n",
       "<style scoped>\n",
       "    .dataframe tbody tr th:only-of-type {\n",
       "        vertical-align: middle;\n",
       "    }\n",
       "\n",
       "    .dataframe tbody tr th {\n",
       "        vertical-align: top;\n",
       "    }\n",
       "\n",
       "    .dataframe thead th {\n",
       "        text-align: right;\n",
       "    }\n",
       "</style>\n",
       "<table border=\"1\" class=\"dataframe\">\n",
       "  <thead>\n",
       "    <tr style=\"text-align: right;\">\n",
       "      <th></th>\n",
       "      <th>ProgramA</th>\n",
       "      <th>ProgramB</th>\n",
       "      <th>ProgramC</th>\n",
       "    </tr>\n",
       "  </thead>\n",
       "  <tbody>\n",
       "    <tr>\n",
       "      <th>0</th>\n",
       "      <td>2</td>\n",
       "      <td>1</td>\n",
       "      <td>3</td>\n",
       "    </tr>\n",
       "    <tr>\n",
       "      <th>1</th>\n",
       "      <td>1</td>\n",
       "      <td>2</td>\n",
       "      <td>1</td>\n",
       "    </tr>\n",
       "    <tr>\n",
       "      <th>2</th>\n",
       "      <td>1</td>\n",
       "      <td>1</td>\n",
       "      <td>3</td>\n",
       "    </tr>\n",
       "    <tr>\n",
       "      <th>3</th>\n",
       "      <td>1</td>\n",
       "      <td>1</td>\n",
       "      <td>1</td>\n",
       "    </tr>\n",
       "    <tr>\n",
       "      <th>4</th>\n",
       "      <td>2</td>\n",
       "      <td>1</td>\n",
       "      <td>1</td>\n",
       "    </tr>\n",
       "    <tr>\n",
       "      <th>5</th>\n",
       "      <td>1</td>\n",
       "      <td>2</td>\n",
       "      <td>2</td>\n",
       "    </tr>\n",
       "    <tr>\n",
       "      <th>6</th>\n",
       "      <td>4</td>\n",
       "      <td>3</td>\n",
       "      <td>2</td>\n",
       "    </tr>\n",
       "    <tr>\n",
       "      <th>7</th>\n",
       "      <td>1</td>\n",
       "      <td>1</td>\n",
       "      <td>2</td>\n",
       "    </tr>\n",
       "    <tr>\n",
       "      <th>8</th>\n",
       "      <td>3</td>\n",
       "      <td>2</td>\n",
       "      <td>1</td>\n",
       "    </tr>\n",
       "    <tr>\n",
       "      <th>9</th>\n",
       "      <td>1</td>\n",
       "      <td>1</td>\n",
       "      <td>2</td>\n",
       "    </tr>\n",
       "  </tbody>\n",
       "</table>\n",
       "</div>"
      ],
      "text/plain": [
       "   ProgramA  ProgramB  ProgramC\n",
       "0         2         1         3\n",
       "1         1         2         1\n",
       "2         1         1         3\n",
       "3         1         1         1\n",
       "4         2         1         1\n",
       "5         1         2         2\n",
       "6         4         3         2\n",
       "7         1         1         2\n",
       "8         3         2         1\n",
       "9         1         1         2"
      ]
     },
     "execution_count": 18,
     "metadata": {},
     "output_type": "execute_result"
    }
   ],
   "source": [
    "dataframe"
   ]
  },
  {
   "cell_type": "code",
   "execution_count": 31,
   "id": "0537ed6e-5c1c-48f8-9274-12fce015a20c",
   "metadata": {},
   "outputs": [
    {
     "name": "stdout",
     "output_type": "stream",
     "text": [
      "              df    sum_sq   mean_sq         F    PR(>F)\n",
      "C(ProgramA)  3.0  0.766667  0.255556  0.283951  0.835475\n",
      "C(ProgramB)  2.0  1.860552  0.930276  1.033640  0.421012\n",
      "Residual     5.0  4.500000  0.900000       NaN       NaN\n"
     ]
    }
   ],
   "source": [
    "# Performing two-way ANOVA\n",
    "model = ols(\n",
    "            'ProgramC ~ C(ProgramA) + C(ProgramB)', data=dataframe).fit()\n",
    "result = sm.stats.anova_lm(model, type=2)\n",
    "\n",
    "# Print the result\n",
    "print(result)\n"
   ]
  },
  {
   "cell_type": "markdown",
   "id": "494f64bb-bdf5-435b-843b-99f94c082711",
   "metadata": {},
   "source": [
    "# QUESTION 11"
   ]
  },
  {
   "cell_type": "markdown",
   "id": "5b583506-04f1-4cba-85a4-b66efccd3cc0",
   "metadata": {},
   "source": [
    "An educational researcher is interested in whether a new teaching method improves student test\n",
    "scores. They randomly assign 100 students to either the control group (traditional teaching method) or the\n",
    "experimental group (new teaching method) and administer a test at the end of the semester. Conduct a\n",
    "two-sample t-test using Python to determine if there are any significant differences in test scores\n",
    "between the two groups. If the results are significant, follow up with a post-hoc test to determine which\n",
    "group(s) differ significantly from each other."
   ]
  },
  {
   "cell_type": "code",
   "execution_count": 32,
   "id": "16b230f3-1a07-4b46-8797-fac883c2323d",
   "metadata": {},
   "outputs": [
    {
     "name": "stdout",
     "output_type": "stream",
     "text": [
      "7.727500000000001 12.260000000000002\n"
     ]
    }
   ],
   "source": [
    "# Python program to display variance of data groups\n",
    "\n",
    "# Import library\n",
    "import scipy.stats as stats\n",
    "\n",
    "# Creating data groups\n",
    "data_group1 = np.array([14, 15, 15, 16, 13, 8, 14,\n",
    "\t\t\t\t\t\t17, 16, 14, 19, 20, 21, 15,\n",
    "\t\t\t\t\t\t15, 16, 16, 13, 14, 12])\n",
    "data_group2 = np.array([15, 17, 14, 17, 14, 8, 12,\n",
    "\t\t\t\t\t\t19, 19, 14, 17, 22, 24, 16,\n",
    "\t\t\t\t\t\t13, 16, 13, 18, 15, 13])\n",
    "\n",
    "# Print the variance of both data groups\n",
    "print(np.var(data_group1), np.var(data_group2))\n"
   ]
  },
  {
   "cell_type": "code",
   "execution_count": 33,
   "id": "3421c46f-f1d6-415b-972e-be4d9e68b6f2",
   "metadata": {},
   "outputs": [
    {
     "data": {
      "text/plain": [
       "Ttest_indResult(statistic=-0.6337397070250238, pvalue=0.5300471010405257)"
      ]
     },
     "execution_count": 33,
     "metadata": {},
     "output_type": "execute_result"
    }
   ],
   "source": [
    "stats.ttest_ind(a=data_group1, b=data_group2)"
   ]
  },
  {
   "cell_type": "code",
   "execution_count": null,
   "id": "f9a18e3f-251f-4f5f-889e-e3ef41c4843c",
   "metadata": {},
   "outputs": [],
   "source": [
    "from statsmodels.stats.multicomp import pairwise_tukeyhsd\n",
    "tukey = pairwise_tukeyhsd(endog=dataframe['score'],\n",
    "                          groups=dataframe['group'],\n",
    "                          alpha=0.05)\n",
    "\n",
    "#display results\n",
    "print(tukey)"
   ]
  },
  {
   "cell_type": "markdown",
   "id": "1c17c763-c25a-49ed-a24a-cf8fe585bf97",
   "metadata": {},
   "source": [
    "# QUESTION 12"
   ]
  },
  {
   "cell_type": "markdown",
   "id": "635a0db8-1e73-43d6-95ae-b5633a2d4ff3",
   "metadata": {},
   "source": [
    "A researcher wants to know if there are any significant differences in the average daily sales of three\n",
    "retail stores: Store A, Store B, and Store C. They randomly select 30 days and record the sales for each store\n",
    "on those days. Conduct a repeated measures ANOVA using Python to determine if there are any\n",
    "\n",
    "significant differences in sales between the three stores. If the results are significant, follow up with a post-\n",
    "hoc test to determine which store(s) differ significantly from each other."
   ]
  },
  {
   "cell_type": "code",
   "execution_count": null,
   "id": "0f829cfd-1a5e-410a-b037-30d21723c52b",
   "metadata": {},
   "outputs": [],
   "source": [
    "# Import library\n",
    "import numpy as np\n",
    "import pandas as pd\n",
    "from statsmodels.stats.anova import AnovaRM\n",
    "\n",
    "# Create the data\n",
    "dataframe = pd.DataFrame({'A': np.repeat([1, 2, 3, 4, 5], 6),\n",
    "\t\t\t\t\t\t'B': np.repeat([1, 2, 3, 4,5,6], 5),\n",
    "\t\t\t\t\t\t'D': [36, 38, 30, 29,\n",
    "\t\t\t\t\t\t\t\t\t34, 38, 30, 29,\n",
    "\t\t\t\t\t\t\t\t\t34, 28, 38, 32,\n",
    "\t\t\t\t\t\t\t\t\t38, 34, 20, 44,\n",
    "\t\t\t\t\t\t\t\t\t26, 28, 34, 50,\n",
    "                             38, 32,\n",
    "\t\t\t\t\t\t\t\t\t38, 34, 20, 44,\n",
    "                             26, 28, 34, 50]})\n",
    "\n",
    "# Conduct the repeated measures ANOVA\n",
    "print(AnovaRM(data=dataframe, depvar='A',\n",
    "\t\t\tsubject='B', within=['D']).fit())\n"
   ]
  },
  {
   "cell_type": "code",
   "execution_count": null,
   "id": "ea39275b-b9c6-4b20-97df-81f68e8e32ca",
   "metadata": {},
   "outputs": [],
   "source": []
  }
 ],
 "metadata": {
  "kernelspec": {
   "display_name": "Python 3 (ipykernel)",
   "language": "python",
   "name": "python3"
  },
  "language_info": {
   "codemirror_mode": {
    "name": "ipython",
    "version": 3
   },
   "file_extension": ".py",
   "mimetype": "text/x-python",
   "name": "python",
   "nbconvert_exporter": "python",
   "pygments_lexer": "ipython3",
   "version": "3.10.8"
  }
 },
 "nbformat": 4,
 "nbformat_minor": 5
}
