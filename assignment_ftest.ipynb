{
 "cells": [
  {
   "cell_type": "markdown",
   "id": "5c3c02f6-f427-4a45-9fcb-6f0db5a59e22",
   "metadata": {},
   "source": [
    "# QUESTION 1"
   ]
  },
  {
   "cell_type": "markdown",
   "id": "bc5d1cf1-b6c4-4b70-a25d-03663737204a",
   "metadata": {},
   "source": [
    "Write a Python function that takes in two arrays of data and calculates the F-value for a variance ratio\n",
    "test. The function should return the F-value and the corresponding p-value for the test."
   ]
  },
  {
   "cell_type": "code",
   "execution_count": 1,
   "id": "bae4c9d0-0e83-4704-a3aa-bb458d1c152e",
   "metadata": {},
   "outputs": [],
   "source": [
    "worker1= [18, 19, 22, 25, 27, 28, 41, 45, 51, 55]\n",
    "worker2= [14, 15, 15, 17, 18, 22, 25, 25, 27, 34]"
   ]
  },
  {
   "cell_type": "code",
   "execution_count": 2,
   "id": "92e44dc9-6a4e-4026-a4bd-3cc86866bdd1",
   "metadata": {},
   "outputs": [],
   "source": [
    "import numpy as np\n",
    "f_test=np.var(worker1)/np.var(worker2)"
   ]
  },
  {
   "cell_type": "code",
   "execution_count": 4,
   "id": "19bf849d-8c78-4fd5-99e7-b2a997508374",
   "metadata": {},
   "outputs": [],
   "source": [
    "import scipy.stats as stat"
   ]
  },
  {
   "cell_type": "code",
   "execution_count": 5,
   "id": "cfbda093-3bd7-4a7f-b791-2e67896191f3",
   "metadata": {},
   "outputs": [
    {
     "data": {
      "text/plain": [
       "0.9808734640676142"
      ]
     },
     "execution_count": 5,
     "metadata": {},
     "output_type": "execute_result"
    }
   ],
   "source": [
    "stat.f.cdf(f_test,9,9)"
   ]
  },
  {
   "cell_type": "markdown",
   "id": "c026b00d-890d-4e17-bde2-119872c0c9f0",
   "metadata": {},
   "source": [
    "# QUESTION 2"
   ]
  },
  {
   "cell_type": "markdown",
   "id": "c1c46623-1835-405f-8249-327526c31a78",
   "metadata": {},
   "source": [
    "Given a significance level of 0.05 and the degrees of freedom for the numerator and denominator of an\n",
    "F-distribution, write a Python function that returns the critical F-value for a two-tailed test."
   ]
  },
  {
   "cell_type": "code",
   "execution_count": 6,
   "id": "f188f4c1-b98e-4437-8212-56e7f6c46c39",
   "metadata": {},
   "outputs": [],
   "source": [
    "significane_value=0.05"
   ]
  },
  {
   "cell_type": "code",
   "execution_count": 9,
   "id": "be01ec51-d2a1-461f-81bb-0f59c65a2eb3",
   "metadata": {},
   "outputs": [],
   "source": [
    "critical_value=stat.f.ppf(q=1-significane_value/2,dfn=4,dfd=4)"
   ]
  },
  {
   "cell_type": "code",
   "execution_count": 10,
   "id": "e06ee121-545c-47f7-b7d8-e85a6ad1f540",
   "metadata": {},
   "outputs": [
    {
     "data": {
      "text/plain": [
       "9.60452988472286"
      ]
     },
     "execution_count": 10,
     "metadata": {},
     "output_type": "execute_result"
    }
   ],
   "source": [
    "critical_value"
   ]
  },
  {
   "cell_type": "markdown",
   "id": "5f27af70-4361-452b-ba9d-f26053639ca2",
   "metadata": {},
   "source": [
    "# QUESTION 3"
   ]
  },
  {
   "cell_type": "markdown",
   "id": "90b41050-594b-422f-83aa-2f4746a51b79",
   "metadata": {},
   "source": [
    "Write a Python program that generates random samples from two normal distributions with known\n",
    "\n",
    "variances and uses an F-test to determine if the variances are equal. The program should output the F-\n",
    "value, degrees of freedom, and p-value for the test."
   ]
  },
  {
   "cell_type": "code",
   "execution_count": 11,
   "id": "2bd908a1-e774-4980-8820-0cec481fdcfc",
   "metadata": {},
   "outputs": [],
   "source": [
    "import numpy as np\n",
    "  \n",
    "  \n",
    "# numpy.random.normal() method\n",
    "r = np.random.normal(size=5)\n",
    "s = np.random.normal(size=5)"
   ]
  },
  {
   "cell_type": "code",
   "execution_count": 12,
   "id": "e9d744a5-d026-44ee-bb00-c117f28f22e7",
   "metadata": {},
   "outputs": [
    {
     "data": {
      "text/plain": [
       "(array([-0.08656138,  0.43737696,  0.51275618, -1.15522858, -0.10355033]),\n",
       " array([ 0.89530318, -0.55815285, -0.38582942, -0.82687719,  0.56555325]))"
      ]
     },
     "execution_count": 12,
     "metadata": {},
     "output_type": "execute_result"
    }
   ],
   "source": [
    "r,s"
   ]
  },
  {
   "cell_type": "code",
   "execution_count": 13,
   "id": "02b7464c-81e2-4275-a738-595cfe7a66fd",
   "metadata": {},
   "outputs": [],
   "source": [
    "f_test=np.var(r)/np.var(s)"
   ]
  },
  {
   "cell_type": "code",
   "execution_count": 14,
   "id": "7b9ebd9d-37a1-4190-9a70-250bfe58b62e",
   "metadata": {},
   "outputs": [
    {
     "data": {
      "text/plain": [
       "0.7905134796126614"
      ]
     },
     "execution_count": 14,
     "metadata": {},
     "output_type": "execute_result"
    }
   ],
   "source": [
    "f_test"
   ]
  },
  {
   "cell_type": "code",
   "execution_count": 15,
   "id": "639c6107-5448-473b-8b68-202710496a3f",
   "metadata": {},
   "outputs": [],
   "source": [
    "dof1 = len(r)-1\n",
    "dof2 = len(s)-1"
   ]
  },
  {
   "cell_type": "code",
   "execution_count": 16,
   "id": "23afcf50-2d2a-42d1-9b8c-68341fcffea4",
   "metadata": {},
   "outputs": [],
   "source": [
    "critical_value=stat.f.ppf(q=1-significane_value,dfn=dof1,dfd=dof2)"
   ]
  },
  {
   "cell_type": "code",
   "execution_count": 17,
   "id": "e540040e-834a-4a91-bb7e-8f71fa3e44b6",
   "metadata": {},
   "outputs": [
    {
     "data": {
      "text/plain": [
       "6.388232908695868"
      ]
     },
     "execution_count": 17,
     "metadata": {},
     "output_type": "execute_result"
    }
   ],
   "source": [
    "critical_value"
   ]
  },
  {
   "cell_type": "markdown",
   "id": "425c8857-5dd5-4847-802c-535b77aa64b0",
   "metadata": {},
   "source": [
    "if f_test>critical_value:\n",
    "    print(\"Reject the Null Hypothesis\")\n",
    "else:\n",
    "    print(\"We fail to reject the null hypothesis\")"
   ]
  },
  {
   "cell_type": "markdown",
   "id": "bb06220f-04dd-4c2c-a0be-9b6c222ac5f6",
   "metadata": {},
   "source": [
    "# QUESTION 4"
   ]
  },
  {
   "cell_type": "markdown",
   "id": "416e5de0-a0b9-458f-a461-17f6ba25ceda",
   "metadata": {},
   "source": [
    "Q4.The variances of two populations are known to be 10 and 15. A sample of 12 observations is taken from\n",
    "each population. Conduct an F-test at the 5% significance level to determine if the variances are\n",
    "significantly different."
   ]
  },
  {
   "cell_type": "code",
   "execution_count": 25,
   "id": "b2cc5e84-8716-41ef-a01e-f2587d02d2b6",
   "metadata": {},
   "outputs": [],
   "source": [
    "f_test = 10/15"
   ]
  },
  {
   "cell_type": "code",
   "execution_count": 26,
   "id": "efffdf73-04e8-4be1-9254-9bec5e30d6d3",
   "metadata": {},
   "outputs": [],
   "source": [
    "critical_value=stat.f.ppf(q=1-significane_value,dfn=11,dfd=11)"
   ]
  },
  {
   "cell_type": "code",
   "execution_count": 27,
   "id": "cdcf5b39-109e-4ab2-92f2-38b7e4998784",
   "metadata": {},
   "outputs": [
    {
     "name": "stdout",
     "output_type": "stream",
     "text": [
      "We fail to reject the null hypothesis\n"
     ]
    }
   ],
   "source": [
    "if f_test>critical_value:\n",
    "    print(\"Reject the Null Hypothesis\")\n",
    "else:\n",
    "    print(\"We fail to reject the null hypothesis\")"
   ]
  },
  {
   "cell_type": "markdown",
   "id": "e7c0b4ae-98c8-445c-bd20-6366679f98bc",
   "metadata": {},
   "source": [
    "# QUESTION 5"
   ]
  },
  {
   "cell_type": "markdown",
   "id": "79629653-76fa-4439-b0d4-3669b70d4ad3",
   "metadata": {},
   "source": [
    "A manufacturer claims that the variance of the diameter of a certain product is 0.005. A sample of 25\n",
    "products is taken, and the sample variance is found to be 0.006. Conduct an F-test at the 1% significance\n",
    "level to determine if the claim is justified."
   ]
  },
  {
   "cell_type": "code",
   "execution_count": 28,
   "id": "b01a9fc3-1aa8-4aa4-bb04-d9e3b64d017f",
   "metadata": {},
   "outputs": [],
   "source": [
    "f_test = 0.005/0.006"
   ]
  },
  {
   "cell_type": "code",
   "execution_count": 38,
   "id": "ab9ca26e-cd6a-4d06-930e-26ef61ebd9b8",
   "metadata": {},
   "outputs": [],
   "source": [
    "critical_value=stat.f.ppf(q=0.99,dfd=24,dfn=24)"
   ]
  },
  {
   "cell_type": "code",
   "execution_count": 39,
   "id": "861c5086-c49d-4f59-8157-8089975145ce",
   "metadata": {},
   "outputs": [
    {
     "name": "stdout",
     "output_type": "stream",
     "text": [
      "We fail to reject the null hypothesis\n"
     ]
    }
   ],
   "source": [
    "if f_test>critical_value:\n",
    "    print(\"Reject the Null Hypothesis\")\n",
    "else:\n",
    "    print(\"We fail to reject the null hypothesis\")"
   ]
  },
  {
   "cell_type": "markdown",
   "id": "b5dc610d-d8b1-44d9-bfe4-7fac49a3af2d",
   "metadata": {},
   "source": [
    "# QUESTION 6"
   ]
  },
  {
   "cell_type": "markdown",
   "id": "86029c5f-0017-47d4-ab8e-40bb79ca7748",
   "metadata": {},
   "source": [
    "Write a Python function that takes in the degrees of freedom for the numerator and denominator of an\n",
    "F-distribution and calculates the mean and variance of the distribution. The function should return the\n",
    "mean and variance as a tuple."
   ]
  },
  {
   "cell_type": "markdown",
   "id": "3ea87545-c7fb-4846-b0c2-434a9ff42fec",
   "metadata": {},
   "source": [
    "mean = dfd / (dfd - 2)\n",
    "\n",
    "variance = (2 * dfd**2 * (dfn + dfd - 2)) / (dfn * (dfd - 2)**2 * (dfd - 4))\n"
   ]
  },
  {
   "cell_type": "markdown",
   "id": "2f3fdfa2-bc06-4c20-b3f0-7803a43afd29",
   "metadata": {},
   "source": [
    "# QUESTION 7"
   ]
  },
  {
   "cell_type": "markdown",
   "id": "ab2763cd-c6d9-4a98-8c8c-c8ea90a93cfb",
   "metadata": {},
   "source": [
    "A random sample of 10 measurements is taken from a normal population with unknown variance. The\n",
    "sample variance is found to be 25. Another random sample of 15 measurements is taken from another\n",
    "normal population with unknown variance, and the sample variance is found to be 20. Conduct an F-test\n",
    "at the 10% significance level to determine if the variances are significantly different."
   ]
  },
  {
   "cell_type": "code",
   "execution_count": 41,
   "id": "956538ea-4f05-442f-b5f5-f278d0580798",
   "metadata": {},
   "outputs": [],
   "source": [
    "f_test = 25/20"
   ]
  },
  {
   "cell_type": "code",
   "execution_count": 42,
   "id": "c32f0c18-a628-4a55-9e6f-7716d3481121",
   "metadata": {},
   "outputs": [],
   "source": [
    "critical_value=stat.f.ppf(q=0.90,dfd=9,dfn=14)"
   ]
  },
  {
   "cell_type": "code",
   "execution_count": 43,
   "id": "2b910d6b-1526-44bd-b76e-59d307af61b7",
   "metadata": {},
   "outputs": [
    {
     "name": "stdout",
     "output_type": "stream",
     "text": [
      "We fail to reject the null hypothesis\n"
     ]
    }
   ],
   "source": [
    "if f_test>critical_value:\n",
    "    print(\"Reject the Null Hypothesis\")\n",
    "else:\n",
    "    print(\"We fail to reject the null hypothesis\")"
   ]
  },
  {
   "cell_type": "markdown",
   "id": "795f5a4a-3d49-420f-a6b1-98b328cf0fd0",
   "metadata": {},
   "source": [
    "# QUESTION 8"
   ]
  },
  {
   "cell_type": "markdown",
   "id": "9d2c0a05-a966-4ad3-be61-6c98d1ae9fe7",
   "metadata": {},
   "source": [
    "The following data represent the waiting times in minutes at two different restaurants on a Saturday\n",
    "night: Restaurant A: 24, 25, 28, 23, 22, 20, 27; Restaurant B: 31, 33, 35, 30, 32, 36. Conduct an F-test at the 5%\n",
    "significance level to determine if the variances are significantly different."
   ]
  },
  {
   "cell_type": "code",
   "execution_count": 44,
   "id": "c91d4c7a-d657-4754-a9e7-a53e926b7701",
   "metadata": {},
   "outputs": [],
   "source": [
    "A = [24, 25, 28, 23, 22, 20, 27]\n",
    "B = [31, 33, 35, 30, 32, 36]\n",
    "f_test = np.var(A)/np.var(B)"
   ]
  },
  {
   "cell_type": "code",
   "execution_count": 45,
   "id": "8281c754-9b70-4ad4-8b90-9cba05a48a86",
   "metadata": {},
   "outputs": [
    {
     "data": {
      "text/plain": [
       "1.496767651159843"
      ]
     },
     "execution_count": 45,
     "metadata": {},
     "output_type": "execute_result"
    }
   ],
   "source": [
    "f_test"
   ]
  },
  {
   "cell_type": "code",
   "execution_count": 46,
   "id": "d5ebaa14-2c78-4472-8978-4c2c809f9d2b",
   "metadata": {},
   "outputs": [],
   "source": [
    "critical_value=stat.f.ppf(q=0.95,dfd=6,dfn=5)"
   ]
  },
  {
   "cell_type": "code",
   "execution_count": 49,
   "id": "2b625dbf-7cc1-4c9c-8a6e-b84f43954645",
   "metadata": {},
   "outputs": [
    {
     "name": "stdout",
     "output_type": "stream",
     "text": [
      "We fail to reject the null hypothesis\n"
     ]
    }
   ],
   "source": [
    "if f_test>critical_value:\n",
    "    print(\"Reject the Null Hypothesis\")\n",
    "else:\n",
    "    print(\"We fail to reject the null hypothesis\")"
   ]
  },
  {
   "cell_type": "markdown",
   "id": "fbe14370-0898-4206-ac4b-75cf4f3b3070",
   "metadata": {},
   "source": [
    "# QUESTION 9"
   ]
  },
  {
   "cell_type": "markdown",
   "id": "e839384f-f595-4ed2-ab39-4d9c8bc1ca40",
   "metadata": {},
   "source": [
    "The following data represent the test scores of two groups of students: Group A: 80, 85, 90, 92, 87, 83;\n",
    "Group B: 75, 78, 82, 79, 81, 84. Conduct an F-test at the 1% significance level to determine if the variances\n",
    "are significantly different."
   ]
  },
  {
   "cell_type": "code",
   "execution_count": 50,
   "id": "9cee3592-c38d-43c2-b6d3-68ffaaf2ed13",
   "metadata": {},
   "outputs": [],
   "source": [
    "A = [0, 85, 90, 92, 87, 83]"
   ]
  },
  {
   "cell_type": "code",
   "execution_count": 51,
   "id": "3e207067-ea1f-40fe-9c06-c910073d7fe8",
   "metadata": {},
   "outputs": [],
   "source": [
    "B = [75, 78, 82, 79, 81, 84]"
   ]
  },
  {
   "cell_type": "code",
   "execution_count": 52,
   "id": "13cd3488-f739-484e-876b-71e99cdaadeb",
   "metadata": {},
   "outputs": [],
   "source": [
    "f_test =np.var(A)/np.var(B)"
   ]
  },
  {
   "cell_type": "code",
   "execution_count": 53,
   "id": "413596aa-e66f-4930-8eb9-b4ec890a887f",
   "metadata": {},
   "outputs": [],
   "source": [
    "critical_value=stat.f.ppf(q=0.99,dfd=5,dfn=5)"
   ]
  },
  {
   "cell_type": "code",
   "execution_count": 54,
   "id": "60019219-1179-40c4-88ba-b50e11678065",
   "metadata": {},
   "outputs": [
    {
     "name": "stdout",
     "output_type": "stream",
     "text": [
      "Reject the Null Hypothesis\n"
     ]
    }
   ],
   "source": [
    "if f_test>critical_value:\n",
    "    print(\"Reject the Null Hypothesis\")\n",
    "else:\n",
    "    print(\"We fail to reject the null hypothesis\")"
   ]
  },
  {
   "cell_type": "code",
   "execution_count": null,
   "id": "d85e3b0b-59ce-4a8d-94f9-ed21f980e40b",
   "metadata": {},
   "outputs": [],
   "source": []
  }
 ],
 "metadata": {
  "kernelspec": {
   "display_name": "Python 3 (ipykernel)",
   "language": "python",
   "name": "python3"
  },
  "language_info": {
   "codemirror_mode": {
    "name": "ipython",
    "version": 3
   },
   "file_extension": ".py",
   "mimetype": "text/x-python",
   "name": "python",
   "nbconvert_exporter": "python",
   "pygments_lexer": "ipython3",
   "version": "3.10.8"
  }
 },
 "nbformat": 4,
 "nbformat_minor": 5
}
