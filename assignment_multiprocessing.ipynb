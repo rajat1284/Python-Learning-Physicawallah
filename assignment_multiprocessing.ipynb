{
 "cells": [
  {
   "cell_type": "markdown",
   "id": "4dffa301-6ea9-40e9-9921-7cf2ad433bf6",
   "metadata": {},
   "source": [
    "# QUESTION 1"
   ]
  },
  {
   "cell_type": "code",
   "execution_count": 14,
   "id": "b06c008b-c6fe-4a30-85d0-eecd3cd6d2f3",
   "metadata": {},
   "outputs": [
    {
     "data": {
      "text/plain": [
       "'Multiprocessing in Python is a built-in package that allows the system to run multiple processes simultaneously. It will enable the breaking of applications into smaller threads that can run independently'"
      ]
     },
     "execution_count": 14,
     "metadata": {},
     "output_type": "execute_result"
    }
   ],
   "source": [
    "\"\"\"Multiprocessing in Python is a built-in package that allows the system to run multiple processes simultaneously. It will enable the breaking of applications into smaller threads that can run independently\"\"\""
   ]
  },
  {
   "cell_type": "markdown",
   "id": "37adb73d-9f22-4b53-9269-cf0e5a9b2853",
   "metadata": {},
   "source": [
    "# QUESTION 2"
   ]
  },
  {
   "cell_type": "code",
   "execution_count": 16,
   "id": "8a99e861-72f7-44fe-9f63-ef95759153f2",
   "metadata": {},
   "outputs": [
    {
     "data": {
      "text/plain": [
       "'Multiprocessing uses two or more CPUs to increase computing power, whereas multithreading uses a single process with multiple code segments to increase computing power. Multithreading focuses on generating computing threads from a single process, whereas multiprocessing increases computing power by adding CPUs.'"
      ]
     },
     "execution_count": 16,
     "metadata": {},
     "output_type": "execute_result"
    }
   ],
   "source": [
    "\"\"\"Multiprocessing uses two or more CPUs to increase computing power, whereas multithreading uses a single process with multiple code segments to increase computing power. Multithreading focuses on generating computing threads from a single process, whereas multiprocessing increases computing power by adding CPUs.\"\"\""
   ]
  },
  {
   "cell_type": "markdown",
   "id": "1ed038f1-3dc5-4528-ada0-6053f8f04bf6",
   "metadata": {},
   "source": [
    "# QUESTION 3"
   ]
  },
  {
   "cell_type": "code",
   "execution_count": 13,
   "id": "dc03901f-2ddb-4b9b-a95d-f40ea1bc4577",
   "metadata": {},
   "outputs": [
    {
     "name": "stdout",
     "output_type": "stream",
     "text": [
      "Name: Rajat\n"
     ]
    }
   ],
   "source": [
    "# importing the multiprocessing module\n",
    "import multiprocessing\n",
    "  \n",
    "def get_name(name):\n",
    "    \"\"\"\n",
    "    function to print nam\n",
    "    \"\"\"\n",
    "    print(\"Name: {}\".format(name))\n",
    "  \n",
    "if __name__ == \"__main__\":\n",
    "    # creating processes\n",
    "    p1 = multiprocessing.Process(target=get_name, args=(\"Rajat\", ))\n",
    "# starting process 1\n",
    "    p1.start()"
   ]
  },
  {
   "cell_type": "markdown",
   "id": "3517cb7f-bd24-4a0b-b240-76fb6b342d79",
   "metadata": {},
   "source": [
    "# QUESTION 4"
   ]
  },
  {
   "cell_type": "code",
   "execution_count": 17,
   "id": "9e25d87b-dc39-4b6c-8dd8-224f3fe221fa",
   "metadata": {},
   "outputs": [],
   "source": [
    "#The Python Multiprocessing Pool class allows you to create and manage process pools in Python. "
   ]
  },
  {
   "cell_type": "code",
   "execution_count": 18,
   "id": "c540e27f-e62a-4071-87e4-af760e234bb0",
   "metadata": {},
   "outputs": [
    {
     "data": {
      "text/plain": [
       "'Python multiprocessing Pool can be used for parallel execution of a function across multiple input values, distributing the input data across processes (data parallelism).'"
      ]
     },
     "execution_count": 18,
     "metadata": {},
     "output_type": "execute_result"
    }
   ],
   "source": [
    "\"\"\"Python multiprocessing Pool can be used for parallel execution of a function across multiple input values, distributing the input data across processes (data parallelism).\"\"\""
   ]
  },
  {
   "cell_type": "markdown",
   "id": "98c04d1b-de1d-4034-9801-39bb50fa2dd3",
   "metadata": {},
   "source": [
    "# question 5"
   ]
  },
  {
   "cell_type": "code",
   "execution_count": 21,
   "id": "35d83178-a6d3-4d88-93f4-4341e0945508",
   "metadata": {},
   "outputs": [
    {
     "data": {
      "text/plain": [
       "'The multiprocessing.Pool provides a pool of generic worker processes.\\n\\nIt was designed to be easy and straightforward to use.\\n\\nThere are four main steps in the life-cycle of using the multiprocessing.Pool class, they are: create, submit, wait, and shutdown.\\n\\nCreate: Create the process pool by calling the constructor multiprocessing.Pool().\\nSubmit: Submit tasks synchronously or asynchronously.\\n2a. Submit Tasks Synchronously\\n2b. Submit Tasks Asynchronously\\nWait: Wait and get results as tasks complete (optional).\\n3a. Wait on AsyncResult objects to Complete\\n3b. Wait on AsyncResult objects for Result\\nShutdown: Shutdown the process pool by calling shutdown().\\n4a. Shutdown Automatically with the Context Manager'"
      ]
     },
     "execution_count": 21,
     "metadata": {},
     "output_type": "execute_result"
    }
   ],
   "source": [
    "\"\"\"The multiprocessing.Pool provides a pool of generic worker processes.\n",
    "\n",
    "It was designed to be easy and straightforward to use.\n",
    "\n",
    "There are four main steps in the life-cycle of using the multiprocessing.Pool class, they are: create, submit, wait, and shutdown.\n",
    "\n",
    "Create: Create the process pool by calling the constructor multiprocessing.Pool().\n",
    "Submit: Submit tasks synchronously or asynchronously.\n",
    "2a. Submit Tasks Synchronously\n",
    "2b. Submit Tasks Asynchronously\n",
    "Wait: Wait and get results as tasks complete (optional).\n",
    "3a. Wait on AsyncResult objects to Complete\n",
    "3b. Wait on AsyncResult objects for Result\n",
    "Shutdown: Shutdown the process pool by calling shutdown().\n",
    "4a. Shutdown Automatically with the Context Manager\"\"\""
   ]
  },
  {
   "cell_type": "code",
   "execution_count": null,
   "id": "59b7ca54-14b1-4849-8925-0b128fe65e08",
   "metadata": {},
   "outputs": [],
   "source": []
  },
  {
   "cell_type": "code",
   "execution_count": null,
   "id": "4241f682-a2ab-460a-8b11-757450dddb7d",
   "metadata": {},
   "outputs": [],
   "source": []
  },
  {
   "cell_type": "code",
   "execution_count": null,
   "id": "695adb32-9549-4452-9abb-e26e6f0a4690",
   "metadata": {},
   "outputs": [],
   "source": []
  },
  {
   "cell_type": "code",
   "execution_count": null,
   "id": "d7ff6dbf-f786-4503-9379-cf80a6a29086",
   "metadata": {},
   "outputs": [],
   "source": []
  },
  {
   "cell_type": "markdown",
   "id": "fc56fdb8-eece-4892-97f4-838a39f9fc10",
   "metadata": {},
   "source": [
    "# QUESTION 6"
   ]
  },
  {
   "cell_type": "code",
   "execution_count": 9,
   "id": "38435125-65e5-4d2a-ba5c-d6fcd6c67864",
   "metadata": {},
   "outputs": [
    {
     "name": "stdout",
     "output_type": "stream",
     "text": [
      "Square: 100\n",
      "Cube: 1000\n",
      "number: 10\n",
      "Half: 5.0\n",
      "Done!\n"
     ]
    }
   ],
   "source": [
    "# importing the multiprocessing module\n",
    "import multiprocessing\n",
    "\n",
    "def print_cube(num):\n",
    "\t\"\"\"\n",
    "\tfunction to print cube of given num\n",
    "\t\"\"\"\n",
    "\tprint(\"Cube: {}\".format(num * num * num))\n",
    "\n",
    "def print_square(num):\n",
    "\t\"\"\"\n",
    "\tfunction to print square of given num\n",
    "\t\"\"\"\n",
    "\tprint(\"Square: {}\".format(num * num))\n",
    "    \n",
    "def print_num(num):\n",
    "\t\"\"\"\n",
    "\tfunction to print given num\n",
    "\t\"\"\"\n",
    "\tprint(\"number: {}\".format(num))\n",
    "    \n",
    "def print_half(num):\n",
    "\t\"\"\"\n",
    "\tfunction to print squareroot of given num\n",
    "\t\"\"\"\n",
    "\tprint(\"Half: {}\".format(num * 1/2))\n",
    "\n",
    "\n",
    "if __name__ == \"__main__\":\n",
    "\t# creating processes\n",
    "\tp1 = multiprocessing.Process(target=print_square, args=(10, ))\n",
    "\tp2 = multiprocessing.Process(target=print_cube, args=(10, ))\n",
    "\tp3 = multiprocessing.Process(target=print_num, args=(10, ))\n",
    "\tp4 = multiprocessing.Process(target=print_half, args=(10, ))\n",
    "\n",
    "\t# starting process 1\n",
    "\tp1.start()\n",
    "\t# starting process 2\n",
    "\tp2.start()\n",
    "    # starting process 3\n",
    "\tp3.start()\n",
    "    # starting process 4\n",
    "\tp4.start()\n",
    "\n",
    "\t# wait until process 1 is finished\n",
    "\tp1.join()\n",
    "\t# wait until process 2 is finished\n",
    "\tp2.join()\n",
    "    # wait until process 3 is finished\n",
    "\tp3.join()\n",
    "\t# wait until process 4 is finished\n",
    "\tp4.join()\n",
    "\n",
    "\t# all processes finished\n",
    "\tprint(\"Done!\")\n"
   ]
  },
  {
   "cell_type": "code",
   "execution_count": null,
   "id": "4897d4d5-786b-4daf-ad75-e894a901d2ea",
   "metadata": {},
   "outputs": [],
   "source": []
  },
  {
   "cell_type": "code",
   "execution_count": null,
   "id": "5a06c844-8b04-4185-a3ca-b5f15a0f2575",
   "metadata": {},
   "outputs": [],
   "source": []
  }
 ],
 "metadata": {
  "kernelspec": {
   "display_name": "Python 3 (ipykernel)",
   "language": "python",
   "name": "python3"
  },
  "language_info": {
   "codemirror_mode": {
    "name": "ipython",
    "version": 3
   },
   "file_extension": ".py",
   "mimetype": "text/x-python",
   "name": "python",
   "nbconvert_exporter": "python",
   "pygments_lexer": "ipython3",
   "version": "3.10.8"
  }
 },
 "nbformat": 4,
 "nbformat_minor": 5
}
