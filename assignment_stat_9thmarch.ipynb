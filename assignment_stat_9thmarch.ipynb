{
 "cells": [
  {
   "cell_type": "markdown",
   "id": "03a2160a-41e9-4c3e-9cbc-66ff6d4f050a",
   "metadata": {},
   "source": [
    "# QUESTION 1"
   ]
  },
  {
   "cell_type": "markdown",
   "id": "b4db8598-87a7-4c84-9570-6fce93255ce4",
   "metadata": {},
   "source": [
    "The probability mass function (PMF) is used to describe discrete probability distributions. In contrast, the probability density function (PDF) is applied to describe continuous probability distributions.\n",
    "For example, if you roll a die, the probability of obtaining 1, 2, 3, 4, 5, or 6 is 16.667% (=1/6). The probability density function (PDF) or the probability that you will get exactly 2 will be 16.667%. Whereas, the cumulative distribution function (CDF) of 2 is 33.33% as described above.\n",
    "Suppose a fair coin is tossed twice and the sample space is recorded as S = [HH, HT, TH, TT]. The probability of getting heads needs to be determined. Let X be the random variable that shows how many heads are obtained. X can take on the values 0, 1, 2. The probability that X will be equal to 1 is 0.5. Thus, it can be said that the probability mass function of X evaluated at 1 will be 0.5."
   ]
  },
  {
   "cell_type": "markdown",
   "id": "c06f0604-46ad-4d37-8a3c-d4c1c21412a7",
   "metadata": {},
   "source": [
    "# QUESTION 2"
   ]
  },
  {
   "cell_type": "markdown",
   "id": "5e0a16af-063a-4f24-a15b-cba7c3843fc6",
   "metadata": {},
   "source": [
    "The cumulative distribution function is used to describe the probability distribution of random variables. It can be used to describe the probability for a discrete, continuous or mixed variable."
   ]
  },
  {
   "cell_type": "markdown",
   "id": "01a3230f-4cc1-44b5-93b3-513177815be3",
   "metadata": {},
   "source": [
    "For example, if you roll a die, the probability of obtaining a 1 or 2 or 3 or 4 or 5 or 6 is 16.667% (=1/6) individually. The cumulative distribution function (CDF) of 1 is the probability that the next roll will take a value less than or equal to 1 and is 16.667%. There is only one possible way to get a 1. The cumulative distribution function (CDF) of 2 is the probability that the next roll will take a value less than or equal to 2. The cumulative distribution function (CDF) of 2 is 33.33% as there are two possible ways to get a 2 or below (the roll giving a 1 or 2)."
   ]
  },
  {
   "cell_type": "markdown",
   "id": "e7edce8b-9596-4f36-afe7-426b4dc887d4",
   "metadata": {},
   "source": [
    "# QUESTION 3"
   ]
  },
  {
   "cell_type": "markdown",
   "id": "32da44d5-463d-4d92-b9d1-94776b434d79",
   "metadata": {},
   "source": [
    "Height, rolling the dice, stock market, blood pressure etc.On the graph, the standard deviation determines the width of the curve, and it tightens or expands the width of the distribution along the x-axis. Typically, a small standard deviation relative to the mean produces a steep curve, while a large standard deviation relative to the mean produces a flatter curve."
   ]
  },
  {
   "cell_type": "markdown",
   "id": "97154ded-aadd-4d38-8306-fa68a132a3ad",
   "metadata": {},
   "source": [
    "\n",
    "The mean is used by researchers as a measure of central tendency. It can be used to describe the distribution of variables measured as ratios or intervals. In a normal distribution graph, the mean defines the location of the peak, and most of the data points are clustered around the mean. Any changes made to the value of the mean move the curve either to the left or right along the X-axis.\n",
    "\n"
   ]
  },
  {
   "cell_type": "markdown",
   "id": "1523b197-3dec-4da8-8197-633420cc2d31",
   "metadata": {},
   "source": [
    "# QUESTION 4"
   ]
  },
  {
   "cell_type": "markdown",
   "id": "ff64be7b-3ead-4e03-bbd0-4e865ff6fe3a",
   "metadata": {},
   "source": [
    "t is the most important probability distribution in statistics because it accurately describes the distribution of values for many natural phenomena."
   ]
  },
  {
   "cell_type": "markdown",
   "id": "ffa476ec-e5ce-49eb-944d-898104334529",
   "metadata": {},
   "source": [
    "for example, “Height of people” is something that follows a normal distribution pattern perfectly: Most people are of average height, the numbers of people that are taller and shorter than average are fairly equal and a very small (and still roughly equivalent) number of people are either extremely tall or extremely short. This complete data of heights perfectly falls on the normal distribution and follows all its laws. The normal distribution is maintained not only in Economic aspects but also in Biological aspects, Electrical Circuit, Physics, and many more. Normal Distribution is also easy to generate random numbers from and, because of its shape, useful in things like density estimations."
   ]
  },
  {
   "cell_type": "markdown",
   "id": "38ad0f79-9c06-4e62-ae95-678ce90d59f7",
   "metadata": {},
   "source": [
    "# QUESTION 5"
   ]
  },
  {
   "cell_type": "markdown",
   "id": "88e261b6-13ba-42d6-8499-93caa07bc206",
   "metadata": {},
   "source": [
    "The Bernoulli distribution represents the success or failure of a single Bernoulli trial. The Binomial Distribution represents the number of successes and failures in n independent Bernoulli trials for some given value of n."
   ]
  },
  {
   "cell_type": "markdown",
   "id": "2f99aa7f-96ac-4d01-a632-7c2f559916e1",
   "metadata": {},
   "source": [
    "# QUESTION 6"
   ]
  },
  {
   "cell_type": "code",
   "execution_count": 2,
   "id": "32068154-68db-4535-9136-a9333c656d2d",
   "metadata": {},
   "outputs": [
    {
     "data": {
      "text/plain": [
       "0.1587"
      ]
     },
     "execution_count": 2,
     "metadata": {},
     "output_type": "execute_result"
    }
   ],
   "source": [
    "0.1587"
   ]
  },
  {
   "cell_type": "markdown",
   "id": "703d9930-4370-4c3c-90ae-924287cb1b0a",
   "metadata": {},
   "source": [
    "# QUESTION 7"
   ]
  },
  {
   "cell_type": "markdown",
   "id": "102bd9a2-c959-4ed1-87c7-0cdc036ed3e8",
   "metadata": {},
   "source": [
    " In statistics, uniform distribution refers to a type of probability distribution in which all outcomes are equally likely. A deck of cards has within it uniform distributions because the likelihood of drawing a heart, a club, a diamond, or a spade is equally likely."
   ]
  },
  {
   "cell_type": "markdown",
   "id": "f5919373-f719-4f43-ba91-6e4878927574",
   "metadata": {},
   "source": [
    "# QUESTION 8"
   ]
  },
  {
   "cell_type": "markdown",
   "id": "bc0c8472-9184-44a6-b8f9-9276d3f2cafa",
   "metadata": {},
   "source": [
    "The z-score is particularly important because it tells you not only something about the value itself, but also where the value lies in the distribution. z-score is important because it tells where your data lies in the data distribution. For example, if a z-score is 1.5, it is 1.5 standard deviations away from the mean\n"
   ]
  },
  {
   "cell_type": "markdown",
   "id": "44706703-d9f2-47b8-8da9-25cd5a18e64b",
   "metadata": {},
   "source": [
    "# QUESTION 9"
   ]
  },
  {
   "cell_type": "markdown",
   "id": "921bb8d9-f1e5-4ec2-b9bc-83156f84f35d",
   "metadata": {},
   "source": [
    "if you take a sufficiently large sample size from a population with a finite level of variance, the mean of all samples from that population will be roughly equal to the population mean.\n",
    "Image result for What is Central Limit Theorem? State the significance of the Central Limit Theorem.\n",
    "The central limit theorem says that the sampling distribution of the mean will always be normally distributed, as long as the sample size is large enough. Regardless of whether the population has a normal, Poisson, binomial, or any other distribution, the sampling distribution of the mean will be normal."
   ]
  },
  {
   "cell_type": "markdown",
   "id": "accf8adf-108c-4ace-b8c2-f14a59909bb2",
   "metadata": {},
   "source": [
    "# QUESTION 10"
   ]
  },
  {
   "cell_type": "markdown",
   "id": "ba6d2d4d-798e-4d81-897e-90198b6fe080",
   "metadata": {},
   "source": [
    "It needs to be sampled at random. The samples should be unrelated to one another. One sample should not impact the others. When taking samples without replacement, the sample size should not exceed 10% of the population"
   ]
  },
  {
   "cell_type": "code",
   "execution_count": null,
   "id": "185e21d2-fcff-473e-bd96-e0b5c3599536",
   "metadata": {},
   "outputs": [],
   "source": []
  }
 ],
 "metadata": {
  "kernelspec": {
   "display_name": "Python 3 (ipykernel)",
   "language": "python",
   "name": "python3"
  },
  "language_info": {
   "codemirror_mode": {
    "name": "ipython",
    "version": 3
   },
   "file_extension": ".py",
   "mimetype": "text/x-python",
   "name": "python",
   "nbconvert_exporter": "python",
   "pygments_lexer": "ipython3",
   "version": "3.10.8"
  }
 },
 "nbformat": 4,
 "nbformat_minor": 5
}
