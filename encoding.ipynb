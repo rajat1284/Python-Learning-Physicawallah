{
 "cells": [
  {
   "cell_type": "markdown",
   "id": "9bf68a72-d246-42eb-b5fa-63438c75cbd2",
   "metadata": {},
   "source": [
    "# QUESTION1"
   ]
  },
  {
   "cell_type": "markdown",
   "id": "227ae28a-7aea-477c-9803-7151ea6f8b1d",
   "metadata": {},
   "source": [
    "Encoding is the process of converting the data or a given sequence of characters, symbols, alphabets etc., into a specified format, for the secured transmission of data. "
   ]
  },
  {
   "cell_type": "markdown",
   "id": "d170a790-22cc-4e89-bdec-5da8e98950d2",
   "metadata": {},
   "source": [
    "When working on some datasets, we found that some of the features are categorical, if we pass that feature directly to our model, our model can't understand those feature variables. We all know that machines can't understand categorical data. Machines require all independent and dependent variables i.e input and output features to be numeric. This means that if our data contain a categorical variable, we must have to encode it to the numbers before we fit our data to the model.\n",
    "\n",
    "Models only work with numerical values. For this reason, it is necessary to convert the categorical values of the features into numerical ones, So the machine can learn from those data and gives the right model. This process of converting categorical data into numerical data is called Encoding."
   ]
  },
  {
   "cell_type": "markdown",
   "id": "3655165a-08db-43b1-9da5-535b0b8a51b2",
   "metadata": {},
   "source": [
    "# QUESTION 2"
   ]
  },
  {
   "cell_type": "markdown",
   "id": "9968184a-e584-48ed-a0e9-05f0c005f9d8",
   "metadata": {},
   "source": [
    "When we have a feature where variables are just names and there is no order or rank to this variable's feature.\n",
    "\n",
    "\n",
    "For example: City of person lives in, Gender of person, Marital Status, etc…\n",
    "\n",
    "In the above example, We do not have any order or rank, or sequence. All the variables in the respective feature are equal. We can't give them any orders or ranks. Those features are called Nominal features."
   ]
  },
  {
   "cell_type": "markdown",
   "id": "22ed7e68-7986-45d1-bbd2-c9c0b09792d7",
   "metadata": {},
   "source": [
    "# QUESTION 3"
   ]
  },
  {
   "cell_type": "markdown",
   "id": "4a16a469-5c80-40a1-b2ac-06ee82b9d261",
   "metadata": {},
   "source": [
    "In what situations is nominal encoding preferred over one-hot encoding? Provide a practical example."
   ]
  },
  {
   "cell_type": "markdown",
   "id": "6d5f8820-89cd-4730-822f-448267a4d84f",
   "metadata": {},
   "source": [
    "Both are same"
   ]
  },
  {
   "cell_type": "markdown",
   "id": "4e1000c2-88bc-4423-870c-a49e9394982f",
   "metadata": {},
   "source": [
    "# QUESTION 4"
   ]
  },
  {
   "cell_type": "markdown",
   "id": "613f3903-f117-4056-8682-15226cdcf4a0",
   "metadata": {},
   "source": [
    "Suppose you have a dataset containing categorical data with 5 unique values. Which encoding\n",
    "technique would you use to transform this data into a format suitable for machine learning algorithms?\n",
    "Explain why you made this choice."
   ]
  },
  {
   "cell_type": "markdown",
   "id": "7d918414-a2a6-4e93-b5c7-782fc5e8dbf6",
   "metadata": {},
   "source": [
    "One-hot encoding works better when there are categorical data with more unique values especially when there is no ranking defined."
   ]
  },
  {
   "cell_type": "markdown",
   "id": "9f156eab-423d-4189-9aa5-f5bed9ca6d39",
   "metadata": {},
   "source": [
    "# QUESTION 5"
   ]
  },
  {
   "cell_type": "markdown",
   "id": "51935beb-c27a-4063-841b-7500f61e9924",
   "metadata": {},
   "source": [
    "In a machine learning project, you have a dataset with 1000 rows and 5 columns. Two of the columns\n",
    "are categorical, and the remaining three columns are numerical. If you were to use nominal encoding to\n",
    "transform the categorical data, how many new columns would be created? Show your calculations."
   ]
  },
  {
   "cell_type": "markdown",
   "id": "1eb48210-80f5-4bcf-8454-4e5478e33e9a",
   "metadata": {},
   "source": [
    "It depends on the categorical columns and how many unique categories there are. one new column for every unique category\n",
    "so in case 1st categorical column as 2 and 2nd categorical column has 3 then overall we get 5 new columns that are created."
   ]
  },
  {
   "cell_type": "markdown",
   "id": "be34dad8-b281-4845-8b9f-3a7d37ae59b9",
   "metadata": {},
   "source": [
    "# QUESTION 6"
   ]
  },
  {
   "cell_type": "markdown",
   "id": "30747e3d-4978-4c55-96d2-6e5a219374ba",
   "metadata": {},
   "source": [
    "You are working with a dataset containing information about different types of animals, including their\n",
    "species, habitat, and diet. Which encoding technique would you use to transform the categorical data into\n",
    "a format suitable for machine learning algorithms? Justify your answer."
   ]
  },
  {
   "cell_type": "markdown",
   "id": "142fc3d6-4ba4-4a41-924e-a66c77c9dbf5",
   "metadata": {},
   "source": [
    "We will use one hot encoding to transform since there is no rank and the amount of unique values are going to be high. "
   ]
  },
  {
   "cell_type": "markdown",
   "id": "fda2e9f8-3d0d-4f72-9247-4e59b34ba92e",
   "metadata": {},
   "source": [
    "# QUESTION 7"
   ]
  },
  {
   "cell_type": "markdown",
   "id": "dc3de957-1bca-47c2-ae1b-74de7efc35a0",
   "metadata": {},
   "source": [
    "You are working on a project that involves predicting customer churn for a telecommunications\n",
    "company. You have a dataset with 5 features, including the customer's gender, age, contract type,\n",
    "monthly charges, and tenure. Which encoding technique(s) would you use to transform the categorical\n",
    "data into numerical data? Provide a step-by-step explanation of how you would implement the encoding."
   ]
  },
  {
   "cell_type": "markdown",
   "id": "d57945f2-b918-45ab-9e7d-33125261ce82",
   "metadata": {},
   "source": [
    "For Gender it will be one hot encoding\n",
    "For Contract type it will be ordinal. \n",
    "\n",
    "There are 2 genders and there is no rank in it, so ideally it can be one hot or label but since our modelling can use label encoding as a way to give a higher priority to one gender so we go with one hot encoding. With regards to contract type, there are endless options, some of which have a definite impact on the customer churn such as monthly, yearly which gives a different weightage."
   ]
  },
  {
   "cell_type": "code",
   "execution_count": null,
   "id": "aa6738a8-235a-467e-844a-1cadc651f846",
   "metadata": {},
   "outputs": [],
   "source": []
  }
 ],
 "metadata": {
  "kernelspec": {
   "display_name": "Python 3 (ipykernel)",
   "language": "python",
   "name": "python3"
  },
  "language_info": {
   "codemirror_mode": {
    "name": "ipython",
    "version": 3
   },
   "file_extension": ".py",
   "mimetype": "text/x-python",
   "name": "python",
   "nbconvert_exporter": "python",
   "pygments_lexer": "ipython3",
   "version": "3.10.8"
  }
 },
 "nbformat": 4,
 "nbformat_minor": 5
}
