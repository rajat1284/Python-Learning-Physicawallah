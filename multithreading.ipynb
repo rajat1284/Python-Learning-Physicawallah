{
 "cells": [
  {
   "cell_type": "markdown",
   "id": "df4ee471-ac56-4aca-baa1-965b361059a7",
   "metadata": {},
   "source": [
    "# QUESTION 1"
   ]
  },
  {
   "cell_type": "code",
   "execution_count": 2,
   "id": "86d05495-e8a4-46aa-b49a-21443240c34f",
   "metadata": {},
   "outputs": [
    {
     "data": {
      "text/plain": [
       "'Multithreading is a threading technique in Python programming to run multiple threads concurrently by rapidly switching between threads with a CPU help.\\nIt is used to improve overall performance of the program . Threading module provides this feature'"
      ]
     },
     "execution_count": 2,
     "metadata": {},
     "output_type": "execute_result"
    }
   ],
   "source": [
    "\"\"\"Multithreading is a threading technique in Python programming to run multiple threads concurrently by rapidly switching between threads with a CPU help.\n",
    "It is used to improve overall performance of the program . Threading module provides this feature\"\"\""
   ]
  },
  {
   "cell_type": "code",
   "execution_count": 3,
   "id": "afd3046b-b906-49da-ab60-190daeef1dbb",
   "metadata": {},
   "outputs": [],
   "source": [
    "# QUESTION 2"
   ]
  },
  {
   "cell_type": "code",
   "execution_count": 4,
   "id": "182abe12-629b-44bf-ad26-1509d4887861",
   "metadata": {},
   "outputs": [
    {
     "data": {
      "text/plain": [
       "'activeCount()\\tReturns the count of Thread objects which are still alive\\ncurrentThread()\\tReturns the current object of the Thread class.\\nenumerate()\\tLists all active Thread objects.'"
      ]
     },
     "execution_count": 4,
     "metadata": {},
     "output_type": "execute_result"
    }
   ],
   "source": [
    "\"\"\"activeCount()\tReturns the count of Thread objects which are still alive\n",
    "currentThread()\tReturns the current object of the Thread class.\n",
    "enumerate()\tLists all active Thread objects.\"\"\""
   ]
  },
  {
   "cell_type": "code",
   "execution_count": 5,
   "id": "3babef5f-8a7e-4af8-b268-052d3e870fa7",
   "metadata": {},
   "outputs": [
    {
     "name": "stdout",
     "output_type": "stream",
     "text": [
      "START: Current active thread count:  8\n",
      "Thread-2: Number of active threads: 10\n",
      "Thread 2 Value: 200\n",
      "Thread-1: Number of active threads: 10\n",
      "Thread 1 Value: 100\n",
      "Thread-3: Number of active threads: 9\n",
      "Thread 3 Value: 300\n"
     ]
    }
   ],
   "source": [
    "# Program to count active threads\n",
    "# active_count() method from Threading Module\n",
    "import threading\n",
    "import time\n",
    "# Methods for three threads..\n",
    "def thread1_Subroutine(i):\n",
    "    time.sleep(2)\n",
    "    print(\"Thread-1: Number of active threads:\", threading.active_count())\n",
    "    print('Thread 1 Value:', i)\n",
    "\n",
    "def thread2_Subroutine(i):\n",
    "    print(\"Thread-2: Number of active threads:\", threading.active_count())\n",
    "    print('Thread 2 Value:', i)\n",
    "    \n",
    "def thread3_Subroutine(i):\n",
    "    time.sleep(5)\n",
    "    print(\"Thread-3: Number of active threads:\", threading.active_count())\n",
    "    print(\"Thread 3 Value:\", i)\n",
    "    \n",
    "# Creating sample threads\n",
    "thread1 = threading.Thread(target=thread1_Subroutine, args=(100,), name=\"Thread1\")\n",
    "thread2 = threading.Thread(target=thread2_Subroutine, args=(200,), name=\"Thread2\")\n",
    "thread3 = threading.Thread(target=thread3_Subroutine, args=(300,), name=\"Thread3\")\n",
    "print(\"START: Current active thread count: \", threading.active_count())\n",
    "# Calling start() method to initialize execution\n",
    "thread1.start()\n",
    "thread2.start()\n",
    "thread3.start()\n",
    "thread3.join() # Wait for thread-3 to join."
   ]
  },
  {
   "cell_type": "code",
   "execution_count": null,
   "id": "f55e60ac-6c0d-4593-b7eb-a8fedb230be6",
   "metadata": {},
   "outputs": [
    {
     "name": "stdout",
     "output_type": "stream",
     "text": [
      "<bound method Thread.getName of <Thread(worker, started 139663159301696)>> Starting\n",
      "<bound method Thread.getName of <Thread(Thread-8 (worker), started 139663167694400)>> Starting\n",
      "<bound method Thread.getName of <Thread(my_service, started 139663176087104)>> Starting\n"
     ]
    },
    {
     "name": "stderr",
     "output_type": "stream",
     "text": [
      "Exception in thread worker:\n",
      "Traceback (most recent call last):\n",
      "  File \"/opt/conda/lib/python3.10/threading.py\", line 1016, in _bootstrap_inner\n",
      "Exception in thread Thread-8 (worker):\n",
      "Traceback (most recent call last):\n",
      "  File \"/opt/conda/lib/python3.10/threading.py\", line 1016, in _bootstrap_inner\n",
      "    self.run()\n",
      "  File \"/opt/conda/lib/python3.10/threading.py\", line 953, in run\n",
      "    self.run()\n",
      "  File \"/opt/conda/lib/python3.10/threading.py\", line 953, in run\n",
      "    self._target(*self._args, **self._kwargs)\n",
      "  File \"/tmp/ipykernel_92/1927468994.py\", line 6, in worker\n",
      "    self._target(*self._args, **self._kwargs)\n",
      "  File \"/tmp/ipykernel_92/1927468994.py\", line 6, in worker\n",
      "AttributeError: module 'threading' has no attribute 'curren_thread'. Did you mean: 'current_thread'?\n",
      "AttributeError: module 'threading' has no attribute 'curren_thread'. Did you mean: 'current_thread'?\n"
     ]
    },
    {
     "name": "stdout",
     "output_type": "stream",
     "text": [
      "<bound method Thread.getName of <Thread(my_service, started 139663176087104)>> Exiting\n"
     ]
    }
   ],
   "source": [
    "import time\n",
    "\n",
    "def worker():\n",
    "    print(threading.current_thread().getName, 'Starting')\n",
    "    time.sleep(2)\n",
    "    print(threading.curren_thread().getName, 'Exiting')\n",
    "\n",
    "def my_service():\n",
    "    print(threading.current_thread().getName, 'Starting')\n",
    "    time.sleep(3)\n",
    "    print(threading.current_thread().getName, 'Exiting')\n",
    "\n",
    "t = threading.Thread(name='my_service', target=my_service)\n",
    "w = threading.Thread(name='worker', target=worker)\n",
    "w2 = threading.Thread(target=worker) # use default name\n",
    "\n",
    "w.start()\n",
    "w2.start()\n",
    "t.start()"
   ]
  },
  {
   "cell_type": "code",
   "execution_count": null,
   "id": "c3710dcc-8f47-4790-90b7-1b78e26e04ab",
   "metadata": {},
   "outputs": [],
   "source": [
    "import random\n",
    "import threading\n",
    "import time\n",
    "import logging\n",
    "\n",
    "logging.basicConfig(level=logging.DEBUG,\n",
    "                    format='(%(threadName)-10s) %(message)s',\n",
    "                    )\n",
    "\n",
    "def worker():\n",
    "    \"\"\"thread worker function\"\"\"\n",
    "    t = threading.current_thread()\n",
    "    pause = random.randint(1,5)\n",
    "    logging.debug('sleeping %s', pause)\n",
    "    time.sleep(pause)\n",
    "    logging.debug('ending')\n",
    "    return\n",
    "\n",
    "for i in range(3):\n",
    "    t = threading.Thread(target=worker)\n",
    "    t.setDaemon(True)\n",
    "    t.start()\n",
    "\n",
    "main_thread = threading.current_thread()\n",
    "for t in threading.enumerate():\n",
    "    if t is main_thread:\n",
    "        continue\n",
    "    logging.debug('joining %s', t.getName())\n",
    "    t.join()"
   ]
  },
  {
   "cell_type": "code",
   "execution_count": null,
   "id": "cace371c-4d14-49c3-b45b-1f1e12f87334",
   "metadata": {},
   "outputs": [],
   "source": [
    "# QUESTION 3"
   ]
  },
  {
   "cell_type": "code",
   "execution_count": null,
   "id": "58781cf9-93a4-4c61-8a18-e2b6158678fb",
   "metadata": {},
   "outputs": [],
   "source": [
    "\"\"\"run() − The run() method is the entry point for a thread.\n",
    "\n",
    "start() − The start() method starts a thread by calling the run method.\n",
    "\n",
    "join([time]) − The join() waits for threads to terminate.\n",
    "\n",
    "isAlive() − The isAlive() method checks whether a thread is still executing.\"\"\""
   ]
  },
  {
   "cell_type": "code",
   "execution_count": null,
   "id": "37c2c1d6-08a7-40a0-9d90-a180a6b53477",
   "metadata": {},
   "outputs": [],
   "source": [
    "# QUESTION 4"
   ]
  },
  {
   "cell_type": "code",
   "execution_count": null,
   "id": "3ab6b319-71c7-4cb1-89f7-fbe52a572bed",
   "metadata": {},
   "outputs": [],
   "source": [
    "# Python program to illustrate the concept\n",
    "# of threading\n",
    "# importing the threading module\n",
    "import threading\n",
    "\n",
    "\n",
    "def print_cube(num):\n",
    "\t# function to print cube of given num\n",
    "\tprint(\"Cube: {}\" .format(num * num * num))\n",
    "\n",
    "\n",
    "def print_square(num):\n",
    "\t# function to print square of given num\n",
    "\tprint(\"Square: {}\" .format(num * num))\n",
    "\n",
    "\n",
    "if __name__ ==\"__main__\":\n",
    "\t# creating thread\n",
    "\tt1 = threading.Thread(target=print_square, args=(10,))\n",
    "\tt2 = threading.Thread(target=print_cube, args=(10,))\n",
    "\n",
    "\t# starting thread 1\n",
    "\tt1.start()\n",
    "\t# starting thread 2\n",
    "\tt2.start()\n",
    "\n",
    "\t# wait until thread 1 is completely executed\n",
    "\tt1.join()\n",
    "\t# wait until thread 2 is completely executed\n",
    "\tt2.join()\n",
    "\n",
    "\t# both threads completely executed\n",
    "\tprint(\"Done!\")\n"
   ]
  },
  {
   "cell_type": "code",
   "execution_count": null,
   "id": "ce333898-4609-4419-83b7-06758114288f",
   "metadata": {},
   "outputs": [],
   "source": [
    "# question 5"
   ]
  },
  {
   "cell_type": "code",
   "execution_count": null,
   "id": "ac0a91de-aed0-4401-bdca-7528d1d467d1",
   "metadata": {},
   "outputs": [],
   "source": [
    "\"\"\" advantages are:\n",
    "Enhanced performance by decreased development time\n",
    "Simplified and streamlined program coding\n",
    "Improvised GUI responsiveness\n",
    "Simultaneous and parallelized occurrence of tasks\n",
    "Better use of cache storage by utilization of resources\n",
    "Decreased cost of maintenance\n",
    "Better use of CPU resource\n",
    "\"\"\""
   ]
  },
  {
   "cell_type": "code",
   "execution_count": null,
   "id": "d4c5804e-7935-4615-9ca3-0b2b83eb8a72",
   "metadata": {},
   "outputs": [],
   "source": [
    "\"\"\" disadvantages are:\n",
    "Complex debugging and testing processes\n",
    "Overhead switching of context\n",
    "Increased potential for deadlock occurrence\n",
    "Increased difficulty level in writing a program\n",
    "Unpredictable results\"\"\""
   ]
  },
  {
   "cell_type": "code",
   "execution_count": null,
   "id": "fc181e2c-caa5-48ae-8b23-ee2cde384749",
   "metadata": {},
   "outputs": [],
   "source": [
    "# question 6"
   ]
  },
  {
   "cell_type": "code",
   "execution_count": null,
   "id": "780e0f84-6780-433b-8a9c-406af1fe138d",
   "metadata": {},
   "outputs": [],
   "source": [
    "\"\"\"\n",
    "A deadlock is a concurrency failure mode where a thread or threads wait for a condition that never occurs. The result is that the deadlock threads are unable to progress and the program is stuck or frozen and must be terminated forcefully.\"\"\""
   ]
  },
  {
   "cell_type": "code",
   "execution_count": null,
   "id": "25fceb72-4d9f-4a74-91b3-74b5924cecfa",
   "metadata": {},
   "outputs": [],
   "source": [
    "\"\"\"ace condition is when two processes are competing with each other causing data corruption.\"\"\""
   ]
  },
  {
   "cell_type": "code",
   "execution_count": null,
   "id": "9bca668e-bdb5-411c-9d1b-928356c09898",
   "metadata": {},
   "outputs": [],
   "source": []
  }
 ],
 "metadata": {
  "kernelspec": {
   "display_name": "Python 3 (ipykernel)",
   "language": "python",
   "name": "python3"
  },
  "language_info": {
   "codemirror_mode": {
    "name": "ipython",
    "version": 3
   },
   "file_extension": ".py",
   "mimetype": "text/x-python",
   "name": "python",
   "nbconvert_exporter": "python",
   "pygments_lexer": "ipython3",
   "version": "3.10.8"
  }
 },
 "nbformat": 4,
 "nbformat_minor": 5
}
