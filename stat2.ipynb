{
 "cells": [
  {
   "cell_type": "markdown",
   "id": "60691ab7-51e8-4a64-96d3-a7740d1e01c6",
   "metadata": {},
   "source": [
    "# QUESTION1"
   ]
  },
  {
   "cell_type": "markdown",
   "id": "82a9aa23-d667-405f-80a9-cc0baa5bf5b3",
   "metadata": {},
   "source": [
    "What are the three measures of central tendency?"
   ]
  },
  {
   "cell_type": "markdown",
   "id": "3847dd51-862f-4bd3-ab71-1468891a02a7",
   "metadata": {},
   "source": [
    "Mean, Median and Mode"
   ]
  },
  {
   "cell_type": "markdown",
   "id": "f51aa8b8-6210-440b-8ea8-395c68612366",
   "metadata": {},
   "source": [
    "# QUESTION 2"
   ]
  },
  {
   "cell_type": "code",
   "execution_count": 3,
   "id": "8a586190-154b-461d-a85f-7e89fabd2825",
   "metadata": {},
   "outputs": [],
   "source": [
    "#What is the difference between the mean, median, and mode? How are they used to measure the\n",
    "#central tendency of a dataset?"
   ]
  },
  {
   "cell_type": "markdown",
   "id": "8cc4f9c7-11b8-47bc-971c-e20c8b99a988",
   "metadata": {},
   "source": [
    "Mean is average, median is the middle value of a sorted list and mode is the most frequent occuring value. They all show how the population is spread."
   ]
  },
  {
   "cell_type": "markdown",
   "id": "7d11ec6f-6eb2-4cb1-b642-fb8c57ac80f8",
   "metadata": {},
   "source": [
    "# QUESTION 3"
   ]
  },
  {
   "cell_type": "markdown",
   "id": "72a1ffe2-47e9-4e14-996a-aa8763fa8815",
   "metadata": {},
   "source": [
    "Measure the three measures of central tendency for the given height data:\n",
    "[178,177,176,177,178.2,178,175,179,180,175,178.9,176.2,177,172.5,178,176.5]"
   ]
  },
  {
   "cell_type": "code",
   "execution_count": 5,
   "id": "d6d86a92-cfe0-4690-9987-22d4c0655820",
   "metadata": {},
   "outputs": [],
   "source": [
    "a = [178,177,176,177,178.2,178,175,179,180,175,178.9,176.2,177,172.5,178,176.5]"
   ]
  },
  {
   "cell_type": "code",
   "execution_count": 9,
   "id": "80391b3b-3c6b-4033-91ba-f0aa21db583d",
   "metadata": {},
   "outputs": [
    {
     "data": {
      "text/plain": [
       "177.01875"
      ]
     },
     "execution_count": 9,
     "metadata": {},
     "output_type": "execute_result"
    }
   ],
   "source": [
    "import numpy as np\n",
    "np.mean(a)"
   ]
  },
  {
   "cell_type": "code",
   "execution_count": 10,
   "id": "3709e0d2-3651-4bfc-8e4c-d76b2a91d7d2",
   "metadata": {},
   "outputs": [
    {
     "data": {
      "text/plain": [
       "177.0"
      ]
     },
     "execution_count": 10,
     "metadata": {},
     "output_type": "execute_result"
    }
   ],
   "source": [
    "np.median(a)"
   ]
  },
  {
   "cell_type": "code",
   "execution_count": 11,
   "id": "f152bd5c-cca7-41a3-9813-bf9e3608d723",
   "metadata": {},
   "outputs": [],
   "source": [
    "from scipy import stats"
   ]
  },
  {
   "cell_type": "markdown",
   "id": "a12c5f6f-dfca-4db2-950b-30f1569239e4",
   "metadata": {},
   "source": [
    "stats.mode(a)"
   ]
  },
  {
   "cell_type": "markdown",
   "id": "1115928f-de6f-4343-bcc5-8adbe4f62b65",
   "metadata": {},
   "source": [
    "# QUESTION 4"
   ]
  },
  {
   "cell_type": "markdown",
   "id": "f2de953e-eb15-4403-b6aa-f83a27e4d85d",
   "metadata": {},
   "source": [
    "Find the standard deviation for the given data:\n",
    "[178,177,176,177,178.2,178,175,179,180,175,178.9,176.2,177,172.5,178,176.5]"
   ]
  },
  {
   "cell_type": "code",
   "execution_count": 13,
   "id": "9050bc3c-6a0d-4e6b-b619-cdae2b05d656",
   "metadata": {},
   "outputs": [],
   "source": [
    "b = [178,177,176,177,178.2,178,175,179,180,175,178.9,176.2,177,172.5,178,176.5]"
   ]
  },
  {
   "cell_type": "code",
   "execution_count": 14,
   "id": "8c6fab60-8a68-48ec-82a5-3509b76ecac4",
   "metadata": {},
   "outputs": [
    {
     "data": {
      "text/plain": [
       "1.7885814036548633"
      ]
     },
     "execution_count": 14,
     "metadata": {},
     "output_type": "execute_result"
    }
   ],
   "source": [
    "np.std(b)"
   ]
  },
  {
   "cell_type": "markdown",
   "id": "d861c0b6-a3fe-4c5c-8a64-6df6a3eb22b9",
   "metadata": {},
   "source": [
    "# QUESTION 5"
   ]
  },
  {
   "cell_type": "markdown",
   "id": "fef493c4-ef88-4504-985c-b9c02b518711",
   "metadata": {},
   "source": [
    "How are measures of dispersion such as range, variance, and standard deviation used to describe\n",
    "the spread of a dataset? Provide an example."
   ]
  },
  {
   "cell_type": "markdown",
   "id": "3f0c335c-063c-4453-8483-5ae0ac4e0ee0",
   "metadata": {},
   "source": [
    "variance shows the spread of data whereas standard deviation shows where a particular data point might lie away from the central value.The range of a dataset is the difference between the largest and smallest values in that dataset."
   ]
  },
  {
   "cell_type": "markdown",
   "id": "cff0c03d-4014-4162-a5f8-b44a589830eb",
   "metadata": {},
   "source": [
    "# QUESTION 6"
   ]
  },
  {
   "cell_type": "markdown",
   "id": "d6b4ea1d-7d9f-456c-a74b-1fef570f40fe",
   "metadata": {},
   "source": [
    "A Venn diagram is an illustration that uses circles to show the relationships among things or finite groups of things"
   ]
  },
  {
   "cell_type": "markdown",
   "id": "7c91f7cb-432b-4001-a787-7ecc44698865",
   "metadata": {},
   "source": [
    "# QUESTION 7"
   ]
  },
  {
   "cell_type": "markdown",
   "id": "5e6144b6-7ec7-4357-9d3c-ac7a12227de4",
   "metadata": {},
   "source": [
    "For the two given sets A = (2,3,4,5,6,7) & B = (0,2,6,8,10). Find:\n",
    "(i) A ⋂ B\n",
    "(ii) A ⋃ B"
   ]
  },
  {
   "cell_type": "code",
   "execution_count": 19,
   "id": "6f5589d2-94b7-4b2a-8f5e-853a4ce371a4",
   "metadata": {},
   "outputs": [],
   "source": [
    "A = (2,3,4,5,6,7)"
   ]
  },
  {
   "cell_type": "code",
   "execution_count": 20,
   "id": "a0478f89-10ac-4c72-8fe7-b590610d2a43",
   "metadata": {},
   "outputs": [],
   "source": [
    "B = (0,2,6,8,10)"
   ]
  },
  {
   "cell_type": "code",
   "execution_count": 21,
   "id": "bd9abaa9-1c79-4811-a455-706b80efef1a",
   "metadata": {},
   "outputs": [
    {
     "data": {
      "text/plain": [
       "array([2, 6])"
      ]
     },
     "execution_count": 21,
     "metadata": {},
     "output_type": "execute_result"
    }
   ],
   "source": [
    "np.intersect1d(A,B)"
   ]
  },
  {
   "cell_type": "code",
   "execution_count": 23,
   "id": "2243cd5b-c08d-4d38-9cb0-7e747b02ca7b",
   "metadata": {},
   "outputs": [
    {
     "data": {
      "text/plain": [
       "array([ 0,  2,  3,  4,  5,  6,  7,  8, 10])"
      ]
     },
     "execution_count": 23,
     "metadata": {},
     "output_type": "execute_result"
    }
   ],
   "source": [
    "np.union1d(A,B)"
   ]
  },
  {
   "cell_type": "markdown",
   "id": "b4e8162b-d69e-47f2-b74b-77089670abd9",
   "metadata": {},
   "source": [
    "# QUESTION 8"
   ]
  },
  {
   "cell_type": "markdown",
   "id": "42c7964d-35ab-4f36-989c-1423fef32dc3",
   "metadata": {},
   "source": [
    " What do you understand about skewness in data?"
   ]
  },
  {
   "cell_type": "markdown",
   "id": "cf0507f6-669c-4b8f-84b2-6640a08e399b",
   "metadata": {},
   "source": [
    "skewness in data means how a data is distributed. if its well distributed it has no skewness, if values are concentrated towards right side of the spectrum it is right skewed"
   ]
  },
  {
   "cell_type": "markdown",
   "id": "5adcdbdf-1642-4801-a397-00d5c67a3333",
   "metadata": {},
   "source": [
    "# QUESTION 9"
   ]
  },
  {
   "cell_type": "markdown",
   "id": "a880c626-b6c7-413f-9a31-940ee11efcfd",
   "metadata": {},
   "source": [
    "If a data is right skewed then what will be the position of median with respect to mean?"
   ]
  },
  {
   "cell_type": "markdown",
   "id": "8ab3e801-cd8c-460e-9488-b38f718aa71f",
   "metadata": {},
   "source": [
    " If the distribution of data is skewed to the right, the mode is often less than the median, which is less than the mean."
   ]
  },
  {
   "cell_type": "markdown",
   "id": "f98b1a34-3113-4bce-b4e8-01097d1ddadb",
   "metadata": {},
   "source": [
    "# QUESTION 10"
   ]
  },
  {
   "cell_type": "markdown",
   "id": "00b8f1ee-e94d-4394-a4a5-a355145d460b",
   "metadata": {},
   "source": [
    "Explain the difference between covariance and correlation. How are these measures used in\n",
    "statistical analysis?"
   ]
  },
  {
   "cell_type": "markdown",
   "id": "141e4c68-3cd7-424a-a79f-089b9c29977e",
   "metadata": {},
   "source": [
    "Covariance has no particular measure as in it can be +100, + 500 and one can't know if they are really positively related to each other but with correlation everything is in -1 to 1 range so we get a good perspective of how one paramter is related to another."
   ]
  },
  {
   "cell_type": "markdown",
   "id": "6e1864e0-a55c-4740-a287-8951d5d212ed",
   "metadata": {},
   "source": [
    "Covariance shows you how the two variables differ, whereas correlation shows you how the two variables are related."
   ]
  },
  {
   "cell_type": "markdown",
   "id": "4707e6fc-de3a-4a20-9ea5-72323d05d49d",
   "metadata": {},
   "source": [
    "# QUESTION 11"
   ]
  },
  {
   "cell_type": "markdown",
   "id": "d802731a-a37c-4762-b187-a72773081087",
   "metadata": {},
   "source": [
    "Calculating sample mean is as simple as adding up the number of items in a sample set and then dividing that sum by the number of items in the sample set. To calculate the sample mean through spreadsheet software and calculators, you can use the formula:\n",
    "\n",
    "x̄ = ( Σ xi ) / n\n",
    "\n",
    "Here, x̄ represents the sample mean, Σ tells us to add, xi refers to all the X-values and n stands for the number of items in the data set."
   ]
  },
  {
   "cell_type": "markdown",
   "id": "3d9fb0bb-8d6f-4fac-85e1-8e2a779ec5f4",
   "metadata": {},
   "source": [
    "example: A teacher wants to find the average score for a student in his class. The teacher's sample set has seven different test scores: 78, 89, 93, 95, 88, 78, 95. He adds all the scores together and gets a sum of 616. He can use this sum in the next step to find his sample mean."
   ]
  },
  {
   "cell_type": "markdown",
   "id": "e51cf98e-3a95-4bf6-beb3-b61fd547b712",
   "metadata": {},
   "source": [
    "# QUESTION 12"
   ]
  },
  {
   "cell_type": "markdown",
   "id": "48bbf4e9-9bb5-4726-97f4-27785b790b2a",
   "metadata": {},
   "source": [
    "Any normal distribution has a graph that is perfectly symmetric about a vertical line through its peak. Therefore, all measures of central tendency (most commonly, the mean, median, and mode) give the same answer: the x -value of the peak"
   ]
  },
  {
   "cell_type": "markdown",
   "id": "8f6e7af7-093d-4e47-af11-25efa7fc252a",
   "metadata": {},
   "source": [
    "# QUESTION 13"
   ]
  },
  {
   "cell_type": "markdown",
   "id": "98949b61-fa98-4d0e-a2bb-87671721b60f",
   "metadata": {},
   "source": [
    "n short, covariance tells you that two variables change the same way while correlation reveals how a change in one variable affects a change in the other"
   ]
  },
  {
   "cell_type": "markdown",
   "id": "2067dfbe-415f-48d7-b509-1f72dee0cdd9",
   "metadata": {},
   "source": [
    "# QUESTION 14"
   ]
  },
  {
   "cell_type": "markdown",
   "id": "5aa8265f-d463-405f-9b6f-75fa5e2de186",
   "metadata": {},
   "source": [
    "Outliers are numbers in a data set that are vastly larger or smaller than the other values in the set. Mean, median and mode are measures of central tendency. Mean is the only measure of central tendency that is always affected by an outlier. Range is affected the most by an outlier."
   ]
  },
  {
   "cell_type": "code",
   "execution_count": null,
   "id": "63d6d144-244f-4bb1-ba9a-a574eb9aa5cd",
   "metadata": {},
   "outputs": [],
   "source": []
  }
 ],
 "metadata": {
  "kernelspec": {
   "display_name": "Python 3 (ipykernel)",
   "language": "python",
   "name": "python3"
  },
  "language_info": {
   "codemirror_mode": {
    "name": "ipython",
    "version": 3
   },
   "file_extension": ".py",
   "mimetype": "text/x-python",
   "name": "python",
   "nbconvert_exporter": "python",
   "pygments_lexer": "ipython3",
   "version": "3.10.8"
  }
 },
 "nbformat": 4,
 "nbformat_minor": 5
}
